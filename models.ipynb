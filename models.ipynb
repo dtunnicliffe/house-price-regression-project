{
 "cells": [
  {
   "cell_type": "markdown",
   "metadata": {},
   "source": [
    "# King County Housing with Multiple Linear Regression\n",
    "### Authors: Diane Tunnicliffe, Dana Rausch, Matthew Lipman"
   ]
  },
  {
   "cell_type": "markdown",
   "metadata": {},
   "source": [
    "## Notebook 3: Models and Evaluations\n",
    "\n",
    "This notebook contains linear regression models for our raw, cleaned, and transformed data. We attempted many variations of our model and improved upon them with each iteration to find the best fit for our data. This notebook includes the ten iterations of the model, along with the steps taken to improve them, as well as exploration of necessary assumptions and outputs. The models are evluated sequentially and culminate in a final evaluation and conclusion."
   ]
  },
  {
   "cell_type": "code",
   "execution_count": 5,
   "metadata": {},
   "outputs": [],
   "source": [
    "# importing the packages we will be using for this project\n",
    "import pandas as pd\n",
    "# setting pandas display to avoid scientific notation in my dataframes\n",
    "pd.options.display.float_format = '{:.2f}'.format\n",
    "import numpy as np\n",
    "import matplotlib.pyplot as plt\n",
    "import seaborn as sns\n",
    "import sklearn\n",
    "\n",
    "from bs4 import BeautifulSoup\n",
    "import json\n",
    "import requests\n",
    "\n",
    "import folium\n",
    "\n",
    "import haversine as hs \n",
    "\n",
    "import statsmodels.api as sm\n",
    "from statsmodels.formula.api import ols\n",
    "from statsmodels.stats import diagnostic as diag\n",
    "from statsmodels.stats.outliers_influence import variance_inflation_factor\n",
    "\n",
    "from sklearn.metrics import r2_score\n",
    "from sklearn.linear_model import LinearRegression\n",
    "from sklearn.neighbors import NearestNeighbors\n",
    "from sklearn.model_selection import train_test_split\n",
    "from sklearn.metrics import mean_squared_error, r2_score, mean_absolute_error\n",
    "\n",
    "import scipy.stats as stats\n",
    "\n",
    "import pylab\n",
    "\n",
    "%matplotlib inline"
   ]
  },
  {
   "cell_type": "markdown",
   "metadata": {},
   "source": [
    "## Model #1  \n",
    "Our first model takes the original raw data and features, within one standard deviation of the mean for price."
   ]
  },
  {
   "cell_type": "code",
   "execution_count": 6,
   "metadata": {},
   "outputs": [],
   "source": [
    "df = pd.read_csv('./data/all_features_with_logs.csv', index_col=0)"
   ]
  },
  {
   "cell_type": "code",
   "execution_count": 7,
   "metadata": {},
   "outputs": [
    {
     "name": "stdout",
     "output_type": "stream",
     "text": [
      "R^2:  0.535898617659569\n"
     ]
    }
   ],
   "source": [
    "# define features and target\n",
    "features = ['sqft_living', 'closest_distance_to_top_school', 'min_dist_park', 'closest_distance_to_great_coffee', 'closest_distance_to_scientology']\n",
    "target = ['price']\n",
    "\n",
    "# separate dataframe into feature matrix x and target vector y\n",
    "X = df[features]\n",
    "y = df[target]\n",
    "\n",
    "# now we can instantiate our linear regression estimator and fit our data\n",
    "lm1 = LinearRegression()\n",
    "lm1.fit(X, y)\n",
    "\n",
    "lm1_preds = lm1.predict(X)\n",
    "\n",
    "print('R^2: ', r2_score(y, lm1_preds))"
   ]
  },
  {
   "cell_type": "code",
   "execution_count": 8,
   "metadata": {},
   "outputs": [
    {
     "data": {
      "text/html": [
       "<table class=\"simpletable\">\n",
       "<caption>OLS Regression Results</caption>\n",
       "<tr>\n",
       "  <th>Dep. Variable:</th>          <td>price</td>      <th>  R-squared:         </th>  <td>   0.536</td>  \n",
       "</tr>\n",
       "<tr>\n",
       "  <th>Model:</th>                   <td>OLS</td>       <th>  Adj. R-squared:    </th>  <td>   0.536</td>  \n",
       "</tr>\n",
       "<tr>\n",
       "  <th>Method:</th>             <td>Least Squares</td>  <th>  F-statistic:       </th>  <td>   3808.</td>  \n",
       "</tr>\n",
       "<tr>\n",
       "  <th>Date:</th>             <td>Mon, 14 Dec 2020</td> <th>  Prob (F-statistic):</th>   <td>  0.00</td>   \n",
       "</tr>\n",
       "<tr>\n",
       "  <th>Time:</th>                 <td>16:15:17</td>     <th>  Log-Likelihood:    </th> <td>-2.1650e+05</td>\n",
       "</tr>\n",
       "<tr>\n",
       "  <th>No. Observations:</th>      <td> 16493</td>      <th>  AIC:               </th>  <td>4.330e+05</td> \n",
       "</tr>\n",
       "<tr>\n",
       "  <th>Df Residuals:</th>          <td> 16487</td>      <th>  BIC:               </th>  <td>4.331e+05</td> \n",
       "</tr>\n",
       "<tr>\n",
       "  <th>Df Model:</th>              <td>     5</td>      <th>                     </th>      <td> </td>     \n",
       "</tr>\n",
       "<tr>\n",
       "  <th>Covariance Type:</th>      <td>nonrobust</td>    <th>                     </th>      <td> </td>     \n",
       "</tr>\n",
       "</table>\n",
       "<table class=\"simpletable\">\n",
       "<tr>\n",
       "                  <td></td>                    <th>coef</th>     <th>std err</th>      <th>t</th>      <th>P>|t|</th>  <th>[0.025</th>    <th>0.975]</th>  \n",
       "</tr>\n",
       "<tr>\n",
       "  <th>Intercept</th>                        <td> 2.716e+05</td> <td> 3896.452</td> <td>   69.717</td> <td> 0.000</td> <td> 2.64e+05</td> <td> 2.79e+05</td>\n",
       "</tr>\n",
       "<tr>\n",
       "  <th>sqft_living</th>                      <td>  153.3918</td> <td>    1.374</td> <td>  111.663</td> <td> 0.000</td> <td>  150.699</td> <td>  156.084</td>\n",
       "</tr>\n",
       "<tr>\n",
       "  <th>closest_distance_to_top_school</th>   <td>-1.006e+04</td> <td>  301.007</td> <td>  -33.405</td> <td> 0.000</td> <td>-1.06e+04</td> <td>-9465.225</td>\n",
       "</tr>\n",
       "<tr>\n",
       "  <th>min_dist_park</th>                    <td> -159.3991</td> <td>  468.743</td> <td>   -0.340</td> <td> 0.734</td> <td>-1078.185</td> <td>  759.387</td>\n",
       "</tr>\n",
       "<tr>\n",
       "  <th>closest_distance_to_great_coffee</th> <td>  276.8528</td> <td>  183.575</td> <td>    1.508</td> <td> 0.132</td> <td>  -82.973</td> <td>  636.679</td>\n",
       "</tr>\n",
       "<tr>\n",
       "  <th>closest_distance_to_scientology</th>  <td>-4344.5618</td> <td>  114.862</td> <td>  -37.824</td> <td> 0.000</td> <td>-4569.704</td> <td>-4119.419</td>\n",
       "</tr>\n",
       "</table>\n",
       "<table class=\"simpletable\">\n",
       "<tr>\n",
       "  <th>Omnibus:</th>       <td>365.949</td> <th>  Durbin-Watson:     </th> <td>   1.993</td>\n",
       "</tr>\n",
       "<tr>\n",
       "  <th>Prob(Omnibus):</th> <td> 0.000</td>  <th>  Jarque-Bera (JB):  </th> <td> 405.658</td>\n",
       "</tr>\n",
       "<tr>\n",
       "  <th>Skew:</th>          <td> 0.341</td>  <th>  Prob(JB):          </th> <td>8.18e-89</td>\n",
       "</tr>\n",
       "<tr>\n",
       "  <th>Kurtosis:</th>      <td> 3.355</td>  <th>  Cond. No.          </th> <td>8.45e+03</td>\n",
       "</tr>\n",
       "</table><br/><br/>Warnings:<br/>[1] Standard Errors assume that the covariance matrix of the errors is correctly specified.<br/>[2] The condition number is large, 8.45e+03. This might indicate that there are<br/>strong multicollinearity or other numerical problems."
      ],
      "text/plain": [
       "<class 'statsmodels.iolib.summary.Summary'>\n",
       "\"\"\"\n",
       "                            OLS Regression Results                            \n",
       "==============================================================================\n",
       "Dep. Variable:                  price   R-squared:                       0.536\n",
       "Model:                            OLS   Adj. R-squared:                  0.536\n",
       "Method:                 Least Squares   F-statistic:                     3808.\n",
       "Date:                Mon, 14 Dec 2020   Prob (F-statistic):               0.00\n",
       "Time:                        16:15:17   Log-Likelihood:            -2.1650e+05\n",
       "No. Observations:               16493   AIC:                         4.330e+05\n",
       "Df Residuals:                   16487   BIC:                         4.331e+05\n",
       "Df Model:                           5                                         \n",
       "Covariance Type:            nonrobust                                         \n",
       "====================================================================================================\n",
       "                                       coef    std err          t      P>|t|      [0.025      0.975]\n",
       "----------------------------------------------------------------------------------------------------\n",
       "Intercept                         2.716e+05   3896.452     69.717      0.000    2.64e+05    2.79e+05\n",
       "sqft_living                        153.3918      1.374    111.663      0.000     150.699     156.084\n",
       "closest_distance_to_top_school   -1.006e+04    301.007    -33.405      0.000   -1.06e+04   -9465.225\n",
       "min_dist_park                     -159.3991    468.743     -0.340      0.734   -1078.185     759.387\n",
       "closest_distance_to_great_coffee   276.8528    183.575      1.508      0.132     -82.973     636.679\n",
       "closest_distance_to_scientology  -4344.5618    114.862    -37.824      0.000   -4569.704   -4119.419\n",
       "==============================================================================\n",
       "Omnibus:                      365.949   Durbin-Watson:                   1.993\n",
       "Prob(Omnibus):                  0.000   Jarque-Bera (JB):              405.658\n",
       "Skew:                           0.341   Prob(JB):                     8.18e-89\n",
       "Kurtosis:                       3.355   Cond. No.                     8.45e+03\n",
       "==============================================================================\n",
       "\n",
       "Warnings:\n",
       "[1] Standard Errors assume that the covariance matrix of the errors is correctly specified.\n",
       "[2] The condition number is large, 8.45e+03. This might indicate that there are\n",
       "strong multicollinearity or other numerical problems.\n",
       "\"\"\""
      ]
     },
     "execution_count": 8,
     "metadata": {},
     "output_type": "execute_result"
    }
   ],
   "source": [
    "formula = \"price ~ sqft_living+closest_distance_to_top_school+min_dist_park+closest_distance_to_great_coffee+closest_distance_to_scientology\"\n",
    "model = ols(formula= formula, data=df).fit()\n",
    "model.summary()"
   ]
  },
  {
   "cell_type": "code",
   "execution_count": 9,
   "metadata": {},
   "outputs": [
    {
     "data": {
      "image/png": "[encoded data removed]",
      "text/plain": [
       "<Figure size 720x576 with 6 Axes>"
      ]
     },
     "metadata": {
      "needs_background": "light"
     },
     "output_type": "display_data"
    }
   ],
   "source": [
    "# checking the visual distribution of our data with histograms\n",
    "df[['sqft_living', 'closest_distance_to_great_coffee', 'min_dist_park', 'closest_distance_to_top_school', 'closest_distance_to_scientology', 'price']].hist(figsize=(10,8))\n",
    "plt.tight_layout();"
   ]
  },
  {
   "cell_type": "markdown",
   "metadata": {},
   "source": [
    "Our distributions for our features were not normal. Please see previous notebook for full investigation of this, analysis of skew and kurtosis, and decision-making regarding transformations."
   ]
  },
  {
   "cell_type": "markdown",
   "metadata": {},
   "source": [
    "## Model #2  \n",
    "\n",
    "We performed a log-transformation for some of our features to see if this helped to achieve a more normal distribution and improve our model. (For actual process of log-transforming, and visualizations of each feature before and after log-transformation, please see previous notebook titled 'data_wrangling'.)"
   ]
  },
  {
   "cell_type": "code",
   "execution_count": 10,
   "metadata": {},
   "outputs": [
    {
     "data": {
      "image/png": "[encoded data removed]",
      "text/plain": [
       "<Figure size 576x432 with 4 Axes>"
      ]
     },
     "metadata": {
      "needs_background": "light"
     },
     "output_type": "display_data"
    }
   ],
   "source": [
    "# displaying the visual distribution of our log-transformed data with histograms\n",
    "df[['log_coffee', 'log_park', 'log_school', 'log_scientology']].hist(figsize=(8,6))\n",
    "plt.tight_layout();"
   ]
  },
  {
   "cell_type": "markdown",
   "metadata": {},
   "source": [
    "For the full visualizations (sns.distplot) of each feature before and after log-transformation, please see previous notebook ('data_wrangling.ipynb'). "
   ]
  },
  {
   "cell_type": "code",
   "execution_count": 11,
   "metadata": {},
   "outputs": [
    {
     "name": "stdout",
     "output_type": "stream",
     "text": [
      "R^2:  0.5708370312050253\n"
     ]
    }
   ],
   "source": [
    "features = ['sqft_living', 'log_school', 'log_park', 'log_scientology', 'log_coffee']\n",
    "target = ['price']\n",
    "\n",
    "X = df[features]\n",
    "y = df[target]\n",
    "\n",
    "lm2 = LinearRegression().fit(X, y)\n",
    "\n",
    "lm2_preds = lm2.predict(X)\n",
    "\n",
    "print('R^2: ', r2_score(y, lm2_preds))"
   ]
  },
  {
   "cell_type": "code",
   "execution_count": 12,
   "metadata": {},
   "outputs": [],
   "source": [
    "formula = \"price ~ sqft_living+log_school+log_park+log_scientology+log_coffee\"\n",
    "model = ols(formula= formula, data=df).fit()"
   ]
  },
  {
   "cell_type": "code",
   "execution_count": 13,
   "metadata": {
    "scrolled": true
   },
   "outputs": [
    {
     "data": {
      "text/html": [
       "<table class=\"simpletable\">\n",
       "<caption>OLS Regression Results</caption>\n",
       "<tr>\n",
       "  <th>Dep. Variable:</th>          <td>price</td>      <th>  R-squared:         </th>  <td>   0.571</td>  \n",
       "</tr>\n",
       "<tr>\n",
       "  <th>Model:</th>                   <td>OLS</td>       <th>  Adj. R-squared:    </th>  <td>   0.571</td>  \n",
       "</tr>\n",
       "<tr>\n",
       "  <th>Method:</th>             <td>Least Squares</td>  <th>  F-statistic:       </th>  <td>   4386.</td>  \n",
       "</tr>\n",
       "<tr>\n",
       "  <th>Date:</th>             <td>Mon, 14 Dec 2020</td> <th>  Prob (F-statistic):</th>   <td>  0.00</td>   \n",
       "</tr>\n",
       "<tr>\n",
       "  <th>Time:</th>                 <td>16:15:19</td>     <th>  Log-Likelihood:    </th> <td>-2.1585e+05</td>\n",
       "</tr>\n",
       "<tr>\n",
       "  <th>No. Observations:</th>      <td> 16493</td>      <th>  AIC:               </th>  <td>4.317e+05</td> \n",
       "</tr>\n",
       "<tr>\n",
       "  <th>Df Residuals:</th>          <td> 16487</td>      <th>  BIC:               </th>  <td>4.318e+05</td> \n",
       "</tr>\n",
       "<tr>\n",
       "  <th>Df Model:</th>              <td>     5</td>      <th>                     </th>      <td> </td>     \n",
       "</tr>\n",
       "<tr>\n",
       "  <th>Covariance Type:</th>      <td>nonrobust</td>    <th>                     </th>      <td> </td>     \n",
       "</tr>\n",
       "</table>\n",
       "<table class=\"simpletable\">\n",
       "<tr>\n",
       "         <td></td>            <th>coef</th>     <th>std err</th>      <th>t</th>      <th>P>|t|</th>  <th>[0.025</th>    <th>0.975]</th>  \n",
       "</tr>\n",
       "<tr>\n",
       "  <th>Intercept</th>       <td>  4.24e+05</td> <td> 6263.645</td> <td>   67.686</td> <td> 0.000</td> <td> 4.12e+05</td> <td> 4.36e+05</td>\n",
       "</tr>\n",
       "<tr>\n",
       "  <th>sqft_living</th>     <td>  157.3532</td> <td>    1.315</td> <td>  119.694</td> <td> 0.000</td> <td>  154.776</td> <td>  159.930</td>\n",
       "</tr>\n",
       "<tr>\n",
       "  <th>log_school</th>      <td>-3.657e+04</td> <td>  958.235</td> <td>  -38.169</td> <td> 0.000</td> <td>-3.85e+04</td> <td>-3.47e+04</td>\n",
       "</tr>\n",
       "<tr>\n",
       "  <th>log_park</th>        <td> -612.2527</td> <td> 1211.889</td> <td>   -0.505</td> <td> 0.613</td> <td>-2987.686</td> <td> 1763.181</td>\n",
       "</tr>\n",
       "<tr>\n",
       "  <th>log_scientology</th> <td>-7.486e+04</td> <td> 1693.247</td> <td>  -44.211</td> <td> 0.000</td> <td>-7.82e+04</td> <td>-7.15e+04</td>\n",
       "</tr>\n",
       "<tr>\n",
       "  <th>log_coffee</th>      <td>-2.526e+04</td> <td> 1385.949</td> <td>  -18.226</td> <td> 0.000</td> <td> -2.8e+04</td> <td>-2.25e+04</td>\n",
       "</tr>\n",
       "</table>\n",
       "<table class=\"simpletable\">\n",
       "<tr>\n",
       "  <th>Omnibus:</th>       <td>342.683</td> <th>  Durbin-Watson:     </th> <td>   1.987</td>\n",
       "</tr>\n",
       "<tr>\n",
       "  <th>Prob(Omnibus):</th> <td> 0.000</td>  <th>  Jarque-Bera (JB):  </th> <td> 427.218</td>\n",
       "</tr>\n",
       "<tr>\n",
       "  <th>Skew:</th>          <td> 0.283</td>  <th>  Prob(JB):          </th> <td>1.70e-93</td>\n",
       "</tr>\n",
       "<tr>\n",
       "  <th>Kurtosis:</th>      <td> 3.549</td>  <th>  Cond. No.          </th> <td>1.46e+04</td>\n",
       "</tr>\n",
       "</table><br/><br/>Warnings:<br/>[1] Standard Errors assume that the covariance matrix of the errors is correctly specified.<br/>[2] The condition number is large, 1.46e+04. This might indicate that there are<br/>strong multicollinearity or other numerical problems."
      ],
      "text/plain": [
       "<class 'statsmodels.iolib.summary.Summary'>\n",
       "\"\"\"\n",
       "                            OLS Regression Results                            \n",
       "==============================================================================\n",
       "Dep. Variable:                  price   R-squared:                       0.571\n",
       "Model:                            OLS   Adj. R-squared:                  0.571\n",
       "Method:                 Least Squares   F-statistic:                     4386.\n",
       "Date:                Mon, 14 Dec 2020   Prob (F-statistic):               0.00\n",
       "Time:                        16:15:19   Log-Likelihood:            -2.1585e+05\n",
       "No. Observations:               16493   AIC:                         4.317e+05\n",
       "Df Residuals:                   16487   BIC:                         4.318e+05\n",
       "Df Model:                           5                                         \n",
       "Covariance Type:            nonrobust                                         \n",
       "===================================================================================\n",
       "                      coef    std err          t      P>|t|      [0.025      0.975]\n",
       "-----------------------------------------------------------------------------------\n",
       "Intercept         4.24e+05   6263.645     67.686      0.000    4.12e+05    4.36e+05\n",
       "sqft_living       157.3532      1.315    119.694      0.000     154.776     159.930\n",
       "log_school      -3.657e+04    958.235    -38.169      0.000   -3.85e+04   -3.47e+04\n",
       "log_park         -612.2527   1211.889     -0.505      0.613   -2987.686    1763.181\n",
       "log_scientology -7.486e+04   1693.247    -44.211      0.000   -7.82e+04   -7.15e+04\n",
       "log_coffee      -2.526e+04   1385.949    -18.226      0.000    -2.8e+04   -2.25e+04\n",
       "==============================================================================\n",
       "Omnibus:                      342.683   Durbin-Watson:                   1.987\n",
       "Prob(Omnibus):                  0.000   Jarque-Bera (JB):              427.218\n",
       "Skew:                           0.283   Prob(JB):                     1.70e-93\n",
       "Kurtosis:                       3.549   Cond. No.                     1.46e+04\n",
       "==============================================================================\n",
       "\n",
       "Warnings:\n",
       "[1] Standard Errors assume that the covariance matrix of the errors is correctly specified.\n",
       "[2] The condition number is large, 1.46e+04. This might indicate that there are\n",
       "strong multicollinearity or other numerical problems.\n",
       "\"\"\""
      ]
     },
     "execution_count": 13,
     "metadata": {},
     "output_type": "execute_result"
    }
   ],
   "source": [
    "model.summary()"
   ]
  },
  {
   "cell_type": "code",
   "execution_count": 14,
   "metadata": {},
   "outputs": [
    {
     "data": {
      "image/png": "[encoded data removed]",
      "text/plain": [
       "<Figure size 432x288 with 1 Axes>"
      ]
     },
     "metadata": {
      "needs_background": "light"
     },
     "output_type": "display_data"
    }
   ],
   "source": [
    "predictors_log = ['sqft_living', 'log_school', 'log_scientology', 'log_coffee', 'log_park']\n",
    "\n",
    "plt.scatter(model.predict(df[predictors_log]), model.resid, alpha = .5);\n",
    "plt.plot(model.predict(df[predictors_log]), [0 for i in range(len(df))]);\n",
    "plt.title('Homoscedasticity | Log Transformed Model, All Features');"
   ]
  },
  {
   "cell_type": "markdown",
   "metadata": {},
   "source": [
    "The variability of price is not equal at all; this model is heteroscedastic. While this iteration increased our R2 score some, we still hoped to achieve a higher one."
   ]
  },
  {
   "cell_type": "markdown",
   "metadata": {},
   "source": [
    "## Model #3  \n",
    "\n",
    "To attempt to increase our R2 score, we then tried removing certain features to see if the score increased."
   ]
  },
  {
   "cell_type": "code",
   "execution_count": 15,
   "metadata": {},
   "outputs": [
    {
     "data": {
      "text/html": [
       "<div>\n",
       "<style scoped>\n",
       "    .dataframe tbody tr th:only-of-type {\n",
       "        vertical-align: middle;\n",
       "    }\n",
       "\n",
       "    .dataframe tbody tr th {\n",
       "        vertical-align: top;\n",
       "    }\n",
       "\n",
       "    .dataframe thead th {\n",
       "        text-align: right;\n",
       "    }\n",
       "</style>\n",
       "<table border=\"1\" class=\"dataframe\">\n",
       "  <thead>\n",
       "    <tr style=\"text-align: right;\">\n",
       "      <th></th>\n",
       "      <th>price</th>\n",
       "      <th>sqft_living</th>\n",
       "      <th>grade</th>\n",
       "      <th>lat</th>\n",
       "      <th>long</th>\n",
       "      <th>min_dist_park</th>\n",
       "      <th>closest_distance_to_top_school</th>\n",
       "      <th>closest_distance_to_great_coffee</th>\n",
       "      <th>closest_distance_to_scientology</th>\n",
       "      <th>log_school</th>\n",
       "      <th>log_coffee</th>\n",
       "      <th>log_scientology</th>\n",
       "      <th>log_park</th>\n",
       "    </tr>\n",
       "  </thead>\n",
       "  <tbody>\n",
       "    <tr>\n",
       "      <th>price</th>\n",
       "      <td>1.00</td>\n",
       "      <td>0.56</td>\n",
       "      <td>0.57</td>\n",
       "      <td>0.45</td>\n",
       "      <td>0.07</td>\n",
       "      <td>0.01</td>\n",
       "      <td>-0.42</td>\n",
       "      <td>-0.20</td>\n",
       "      <td>-0.34</td>\n",
       "      <td>-0.41</td>\n",
       "      <td>-0.17</td>\n",
       "      <td>-0.33</td>\n",
       "      <td>0.01</td>\n",
       "    </tr>\n",
       "    <tr>\n",
       "      <th>sqft_living</th>\n",
       "      <td>0.56</td>\n",
       "      <td>1.00</td>\n",
       "      <td>0.68</td>\n",
       "      <td>-0.02</td>\n",
       "      <td>0.27</td>\n",
       "      <td>0.01</td>\n",
       "      <td>0.02</td>\n",
       "      <td>-0.13</td>\n",
       "      <td>0.17</td>\n",
       "      <td>0.08</td>\n",
       "      <td>-0.12</td>\n",
       "      <td>0.20</td>\n",
       "      <td>0.02</td>\n",
       "    </tr>\n",
       "    <tr>\n",
       "      <th>grade</th>\n",
       "      <td>0.57</td>\n",
       "      <td>0.68</td>\n",
       "      <td>1.00</td>\n",
       "      <td>0.05</td>\n",
       "      <td>0.25</td>\n",
       "      <td>0.01</td>\n",
       "      <td>-0.03</td>\n",
       "      <td>-0.14</td>\n",
       "      <td>0.11</td>\n",
       "      <td>0.01</td>\n",
       "      <td>-0.12</td>\n",
       "      <td>0.13</td>\n",
       "      <td>0.02</td>\n",
       "    </tr>\n",
       "    <tr>\n",
       "      <th>lat</th>\n",
       "      <td>0.45</td>\n",
       "      <td>-0.02</td>\n",
       "      <td>0.05</td>\n",
       "      <td>1.00</td>\n",
       "      <td>-0.13</td>\n",
       "      <td>0.01</td>\n",
       "      <td>-0.68</td>\n",
       "      <td>-0.16</td>\n",
       "      <td>-0.73</td>\n",
       "      <td>-0.63</td>\n",
       "      <td>-0.07</td>\n",
       "      <td>-0.63</td>\n",
       "      <td>0.00</td>\n",
       "    </tr>\n",
       "    <tr>\n",
       "      <th>long</th>\n",
       "      <td>0.07</td>\n",
       "      <td>0.27</td>\n",
       "      <td>0.25</td>\n",
       "      <td>-0.13</td>\n",
       "      <td>1.00</td>\n",
       "      <td>-0.01</td>\n",
       "      <td>0.01</td>\n",
       "      <td>-0.35</td>\n",
       "      <td>0.63</td>\n",
       "      <td>0.13</td>\n",
       "      <td>-0.39</td>\n",
       "      <td>0.62</td>\n",
       "      <td>-0.01</td>\n",
       "    </tr>\n",
       "    <tr>\n",
       "      <th>min_dist_park</th>\n",
       "      <td>0.01</td>\n",
       "      <td>0.01</td>\n",
       "      <td>0.01</td>\n",
       "      <td>0.01</td>\n",
       "      <td>-0.01</td>\n",
       "      <td>1.00</td>\n",
       "      <td>0.01</td>\n",
       "      <td>0.01</td>\n",
       "      <td>-0.01</td>\n",
       "      <td>0.00</td>\n",
       "      <td>0.01</td>\n",
       "      <td>-0.00</td>\n",
       "      <td>0.90</td>\n",
       "    </tr>\n",
       "    <tr>\n",
       "      <th>closest_distance_to_top_school</th>\n",
       "      <td>-0.42</td>\n",
       "      <td>0.02</td>\n",
       "      <td>-0.03</td>\n",
       "      <td>-0.68</td>\n",
       "      <td>0.01</td>\n",
       "      <td>0.01</td>\n",
       "      <td>1.00</td>\n",
       "      <td>0.35</td>\n",
       "      <td>0.66</td>\n",
       "      <td>0.86</td>\n",
       "      <td>0.25</td>\n",
       "      <td>0.57</td>\n",
       "      <td>0.01</td>\n",
       "    </tr>\n",
       "    <tr>\n",
       "      <th>closest_distance_to_great_coffee</th>\n",
       "      <td>-0.20</td>\n",
       "      <td>-0.13</td>\n",
       "      <td>-0.14</td>\n",
       "      <td>-0.16</td>\n",
       "      <td>-0.35</td>\n",
       "      <td>0.01</td>\n",
       "      <td>0.35</td>\n",
       "      <td>1.00</td>\n",
       "      <td>0.14</td>\n",
       "      <td>0.17</td>\n",
       "      <td>0.92</td>\n",
       "      <td>-0.04</td>\n",
       "      <td>0.02</td>\n",
       "    </tr>\n",
       "    <tr>\n",
       "      <th>closest_distance_to_scientology</th>\n",
       "      <td>-0.34</td>\n",
       "      <td>0.17</td>\n",
       "      <td>0.11</td>\n",
       "      <td>-0.73</td>\n",
       "      <td>0.63</td>\n",
       "      <td>-0.01</td>\n",
       "      <td>0.66</td>\n",
       "      <td>0.14</td>\n",
       "      <td>1.00</td>\n",
       "      <td>0.66</td>\n",
       "      <td>0.03</td>\n",
       "      <td>0.93</td>\n",
       "      <td>-0.00</td>\n",
       "    </tr>\n",
       "    <tr>\n",
       "      <th>log_school</th>\n",
       "      <td>-0.41</td>\n",
       "      <td>0.08</td>\n",
       "      <td>0.01</td>\n",
       "      <td>-0.63</td>\n",
       "      <td>0.13</td>\n",
       "      <td>0.00</td>\n",
       "      <td>0.86</td>\n",
       "      <td>0.17</td>\n",
       "      <td>0.66</td>\n",
       "      <td>1.00</td>\n",
       "      <td>0.12</td>\n",
       "      <td>0.63</td>\n",
       "      <td>0.00</td>\n",
       "    </tr>\n",
       "    <tr>\n",
       "      <th>log_coffee</th>\n",
       "      <td>-0.17</td>\n",
       "      <td>-0.12</td>\n",
       "      <td>-0.12</td>\n",
       "      <td>-0.07</td>\n",
       "      <td>-0.39</td>\n",
       "      <td>0.01</td>\n",
       "      <td>0.25</td>\n",
       "      <td>0.92</td>\n",
       "      <td>0.03</td>\n",
       "      <td>0.12</td>\n",
       "      <td>1.00</td>\n",
       "      <td>-0.13</td>\n",
       "      <td>0.01</td>\n",
       "    </tr>\n",
       "    <tr>\n",
       "      <th>log_scientology</th>\n",
       "      <td>-0.33</td>\n",
       "      <td>0.20</td>\n",
       "      <td>0.13</td>\n",
       "      <td>-0.63</td>\n",
       "      <td>0.62</td>\n",
       "      <td>-0.00</td>\n",
       "      <td>0.57</td>\n",
       "      <td>-0.04</td>\n",
       "      <td>0.93</td>\n",
       "      <td>0.63</td>\n",
       "      <td>-0.13</td>\n",
       "      <td>1.00</td>\n",
       "      <td>-0.00</td>\n",
       "    </tr>\n",
       "    <tr>\n",
       "      <th>log_park</th>\n",
       "      <td>0.01</td>\n",
       "      <td>0.02</td>\n",
       "      <td>0.02</td>\n",
       "      <td>0.00</td>\n",
       "      <td>-0.01</td>\n",
       "      <td>0.90</td>\n",
       "      <td>0.01</td>\n",
       "      <td>0.02</td>\n",
       "      <td>-0.00</td>\n",
       "      <td>0.00</td>\n",
       "      <td>0.01</td>\n",
       "      <td>-0.00</td>\n",
       "      <td>1.00</td>\n",
       "    </tr>\n",
       "  </tbody>\n",
       "</table>\n",
       "</div>"
      ],
      "text/plain": [
       "                                  price  sqft_living  grade   lat  long  \\\n",
       "price                              1.00         0.56   0.57  0.45  0.07   \n",
       "sqft_living                        0.56         1.00   0.68 -0.02  0.27   \n",
       "grade                              0.57         0.68   1.00  0.05  0.25   \n",
       "lat                                0.45        -0.02   0.05  1.00 -0.13   \n",
       "long                               0.07         0.27   0.25 -0.13  1.00   \n",
       "min_dist_park                      0.01         0.01   0.01  0.01 -0.01   \n",
       "closest_distance_to_top_school    -0.42         0.02  -0.03 -0.68  0.01   \n",
       "closest_distance_to_great_coffee  -0.20        -0.13  -0.14 -0.16 -0.35   \n",
       "closest_distance_to_scientology   -0.34         0.17   0.11 -0.73  0.63   \n",
       "log_school                        -0.41         0.08   0.01 -0.63  0.13   \n",
       "log_coffee                        -0.17        -0.12  -0.12 -0.07 -0.39   \n",
       "log_scientology                   -0.33         0.20   0.13 -0.63  0.62   \n",
       "log_park                           0.01         0.02   0.02  0.00 -0.01   \n",
       "\n",
       "                                  min_dist_park  \\\n",
       "price                                      0.01   \n",
       "sqft_living                                0.01   \n",
       "grade                                      0.01   \n",
       "lat                                        0.01   \n",
       "long                                      -0.01   \n",
       "min_dist_park                              1.00   \n",
       "closest_distance_to_top_school             0.01   \n",
       "closest_distance_to_great_coffee           0.01   \n",
       "closest_distance_to_scientology           -0.01   \n",
       "log_school                                 0.00   \n",
       "log_coffee                                 0.01   \n",
       "log_scientology                           -0.00   \n",
       "log_park                                   0.90   \n",
       "\n",
       "                                  closest_distance_to_top_school  \\\n",
       "price                                                      -0.42   \n",
       "sqft_living                                                 0.02   \n",
       "grade                                                      -0.03   \n",
       "lat                                                        -0.68   \n",
       "long                                                        0.01   \n",
       "min_dist_park                                               0.01   \n",
       "closest_distance_to_top_school                              1.00   \n",
       "closest_distance_to_great_coffee                            0.35   \n",
       "closest_distance_to_scientology                             0.66   \n",
       "log_school                                                  0.86   \n",
       "log_coffee                                                  0.25   \n",
       "log_scientology                                             0.57   \n",
       "log_park                                                    0.01   \n",
       "\n",
       "                                  closest_distance_to_great_coffee  \\\n",
       "price                                                        -0.20   \n",
       "sqft_living                                                  -0.13   \n",
       "grade                                                        -0.14   \n",
       "lat                                                          -0.16   \n",
       "long                                                         -0.35   \n",
       "min_dist_park                                                 0.01   \n",
       "closest_distance_to_top_school                                0.35   \n",
       "closest_distance_to_great_coffee                              1.00   \n",
       "closest_distance_to_scientology                               0.14   \n",
       "log_school                                                    0.17   \n",
       "log_coffee                                                    0.92   \n",
       "log_scientology                                              -0.04   \n",
       "log_park                                                      0.02   \n",
       "\n",
       "                                  closest_distance_to_scientology  log_school  \\\n",
       "price                                                       -0.34       -0.41   \n",
       "sqft_living                                                  0.17        0.08   \n",
       "grade                                                        0.11        0.01   \n",
       "lat                                                         -0.73       -0.63   \n",
       "long                                                         0.63        0.13   \n",
       "min_dist_park                                               -0.01        0.00   \n",
       "closest_distance_to_top_school                               0.66        0.86   \n",
       "closest_distance_to_great_coffee                             0.14        0.17   \n",
       "closest_distance_to_scientology                              1.00        0.66   \n",
       "log_school                                                   0.66        1.00   \n",
       "log_coffee                                                   0.03        0.12   \n",
       "log_scientology                                              0.93        0.63   \n",
       "log_park                                                    -0.00        0.00   \n",
       "\n",
       "                                  log_coffee  log_scientology  log_park  \n",
       "price                                  -0.17            -0.33      0.01  \n",
       "sqft_living                            -0.12             0.20      0.02  \n",
       "grade                                  -0.12             0.13      0.02  \n",
       "lat                                    -0.07            -0.63      0.00  \n",
       "long                                   -0.39             0.62     -0.01  \n",
       "min_dist_park                           0.01            -0.00      0.90  \n",
       "closest_distance_to_top_school          0.25             0.57      0.01  \n",
       "closest_distance_to_great_coffee        0.92            -0.04      0.02  \n",
       "closest_distance_to_scientology         0.03             0.93     -0.00  \n",
       "log_school                              0.12             0.63      0.00  \n",
       "log_coffee                              1.00            -0.13      0.01  \n",
       "log_scientology                        -0.13             1.00     -0.00  \n",
       "log_park                                0.01            -0.00      1.00  "
      ]
     },
     "execution_count": 15,
     "metadata": {},
     "output_type": "execute_result"
    }
   ],
   "source": [
    "df.corr()"
   ]
  },
  {
   "cell_type": "markdown",
   "metadata": {},
   "source": [
    "Distance to parks seemed to have a relatively low correlation with price, so we experimented with removing that first."
   ]
  },
  {
   "cell_type": "code",
   "execution_count": 16,
   "metadata": {
    "scrolled": true
   },
   "outputs": [
    {
     "name": "stdout",
     "output_type": "stream",
     "text": [
      "R^2:  0.5708303874090539\n"
     ]
    }
   ],
   "source": [
    "features = ['sqft_living', 'log_school', 'log_scientology', 'log_coffee']\n",
    "target = ['price']\n",
    "X = df[features]\n",
    "y = df[target]\n",
    "\n",
    "lm3 = LinearRegression().fit(X, y)\n",
    "\n",
    "lm3_preds = lm3.predict(X)\n",
    "\n",
    "print('R^2: ', r2_score(y, lm3_preds))"
   ]
  },
  {
   "cell_type": "code",
   "execution_count": 17,
   "metadata": {},
   "outputs": [],
   "source": [
    "formula = \"price ~ sqft_living+log_school+log_scientology+log_coffee\"\n",
    "model = ols(formula= formula, data=df).fit()"
   ]
  },
  {
   "cell_type": "code",
   "execution_count": 18,
   "metadata": {
    "scrolled": true
   },
   "outputs": [
    {
     "data": {
      "text/html": [
       "<table class=\"simpletable\">\n",
       "<caption>OLS Regression Results</caption>\n",
       "<tr>\n",
       "  <th>Dep. Variable:</th>          <td>price</td>      <th>  R-squared:         </th>  <td>   0.571</td>  \n",
       "</tr>\n",
       "<tr>\n",
       "  <th>Model:</th>                   <td>OLS</td>       <th>  Adj. R-squared:    </th>  <td>   0.571</td>  \n",
       "</tr>\n",
       "<tr>\n",
       "  <th>Method:</th>             <td>Least Squares</td>  <th>  F-statistic:       </th>  <td>   5483.</td>  \n",
       "</tr>\n",
       "<tr>\n",
       "  <th>Date:</th>             <td>Mon, 14 Dec 2020</td> <th>  Prob (F-statistic):</th>   <td>  0.00</td>   \n",
       "</tr>\n",
       "<tr>\n",
       "  <th>Time:</th>                 <td>16:15:19</td>     <th>  Log-Likelihood:    </th> <td>-2.1585e+05</td>\n",
       "</tr>\n",
       "<tr>\n",
       "  <th>No. Observations:</th>      <td> 16493</td>      <th>  AIC:               </th>  <td>4.317e+05</td> \n",
       "</tr>\n",
       "<tr>\n",
       "  <th>Df Residuals:</th>          <td> 16488</td>      <th>  BIC:               </th>  <td>4.318e+05</td> \n",
       "</tr>\n",
       "<tr>\n",
       "  <th>Df Model:</th>              <td>     4</td>      <th>                     </th>      <td> </td>     \n",
       "</tr>\n",
       "<tr>\n",
       "  <th>Covariance Type:</th>      <td>nonrobust</td>    <th>                     </th>      <td> </td>     \n",
       "</tr>\n",
       "</table>\n",
       "<table class=\"simpletable\">\n",
       "<tr>\n",
       "         <td></td>            <th>coef</th>     <th>std err</th>      <th>t</th>      <th>P>|t|</th>  <th>[0.025</th>    <th>0.975]</th>  \n",
       "</tr>\n",
       "<tr>\n",
       "  <th>Intercept</th>       <td> 4.235e+05</td> <td> 6183.469</td> <td>   68.482</td> <td> 0.000</td> <td> 4.11e+05</td> <td> 4.36e+05</td>\n",
       "</tr>\n",
       "<tr>\n",
       "  <th>sqft_living</th>     <td>  157.3384</td> <td>    1.314</td> <td>  119.715</td> <td> 0.000</td> <td>  154.762</td> <td>  159.915</td>\n",
       "</tr>\n",
       "<tr>\n",
       "  <th>log_school</th>      <td>-3.658e+04</td> <td>  958.209</td> <td>  -38.171</td> <td> 0.000</td> <td>-3.85e+04</td> <td>-3.47e+04</td>\n",
       "</tr>\n",
       "<tr>\n",
       "  <th>log_scientology</th> <td>-7.486e+04</td> <td> 1693.197</td> <td>  -44.211</td> <td> 0.000</td> <td>-7.82e+04</td> <td>-7.15e+04</td>\n",
       "</tr>\n",
       "<tr>\n",
       "  <th>log_coffee</th>      <td>-2.527e+04</td> <td> 1385.806</td> <td>  -18.234</td> <td> 0.000</td> <td> -2.8e+04</td> <td>-2.26e+04</td>\n",
       "</tr>\n",
       "</table>\n",
       "<table class=\"simpletable\">\n",
       "<tr>\n",
       "  <th>Omnibus:</th>       <td>342.576</td> <th>  Durbin-Watson:     </th> <td>   1.987</td>\n",
       "</tr>\n",
       "<tr>\n",
       "  <th>Prob(Omnibus):</th> <td> 0.000</td>  <th>  Jarque-Bera (JB):  </th> <td> 426.974</td>\n",
       "</tr>\n",
       "<tr>\n",
       "  <th>Skew:</th>          <td> 0.283</td>  <th>  Prob(JB):          </th> <td>1.92e-93</td>\n",
       "</tr>\n",
       "<tr>\n",
       "  <th>Kurtosis:</th>      <td> 3.548</td>  <th>  Cond. No.          </th> <td>1.44e+04</td>\n",
       "</tr>\n",
       "</table><br/><br/>Warnings:<br/>[1] Standard Errors assume that the covariance matrix of the errors is correctly specified.<br/>[2] The condition number is large, 1.44e+04. This might indicate that there are<br/>strong multicollinearity or other numerical problems."
      ],
      "text/plain": [
       "<class 'statsmodels.iolib.summary.Summary'>\n",
       "\"\"\"\n",
       "                            OLS Regression Results                            \n",
       "==============================================================================\n",
       "Dep. Variable:                  price   R-squared:                       0.571\n",
       "Model:                            OLS   Adj. R-squared:                  0.571\n",
       "Method:                 Least Squares   F-statistic:                     5483.\n",
       "Date:                Mon, 14 Dec 2020   Prob (F-statistic):               0.00\n",
       "Time:                        16:15:19   Log-Likelihood:            -2.1585e+05\n",
       "No. Observations:               16493   AIC:                         4.317e+05\n",
       "Df Residuals:                   16488   BIC:                         4.318e+05\n",
       "Df Model:                           4                                         \n",
       "Covariance Type:            nonrobust                                         \n",
       "===================================================================================\n",
       "                      coef    std err          t      P>|t|      [0.025      0.975]\n",
       "-----------------------------------------------------------------------------------\n",
       "Intercept        4.235e+05   6183.469     68.482      0.000    4.11e+05    4.36e+05\n",
       "sqft_living       157.3384      1.314    119.715      0.000     154.762     159.915\n",
       "log_school      -3.658e+04    958.209    -38.171      0.000   -3.85e+04   -3.47e+04\n",
       "log_scientology -7.486e+04   1693.197    -44.211      0.000   -7.82e+04   -7.15e+04\n",
       "log_coffee      -2.527e+04   1385.806    -18.234      0.000    -2.8e+04   -2.26e+04\n",
       "==============================================================================\n",
       "Omnibus:                      342.576   Durbin-Watson:                   1.987\n",
       "Prob(Omnibus):                  0.000   Jarque-Bera (JB):              426.974\n",
       "Skew:                           0.283   Prob(JB):                     1.92e-93\n",
       "Kurtosis:                       3.548   Cond. No.                     1.44e+04\n",
       "==============================================================================\n",
       "\n",
       "Warnings:\n",
       "[1] Standard Errors assume that the covariance matrix of the errors is correctly specified.\n",
       "[2] The condition number is large, 1.44e+04. This might indicate that there are\n",
       "strong multicollinearity or other numerical problems.\n",
       "\"\"\""
      ]
     },
     "execution_count": 18,
     "metadata": {},
     "output_type": "execute_result"
    }
   ],
   "source": [
    "model.summary()"
   ]
  },
  {
   "cell_type": "code",
   "execution_count": 19,
   "metadata": {},
   "outputs": [
    {
     "data": {
      "image/png": "[encoded data removed]",
      "text/plain": [
       "<Figure size 432x288 with 1 Axes>"
      ]
     },
     "metadata": {
      "needs_background": "light"
     },
     "output_type": "display_data"
    }
   ],
   "source": [
    "predictors_3 = ['sqft_living', 'log_school', 'log_coffee', 'log_scientology']\n",
    "\n",
    "plt.scatter(model.predict(df[predictors_3]), model.resid, alpha = .5);\n",
    "plt.plot(model.predict(df[predictors_3]), [0 for i in range(len(df))]);\n",
    "plt.title('Homoscedasticity | Log Transformed Model, Removed Parks');"
   ]
  },
  {
   "cell_type": "markdown",
   "metadata": {},
   "source": [
    "Once again, the variability of price is not equal at all; this model is heteroscedastic. And although we considered removing distance to parks, our R2 score actually dropped a bit as a result."
   ]
  },
  {
   "cell_type": "markdown",
   "metadata": {},
   "source": [
    "## Model #4  \n",
    "We attempted a new model with only sqare-foot living space and school as features."
   ]
  },
  {
   "cell_type": "code",
   "execution_count": 20,
   "metadata": {
    "scrolled": true
   },
   "outputs": [
    {
     "name": "stdout",
     "output_type": "stream",
     "text": [
      "R^2:  0.5184159812175783\n"
     ]
    }
   ],
   "source": [
    "# trying with only sqft_living and school\n",
    "\n",
    "features = ['sqft_living', 'log_school']\n",
    "target = ['price']\n",
    "X = df[features]\n",
    "y = df[target]\n",
    "\n",
    "lm4 = LinearRegression().fit(X, y)\n",
    "\n",
    "lm4_preds = lm4.predict(X)\n",
    "\n",
    "print('R^2: ', r2_score(y, lm4_preds))"
   ]
  },
  {
   "cell_type": "code",
   "execution_count": 21,
   "metadata": {},
   "outputs": [],
   "source": [
    "formula = \"price ~ sqft_living+log_school\"\n",
    "model = ols(formula= formula, data=df).fit()"
   ]
  },
  {
   "cell_type": "code",
   "execution_count": 22,
   "metadata": {},
   "outputs": [
    {
     "data": {
      "text/html": [
       "<table class=\"simpletable\">\n",
       "<caption>OLS Regression Results</caption>\n",
       "<tr>\n",
       "  <th>Dep. Variable:</th>          <td>price</td>      <th>  R-squared:         </th>  <td>   0.518</td>  \n",
       "</tr>\n",
       "<tr>\n",
       "  <th>Model:</th>                   <td>OLS</td>       <th>  Adj. R-squared:    </th>  <td>   0.518</td>  \n",
       "</tr>\n",
       "<tr>\n",
       "  <th>Method:</th>             <td>Least Squares</td>  <th>  F-statistic:       </th>  <td>   8876.</td>  \n",
       "</tr>\n",
       "<tr>\n",
       "  <th>Date:</th>             <td>Mon, 14 Dec 2020</td> <th>  Prob (F-statistic):</th>   <td>  0.00</td>   \n",
       "</tr>\n",
       "<tr>\n",
       "  <th>Time:</th>                 <td>16:15:20</td>     <th>  Log-Likelihood:    </th> <td>-2.1680e+05</td>\n",
       "</tr>\n",
       "<tr>\n",
       "  <th>No. Observations:</th>      <td> 16493</td>      <th>  AIC:               </th>  <td>4.336e+05</td> \n",
       "</tr>\n",
       "<tr>\n",
       "  <th>Df Residuals:</th>          <td> 16490</td>      <th>  BIC:               </th>  <td>4.336e+05</td> \n",
       "</tr>\n",
       "<tr>\n",
       "  <th>Df Model:</th>              <td>     2</td>      <th>                     </th>      <td> </td>     \n",
       "</tr>\n",
       "<tr>\n",
       "  <th>Covariance Type:</th>      <td>nonrobust</td>    <th>                     </th>      <td> </td>     \n",
       "</tr>\n",
       "</table>\n",
       "<table class=\"simpletable\">\n",
       "<tr>\n",
       "       <td></td>          <th>coef</th>     <th>std err</th>      <th>t</th>      <th>P>|t|</th>  <th>[0.025</th>    <th>0.975]</th>  \n",
       "</tr>\n",
       "<tr>\n",
       "  <th>Intercept</th>   <td> 1.956e+05</td> <td> 2782.391</td> <td>   70.284</td> <td> 0.000</td> <td>  1.9e+05</td> <td> 2.01e+05</td>\n",
       "</tr>\n",
       "<tr>\n",
       "  <th>sqft_living</th> <td>  149.2004</td> <td>    1.362</td> <td>  109.564</td> <td> 0.000</td> <td>  146.531</td> <td>  151.870</td>\n",
       "</tr>\n",
       "<tr>\n",
       "  <th>log_school</th>  <td>-6.475e+04</td> <td>  766.641</td> <td>  -84.462</td> <td> 0.000</td> <td>-6.63e+04</td> <td>-6.32e+04</td>\n",
       "</tr>\n",
       "</table>\n",
       "<table class=\"simpletable\">\n",
       "<tr>\n",
       "  <th>Omnibus:</th>       <td>561.519</td> <th>  Durbin-Watson:     </th> <td>   1.989</td> \n",
       "</tr>\n",
       "<tr>\n",
       "  <th>Prob(Omnibus):</th> <td> 0.000</td>  <th>  Jarque-Bera (JB):  </th> <td> 689.284</td> \n",
       "</tr>\n",
       "<tr>\n",
       "  <th>Skew:</th>          <td> 0.402</td>  <th>  Prob(JB):          </th> <td>2.11e-150</td>\n",
       "</tr>\n",
       "<tr>\n",
       "  <th>Kurtosis:</th>      <td> 3.598</td>  <th>  Cond. No.          </th> <td>5.92e+03</td> \n",
       "</tr>\n",
       "</table><br/><br/>Warnings:<br/>[1] Standard Errors assume that the covariance matrix of the errors is correctly specified.<br/>[2] The condition number is large, 5.92e+03. This might indicate that there are<br/>strong multicollinearity or other numerical problems."
      ],
      "text/plain": [
       "<class 'statsmodels.iolib.summary.Summary'>\n",
       "\"\"\"\n",
       "                            OLS Regression Results                            \n",
       "==============================================================================\n",
       "Dep. Variable:                  price   R-squared:                       0.518\n",
       "Model:                            OLS   Adj. R-squared:                  0.518\n",
       "Method:                 Least Squares   F-statistic:                     8876.\n",
       "Date:                Mon, 14 Dec 2020   Prob (F-statistic):               0.00\n",
       "Time:                        16:15:20   Log-Likelihood:            -2.1680e+05\n",
       "No. Observations:               16493   AIC:                         4.336e+05\n",
       "Df Residuals:                   16490   BIC:                         4.336e+05\n",
       "Df Model:                           2                                         \n",
       "Covariance Type:            nonrobust                                         \n",
       "===============================================================================\n",
       "                  coef    std err          t      P>|t|      [0.025      0.975]\n",
       "-------------------------------------------------------------------------------\n",
       "Intercept    1.956e+05   2782.391     70.284      0.000     1.9e+05    2.01e+05\n",
       "sqft_living   149.2004      1.362    109.564      0.000     146.531     151.870\n",
       "log_school  -6.475e+04    766.641    -84.462      0.000   -6.63e+04   -6.32e+04\n",
       "==============================================================================\n",
       "Omnibus:                      561.519   Durbin-Watson:                   1.989\n",
       "Prob(Omnibus):                  0.000   Jarque-Bera (JB):              689.284\n",
       "Skew:                           0.402   Prob(JB):                    2.11e-150\n",
       "Kurtosis:                       3.598   Cond. No.                     5.92e+03\n",
       "==============================================================================\n",
       "\n",
       "Warnings:\n",
       "[1] Standard Errors assume that the covariance matrix of the errors is correctly specified.\n",
       "[2] The condition number is large, 5.92e+03. This might indicate that there are\n",
       "strong multicollinearity or other numerical problems.\n",
       "\"\"\""
      ]
     },
     "execution_count": 22,
     "metadata": {},
     "output_type": "execute_result"
    }
   ],
   "source": [
    "model.summary()"
   ]
  },
  {
   "cell_type": "markdown",
   "metadata": {},
   "source": [
    "Again, the model performs worse upon removal of features."
   ]
  },
  {
   "cell_type": "markdown",
   "metadata": {},
   "source": [
    "## Model #5  \n",
    "\n",
    "We tried another model with all features, this time using the train_test_split method to train and test our model."
   ]
  },
  {
   "cell_type": "code",
   "execution_count": 23,
   "metadata": {
    "scrolled": false
   },
   "outputs": [
    {
     "name": "stdout",
     "output_type": "stream",
     "text": [
      "R^2:  0.5823136171613592\n"
     ]
    }
   ],
   "source": [
    "features = ['sqft_living', 'log_school', 'log_scientology', 'log_coffee', 'log_park']\n",
    "target = ['price']\n",
    "X = df[features]\n",
    "y = df[target]\n",
    "\n",
    "# fifth iteration of model: with all and train_test_split\n",
    "X_train, X_test, y_train, y_test = train_test_split(X,y, random_state=1)\n",
    "\n",
    "lm5 = LinearRegression().fit(X_train, y_train)\n",
    "lm5_preds = lm5.predict(X_test)\n",
    "\n",
    "print('R^2: ', r2_score(y_test, lm5_preds))"
   ]
  },
  {
   "cell_type": "code",
   "execution_count": 24,
   "metadata": {
    "scrolled": false
   },
   "outputs": [
    {
     "name": "stderr",
     "output_type": "stream",
     "text": [
      "/Users/dtunnicliffe/anaconda3/envs/learn-env/lib/python3.6/site-packages/numpy/core/fromnumeric.py:2580: FutureWarning: Method .ptp is deprecated and will be removed in a future version. Use numpy.ptp instead.\n",
      "  return ptp(axis=axis, out=out, **kwargs)\n"
     ]
    }
   ],
   "source": [
    "y_predict = lm5.predict(X_test)\n",
    "\n",
    "X2 = sm.add_constant(X)\n",
    "\n",
    "# create an OLS model\n",
    "model = sm.OLS(y, X2)\n",
    "\n",
    "# fit the data\n",
    "est = model.fit()"
   ]
  },
  {
   "cell_type": "code",
   "execution_count": 25,
   "metadata": {
    "scrolled": true
   },
   "outputs": [
    {
     "data": {
      "image/png": "[encoded data removed]",
      "text/plain": [
       "<Figure size 432x288 with 1 Axes>"
      ]
     },
     "metadata": {
      "needs_background": "light"
     },
     "output_type": "display_data"
    },
    {
     "name": "stdout",
     "output_type": "stream",
     "text": [
      "The mean of the residuals is 3.426e-10\n"
     ]
    }
   ],
   "source": [
    "# check for the normality of the residuals\n",
    "sm.qqplot(est.resid, line='s')\n",
    "pylab.show()\n",
    "\n",
    "# also check that the mean of the residuals is approx. 0.\n",
    "mean_residuals = sum(est.resid)/ len(est.resid)\n",
    "print(\"The mean of the residuals is {:.4}\".format(mean_residuals))"
   ]
  },
  {
   "cell_type": "markdown",
   "metadata": {},
   "source": [
    "This is the best one so far; the R2 improves when we use all our log-transformed features and train_test_split."
   ]
  },
  {
   "cell_type": "markdown",
   "metadata": {},
   "source": [
    "## Model #6  \n",
    "\n",
    "We checked for multicolinearity and found that there was multicolinearity between our distance to schools and distance to scientology churches. So we created an interaction column to account for this."
   ]
  },
  {
   "cell_type": "code",
   "execution_count": 26,
   "metadata": {},
   "outputs": [
    {
     "data": {
      "image/png": "[encoded data removed]",
      "text/plain": [
       "<Figure size 432x288 with 2 Axes>"
      ]
     },
     "metadata": {
      "needs_background": "light"
     },
     "output_type": "display_data"
    }
   ],
   "source": [
    "sns.heatmap(df.corr());"
   ]
  },
  {
   "cell_type": "code",
   "execution_count": 27,
   "metadata": {},
   "outputs": [
    {
     "data": {
      "text/html": [
       "<div>\n",
       "<style scoped>\n",
       "    .dataframe tbody tr th:only-of-type {\n",
       "        vertical-align: middle;\n",
       "    }\n",
       "\n",
       "    .dataframe tbody tr th {\n",
       "        vertical-align: top;\n",
       "    }\n",
       "\n",
       "    .dataframe thead th {\n",
       "        text-align: right;\n",
       "    }\n",
       "</style>\n",
       "<table border=\"1\" class=\"dataframe\">\n",
       "  <thead>\n",
       "    <tr style=\"text-align: right;\">\n",
       "      <th></th>\n",
       "      <th>price</th>\n",
       "      <th>sqft_living</th>\n",
       "      <th>grade</th>\n",
       "      <th>lat</th>\n",
       "      <th>long</th>\n",
       "      <th>min_dist_park</th>\n",
       "      <th>closest_distance_to_top_school</th>\n",
       "      <th>closest_distance_to_great_coffee</th>\n",
       "      <th>closest_distance_to_scientology</th>\n",
       "      <th>log_school</th>\n",
       "      <th>log_coffee</th>\n",
       "      <th>log_scientology</th>\n",
       "      <th>log_park</th>\n",
       "    </tr>\n",
       "  </thead>\n",
       "  <tbody>\n",
       "    <tr>\n",
       "      <th>price</th>\n",
       "      <td>1.00</td>\n",
       "      <td>0.56</td>\n",
       "      <td>0.57</td>\n",
       "      <td>0.45</td>\n",
       "      <td>0.07</td>\n",
       "      <td>0.01</td>\n",
       "      <td>-0.42</td>\n",
       "      <td>-0.20</td>\n",
       "      <td>-0.34</td>\n",
       "      <td>-0.41</td>\n",
       "      <td>-0.17</td>\n",
       "      <td>-0.33</td>\n",
       "      <td>0.01</td>\n",
       "    </tr>\n",
       "    <tr>\n",
       "      <th>sqft_living</th>\n",
       "      <td>0.56</td>\n",
       "      <td>1.00</td>\n",
       "      <td>0.68</td>\n",
       "      <td>-0.02</td>\n",
       "      <td>0.27</td>\n",
       "      <td>0.01</td>\n",
       "      <td>0.02</td>\n",
       "      <td>-0.13</td>\n",
       "      <td>0.17</td>\n",
       "      <td>0.08</td>\n",
       "      <td>-0.12</td>\n",
       "      <td>0.20</td>\n",
       "      <td>0.02</td>\n",
       "    </tr>\n",
       "    <tr>\n",
       "      <th>grade</th>\n",
       "      <td>0.57</td>\n",
       "      <td>0.68</td>\n",
       "      <td>1.00</td>\n",
       "      <td>0.05</td>\n",
       "      <td>0.25</td>\n",
       "      <td>0.01</td>\n",
       "      <td>-0.03</td>\n",
       "      <td>-0.14</td>\n",
       "      <td>0.11</td>\n",
       "      <td>0.01</td>\n",
       "      <td>-0.12</td>\n",
       "      <td>0.13</td>\n",
       "      <td>0.02</td>\n",
       "    </tr>\n",
       "    <tr>\n",
       "      <th>lat</th>\n",
       "      <td>0.45</td>\n",
       "      <td>-0.02</td>\n",
       "      <td>0.05</td>\n",
       "      <td>1.00</td>\n",
       "      <td>-0.13</td>\n",
       "      <td>0.01</td>\n",
       "      <td>-0.68</td>\n",
       "      <td>-0.16</td>\n",
       "      <td>-0.73</td>\n",
       "      <td>-0.63</td>\n",
       "      <td>-0.07</td>\n",
       "      <td>-0.63</td>\n",
       "      <td>0.00</td>\n",
       "    </tr>\n",
       "    <tr>\n",
       "      <th>long</th>\n",
       "      <td>0.07</td>\n",
       "      <td>0.27</td>\n",
       "      <td>0.25</td>\n",
       "      <td>-0.13</td>\n",
       "      <td>1.00</td>\n",
       "      <td>-0.01</td>\n",
       "      <td>0.01</td>\n",
       "      <td>-0.35</td>\n",
       "      <td>0.63</td>\n",
       "      <td>0.13</td>\n",
       "      <td>-0.39</td>\n",
       "      <td>0.62</td>\n",
       "      <td>-0.01</td>\n",
       "    </tr>\n",
       "    <tr>\n",
       "      <th>min_dist_park</th>\n",
       "      <td>0.01</td>\n",
       "      <td>0.01</td>\n",
       "      <td>0.01</td>\n",
       "      <td>0.01</td>\n",
       "      <td>-0.01</td>\n",
       "      <td>1.00</td>\n",
       "      <td>0.01</td>\n",
       "      <td>0.01</td>\n",
       "      <td>-0.01</td>\n",
       "      <td>0.00</td>\n",
       "      <td>0.01</td>\n",
       "      <td>-0.00</td>\n",
       "      <td>0.90</td>\n",
       "    </tr>\n",
       "    <tr>\n",
       "      <th>closest_distance_to_top_school</th>\n",
       "      <td>-0.42</td>\n",
       "      <td>0.02</td>\n",
       "      <td>-0.03</td>\n",
       "      <td>-0.68</td>\n",
       "      <td>0.01</td>\n",
       "      <td>0.01</td>\n",
       "      <td>1.00</td>\n",
       "      <td>0.35</td>\n",
       "      <td>0.66</td>\n",
       "      <td>0.86</td>\n",
       "      <td>0.25</td>\n",
       "      <td>0.57</td>\n",
       "      <td>0.01</td>\n",
       "    </tr>\n",
       "    <tr>\n",
       "      <th>closest_distance_to_great_coffee</th>\n",
       "      <td>-0.20</td>\n",
       "      <td>-0.13</td>\n",
       "      <td>-0.14</td>\n",
       "      <td>-0.16</td>\n",
       "      <td>-0.35</td>\n",
       "      <td>0.01</td>\n",
       "      <td>0.35</td>\n",
       "      <td>1.00</td>\n",
       "      <td>0.14</td>\n",
       "      <td>0.17</td>\n",
       "      <td>0.92</td>\n",
       "      <td>-0.04</td>\n",
       "      <td>0.02</td>\n",
       "    </tr>\n",
       "    <tr>\n",
       "      <th>closest_distance_to_scientology</th>\n",
       "      <td>-0.34</td>\n",
       "      <td>0.17</td>\n",
       "      <td>0.11</td>\n",
       "      <td>-0.73</td>\n",
       "      <td>0.63</td>\n",
       "      <td>-0.01</td>\n",
       "      <td>0.66</td>\n",
       "      <td>0.14</td>\n",
       "      <td>1.00</td>\n",
       "      <td>0.66</td>\n",
       "      <td>0.03</td>\n",
       "      <td>0.93</td>\n",
       "      <td>-0.00</td>\n",
       "    </tr>\n",
       "    <tr>\n",
       "      <th>log_school</th>\n",
       "      <td>-0.41</td>\n",
       "      <td>0.08</td>\n",
       "      <td>0.01</td>\n",
       "      <td>-0.63</td>\n",
       "      <td>0.13</td>\n",
       "      <td>0.00</td>\n",
       "      <td>0.86</td>\n",
       "      <td>0.17</td>\n",
       "      <td>0.66</td>\n",
       "      <td>1.00</td>\n",
       "      <td>0.12</td>\n",
       "      <td>0.63</td>\n",
       "      <td>0.00</td>\n",
       "    </tr>\n",
       "    <tr>\n",
       "      <th>log_coffee</th>\n",
       "      <td>-0.17</td>\n",
       "      <td>-0.12</td>\n",
       "      <td>-0.12</td>\n",
       "      <td>-0.07</td>\n",
       "      <td>-0.39</td>\n",
       "      <td>0.01</td>\n",
       "      <td>0.25</td>\n",
       "      <td>0.92</td>\n",
       "      <td>0.03</td>\n",
       "      <td>0.12</td>\n",
       "      <td>1.00</td>\n",
       "      <td>-0.13</td>\n",
       "      <td>0.01</td>\n",
       "    </tr>\n",
       "    <tr>\n",
       "      <th>log_scientology</th>\n",
       "      <td>-0.33</td>\n",
       "      <td>0.20</td>\n",
       "      <td>0.13</td>\n",
       "      <td>-0.63</td>\n",
       "      <td>0.62</td>\n",
       "      <td>-0.00</td>\n",
       "      <td>0.57</td>\n",
       "      <td>-0.04</td>\n",
       "      <td>0.93</td>\n",
       "      <td>0.63</td>\n",
       "      <td>-0.13</td>\n",
       "      <td>1.00</td>\n",
       "      <td>-0.00</td>\n",
       "    </tr>\n",
       "    <tr>\n",
       "      <th>log_park</th>\n",
       "      <td>0.01</td>\n",
       "      <td>0.02</td>\n",
       "      <td>0.02</td>\n",
       "      <td>0.00</td>\n",
       "      <td>-0.01</td>\n",
       "      <td>0.90</td>\n",
       "      <td>0.01</td>\n",
       "      <td>0.02</td>\n",
       "      <td>-0.00</td>\n",
       "      <td>0.00</td>\n",
       "      <td>0.01</td>\n",
       "      <td>-0.00</td>\n",
       "      <td>1.00</td>\n",
       "    </tr>\n",
       "  </tbody>\n",
       "</table>\n",
       "</div>"
      ],
      "text/plain": [
       "                                  price  sqft_living  grade   lat  long  \\\n",
       "price                              1.00         0.56   0.57  0.45  0.07   \n",
       "sqft_living                        0.56         1.00   0.68 -0.02  0.27   \n",
       "grade                              0.57         0.68   1.00  0.05  0.25   \n",
       "lat                                0.45        -0.02   0.05  1.00 -0.13   \n",
       "long                               0.07         0.27   0.25 -0.13  1.00   \n",
       "min_dist_park                      0.01         0.01   0.01  0.01 -0.01   \n",
       "closest_distance_to_top_school    -0.42         0.02  -0.03 -0.68  0.01   \n",
       "closest_distance_to_great_coffee  -0.20        -0.13  -0.14 -0.16 -0.35   \n",
       "closest_distance_to_scientology   -0.34         0.17   0.11 -0.73  0.63   \n",
       "log_school                        -0.41         0.08   0.01 -0.63  0.13   \n",
       "log_coffee                        -0.17        -0.12  -0.12 -0.07 -0.39   \n",
       "log_scientology                   -0.33         0.20   0.13 -0.63  0.62   \n",
       "log_park                           0.01         0.02   0.02  0.00 -0.01   \n",
       "\n",
       "                                  min_dist_park  \\\n",
       "price                                      0.01   \n",
       "sqft_living                                0.01   \n",
       "grade                                      0.01   \n",
       "lat                                        0.01   \n",
       "long                                      -0.01   \n",
       "min_dist_park                              1.00   \n",
       "closest_distance_to_top_school             0.01   \n",
       "closest_distance_to_great_coffee           0.01   \n",
       "closest_distance_to_scientology           -0.01   \n",
       "log_school                                 0.00   \n",
       "log_coffee                                 0.01   \n",
       "log_scientology                           -0.00   \n",
       "log_park                                   0.90   \n",
       "\n",
       "                                  closest_distance_to_top_school  \\\n",
       "price                                                      -0.42   \n",
       "sqft_living                                                 0.02   \n",
       "grade                                                      -0.03   \n",
       "lat                                                        -0.68   \n",
       "long                                                        0.01   \n",
       "min_dist_park                                               0.01   \n",
       "closest_distance_to_top_school                              1.00   \n",
       "closest_distance_to_great_coffee                            0.35   \n",
       "closest_distance_to_scientology                             0.66   \n",
       "log_school                                                  0.86   \n",
       "log_coffee                                                  0.25   \n",
       "log_scientology                                             0.57   \n",
       "log_park                                                    0.01   \n",
       "\n",
       "                                  closest_distance_to_great_coffee  \\\n",
       "price                                                        -0.20   \n",
       "sqft_living                                                  -0.13   \n",
       "grade                                                        -0.14   \n",
       "lat                                                          -0.16   \n",
       "long                                                         -0.35   \n",
       "min_dist_park                                                 0.01   \n",
       "closest_distance_to_top_school                                0.35   \n",
       "closest_distance_to_great_coffee                              1.00   \n",
       "closest_distance_to_scientology                               0.14   \n",
       "log_school                                                    0.17   \n",
       "log_coffee                                                    0.92   \n",
       "log_scientology                                              -0.04   \n",
       "log_park                                                      0.02   \n",
       "\n",
       "                                  closest_distance_to_scientology  log_school  \\\n",
       "price                                                       -0.34       -0.41   \n",
       "sqft_living                                                  0.17        0.08   \n",
       "grade                                                        0.11        0.01   \n",
       "lat                                                         -0.73       -0.63   \n",
       "long                                                         0.63        0.13   \n",
       "min_dist_park                                               -0.01        0.00   \n",
       "closest_distance_to_top_school                               0.66        0.86   \n",
       "closest_distance_to_great_coffee                             0.14        0.17   \n",
       "closest_distance_to_scientology                              1.00        0.66   \n",
       "log_school                                                   0.66        1.00   \n",
       "log_coffee                                                   0.03        0.12   \n",
       "log_scientology                                              0.93        0.63   \n",
       "log_park                                                    -0.00        0.00   \n",
       "\n",
       "                                  log_coffee  log_scientology  log_park  \n",
       "price                                  -0.17            -0.33      0.01  \n",
       "sqft_living                            -0.12             0.20      0.02  \n",
       "grade                                  -0.12             0.13      0.02  \n",
       "lat                                    -0.07            -0.63      0.00  \n",
       "long                                   -0.39             0.62     -0.01  \n",
       "min_dist_park                           0.01            -0.00      0.90  \n",
       "closest_distance_to_top_school          0.25             0.57      0.01  \n",
       "closest_distance_to_great_coffee        0.92            -0.04      0.02  \n",
       "closest_distance_to_scientology         0.03             0.93     -0.00  \n",
       "log_school                              0.12             0.63      0.00  \n",
       "log_coffee                              1.00            -0.13      0.01  \n",
       "log_scientology                        -0.13             1.00     -0.00  \n",
       "log_park                                0.01            -0.00      1.00  "
      ]
     },
     "execution_count": 27,
     "metadata": {},
     "output_type": "execute_result"
    }
   ],
   "source": [
    "df.corr()"
   ]
  },
  {
   "cell_type": "code",
   "execution_count": 28,
   "metadata": {
    "scrolled": false
   },
   "outputs": [
    {
     "name": "stdout",
     "output_type": "stream",
     "text": [
      "R^2:  0.5829541835503621\n"
     ]
    }
   ],
   "source": [
    "# creating an interaction column for school and scientology\n",
    "# because there is multicolinearity\n",
    "df['interaction'] = df['log_school'] * df['log_scientology']\n",
    "\n",
    "features = ['sqft_living', 'log_school', 'log_scientology', 'log_coffee', 'log_park', 'interaction']\n",
    "target = ['price']\n",
    "\n",
    "X = df[features]\n",
    "y = df[target]\n",
    "\n",
    "# running an iteration of the model with interaction column and using train_test_split\n",
    "X_train, X_test, y_train, y_test = train_test_split(X,y, random_state=1)\n",
    "\n",
    "lm6 = LinearRegression().fit(X_train, y_train)\n",
    "lm6_preds = lm6.predict(X_test)\n",
    "\n",
    "print('R^2: ', r2_score(y_test, lm6_preds))"
   ]
  },
  {
   "cell_type": "code",
   "execution_count": 29,
   "metadata": {},
   "outputs": [
    {
     "data": {
      "text/html": [
       "<table class=\"simpletable\">\n",
       "<caption>OLS Regression Results</caption>\n",
       "<tr>\n",
       "  <th>Dep. Variable:</th>          <td>price</td>      <th>  R-squared:         </th>  <td>   0.571</td>  \n",
       "</tr>\n",
       "<tr>\n",
       "  <th>Model:</th>                   <td>OLS</td>       <th>  Adj. R-squared:    </th>  <td>   0.571</td>  \n",
       "</tr>\n",
       "<tr>\n",
       "  <th>Method:</th>             <td>Least Squares</td>  <th>  F-statistic:       </th>  <td>   3660.</td>  \n",
       "</tr>\n",
       "<tr>\n",
       "  <th>Date:</th>             <td>Mon, 14 Dec 2020</td> <th>  Prob (F-statistic):</th>   <td>  0.00</td>   \n",
       "</tr>\n",
       "<tr>\n",
       "  <th>Time:</th>                 <td>16:15:20</td>     <th>  Log-Likelihood:    </th> <td>-2.1585e+05</td>\n",
       "</tr>\n",
       "<tr>\n",
       "  <th>No. Observations:</th>      <td> 16493</td>      <th>  AIC:               </th>  <td>4.317e+05</td> \n",
       "</tr>\n",
       "<tr>\n",
       "  <th>Df Residuals:</th>          <td> 16486</td>      <th>  BIC:               </th>  <td>4.318e+05</td> \n",
       "</tr>\n",
       "<tr>\n",
       "  <th>Df Model:</th>              <td>     6</td>      <th>                     </th>      <td> </td>     \n",
       "</tr>\n",
       "<tr>\n",
       "  <th>Covariance Type:</th>      <td>nonrobust</td>    <th>                     </th>      <td> </td>     \n",
       "</tr>\n",
       "</table>\n",
       "<table class=\"simpletable\">\n",
       "<tr>\n",
       "         <td></td>            <th>coef</th>     <th>std err</th>      <th>t</th>      <th>P>|t|</th>  <th>[0.025</th>    <th>0.975]</th>  \n",
       "</tr>\n",
       "<tr>\n",
       "  <th>Intercept</th>       <td> 4.225e+05</td> <td> 6273.423</td> <td>   67.355</td> <td> 0.000</td> <td>  4.1e+05</td> <td> 4.35e+05</td>\n",
       "</tr>\n",
       "<tr>\n",
       "  <th>sqft_living</th>     <td>  157.0602</td> <td>    1.317</td> <td>  119.289</td> <td> 0.000</td> <td>  154.479</td> <td>  159.641</td>\n",
       "</tr>\n",
       "<tr>\n",
       "  <th>log_school</th>      <td>-2.253e+04</td> <td> 3990.855</td> <td>   -5.646</td> <td> 0.000</td> <td>-3.04e+04</td> <td>-1.47e+04</td>\n",
       "</tr>\n",
       "<tr>\n",
       "  <th>log_scientology</th> <td>-7.487e+04</td> <td> 1692.627</td> <td>  -44.233</td> <td> 0.000</td> <td>-7.82e+04</td> <td>-7.16e+04</td>\n",
       "</tr>\n",
       "<tr>\n",
       "  <th>log_coffee</th>      <td>-2.336e+04</td> <td> 1481.665</td> <td>  -15.764</td> <td> 0.000</td> <td>-2.63e+04</td> <td>-2.05e+04</td>\n",
       "</tr>\n",
       "<tr>\n",
       "  <th>log_park</th>        <td> -614.3072</td> <td> 1211.444</td> <td>   -0.507</td> <td> 0.612</td> <td>-2988.867</td> <td> 1760.253</td>\n",
       "</tr>\n",
       "<tr>\n",
       "  <th>interaction</th>     <td>-4698.4477</td> <td> 1296.483</td> <td>   -3.624</td> <td> 0.000</td> <td>-7239.695</td> <td>-2157.201</td>\n",
       "</tr>\n",
       "</table>\n",
       "<table class=\"simpletable\">\n",
       "<tr>\n",
       "  <th>Omnibus:</th>       <td>340.469</td> <th>  Durbin-Watson:     </th> <td>   1.987</td>\n",
       "</tr>\n",
       "<tr>\n",
       "  <th>Prob(Omnibus):</th> <td> 0.000</td>  <th>  Jarque-Bera (JB):  </th> <td> 419.739</td>\n",
       "</tr>\n",
       "<tr>\n",
       "  <th>Skew:</th>          <td> 0.286</td>  <th>  Prob(JB):          </th> <td>7.16e-92</td>\n",
       "</tr>\n",
       "<tr>\n",
       "  <th>Kurtosis:</th>      <td> 3.533</td>  <th>  Cond. No.          </th> <td>1.46e+04</td>\n",
       "</tr>\n",
       "</table><br/><br/>Warnings:<br/>[1] Standard Errors assume that the covariance matrix of the errors is correctly specified.<br/>[2] The condition number is large, 1.46e+04. This might indicate that there are<br/>strong multicollinearity or other numerical problems."
      ],
      "text/plain": [
       "<class 'statsmodels.iolib.summary.Summary'>\n",
       "\"\"\"\n",
       "                            OLS Regression Results                            \n",
       "==============================================================================\n",
       "Dep. Variable:                  price   R-squared:                       0.571\n",
       "Model:                            OLS   Adj. R-squared:                  0.571\n",
       "Method:                 Least Squares   F-statistic:                     3660.\n",
       "Date:                Mon, 14 Dec 2020   Prob (F-statistic):               0.00\n",
       "Time:                        16:15:20   Log-Likelihood:            -2.1585e+05\n",
       "No. Observations:               16493   AIC:                         4.317e+05\n",
       "Df Residuals:                   16486   BIC:                         4.318e+05\n",
       "Df Model:                           6                                         \n",
       "Covariance Type:            nonrobust                                         \n",
       "===================================================================================\n",
       "                      coef    std err          t      P>|t|      [0.025      0.975]\n",
       "-----------------------------------------------------------------------------------\n",
       "Intercept        4.225e+05   6273.423     67.355      0.000     4.1e+05    4.35e+05\n",
       "sqft_living       157.0602      1.317    119.289      0.000     154.479     159.641\n",
       "log_school      -2.253e+04   3990.855     -5.646      0.000   -3.04e+04   -1.47e+04\n",
       "log_scientology -7.487e+04   1692.627    -44.233      0.000   -7.82e+04   -7.16e+04\n",
       "log_coffee      -2.336e+04   1481.665    -15.764      0.000   -2.63e+04   -2.05e+04\n",
       "log_park         -614.3072   1211.444     -0.507      0.612   -2988.867    1760.253\n",
       "interaction     -4698.4477   1296.483     -3.624      0.000   -7239.695   -2157.201\n",
       "==============================================================================\n",
       "Omnibus:                      340.469   Durbin-Watson:                   1.987\n",
       "Prob(Omnibus):                  0.000   Jarque-Bera (JB):              419.739\n",
       "Skew:                           0.286   Prob(JB):                     7.16e-92\n",
       "Kurtosis:                       3.533   Cond. No.                     1.46e+04\n",
       "==============================================================================\n",
       "\n",
       "Warnings:\n",
       "[1] Standard Errors assume that the covariance matrix of the errors is correctly specified.\n",
       "[2] The condition number is large, 1.46e+04. This might indicate that there are\n",
       "strong multicollinearity or other numerical problems.\n",
       "\"\"\""
      ]
     },
     "execution_count": 29,
     "metadata": {},
     "output_type": "execute_result"
    }
   ],
   "source": [
    "formula = \"price ~ sqft_living+log_school+log_scientology+log_coffee+log_park+interaction\"\n",
    "model = ols(formula= formula, data=df).fit()\n",
    "model.summary()"
   ]
  },
  {
   "cell_type": "code",
   "execution_count": 30,
   "metadata": {
    "scrolled": false
   },
   "outputs": [
    {
     "name": "stderr",
     "output_type": "stream",
     "text": [
      "/Users/dtunnicliffe/anaconda3/envs/learn-env/lib/python3.6/site-packages/numpy/core/fromnumeric.py:2580: FutureWarning: Method .ptp is deprecated and will be removed in a future version. Use numpy.ptp instead.\n",
      "  return ptp(axis=axis, out=out, **kwargs)\n"
     ]
    }
   ],
   "source": [
    "y_predict = lm6.predict(X_test)\n",
    "\n",
    "X2 = sm.add_constant(X)\n",
    "\n",
    "# create an OLS model\n",
    "model = sm.OLS(y, X2)\n",
    "\n",
    "# fit the data\n",
    "est = model.fit()"
   ]
  },
  {
   "cell_type": "code",
   "execution_count": 31,
   "metadata": {
    "scrolled": false
   },
   "outputs": [
    {
     "data": {
      "image/png": "[encoded data removed]",
      "text/plain": [
       "<Figure size 432x288 with 1 Axes>"
      ]
     },
     "metadata": {
      "needs_background": "light"
     },
     "output_type": "display_data"
    },
    {
     "name": "stdout",
     "output_type": "stream",
     "text": [
      "The mean of the residuals is -4.469e-08\n"
     ]
    }
   ],
   "source": [
    "# check for the normality of the residuals\n",
    "sm.qqplot(est.resid, line='s')\n",
    "pylab.show()\n",
    "\n",
    "# also check that the mean of the residuals is approx. 0.\n",
    "mean_residuals = sum(est.resid)/ len(est.resid)\n",
    "print(\"The mean of the residuals is {:.4}\".format(mean_residuals))"
   ]
  },
  {
   "cell_type": "markdown",
   "metadata": {},
   "source": [
    "This is the best one so far. The model improves when we add an interaction feature. "
   ]
  },
  {
   "cell_type": "markdown",
   "metadata": {},
   "source": [
    "## Model #7  \n",
    "\n",
    "We wanted to include 'grade' as a feature. This is a categorical variable found in the kc_housing dataset. The breakdown for the meaning of each grade designation can be found at https://info.kingcounty.gov/assessor/esales/Glossary.aspx?type=r under 'Building Grade.'"
   ]
  },
  {
   "cell_type": "code",
   "execution_count": 32,
   "metadata": {
    "scrolled": true
   },
   "outputs": [],
   "source": [
    "# creating categorical dummy variables for grade\n",
    "grade_dums = pd.get_dummies(df.grade, prefix='grade', drop_first=True)"
   ]
  },
  {
   "cell_type": "code",
   "execution_count": 33,
   "metadata": {
    "scrolled": true
   },
   "outputs": [],
   "source": [
    "# dropping original grade column\n",
    "df = df.drop(['grade'], axis=1)\n",
    "df_with_grade = pd.concat([df, grade_dums], axis=1)"
   ]
  },
  {
   "cell_type": "code",
   "execution_count": 34,
   "metadata": {
    "scrolled": false
   },
   "outputs": [
    {
     "name": "stdout",
     "output_type": "stream",
     "text": [
      "R^2:  0.645159498938133\n"
     ]
    }
   ],
   "source": [
    "features = ['sqft_living', 'log_coffee', 'log_park', 'interaction', 'log_school', 'log_scientology', 'grade_4', 'grade_5', 'grade_6', 'grade_7', 'grade_8', 'grade_9', 'grade_10', 'grade_11']\n",
    "target = ['price']\n",
    "X = df_with_grade[features]\n",
    "y = df_with_grade[target]\n",
    "\n",
    "# running an iteration of the model with interaction column and using train_test_split\n",
    "X_train, X_test, y_train, y_test = train_test_split(X,y, random_state=1)\n",
    "\n",
    "lm7 = LinearRegression().fit(X_train, y_train)\n",
    "lm7_preds = lm7.predict(X_test)\n",
    "\n",
    "print('R^2: ', r2_score(y_test, lm7_preds))"
   ]
  },
  {
   "cell_type": "code",
   "execution_count": 35,
   "metadata": {},
   "outputs": [
    {
     "data": {
      "text/html": [
       "<table class=\"simpletable\">\n",
       "<caption>OLS Regression Results</caption>\n",
       "<tr>\n",
       "  <th>Dep. Variable:</th>          <td>price</td>      <th>  R-squared:         </th>  <td>   0.637</td>  \n",
       "</tr>\n",
       "<tr>\n",
       "  <th>Model:</th>                   <td>OLS</td>       <th>  Adj. R-squared:    </th>  <td>   0.637</td>  \n",
       "</tr>\n",
       "<tr>\n",
       "  <th>Method:</th>             <td>Least Squares</td>  <th>  F-statistic:       </th>  <td>   2067.</td>  \n",
       "</tr>\n",
       "<tr>\n",
       "  <th>Date:</th>             <td>Mon, 14 Dec 2020</td> <th>  Prob (F-statistic):</th>   <td>  0.00</td>   \n",
       "</tr>\n",
       "<tr>\n",
       "  <th>Time:</th>                 <td>16:15:21</td>     <th>  Log-Likelihood:    </th> <td>-2.1447e+05</td>\n",
       "</tr>\n",
       "<tr>\n",
       "  <th>No. Observations:</th>      <td> 16493</td>      <th>  AIC:               </th>  <td>4.290e+05</td> \n",
       "</tr>\n",
       "<tr>\n",
       "  <th>Df Residuals:</th>          <td> 16478</td>      <th>  BIC:               </th>  <td>4.291e+05</td> \n",
       "</tr>\n",
       "<tr>\n",
       "  <th>Df Model:</th>              <td>    14</td>      <th>                     </th>      <td> </td>     \n",
       "</tr>\n",
       "<tr>\n",
       "  <th>Covariance Type:</th>      <td>nonrobust</td>    <th>                     </th>      <td> </td>     \n",
       "</tr>\n",
       "</table>\n",
       "<table class=\"simpletable\">\n",
       "<tr>\n",
       "         <td></td>            <th>coef</th>     <th>std err</th>      <th>t</th>      <th>P>|t|</th>  <th>[0.025</th>    <th>0.975]</th>  \n",
       "</tr>\n",
       "<tr>\n",
       "  <th>Intercept</th>       <td> 7.345e+05</td> <td> 7.64e+04</td> <td>    9.611</td> <td> 0.000</td> <td> 5.85e+05</td> <td> 8.84e+05</td>\n",
       "</tr>\n",
       "<tr>\n",
       "  <th>sqft_living</th>     <td>   98.8114</td> <td>    1.628</td> <td>   60.706</td> <td> 0.000</td> <td>   95.621</td> <td>  102.002</td>\n",
       "</tr>\n",
       "<tr>\n",
       "  <th>log_coffee</th>      <td>-2.003e+04</td> <td> 1366.438</td> <td>  -14.659</td> <td> 0.000</td> <td>-2.27e+04</td> <td>-1.74e+04</td>\n",
       "</tr>\n",
       "<tr>\n",
       "  <th>log_park</th>        <td> -830.0526</td> <td> 1114.775</td> <td>   -0.745</td> <td> 0.457</td> <td>-3015.133</td> <td> 1355.027</td>\n",
       "</tr>\n",
       "<tr>\n",
       "  <th>interaction</th>     <td>-4668.2504</td> <td> 1194.866</td> <td>   -3.907</td> <td> 0.000</td> <td>-7010.316</td> <td>-2326.185</td>\n",
       "</tr>\n",
       "<tr>\n",
       "  <th>log_school</th>      <td>-1.929e+04</td> <td> 3676.138</td> <td>   -5.247</td> <td> 0.000</td> <td>-2.65e+04</td> <td>-1.21e+04</td>\n",
       "</tr>\n",
       "<tr>\n",
       "  <th>log_scientology</th> <td>-7.909e+04</td> <td> 1563.383</td> <td>  -50.589</td> <td> 0.000</td> <td>-8.22e+04</td> <td> -7.6e+04</td>\n",
       "</tr>\n",
       "<tr>\n",
       "  <th>grade_4</th>         <td>-2.206e+05</td> <td>  8.1e+04</td> <td>   -2.723</td> <td> 0.006</td> <td>-3.79e+05</td> <td>-6.18e+04</td>\n",
       "</tr>\n",
       "<tr>\n",
       "  <th>grade_5</th>         <td>-2.583e+05</td> <td> 7.65e+04</td> <td>   -3.375</td> <td> 0.001</td> <td>-4.08e+05</td> <td>-1.08e+05</td>\n",
       "</tr>\n",
       "<tr>\n",
       "  <th>grade_6</th>         <td>-2.791e+05</td> <td> 7.61e+04</td> <td>   -3.666</td> <td> 0.000</td> <td>-4.28e+05</td> <td> -1.3e+05</td>\n",
       "</tr>\n",
       "<tr>\n",
       "  <th>grade_7</th>         <td>-2.312e+05</td> <td> 7.61e+04</td> <td>   -3.039</td> <td> 0.002</td> <td> -3.8e+05</td> <td>-8.21e+04</td>\n",
       "</tr>\n",
       "<tr>\n",
       "  <th>grade_8</th>         <td>-1.638e+05</td> <td> 7.61e+04</td> <td>   -2.154</td> <td> 0.031</td> <td>-3.13e+05</td> <td>-1.48e+04</td>\n",
       "</tr>\n",
       "<tr>\n",
       "  <th>grade_9</th>         <td>-8.024e+04</td> <td> 7.61e+04</td> <td>   -1.054</td> <td> 0.292</td> <td>-2.29e+05</td> <td> 6.89e+04</td>\n",
       "</tr>\n",
       "<tr>\n",
       "  <th>grade_10</th>        <td>-2.103e+04</td> <td> 7.62e+04</td> <td>   -0.276</td> <td> 0.783</td> <td> -1.7e+05</td> <td> 1.28e+05</td>\n",
       "</tr>\n",
       "<tr>\n",
       "  <th>grade_11</th>        <td> 1.239e+04</td> <td> 7.78e+04</td> <td>    0.159</td> <td> 0.874</td> <td> -1.4e+05</td> <td> 1.65e+05</td>\n",
       "</tr>\n",
       "</table>\n",
       "<table class=\"simpletable\">\n",
       "<tr>\n",
       "  <th>Omnibus:</th>       <td>730.120</td> <th>  Durbin-Watson:     </th> <td>   1.997</td> \n",
       "</tr>\n",
       "<tr>\n",
       "  <th>Prob(Omnibus):</th> <td> 0.000</td>  <th>  Jarque-Bera (JB):  </th> <td> 993.894</td> \n",
       "</tr>\n",
       "<tr>\n",
       "  <th>Skew:</th>          <td> 0.441</td>  <th>  Prob(JB):          </th> <td>1.51e-216</td>\n",
       "</tr>\n",
       "<tr>\n",
       "  <th>Kurtosis:</th>      <td> 3.817</td>  <th>  Cond. No.          </th> <td>5.59e+05</td> \n",
       "</tr>\n",
       "</table><br/><br/>Warnings:<br/>[1] Standard Errors assume that the covariance matrix of the errors is correctly specified.<br/>[2] The condition number is large, 5.59e+05. This might indicate that there are<br/>strong multicollinearity or other numerical problems."
      ],
      "text/plain": [
       "<class 'statsmodels.iolib.summary.Summary'>\n",
       "\"\"\"\n",
       "                            OLS Regression Results                            \n",
       "==============================================================================\n",
       "Dep. Variable:                  price   R-squared:                       0.637\n",
       "Model:                            OLS   Adj. R-squared:                  0.637\n",
       "Method:                 Least Squares   F-statistic:                     2067.\n",
       "Date:                Mon, 14 Dec 2020   Prob (F-statistic):               0.00\n",
       "Time:                        16:15:21   Log-Likelihood:            -2.1447e+05\n",
       "No. Observations:               16493   AIC:                         4.290e+05\n",
       "Df Residuals:                   16478   BIC:                         4.291e+05\n",
       "Df Model:                          14                                         \n",
       "Covariance Type:            nonrobust                                         \n",
       "===================================================================================\n",
       "                      coef    std err          t      P>|t|      [0.025      0.975]\n",
       "-----------------------------------------------------------------------------------\n",
       "Intercept        7.345e+05   7.64e+04      9.611      0.000    5.85e+05    8.84e+05\n",
       "sqft_living        98.8114      1.628     60.706      0.000      95.621     102.002\n",
       "log_coffee      -2.003e+04   1366.438    -14.659      0.000   -2.27e+04   -1.74e+04\n",
       "log_park         -830.0526   1114.775     -0.745      0.457   -3015.133    1355.027\n",
       "interaction     -4668.2504   1194.866     -3.907      0.000   -7010.316   -2326.185\n",
       "log_school      -1.929e+04   3676.138     -5.247      0.000   -2.65e+04   -1.21e+04\n",
       "log_scientology -7.909e+04   1563.383    -50.589      0.000   -8.22e+04    -7.6e+04\n",
       "grade_4         -2.206e+05    8.1e+04     -2.723      0.006   -3.79e+05   -6.18e+04\n",
       "grade_5         -2.583e+05   7.65e+04     -3.375      0.001   -4.08e+05   -1.08e+05\n",
       "grade_6         -2.791e+05   7.61e+04     -3.666      0.000   -4.28e+05    -1.3e+05\n",
       "grade_7         -2.312e+05   7.61e+04     -3.039      0.002    -3.8e+05   -8.21e+04\n",
       "grade_8         -1.638e+05   7.61e+04     -2.154      0.031   -3.13e+05   -1.48e+04\n",
       "grade_9         -8.024e+04   7.61e+04     -1.054      0.292   -2.29e+05    6.89e+04\n",
       "grade_10        -2.103e+04   7.62e+04     -0.276      0.783    -1.7e+05    1.28e+05\n",
       "grade_11         1.239e+04   7.78e+04      0.159      0.874    -1.4e+05    1.65e+05\n",
       "==============================================================================\n",
       "Omnibus:                      730.120   Durbin-Watson:                   1.997\n",
       "Prob(Omnibus):                  0.000   Jarque-Bera (JB):              993.894\n",
       "Skew:                           0.441   Prob(JB):                    1.51e-216\n",
       "Kurtosis:                       3.817   Cond. No.                     5.59e+05\n",
       "==============================================================================\n",
       "\n",
       "Warnings:\n",
       "[1] Standard Errors assume that the covariance matrix of the errors is correctly specified.\n",
       "[2] The condition number is large, 5.59e+05. This might indicate that there are\n",
       "strong multicollinearity or other numerical problems.\n",
       "\"\"\""
      ]
     },
     "execution_count": 35,
     "metadata": {},
     "output_type": "execute_result"
    }
   ],
   "source": [
    "formula = \"price ~ sqft_living+log_coffee+log_park+interaction+log_school+log_scientology+grade_4+grade_5+grade_6+grade_7+grade_8+grade_9+grade_10+grade_11\"\n",
    "model = ols(formula= formula, data=df_with_grade).fit()\n",
    "model.summary()"
   ]
  },
  {
   "cell_type": "code",
   "execution_count": 36,
   "metadata": {
    "scrolled": false
   },
   "outputs": [
    {
     "name": "stderr",
     "output_type": "stream",
     "text": [
      "/Users/dtunnicliffe/anaconda3/envs/learn-env/lib/python3.6/site-packages/numpy/core/fromnumeric.py:2580: FutureWarning: Method .ptp is deprecated and will be removed in a future version. Use numpy.ptp instead.\n",
      "  return ptp(axis=axis, out=out, **kwargs)\n"
     ]
    }
   ],
   "source": [
    "y_predict = lm7.predict(X_test)\n",
    "\n",
    "X2 = sm.add_constant(X)\n",
    "\n",
    "# create an OLS model\n",
    "model = sm.OLS(y, X2)\n",
    "\n",
    "# fit the data\n",
    "est = model.fit()"
   ]
  },
  {
   "cell_type": "code",
   "execution_count": 37,
   "metadata": {
    "scrolled": false
   },
   "outputs": [
    {
     "data": {
      "image/png": "[encoded data removed]",
      "text/plain": [
       "<Figure size 432x288 with 1 Axes>"
      ]
     },
     "metadata": {
      "needs_background": "light"
     },
     "output_type": "display_data"
    },
    {
     "name": "stdout",
     "output_type": "stream",
     "text": [
      "The mean of the residuals is -4.565e-08\n"
     ]
    }
   ],
   "source": [
    "# check for the normality of the residuals\n",
    "sm.qqplot(est.resid, line='s')\n",
    "pylab.show()\n",
    "\n",
    "# also check that the mean of the residuals is approx. 0.\n",
    "mean_residuals = sum(est.resid)/ len(est.resid)\n",
    "print(\"The mean of the residuals is {:.4}\".format(mean_residuals))"
   ]
  },
  {
   "cell_type": "markdown",
   "metadata": {},
   "source": [
    "This has once again improved with the addition of the grade column."
   ]
  },
  {
   "cell_type": "markdown",
   "metadata": {},
   "source": [
    "## Model #8  \n",
    "\n",
    "We then experimented with a quantile transformation of our data, as opposed to a log-transformation."
   ]
  },
  {
   "cell_type": "code",
   "execution_count": 38,
   "metadata": {
    "scrolled": false
   },
   "outputs": [
    {
     "data": {
      "text/html": [
       "<div>\n",
       "<style scoped>\n",
       "    .dataframe tbody tr th:only-of-type {\n",
       "        vertical-align: middle;\n",
       "    }\n",
       "\n",
       "    .dataframe tbody tr th {\n",
       "        vertical-align: top;\n",
       "    }\n",
       "\n",
       "    .dataframe thead th {\n",
       "        text-align: right;\n",
       "    }\n",
       "</style>\n",
       "<table border=\"1\" class=\"dataframe\">\n",
       "  <thead>\n",
       "    <tr style=\"text-align: right;\">\n",
       "      <th></th>\n",
       "      <th>price</th>\n",
       "      <th>sqft_living</th>\n",
       "      <th>lat</th>\n",
       "      <th>long</th>\n",
       "      <th>min_dist_park</th>\n",
       "      <th>closest_distance_to_top_school</th>\n",
       "      <th>closest_distance_to_great_coffee</th>\n",
       "      <th>closest_distance_to_scientology</th>\n",
       "      <th>log_school</th>\n",
       "      <th>log_coffee</th>\n",
       "      <th>...</th>\n",
       "      <th>grade_4</th>\n",
       "      <th>grade_5</th>\n",
       "      <th>grade_6</th>\n",
       "      <th>grade_7</th>\n",
       "      <th>grade_8</th>\n",
       "      <th>grade_9</th>\n",
       "      <th>grade_10</th>\n",
       "      <th>grade_11</th>\n",
       "      <th>grade_12</th>\n",
       "      <th>interaction</th>\n",
       "    </tr>\n",
       "  </thead>\n",
       "  <tbody>\n",
       "    <tr>\n",
       "      <th>0</th>\n",
       "      <td>-1.60</td>\n",
       "      <td>-1.08</td>\n",
       "      <td>47.51</td>\n",
       "      <td>-122.26</td>\n",
       "      <td>-0.31</td>\n",
       "      <td>-1.61</td>\n",
       "      <td>-0.93</td>\n",
       "      <td>-0.24</td>\n",
       "      <td>-1.34</td>\n",
       "      <td>1.60</td>\n",
       "      <td>...</td>\n",
       "      <td>0</td>\n",
       "      <td>0</td>\n",
       "      <td>0</td>\n",
       "      <td>1</td>\n",
       "      <td>0</td>\n",
       "      <td>0</td>\n",
       "      <td>0</td>\n",
       "      <td>0</td>\n",
       "      <td>0</td>\n",
       "      <td>0.38</td>\n",
       "    </tr>\n",
       "    <tr>\n",
       "      <th>1</th>\n",
       "      <td>0.49</td>\n",
       "      <td>0.94</td>\n",
       "      <td>47.72</td>\n",
       "      <td>-122.32</td>\n",
       "      <td>0.92</td>\n",
       "      <td>-0.50</td>\n",
       "      <td>0.71</td>\n",
       "      <td>-0.40</td>\n",
       "      <td>-0.38</td>\n",
       "      <td>2.70</td>\n",
       "      <td>...</td>\n",
       "      <td>0</td>\n",
       "      <td>0</td>\n",
       "      <td>0</td>\n",
       "      <td>1</td>\n",
       "      <td>0</td>\n",
       "      <td>0</td>\n",
       "      <td>0</td>\n",
       "      <td>0</td>\n",
       "      <td>0</td>\n",
       "      <td>0.20</td>\n",
       "    </tr>\n",
       "    <tr>\n",
       "      <th>2</th>\n",
       "      <td>-2.54</td>\n",
       "      <td>-2.14</td>\n",
       "      <td>47.74</td>\n",
       "      <td>-122.23</td>\n",
       "      <td>-0.84</td>\n",
       "      <td>0.36</td>\n",
       "      <td>0.09</td>\n",
       "      <td>-0.39</td>\n",
       "      <td>0.69</td>\n",
       "      <td>2.36</td>\n",
       "      <td>...</td>\n",
       "      <td>0</td>\n",
       "      <td>0</td>\n",
       "      <td>1</td>\n",
       "      <td>0</td>\n",
       "      <td>0</td>\n",
       "      <td>0</td>\n",
       "      <td>0</td>\n",
       "      <td>0</td>\n",
       "      <td>0</td>\n",
       "      <td>-0.14</td>\n",
       "    </tr>\n",
       "    <tr>\n",
       "      <th>3</th>\n",
       "      <td>0.78</td>\n",
       "      <td>0.17</td>\n",
       "      <td>47.52</td>\n",
       "      <td>-122.39</td>\n",
       "      <td>-0.08</td>\n",
       "      <td>0.30</td>\n",
       "      <td>0.65</td>\n",
       "      <td>-0.33</td>\n",
       "      <td>0.55</td>\n",
       "      <td>2.67</td>\n",
       "      <td>...</td>\n",
       "      <td>0</td>\n",
       "      <td>0</td>\n",
       "      <td>0</td>\n",
       "      <td>1</td>\n",
       "      <td>0</td>\n",
       "      <td>0</td>\n",
       "      <td>0</td>\n",
       "      <td>0</td>\n",
       "      <td>0</td>\n",
       "      <td>-0.10</td>\n",
       "    </tr>\n",
       "    <tr>\n",
       "      <th>4</th>\n",
       "      <td>0.37</td>\n",
       "      <td>-0.22</td>\n",
       "      <td>47.62</td>\n",
       "      <td>-122.05</td>\n",
       "      <td>0.02</td>\n",
       "      <td>0.08</td>\n",
       "      <td>-0.25</td>\n",
       "      <td>0.37</td>\n",
       "      <td>0.16</td>\n",
       "      <td>2.15</td>\n",
       "      <td>...</td>\n",
       "      <td>0</td>\n",
       "      <td>0</td>\n",
       "      <td>0</td>\n",
       "      <td>0</td>\n",
       "      <td>1</td>\n",
       "      <td>0</td>\n",
       "      <td>0</td>\n",
       "      <td>0</td>\n",
       "      <td>0</td>\n",
       "      <td>0.03</td>\n",
       "    </tr>\n",
       "  </tbody>\n",
       "</table>\n",
       "<p>5 rows × 22 columns</p>\n",
       "</div>"
      ],
      "text/plain": [
       "   price  sqft_living   lat    long  min_dist_park  \\\n",
       "0  -1.60        -1.08 47.51 -122.26          -0.31   \n",
       "1   0.49         0.94 47.72 -122.32           0.92   \n",
       "2  -2.54        -2.14 47.74 -122.23          -0.84   \n",
       "3   0.78         0.17 47.52 -122.39          -0.08   \n",
       "4   0.37        -0.22 47.62 -122.05           0.02   \n",
       "\n",
       "   closest_distance_to_top_school  closest_distance_to_great_coffee  \\\n",
       "0                           -1.61                             -0.93   \n",
       "1                           -0.50                              0.71   \n",
       "2                            0.36                              0.09   \n",
       "3                            0.30                              0.65   \n",
       "4                            0.08                             -0.25   \n",
       "\n",
       "   closest_distance_to_scientology  log_school  log_coffee  ...  grade_4  \\\n",
       "0                            -0.24       -1.34        1.60  ...        0   \n",
       "1                            -0.40       -0.38        2.70  ...        0   \n",
       "2                            -0.39        0.69        2.36  ...        0   \n",
       "3                            -0.33        0.55        2.67  ...        0   \n",
       "4                             0.37        0.16        2.15  ...        0   \n",
       "\n",
       "   grade_5  grade_6  grade_7  grade_8  grade_9  grade_10  grade_11  grade_12  \\\n",
       "0        0        0        1        0        0         0         0         0   \n",
       "1        0        0        1        0        0         0         0         0   \n",
       "2        0        1        0        0        0         0         0         0   \n",
       "3        0        0        1        0        0         0         0         0   \n",
       "4        0        0        0        1        0         0         0         0   \n",
       "\n",
       "   interaction  \n",
       "0         0.38  \n",
       "1         0.20  \n",
       "2        -0.14  \n",
       "3        -0.10  \n",
       "4         0.03  \n",
       "\n",
       "[5 rows x 22 columns]"
      ]
     },
     "execution_count": 38,
     "metadata": {},
     "output_type": "execute_result"
    }
   ],
   "source": [
    "df = pd.read_csv('./data/all_features_quant_transformed.csv', index_col=0)\n",
    "df.head()"
   ]
  },
  {
   "cell_type": "code",
   "execution_count": 39,
   "metadata": {
    "scrolled": true
   },
   "outputs": [],
   "source": [
    "df.drop(columns=['log_school', 'log_coffee', 'log_scientology', 'log_park'] , axis=1, inplace=True)"
   ]
  },
  {
   "cell_type": "code",
   "execution_count": 40,
   "metadata": {},
   "outputs": [
    {
     "data": {
      "image/png": "[encoded data removed]",
      "text/plain": [
       "<Figure size 720x576 with 6 Axes>"
      ]
     },
     "metadata": {
      "needs_background": "light"
     },
     "output_type": "display_data"
    }
   ],
   "source": [
    "# checking the visual distribution of our data with histograms\n",
    "df[['sqft_living', 'closest_distance_to_great_coffee', 'min_dist_park', 'closest_distance_to_top_school', 'closest_distance_to_scientology', 'price']].hist(figsize=(10,8))\n",
    "plt.tight_layout();"
   ]
  },
  {
   "cell_type": "code",
   "execution_count": 41,
   "metadata": {
    "scrolled": true
   },
   "outputs": [
    {
     "name": "stdout",
     "output_type": "stream",
     "text": [
      "R^2:  0.6308144610145117\n"
     ]
    }
   ],
   "source": [
    "features = ['sqft_living', 'closest_distance_to_great_coffee', 'min_dist_park', 'closest_distance_to_top_school', 'closest_distance_to_scientology', 'interaction', 'grade_4', 'grade_5', 'grade_6', 'grade_7', 'grade_8', 'grade_9', 'grade_10', 'grade_11']\n",
    "target = ['price']\n",
    "X = df[features]\n",
    "y = df[target]\n",
    "\n",
    "# running an iteration of the model with quantile transformation and train_test_split\n",
    "X_train, X_test, y_train, y_test = train_test_split(X,y, random_state=1)\n",
    "\n",
    "lm8 = LinearRegression().fit(X_train, y_train)\n",
    "lm8_preds = lm8.predict(X_test)\n",
    "\n",
    "print('R^2: ', r2_score(y_test, lm8_preds))"
   ]
  },
  {
   "cell_type": "code",
   "execution_count": 42,
   "metadata": {},
   "outputs": [],
   "source": [
    "formula = \"price ~ sqft_living+closest_distance_to_great_coffee+min_dist_park+closest_distance_to_top_school+closest_distance_to_scientology+interaction+grade_4+grade_5+grade_6+grade_7+grade_8+grade_9+grade_10+grade_11\"\n",
    "model = ols(formula= formula, data=df).fit()"
   ]
  },
  {
   "cell_type": "code",
   "execution_count": 43,
   "metadata": {
    "scrolled": false
   },
   "outputs": [
    {
     "data": {
      "text/html": [
       "<table class=\"simpletable\">\n",
       "<caption>OLS Regression Results</caption>\n",
       "<tr>\n",
       "  <th>Dep. Variable:</th>          <td>price</td>      <th>  R-squared:         </th> <td>   0.625</td> \n",
       "</tr>\n",
       "<tr>\n",
       "  <th>Model:</th>                   <td>OLS</td>       <th>  Adj. R-squared:    </th> <td>   0.625</td> \n",
       "</tr>\n",
       "<tr>\n",
       "  <th>Method:</th>             <td>Least Squares</td>  <th>  F-statistic:       </th> <td>   1961.</td> \n",
       "</tr>\n",
       "<tr>\n",
       "  <th>Date:</th>             <td>Mon, 14 Dec 2020</td> <th>  Prob (F-statistic):</th>  <td>  0.00</td>  \n",
       "</tr>\n",
       "<tr>\n",
       "  <th>Time:</th>                 <td>16:15:23</td>     <th>  Log-Likelihood:    </th> <td> -15333.</td> \n",
       "</tr>\n",
       "<tr>\n",
       "  <th>No. Observations:</th>      <td> 16493</td>      <th>  AIC:               </th> <td>3.070e+04</td>\n",
       "</tr>\n",
       "<tr>\n",
       "  <th>Df Residuals:</th>          <td> 16478</td>      <th>  BIC:               </th> <td>3.081e+04</td>\n",
       "</tr>\n",
       "<tr>\n",
       "  <th>Df Model:</th>              <td>    14</td>      <th>                     </th>     <td> </td>    \n",
       "</tr>\n",
       "<tr>\n",
       "  <th>Covariance Type:</th>      <td>nonrobust</td>    <th>                     </th>     <td> </td>    \n",
       "</tr>\n",
       "</table>\n",
       "<table class=\"simpletable\">\n",
       "<tr>\n",
       "                  <td></td>                    <th>coef</th>     <th>std err</th>      <th>t</th>      <th>P>|t|</th>  <th>[0.025</th>    <th>0.975]</th>  \n",
       "</tr>\n",
       "<tr>\n",
       "  <th>Intercept</th>                        <td>    1.4887</td> <td>    0.434</td> <td>    3.430</td> <td> 0.001</td> <td>    0.638</td> <td>    2.339</td>\n",
       "</tr>\n",
       "<tr>\n",
       "  <th>sqft_living</th>                      <td>    0.4005</td> <td>    0.007</td> <td>   60.597</td> <td> 0.000</td> <td>    0.388</td> <td>    0.413</td>\n",
       "</tr>\n",
       "<tr>\n",
       "  <th>closest_distance_to_great_coffee</th> <td>   -0.0351</td> <td>    0.006</td> <td>   -6.328</td> <td> 0.000</td> <td>   -0.046</td> <td>   -0.024</td>\n",
       "</tr>\n",
       "<tr>\n",
       "  <th>min_dist_park</th>                    <td>   -0.0023</td> <td>    0.005</td> <td>   -0.474</td> <td> 0.636</td> <td>   -0.012</td> <td>    0.007</td>\n",
       "</tr>\n",
       "<tr>\n",
       "  <th>closest_distance_to_top_school</th>   <td>   -0.2366</td> <td>    0.006</td> <td>  -37.579</td> <td> 0.000</td> <td>   -0.249</td> <td>   -0.224</td>\n",
       "</tr>\n",
       "<tr>\n",
       "  <th>closest_distance_to_scientology</th>  <td>   -0.3240</td> <td>    0.006</td> <td>  -51.764</td> <td> 0.000</td> <td>   -0.336</td> <td>   -0.312</td>\n",
       "</tr>\n",
       "<tr>\n",
       "  <th>interaction</th>                      <td>   -0.0028</td> <td>    0.005</td> <td>   -0.559</td> <td> 0.576</td> <td>   -0.013</td> <td>    0.007</td>\n",
       "</tr>\n",
       "<tr>\n",
       "  <th>grade_4</th>                          <td>   -1.3811</td> <td>    0.462</td> <td>   -2.988</td> <td> 0.003</td> <td>   -2.287</td> <td>   -0.475</td>\n",
       "</tr>\n",
       "<tr>\n",
       "  <th>grade_5</th>                          <td>   -1.8401</td> <td>    0.437</td> <td>   -4.215</td> <td> 0.000</td> <td>   -2.696</td> <td>   -0.984</td>\n",
       "</tr>\n",
       "<tr>\n",
       "  <th>grade_6</th>                          <td>   -1.9693</td> <td>    0.434</td> <td>   -4.535</td> <td> 0.000</td> <td>   -2.821</td> <td>   -1.118</td>\n",
       "</tr>\n",
       "<tr>\n",
       "  <th>grade_7</th>                          <td>   -1.6686</td> <td>    0.434</td> <td>   -3.845</td> <td> 0.000</td> <td>   -2.519</td> <td>   -0.818</td>\n",
       "</tr>\n",
       "<tr>\n",
       "  <th>grade_8</th>                          <td>   -1.2934</td> <td>    0.434</td> <td>   -2.980</td> <td> 0.003</td> <td>   -2.144</td> <td>   -0.443</td>\n",
       "</tr>\n",
       "<tr>\n",
       "  <th>grade_9</th>                          <td>   -0.8742</td> <td>    0.434</td> <td>   -2.013</td> <td> 0.044</td> <td>   -1.726</td> <td>   -0.023</td>\n",
       "</tr>\n",
       "<tr>\n",
       "  <th>grade_10</th>                         <td>   -0.5436</td> <td>    0.435</td> <td>   -1.250</td> <td> 0.211</td> <td>   -1.396</td> <td>    0.309</td>\n",
       "</tr>\n",
       "<tr>\n",
       "  <th>grade_11</th>                         <td>   -0.2912</td> <td>    0.444</td> <td>   -0.655</td> <td> 0.512</td> <td>   -1.162</td> <td>    0.580</td>\n",
       "</tr>\n",
       "</table>\n",
       "<table class=\"simpletable\">\n",
       "<tr>\n",
       "  <th>Omnibus:</th>       <td>696.435</td> <th>  Durbin-Watson:     </th> <td>   2.004</td>\n",
       "</tr>\n",
       "<tr>\n",
       "  <th>Prob(Omnibus):</th> <td> 0.000</td>  <th>  Jarque-Bera (JB):  </th> <td>2235.973</td>\n",
       "</tr>\n",
       "<tr>\n",
       "  <th>Skew:</th>          <td> 0.085</td>  <th>  Prob(JB):          </th> <td>    0.00</td>\n",
       "</tr>\n",
       "<tr>\n",
       "  <th>Kurtosis:</th>      <td> 4.796</td>  <th>  Cond. No.          </th> <td>    430.</td>\n",
       "</tr>\n",
       "</table><br/><br/>Warnings:<br/>[1] Standard Errors assume that the covariance matrix of the errors is correctly specified."
      ],
      "text/plain": [
       "<class 'statsmodels.iolib.summary.Summary'>\n",
       "\"\"\"\n",
       "                            OLS Regression Results                            \n",
       "==============================================================================\n",
       "Dep. Variable:                  price   R-squared:                       0.625\n",
       "Model:                            OLS   Adj. R-squared:                  0.625\n",
       "Method:                 Least Squares   F-statistic:                     1961.\n",
       "Date:                Mon, 14 Dec 2020   Prob (F-statistic):               0.00\n",
       "Time:                        16:15:23   Log-Likelihood:                -15333.\n",
       "No. Observations:               16493   AIC:                         3.070e+04\n",
       "Df Residuals:                   16478   BIC:                         3.081e+04\n",
       "Df Model:                          14                                         \n",
       "Covariance Type:            nonrobust                                         \n",
       "====================================================================================================\n",
       "                                       coef    std err          t      P>|t|      [0.025      0.975]\n",
       "----------------------------------------------------------------------------------------------------\n",
       "Intercept                            1.4887      0.434      3.430      0.001       0.638       2.339\n",
       "sqft_living                          0.4005      0.007     60.597      0.000       0.388       0.413\n",
       "closest_distance_to_great_coffee    -0.0351      0.006     -6.328      0.000      -0.046      -0.024\n",
       "min_dist_park                       -0.0023      0.005     -0.474      0.636      -0.012       0.007\n",
       "closest_distance_to_top_school      -0.2366      0.006    -37.579      0.000      -0.249      -0.224\n",
       "closest_distance_to_scientology     -0.3240      0.006    -51.764      0.000      -0.336      -0.312\n",
       "interaction                         -0.0028      0.005     -0.559      0.576      -0.013       0.007\n",
       "grade_4                             -1.3811      0.462     -2.988      0.003      -2.287      -0.475\n",
       "grade_5                             -1.8401      0.437     -4.215      0.000      -2.696      -0.984\n",
       "grade_6                             -1.9693      0.434     -4.535      0.000      -2.821      -1.118\n",
       "grade_7                             -1.6686      0.434     -3.845      0.000      -2.519      -0.818\n",
       "grade_8                             -1.2934      0.434     -2.980      0.003      -2.144      -0.443\n",
       "grade_9                             -0.8742      0.434     -2.013      0.044      -1.726      -0.023\n",
       "grade_10                            -0.5436      0.435     -1.250      0.211      -1.396       0.309\n",
       "grade_11                            -0.2912      0.444     -0.655      0.512      -1.162       0.580\n",
       "==============================================================================\n",
       "Omnibus:                      696.435   Durbin-Watson:                   2.004\n",
       "Prob(Omnibus):                  0.000   Jarque-Bera (JB):             2235.973\n",
       "Skew:                           0.085   Prob(JB):                         0.00\n",
       "Kurtosis:                       4.796   Cond. No.                         430.\n",
       "==============================================================================\n",
       "\n",
       "Warnings:\n",
       "[1] Standard Errors assume that the covariance matrix of the errors is correctly specified.\n",
       "\"\"\""
      ]
     },
     "execution_count": 43,
     "metadata": {},
     "output_type": "execute_result"
    }
   ],
   "source": [
    "model.summary()"
   ]
  },
  {
   "cell_type": "code",
   "execution_count": 44,
   "metadata": {},
   "outputs": [
    {
     "name": "stderr",
     "output_type": "stream",
     "text": [
      "/Users/dtunnicliffe/anaconda3/envs/learn-env/lib/python3.6/site-packages/numpy/core/fromnumeric.py:2580: FutureWarning: Method .ptp is deprecated and will be removed in a future version. Use numpy.ptp instead.\n",
      "  return ptp(axis=axis, out=out, **kwargs)\n"
     ]
    }
   ],
   "source": [
    "y_predict = lm8.predict(X_test)\n",
    "\n",
    "X2 = sm.add_constant(X)\n",
    "\n",
    "# create an OLS model\n",
    "model = sm.OLS(y, X2)\n",
    "\n",
    "# fit the data\n",
    "est = model.fit()"
   ]
  },
  {
   "cell_type": "code",
   "execution_count": 45,
   "metadata": {
    "scrolled": true
   },
   "outputs": [
    {
     "data": {
      "image/png": "[encoded data removed]",
      "text/plain": [
       "<Figure size 432x288 with 1 Axes>"
      ]
     },
     "metadata": {
      "needs_background": "light"
     },
     "output_type": "display_data"
    },
    {
     "name": "stdout",
     "output_type": "stream",
     "text": [
      "The mean of the residuals is -1.585e-15\n"
     ]
    }
   ],
   "source": [
    "# check for the normality of the residuals\n",
    "sm.qqplot(est.resid, line='s')\n",
    "pylab.show()\n",
    "\n",
    "# also check that the mean of the residuals is approx. 0.\n",
    "mean_residuals = sum(est.resid)/ len(est.resid)\n",
    "print(\"The mean of the residuals is {:.4}\".format(mean_residuals))"
   ]
  },
  {
   "cell_type": "markdown",
   "metadata": {},
   "source": [
    "Our residuals are relatively normal."
   ]
  },
  {
   "cell_type": "code",
   "execution_count": 46,
   "metadata": {
    "scrolled": true
   },
   "outputs": [
    {
     "data": {
      "image/png": "[encoded data removed]",
      "text/plain": [
       "<Figure size 432x288 with 1 Axes>"
      ]
     },
     "metadata": {
      "needs_background": "light"
     },
     "output_type": "display_data"
    }
   ],
   "source": [
    "f = 'price ~ sqft_living+closest_distance_to_great_coffee+min_dist_park+closest_distance_to_top_school+closest_distance_to_scientology+interaction++grade_4+grade_5+grade_6+grade_7+grade_8+grade_9+grade_10+grade_11'\n",
    "\n",
    "model = ols(formula = f, data = df).fit()\n",
    "model.summary()\n",
    "predictors_quant = ['sqft_living', 'closest_distance_to_great_coffee', 'min_dist_park', 'closest_distance_to_top_school', 'closest_distance_to_scientology', 'interaction', 'grade_4', 'grade_5', 'grade_6', 'grade_7', 'grade_8', 'grade_9', 'grade_10', 'grade_11']\n",
    "\n",
    "plt.scatter(model.predict(df[predictors_quant]), model.resid, alpha = .5);\n",
    "plt.plot(model.predict(df[predictors_quant]), [0 for i in range(len(df))]);\n",
    "plt.title('Homoscedasticity | Quant Model, All Features');"
   ]
  },
  {
   "cell_type": "markdown",
   "metadata": {},
   "source": [
    "Our qq-plots, homoscedasticity, and R-squared value continue to improve with each iteration."
   ]
  },
  {
   "cell_type": "markdown",
   "metadata": {},
   "source": [
    "## Model #9  \n",
    "We then experimented with a target we created, Price Per Square-Foot. While this target unfortunately decreased our R2 significantly, we were able to use this new variable we'd created as a new measurement by which to remove outliers and narrow our data further. Our last model retains our original price target, but uses data narrowed to 1.5 standard deviations from the mean of price per square foot. (For this entire process, please see previous notebook, 'data_wrangling'.) At this point, we also updated our list of parks to eliminate forests and trail heads, and only include actual parks, to make for a more accurate \"distance to closest park\" measurement."
   ]
  },
  {
   "cell_type": "code",
   "execution_count": 47,
   "metadata": {},
   "outputs": [
    {
     "data": {
      "text/html": [
       "<div>\n",
       "<style scoped>\n",
       "    .dataframe tbody tr th:only-of-type {\n",
       "        vertical-align: middle;\n",
       "    }\n",
       "\n",
       "    .dataframe tbody tr th {\n",
       "        vertical-align: top;\n",
       "    }\n",
       "\n",
       "    .dataframe thead th {\n",
       "        text-align: right;\n",
       "    }\n",
       "</style>\n",
       "<table border=\"1\" class=\"dataframe\">\n",
       "  <thead>\n",
       "    <tr style=\"text-align: right;\">\n",
       "      <th></th>\n",
       "      <th>price</th>\n",
       "      <th>sqft_living</th>\n",
       "      <th>lat</th>\n",
       "      <th>long</th>\n",
       "      <th>price_per_sqft</th>\n",
       "      <th>min_dist_park</th>\n",
       "      <th>closest_distance_to_top_school</th>\n",
       "      <th>closest_distance_to_great_coffee</th>\n",
       "      <th>closest_distance_to_scientology</th>\n",
       "      <th>interaction</th>\n",
       "      <th>...</th>\n",
       "      <th>quant_interaction</th>\n",
       "      <th>grade_5</th>\n",
       "      <th>grade_6</th>\n",
       "      <th>grade_7</th>\n",
       "      <th>grade_8</th>\n",
       "      <th>grade_9</th>\n",
       "      <th>grade_10</th>\n",
       "      <th>grade_11</th>\n",
       "      <th>grade_12</th>\n",
       "      <th>grade_13</th>\n",
       "    </tr>\n",
       "  </thead>\n",
       "  <tbody>\n",
       "    <tr>\n",
       "      <th>0</th>\n",
       "      <td>221900.00</td>\n",
       "      <td>1180</td>\n",
       "      <td>47.51</td>\n",
       "      <td>-122.26</td>\n",
       "      <td>188.05</td>\n",
       "      <td>2.04</td>\n",
       "      <td>0.26</td>\n",
       "      <td>4.39</td>\n",
       "      <td>12.71</td>\n",
       "      <td>3.33</td>\n",
       "      <td>...</td>\n",
       "      <td>-1.11</td>\n",
       "      <td>0</td>\n",
       "      <td>0</td>\n",
       "      <td>1</td>\n",
       "      <td>0</td>\n",
       "      <td>0</td>\n",
       "      <td>0</td>\n",
       "      <td>0</td>\n",
       "      <td>0</td>\n",
       "      <td>0</td>\n",
       "    </tr>\n",
       "    <tr>\n",
       "      <th>1</th>\n",
       "      <td>538000.00</td>\n",
       "      <td>2570</td>\n",
       "      <td>47.72</td>\n",
       "      <td>-122.32</td>\n",
       "      <td>209.34</td>\n",
       "      <td>5.67</td>\n",
       "      <td>0.68</td>\n",
       "      <td>14.81</td>\n",
       "      <td>10.80</td>\n",
       "      <td>7.37</td>\n",
       "      <td>...</td>\n",
       "      <td>-0.50</td>\n",
       "      <td>0</td>\n",
       "      <td>0</td>\n",
       "      <td>1</td>\n",
       "      <td>0</td>\n",
       "      <td>0</td>\n",
       "      <td>0</td>\n",
       "      <td>0</td>\n",
       "      <td>0</td>\n",
       "      <td>0</td>\n",
       "    </tr>\n",
       "    <tr>\n",
       "      <th>2</th>\n",
       "      <td>180000.00</td>\n",
       "      <td>770</td>\n",
       "      <td>47.74</td>\n",
       "      <td>-122.23</td>\n",
       "      <td>233.77</td>\n",
       "      <td>1.34</td>\n",
       "      <td>2.00</td>\n",
       "      <td>10.63</td>\n",
       "      <td>10.84</td>\n",
       "      <td>21.71</td>\n",
       "      <td>...</td>\n",
       "      <td>0.08</td>\n",
       "      <td>0</td>\n",
       "      <td>1</td>\n",
       "      <td>0</td>\n",
       "      <td>0</td>\n",
       "      <td>0</td>\n",
       "      <td>0</td>\n",
       "      <td>0</td>\n",
       "      <td>0</td>\n",
       "      <td>0</td>\n",
       "    </tr>\n",
       "    <tr>\n",
       "      <th>3</th>\n",
       "      <td>604000.00</td>\n",
       "      <td>1960</td>\n",
       "      <td>47.52</td>\n",
       "      <td>-122.39</td>\n",
       "      <td>308.16</td>\n",
       "      <td>2.45</td>\n",
       "      <td>1.73</td>\n",
       "      <td>14.48</td>\n",
       "      <td>11.55</td>\n",
       "      <td>19.97</td>\n",
       "      <td>...</td>\n",
       "      <td>0.05</td>\n",
       "      <td>0</td>\n",
       "      <td>0</td>\n",
       "      <td>1</td>\n",
       "      <td>0</td>\n",
       "      <td>0</td>\n",
       "      <td>0</td>\n",
       "      <td>0</td>\n",
       "      <td>0</td>\n",
       "      <td>0</td>\n",
       "    </tr>\n",
       "    <tr>\n",
       "      <th>4</th>\n",
       "      <td>510000.00</td>\n",
       "      <td>1680</td>\n",
       "      <td>47.62</td>\n",
       "      <td>-122.05</td>\n",
       "      <td>303.57</td>\n",
       "      <td>3.72</td>\n",
       "      <td>1.18</td>\n",
       "      <td>8.55</td>\n",
       "      <td>21.18</td>\n",
       "      <td>24.98</td>\n",
       "      <td>...</td>\n",
       "      <td>0.16</td>\n",
       "      <td>0</td>\n",
       "      <td>0</td>\n",
       "      <td>0</td>\n",
       "      <td>1</td>\n",
       "      <td>0</td>\n",
       "      <td>0</td>\n",
       "      <td>0</td>\n",
       "      <td>0</td>\n",
       "      <td>0</td>\n",
       "    </tr>\n",
       "  </tbody>\n",
       "</table>\n",
       "<p>5 rows × 27 columns</p>\n",
       "</div>"
      ],
      "text/plain": [
       "      price  sqft_living   lat    long  price_per_sqft  min_dist_park  \\\n",
       "0 221900.00         1180 47.51 -122.26          188.05           2.04   \n",
       "1 538000.00         2570 47.72 -122.32          209.34           5.67   \n",
       "2 180000.00          770 47.74 -122.23          233.77           1.34   \n",
       "3 604000.00         1960 47.52 -122.39          308.16           2.45   \n",
       "4 510000.00         1680 47.62 -122.05          303.57           3.72   \n",
       "\n",
       "   closest_distance_to_top_school  closest_distance_to_great_coffee  \\\n",
       "0                            0.26                              4.39   \n",
       "1                            0.68                             14.81   \n",
       "2                            2.00                             10.63   \n",
       "3                            1.73                             14.48   \n",
       "4                            1.18                              8.55   \n",
       "\n",
       "   closest_distance_to_scientology  interaction  ...  quant_interaction  \\\n",
       "0                            12.71         3.33  ...              -1.11   \n",
       "1                            10.80         7.37  ...              -0.50   \n",
       "2                            10.84        21.71  ...               0.08   \n",
       "3                            11.55        19.97  ...               0.05   \n",
       "4                            21.18        24.98  ...               0.16   \n",
       "\n",
       "   grade_5  grade_6  grade_7  grade_8  grade_9  grade_10  grade_11  grade_12  \\\n",
       "0        0        0        1        0        0         0         0         0   \n",
       "1        0        0        1        0        0         0         0         0   \n",
       "2        0        1        0        0        0         0         0         0   \n",
       "3        0        0        1        0        0         0         0         0   \n",
       "4        0        0        0        1        0         0         0         0   \n",
       "\n",
       "   grade_13  \n",
       "0         0  \n",
       "1         0  \n",
       "2         0  \n",
       "3         0  \n",
       "4         0  \n",
       "\n",
       "[5 rows x 27 columns]"
      ]
     },
     "execution_count": 47,
     "metadata": {},
     "output_type": "execute_result"
    }
   ],
   "source": [
    "df = pd.read_csv('./data/all_features_ppsqft_quant.csv', index_col=0)\n",
    "df.head()"
   ]
  },
  {
   "cell_type": "code",
   "execution_count": 48,
   "metadata": {},
   "outputs": [
    {
     "name": "stdout",
     "output_type": "stream",
     "text": [
      "R^2:  0.7559870492262424\n"
     ]
    }
   ],
   "source": [
    "features = ['quant_sqft_living','quant_coffee', 'quant_parks', 'quant_schools', 'quant_scientology', 'grade_5', 'grade_6', 'grade_7', 'grade_8', 'grade_9', 'grade_10', 'grade_11', 'grade_12', 'grade_13', 'quant_interaction']\n",
    "target = ['quant_price']\n",
    "X = df[features]\n",
    "y = df[target]\n",
    "\n",
    "# running an iteration of the model using train_test_split\n",
    "X_train, X_test, y_train, y_test = train_test_split(X,y, random_state=1)\n",
    "\n",
    "lm9 = LinearRegression().fit(X_train, y_train)\n",
    "lm9_preds = lm9.predict(X_test)\n",
    "\n",
    "print('R^2: ', r2_score(y_test, lm9_preds))"
   ]
  },
  {
   "cell_type": "code",
   "execution_count": 49,
   "metadata": {},
   "outputs": [
    {
     "data": {
      "text/html": [
       "<table class=\"simpletable\">\n",
       "<caption>OLS Regression Results</caption>\n",
       "<tr>\n",
       "  <th>Dep. Variable:</th>       <td>quant_price</td>   <th>  R-squared:         </th> <td>   0.761</td> \n",
       "</tr>\n",
       "<tr>\n",
       "  <th>Model:</th>                   <td>OLS</td>       <th>  Adj. R-squared:    </th> <td>   0.761</td> \n",
       "</tr>\n",
       "<tr>\n",
       "  <th>Method:</th>             <td>Least Squares</td>  <th>  F-statistic:       </th> <td>   3711.</td> \n",
       "</tr>\n",
       "<tr>\n",
       "  <th>Date:</th>             <td>Mon, 14 Dec 2020</td> <th>  Prob (F-statistic):</th>  <td>  0.00</td>  \n",
       "</tr>\n",
       "<tr>\n",
       "  <th>Time:</th>                 <td>16:15:24</td>     <th>  Log-Likelihood:    </th> <td> -12314.</td> \n",
       "</tr>\n",
       "<tr>\n",
       "  <th>No. Observations:</th>      <td> 17495</td>      <th>  AIC:               </th> <td>2.466e+04</td>\n",
       "</tr>\n",
       "<tr>\n",
       "  <th>Df Residuals:</th>          <td> 17479</td>      <th>  BIC:               </th> <td>2.479e+04</td>\n",
       "</tr>\n",
       "<tr>\n",
       "  <th>Df Model:</th>              <td>    15</td>      <th>                     </th>     <td> </td>    \n",
       "</tr>\n",
       "<tr>\n",
       "  <th>Covariance Type:</th>      <td>nonrobust</td>    <th>                     </th>     <td> </td>    \n",
       "</tr>\n",
       "</table>\n",
       "<table class=\"simpletable\">\n",
       "<tr>\n",
       "          <td></td>             <th>coef</th>     <th>std err</th>      <th>t</th>      <th>P>|t|</th>  <th>[0.025</th>    <th>0.975]</th>  \n",
       "</tr>\n",
       "<tr>\n",
       "  <th>Intercept</th>         <td>   -0.7602</td> <td>    0.123</td> <td>   -6.167</td> <td> 0.000</td> <td>   -1.002</td> <td>   -0.519</td>\n",
       "</tr>\n",
       "<tr>\n",
       "  <th>quant_sqft_living</th> <td>    0.4987</td> <td>    0.006</td> <td>   89.561</td> <td> 0.000</td> <td>    0.488</td> <td>    0.510</td>\n",
       "</tr>\n",
       "<tr>\n",
       "  <th>quant_coffee</th>      <td>   -0.0269</td> <td>    0.004</td> <td>   -6.792</td> <td> 0.000</td> <td>   -0.035</td> <td>   -0.019</td>\n",
       "</tr>\n",
       "<tr>\n",
       "  <th>quant_parks</th>       <td>   -0.0059</td> <td>    0.004</td> <td>   -1.595</td> <td> 0.111</td> <td>   -0.013</td> <td>    0.001</td>\n",
       "</tr>\n",
       "<tr>\n",
       "  <th>quant_schools</th>     <td>   -0.0690</td> <td>    0.021</td> <td>   -3.229</td> <td> 0.001</td> <td>   -0.111</td> <td>   -0.027</td>\n",
       "</tr>\n",
       "<tr>\n",
       "  <th>quant_scientology</th> <td>   -0.1565</td> <td>    0.014</td> <td>  -11.053</td> <td> 0.000</td> <td>   -0.184</td> <td>   -0.129</td>\n",
       "</tr>\n",
       "<tr>\n",
       "  <th>quant_interaction</th> <td>   -0.2132</td> <td>    0.031</td> <td>   -6.879</td> <td> 0.000</td> <td>   -0.274</td> <td>   -0.152</td>\n",
       "</tr>\n",
       "<tr>\n",
       "  <th>grade_5</th>           <td>    0.1626</td> <td>    0.128</td> <td>    1.274</td> <td> 0.203</td> <td>   -0.088</td> <td>    0.413</td>\n",
       "</tr>\n",
       "<tr>\n",
       "  <th>grade_6</th>           <td>    0.3070</td> <td>    0.123</td> <td>    2.492</td> <td> 0.013</td> <td>    0.066</td> <td>    0.549</td>\n",
       "</tr>\n",
       "<tr>\n",
       "  <th>grade_7</th>           <td>    0.5833</td> <td>    0.123</td> <td>    4.736</td> <td> 0.000</td> <td>    0.342</td> <td>    0.825</td>\n",
       "</tr>\n",
       "<tr>\n",
       "  <th>grade_8</th>           <td>    0.8820</td> <td>    0.124</td> <td>    7.131</td> <td> 0.000</td> <td>    0.640</td> <td>    1.124</td>\n",
       "</tr>\n",
       "<tr>\n",
       "  <th>grade_9</th>           <td>    1.1951</td> <td>    0.125</td> <td>    9.596</td> <td> 0.000</td> <td>    0.951</td> <td>    1.439</td>\n",
       "</tr>\n",
       "<tr>\n",
       "  <th>grade_10</th>          <td>    1.4316</td> <td>    0.126</td> <td>   11.387</td> <td> 0.000</td> <td>    1.185</td> <td>    1.678</td>\n",
       "</tr>\n",
       "<tr>\n",
       "  <th>grade_11</th>          <td>    1.7193</td> <td>    0.129</td> <td>   13.377</td> <td> 0.000</td> <td>    1.467</td> <td>    1.971</td>\n",
       "</tr>\n",
       "<tr>\n",
       "  <th>grade_12</th>          <td>    2.0848</td> <td>    0.144</td> <td>   14.463</td> <td> 0.000</td> <td>    1.802</td> <td>    2.367</td>\n",
       "</tr>\n",
       "<tr>\n",
       "  <th>grade_13</th>          <td>    2.3285</td> <td>    0.236</td> <td>    9.847</td> <td> 0.000</td> <td>    1.865</td> <td>    2.792</td>\n",
       "</tr>\n",
       "</table>\n",
       "<table class=\"simpletable\">\n",
       "<tr>\n",
       "  <th>Omnibus:</th>       <td>391.796</td> <th>  Durbin-Watson:     </th> <td>   1.997</td> \n",
       "</tr>\n",
       "<tr>\n",
       "  <th>Prob(Omnibus):</th> <td> 0.000</td>  <th>  Jarque-Bera (JB):  </th> <td> 511.788</td> \n",
       "</tr>\n",
       "<tr>\n",
       "  <th>Skew:</th>          <td>-0.283</td>  <th>  Prob(JB):          </th> <td>7.35e-112</td>\n",
       "</tr>\n",
       "<tr>\n",
       "  <th>Kurtosis:</th>      <td> 3.617</td>  <th>  Cond. No.          </th> <td>    175.</td> \n",
       "</tr>\n",
       "</table><br/><br/>Warnings:<br/>[1] Standard Errors assume that the covariance matrix of the errors is correctly specified."
      ],
      "text/plain": [
       "<class 'statsmodels.iolib.summary.Summary'>\n",
       "\"\"\"\n",
       "                            OLS Regression Results                            \n",
       "==============================================================================\n",
       "Dep. Variable:            quant_price   R-squared:                       0.761\n",
       "Model:                            OLS   Adj. R-squared:                  0.761\n",
       "Method:                 Least Squares   F-statistic:                     3711.\n",
       "Date:                Mon, 14 Dec 2020   Prob (F-statistic):               0.00\n",
       "Time:                        16:15:24   Log-Likelihood:                -12314.\n",
       "No. Observations:               17495   AIC:                         2.466e+04\n",
       "Df Residuals:                   17479   BIC:                         2.479e+04\n",
       "Df Model:                          15                                         \n",
       "Covariance Type:            nonrobust                                         \n",
       "=====================================================================================\n",
       "                        coef    std err          t      P>|t|      [0.025      0.975]\n",
       "-------------------------------------------------------------------------------------\n",
       "Intercept            -0.7602      0.123     -6.167      0.000      -1.002      -0.519\n",
       "quant_sqft_living     0.4987      0.006     89.561      0.000       0.488       0.510\n",
       "quant_coffee         -0.0269      0.004     -6.792      0.000      -0.035      -0.019\n",
       "quant_parks          -0.0059      0.004     -1.595      0.111      -0.013       0.001\n",
       "quant_schools        -0.0690      0.021     -3.229      0.001      -0.111      -0.027\n",
       "quant_scientology    -0.1565      0.014    -11.053      0.000      -0.184      -0.129\n",
       "quant_interaction    -0.2132      0.031     -6.879      0.000      -0.274      -0.152\n",
       "grade_5               0.1626      0.128      1.274      0.203      -0.088       0.413\n",
       "grade_6               0.3070      0.123      2.492      0.013       0.066       0.549\n",
       "grade_7               0.5833      0.123      4.736      0.000       0.342       0.825\n",
       "grade_8               0.8820      0.124      7.131      0.000       0.640       1.124\n",
       "grade_9               1.1951      0.125      9.596      0.000       0.951       1.439\n",
       "grade_10              1.4316      0.126     11.387      0.000       1.185       1.678\n",
       "grade_11              1.7193      0.129     13.377      0.000       1.467       1.971\n",
       "grade_12              2.0848      0.144     14.463      0.000       1.802       2.367\n",
       "grade_13              2.3285      0.236      9.847      0.000       1.865       2.792\n",
       "==============================================================================\n",
       "Omnibus:                      391.796   Durbin-Watson:                   1.997\n",
       "Prob(Omnibus):                  0.000   Jarque-Bera (JB):              511.788\n",
       "Skew:                          -0.283   Prob(JB):                    7.35e-112\n",
       "Kurtosis:                       3.617   Cond. No.                         175.\n",
       "==============================================================================\n",
       "\n",
       "Warnings:\n",
       "[1] Standard Errors assume that the covariance matrix of the errors is correctly specified.\n",
       "\"\"\""
      ]
     },
     "execution_count": 49,
     "metadata": {},
     "output_type": "execute_result"
    }
   ],
   "source": [
    "formula = \"quant_price ~ quant_sqft_living+quant_coffee+quant_parks+quant_schools+quant_scientology+quant_interaction+grade_5+grade_6+grade_7+grade_8+grade_9+grade_10+grade_11+grade_12+grade_13\"\n",
    "model = ols(formula= formula, data=df).fit()\n",
    "model.summary()"
   ]
  },
  {
   "cell_type": "code",
   "execution_count": 50,
   "metadata": {
    "scrolled": false
   },
   "outputs": [
    {
     "name": "stderr",
     "output_type": "stream",
     "text": [
      "/Users/dtunnicliffe/anaconda3/envs/learn-env/lib/python3.6/site-packages/numpy/core/fromnumeric.py:2580: FutureWarning: Method .ptp is deprecated and will be removed in a future version. Use numpy.ptp instead.\n",
      "  return ptp(axis=axis, out=out, **kwargs)\n"
     ]
    }
   ],
   "source": [
    "y_predict = lm9.predict(X_test)\n",
    "\n",
    "X2 = sm.add_constant(X)\n",
    "\n",
    "# create an OLS model\n",
    "model = sm.OLS(y, X2)\n",
    "\n",
    "# fit the data\n",
    "est = model.fit()"
   ]
  },
  {
   "cell_type": "code",
   "execution_count": 51,
   "metadata": {
    "scrolled": false
   },
   "outputs": [
    {
     "data": {
      "image/png": "[encoded data removed]",
      "text/plain": [
       "<Figure size 432x288 with 1 Axes>"
      ]
     },
     "metadata": {
      "needs_background": "light"
     },
     "output_type": "display_data"
    },
    {
     "name": "stdout",
     "output_type": "stream",
     "text": [
      "The mean of the residuals is -1.626e-15\n"
     ]
    }
   ],
   "source": [
    "# check for the normality of the residuals\n",
    "sm.qqplot(est.resid, line='s')\n",
    "pylab.show()\n",
    "\n",
    "# also check that the mean of the residuals is approx. 0.\n",
    "mean_residuals = sum(est.resid)/ len(est.resid)\n",
    "print(\"The mean of the residuals is {:.4}\".format(mean_residuals))"
   ]
  },
  {
   "cell_type": "markdown",
   "metadata": {},
   "source": [
    "Our residuals are relatively normal."
   ]
  },
  {
   "cell_type": "markdown",
   "metadata": {},
   "source": [
    "### Recursive Feature Elimination (RFE)"
   ]
  },
  {
   "cell_type": "code",
   "execution_count": 53,
   "metadata": {},
   "outputs": [],
   "source": [
    "# def lin_reg(X, y):\n",
    "#    \"\"\"Recursive feature elimination (RFE) function\"\"\"\n",
    "#     X_train, X_test, y_train, y_test = train_test_split(X, y, test_size=0.25)\n",
    "#     linreg = LinearRegression()\n",
    "#     linreg.fit(X_train,y_train)\n",
    "#     y_hat = linreg.predict(X_test)\n",
    "#     y_hat_train = linreg.predict(X_train)\n",
    "#     print('R_squared:', linreg.score(X, y))\n",
    "#     #Display errors\n",
    "#     print('Mean Absolute Error:', mean_absolute_error(y_test, y_hat))\n",
    "#     print('Root Mean Squared Error test:', np.sqrt(mean_squared_error(y_test, y_hat)))\n",
    "#     print('Root Mean Squared Error train:', np.sqrt(mean_squared_error(y_train, y_hat_train)))\n",
    "#     #Compare predicted and actual values\n",
    "#     print('Mean Predicted Selling Price:', y_hat.mean())\n",
    "#     print('Mean Selling Price:', y_test.mean())\n",
    "#     return linreg"
   ]
  },
  {
   "cell_type": "code",
   "execution_count": 54,
   "metadata": {},
   "outputs": [],
   "source": [
    "# lin_reg(X,y)"
   ]
  },
  {
   "cell_type": "code",
   "execution_count": 55,
   "metadata": {},
   "outputs": [],
   "source": [
    "#RFE to check for insignificant features \n",
    "# from sklearn.svm import SVR\n",
    "# from sklearn.feature_selection import RFE\n",
    "\n",
    "# estimator = SVR(kernel=\"linear\")\n",
    "\n",
    "# selector = RFE(estimator, step=1)\n",
    "# selector = selector.fit(X, y)\n",
    "\n",
    "# #Take a look at the R2 with only the most valuable features\n",
    "# X_RFE = X[X.columns[selector.support_]]\n",
    "# lin_reg(X_RFE, y)"
   ]
  },
  {
   "cell_type": "markdown",
   "metadata": {},
   "source": [
    "## Model #10  \n",
    "We then took our previous model and removed parks as a feature altogether, since further analysis showed that this was not helping our R2 score. For the entire investigation into each feature's impact on the model, please see the notebook titled 'Iterating Through Final Model.\""
   ]
  },
  {
   "cell_type": "code",
   "execution_count": 56,
   "metadata": {},
   "outputs": [
    {
     "name": "stdout",
     "output_type": "stream",
     "text": [
      "R^2:  0.7559686827061596\n"
     ]
    }
   ],
   "source": [
    "features = ['quant_sqft_living','quant_coffee', 'quant_schools', 'quant_scientology', 'grade_5', 'grade_6', 'grade_7', 'grade_8', 'grade_9', 'grade_10', 'grade_11', 'grade_12', 'grade_13', 'quant_interaction']\n",
    "target = ['quant_price']\n",
    "X = df[features]\n",
    "y = df[target]\n",
    "\n",
    "# running an iteration of the model using train_test_split\n",
    "X_train, X_test, y_train, y_test = train_test_split(X,y, random_state=1)\n",
    "\n",
    "lm10 = LinearRegression().fit(X_train, y_train)\n",
    "lm10_preds = lm10.predict(X_test)\n",
    "\n",
    "print('R^2: ', r2_score(y_test, lm10_preds))"
   ]
  },
  {
   "cell_type": "code",
   "execution_count": 57,
   "metadata": {},
   "outputs": [
    {
     "data": {
      "text/html": [
       "<table class=\"simpletable\">\n",
       "<caption>OLS Regression Results</caption>\n",
       "<tr>\n",
       "  <th>Dep. Variable:</th>       <td>quant_price</td>   <th>  R-squared:         </th> <td>   0.761</td> \n",
       "</tr>\n",
       "<tr>\n",
       "  <th>Model:</th>                   <td>OLS</td>       <th>  Adj. R-squared:    </th> <td>   0.761</td> \n",
       "</tr>\n",
       "<tr>\n",
       "  <th>Method:</th>             <td>Least Squares</td>  <th>  F-statistic:       </th> <td>   3975.</td> \n",
       "</tr>\n",
       "<tr>\n",
       "  <th>Date:</th>             <td>Mon, 14 Dec 2020</td> <th>  Prob (F-statistic):</th>  <td>  0.00</td>  \n",
       "</tr>\n",
       "<tr>\n",
       "  <th>Time:</th>                 <td>16:16:10</td>     <th>  Log-Likelihood:    </th> <td> -12316.</td> \n",
       "</tr>\n",
       "<tr>\n",
       "  <th>No. Observations:</th>      <td> 17495</td>      <th>  AIC:               </th> <td>2.466e+04</td>\n",
       "</tr>\n",
       "<tr>\n",
       "  <th>Df Residuals:</th>          <td> 17480</td>      <th>  BIC:               </th> <td>2.478e+04</td>\n",
       "</tr>\n",
       "<tr>\n",
       "  <th>Df Model:</th>              <td>    14</td>      <th>                     </th>     <td> </td>    \n",
       "</tr>\n",
       "<tr>\n",
       "  <th>Covariance Type:</th>      <td>nonrobust</td>    <th>                     </th>     <td> </td>    \n",
       "</tr>\n",
       "</table>\n",
       "<table class=\"simpletable\">\n",
       "<tr>\n",
       "          <td></td>             <th>coef</th>     <th>std err</th>      <th>t</th>      <th>P>|t|</th>  <th>[0.025</th>    <th>0.975]</th>  \n",
       "</tr>\n",
       "<tr>\n",
       "  <th>Intercept</th>         <td>   -0.7595</td> <td>    0.123</td> <td>   -6.162</td> <td> 0.000</td> <td>   -1.001</td> <td>   -0.518</td>\n",
       "</tr>\n",
       "<tr>\n",
       "  <th>quant_sqft_living</th> <td>    0.4986</td> <td>    0.006</td> <td>   89.550</td> <td> 0.000</td> <td>    0.488</td> <td>    0.510</td>\n",
       "</tr>\n",
       "<tr>\n",
       "  <th>quant_coffee</th>      <td>   -0.0268</td> <td>    0.004</td> <td>   -6.779</td> <td> 0.000</td> <td>   -0.035</td> <td>   -0.019</td>\n",
       "</tr>\n",
       "<tr>\n",
       "  <th>quant_schools</th>     <td>   -0.0690</td> <td>    0.021</td> <td>   -3.229</td> <td> 0.001</td> <td>   -0.111</td> <td>   -0.027</td>\n",
       "</tr>\n",
       "<tr>\n",
       "  <th>quant_scientology</th> <td>   -0.1564</td> <td>    0.014</td> <td>  -11.045</td> <td> 0.000</td> <td>   -0.184</td> <td>   -0.129</td>\n",
       "</tr>\n",
       "<tr>\n",
       "  <th>quant_interaction</th> <td>   -0.2133</td> <td>    0.031</td> <td>   -6.882</td> <td> 0.000</td> <td>   -0.274</td> <td>   -0.153</td>\n",
       "</tr>\n",
       "<tr>\n",
       "  <th>grade_5</th>           <td>    0.1622</td> <td>    0.128</td> <td>    1.271</td> <td> 0.204</td> <td>   -0.088</td> <td>    0.412</td>\n",
       "</tr>\n",
       "<tr>\n",
       "  <th>grade_6</th>           <td>    0.3062</td> <td>    0.123</td> <td>    2.486</td> <td> 0.013</td> <td>    0.065</td> <td>    0.548</td>\n",
       "</tr>\n",
       "<tr>\n",
       "  <th>grade_7</th>           <td>    0.5827</td> <td>    0.123</td> <td>    4.730</td> <td> 0.000</td> <td>    0.341</td> <td>    0.824</td>\n",
       "</tr>\n",
       "<tr>\n",
       "  <th>grade_8</th>           <td>    0.8813</td> <td>    0.124</td> <td>    7.125</td> <td> 0.000</td> <td>    0.639</td> <td>    1.124</td>\n",
       "</tr>\n",
       "<tr>\n",
       "  <th>grade_9</th>           <td>    1.1946</td> <td>    0.125</td> <td>    9.592</td> <td> 0.000</td> <td>    0.951</td> <td>    1.439</td>\n",
       "</tr>\n",
       "<tr>\n",
       "  <th>grade_10</th>          <td>    1.4313</td> <td>    0.126</td> <td>   11.385</td> <td> 0.000</td> <td>    1.185</td> <td>    1.678</td>\n",
       "</tr>\n",
       "<tr>\n",
       "  <th>grade_11</th>          <td>    1.7186</td> <td>    0.129</td> <td>   13.371</td> <td> 0.000</td> <td>    1.467</td> <td>    1.971</td>\n",
       "</tr>\n",
       "<tr>\n",
       "  <th>grade_12</th>          <td>    2.0842</td> <td>    0.144</td> <td>   14.458</td> <td> 0.000</td> <td>    1.802</td> <td>    2.367</td>\n",
       "</tr>\n",
       "<tr>\n",
       "  <th>grade_13</th>          <td>    2.3268</td> <td>    0.236</td> <td>    9.839</td> <td> 0.000</td> <td>    1.863</td> <td>    2.790</td>\n",
       "</tr>\n",
       "</table>\n",
       "<table class=\"simpletable\">\n",
       "<tr>\n",
       "  <th>Omnibus:</th>       <td>391.327</td> <th>  Durbin-Watson:     </th> <td>   1.997</td> \n",
       "</tr>\n",
       "<tr>\n",
       "  <th>Prob(Omnibus):</th> <td> 0.000</td>  <th>  Jarque-Bera (JB):  </th> <td> 510.627</td> \n",
       "</tr>\n",
       "<tr>\n",
       "  <th>Skew:</th>          <td>-0.283</td>  <th>  Prob(JB):          </th> <td>1.31e-111</td>\n",
       "</tr>\n",
       "<tr>\n",
       "  <th>Kurtosis:</th>      <td> 3.616</td>  <th>  Cond. No.          </th> <td>    175.</td> \n",
       "</tr>\n",
       "</table><br/><br/>Warnings:<br/>[1] Standard Errors assume that the covariance matrix of the errors is correctly specified."
      ],
      "text/plain": [
       "<class 'statsmodels.iolib.summary.Summary'>\n",
       "\"\"\"\n",
       "                            OLS Regression Results                            \n",
       "==============================================================================\n",
       "Dep. Variable:            quant_price   R-squared:                       0.761\n",
       "Model:                            OLS   Adj. R-squared:                  0.761\n",
       "Method:                 Least Squares   F-statistic:                     3975.\n",
       "Date:                Mon, 14 Dec 2020   Prob (F-statistic):               0.00\n",
       "Time:                        16:16:10   Log-Likelihood:                -12316.\n",
       "No. Observations:               17495   AIC:                         2.466e+04\n",
       "Df Residuals:                   17480   BIC:                         2.478e+04\n",
       "Df Model:                          14                                         \n",
       "Covariance Type:            nonrobust                                         \n",
       "=====================================================================================\n",
       "                        coef    std err          t      P>|t|      [0.025      0.975]\n",
       "-------------------------------------------------------------------------------------\n",
       "Intercept            -0.7595      0.123     -6.162      0.000      -1.001      -0.518\n",
       "quant_sqft_living     0.4986      0.006     89.550      0.000       0.488       0.510\n",
       "quant_coffee         -0.0268      0.004     -6.779      0.000      -0.035      -0.019\n",
       "quant_schools        -0.0690      0.021     -3.229      0.001      -0.111      -0.027\n",
       "quant_scientology    -0.1564      0.014    -11.045      0.000      -0.184      -0.129\n",
       "quant_interaction    -0.2133      0.031     -6.882      0.000      -0.274      -0.153\n",
       "grade_5               0.1622      0.128      1.271      0.204      -0.088       0.412\n",
       "grade_6               0.3062      0.123      2.486      0.013       0.065       0.548\n",
       "grade_7               0.5827      0.123      4.730      0.000       0.341       0.824\n",
       "grade_8               0.8813      0.124      7.125      0.000       0.639       1.124\n",
       "grade_9               1.1946      0.125      9.592      0.000       0.951       1.439\n",
       "grade_10              1.4313      0.126     11.385      0.000       1.185       1.678\n",
       "grade_11              1.7186      0.129     13.371      0.000       1.467       1.971\n",
       "grade_12              2.0842      0.144     14.458      0.000       1.802       2.367\n",
       "grade_13              2.3268      0.236      9.839      0.000       1.863       2.790\n",
       "==============================================================================\n",
       "Omnibus:                      391.327   Durbin-Watson:                   1.997\n",
       "Prob(Omnibus):                  0.000   Jarque-Bera (JB):              510.627\n",
       "Skew:                          -0.283   Prob(JB):                    1.31e-111\n",
       "Kurtosis:                       3.616   Cond. No.                         175.\n",
       "==============================================================================\n",
       "\n",
       "Warnings:\n",
       "[1] Standard Errors assume that the covariance matrix of the errors is correctly specified.\n",
       "\"\"\""
      ]
     },
     "execution_count": 57,
     "metadata": {},
     "output_type": "execute_result"
    }
   ],
   "source": [
    "formula = \"quant_price ~ quant_sqft_living+quant_coffee+quant_schools+quant_scientology+quant_interaction+grade_5+grade_6+grade_7+grade_8+grade_9+grade_10+grade_11+grade_12+grade_13\"\n",
    "model = ols(formula= formula, data=df).fit()\n",
    "model.summary()"
   ]
  },
  {
   "cell_type": "code",
   "execution_count": 58,
   "metadata": {
    "scrolled": true
   },
   "outputs": [
    {
     "name": "stderr",
     "output_type": "stream",
     "text": [
      "/Users/dtunnicliffe/anaconda3/envs/learn-env/lib/python3.6/site-packages/numpy/core/fromnumeric.py:2580: FutureWarning: Method .ptp is deprecated and will be removed in a future version. Use numpy.ptp instead.\n",
      "  return ptp(axis=axis, out=out, **kwargs)\n"
     ]
    }
   ],
   "source": [
    "y_predict = lm10.predict(X_test)\n",
    "\n",
    "X2 = sm.add_constant(X)\n",
    "\n",
    "# create an OLS model\n",
    "model = sm.OLS(y, X2)\n",
    "\n",
    "# fit the data\n",
    "est = model.fit()"
   ]
  },
  {
   "cell_type": "code",
   "execution_count": 59,
   "metadata": {
    "scrolled": false
   },
   "outputs": [
    {
     "data": {
      "image/png": "[encoded data removed]",
      "text/plain": [
       "<Figure size 432x288 with 1 Axes>"
      ]
     },
     "metadata": {
      "needs_background": "light"
     },
     "output_type": "display_data"
    }
   ],
   "source": [
    "f = 'price ~ quant_sqft_living+quant_coffee+quant_schools+quant_scientology+quant_interaction+grade_5+grade_6+grade_7+grade_8+grade_9+grade_10+grade_11+grade_12+grade_13'\n",
    "model = ols(formula = f, data = df).fit()\n",
    "\n",
    "predictors_quant = ['quant_sqft_living','quant_coffee', 'quant_schools', 'quant_scientology', 'grade_5', 'grade_6', 'grade_7', 'grade_8', 'grade_9', 'grade_10', 'grade_11', 'grade_12', 'grade_13', 'quant_interaction']\n",
    "\n",
    "plt.scatter(model.predict(df[predictors_quant]), model.resid, alpha = .5);\n",
    "plt.plot(model.predict(df[predictors_quant]), [0 for i in range(len(df))]);\n",
    "plt.title('Homoscedasticity | Quant Model, Final Model');"
   ]
  },
  {
   "cell_type": "code",
   "execution_count": 60,
   "metadata": {
    "scrolled": true
   },
   "outputs": [
    {
     "data": {
      "image/png": "[encoded data removed]",
      "text/plain": [
       "<Figure size 432x288 with 1 Axes>"
      ]
     },
     "metadata": {
      "needs_background": "light"
     },
     "output_type": "display_data"
    },
    {
     "name": "stdout",
     "output_type": "stream",
     "text": [
      "The mean of the residuals is -7.203e-16\n"
     ]
    }
   ],
   "source": [
    "# check for the normality of the residuals\n",
    "sm.qqplot(est.resid, line='s')\n",
    "pylab.show()\n",
    "\n",
    "# also check that the mean of the residuals is approx. 0.\n",
    "mean_residuals = sum(est.resid)/ len(est.resid)\n",
    "print(\"The mean of the residuals is {:.4}\".format(mean_residuals))"
   ]
  },
  {
   "cell_type": "markdown",
   "metadata": {},
   "source": [
    "## Model #10  \n",
    "We then took our previous model and removed certain grades as features, as they were not helping our model and possibly creating heteroscedasticity."
   ]
  },
  {
   "cell_type": "code",
   "execution_count": 64,
   "metadata": {},
   "outputs": [
    {
     "name": "stdout",
     "output_type": "stream",
     "text": [
      "R^2:  0.7559686827061596\n"
     ]
    }
   ],
   "source": [
    "features = ['quant_sqft_living','quant_coffee', 'quant_schools', 'quant_scientology', 'grade_5', 'grade_6', 'grade_7', 'grade_8', 'grade_9', 'grade_10', 'grade_11', 'grade_12', 'grade_13', 'quant_interaction']\n",
    "target = ['quant_price']\n",
    "X = df[features]\n",
    "y = df[target]\n",
    "\n",
    "# running an iteration of the model using train_test_split\n",
    "X_train, X_test, y_train, y_test = train_test_split(X,y, random_state=1)\n",
    "\n",
    "lm11 = LinearRegression().fit(X_train, y_train)\n",
    "lm11_preds = lm11.predict(X_test)\n",
    "\n",
    "print('R^2: ', r2_score(y_test, lm11_preds))"
   ]
  },
  {
   "cell_type": "code",
   "execution_count": 65,
   "metadata": {},
   "outputs": [
    {
     "data": {
      "text/html": [
       "<table class=\"simpletable\">\n",
       "<caption>OLS Regression Results</caption>\n",
       "<tr>\n",
       "  <th>Dep. Variable:</th>       <td>quant_price</td>   <th>  R-squared:         </th> <td>   0.761</td> \n",
       "</tr>\n",
       "<tr>\n",
       "  <th>Model:</th>                   <td>OLS</td>       <th>  Adj. R-squared:    </th> <td>   0.761</td> \n",
       "</tr>\n",
       "<tr>\n",
       "  <th>Method:</th>             <td>Least Squares</td>  <th>  F-statistic:       </th> <td>   3975.</td> \n",
       "</tr>\n",
       "<tr>\n",
       "  <th>Date:</th>             <td>Mon, 14 Dec 2020</td> <th>  Prob (F-statistic):</th>  <td>  0.00</td>  \n",
       "</tr>\n",
       "<tr>\n",
       "  <th>Time:</th>                 <td>16:23:30</td>     <th>  Log-Likelihood:    </th> <td> -12316.</td> \n",
       "</tr>\n",
       "<tr>\n",
       "  <th>No. Observations:</th>      <td> 17495</td>      <th>  AIC:               </th> <td>2.466e+04</td>\n",
       "</tr>\n",
       "<tr>\n",
       "  <th>Df Residuals:</th>          <td> 17480</td>      <th>  BIC:               </th> <td>2.478e+04</td>\n",
       "</tr>\n",
       "<tr>\n",
       "  <th>Df Model:</th>              <td>    14</td>      <th>                     </th>     <td> </td>    \n",
       "</tr>\n",
       "<tr>\n",
       "  <th>Covariance Type:</th>      <td>nonrobust</td>    <th>                     </th>     <td> </td>    \n",
       "</tr>\n",
       "</table>\n",
       "<table class=\"simpletable\">\n",
       "<tr>\n",
       "          <td></td>             <th>coef</th>     <th>std err</th>      <th>t</th>      <th>P>|t|</th>  <th>[0.025</th>    <th>0.975]</th>  \n",
       "</tr>\n",
       "<tr>\n",
       "  <th>Intercept</th>         <td>   -0.7595</td> <td>    0.123</td> <td>   -6.162</td> <td> 0.000</td> <td>   -1.001</td> <td>   -0.518</td>\n",
       "</tr>\n",
       "<tr>\n",
       "  <th>quant_sqft_living</th> <td>    0.4986</td> <td>    0.006</td> <td>   89.550</td> <td> 0.000</td> <td>    0.488</td> <td>    0.510</td>\n",
       "</tr>\n",
       "<tr>\n",
       "  <th>quant_coffee</th>      <td>   -0.0268</td> <td>    0.004</td> <td>   -6.779</td> <td> 0.000</td> <td>   -0.035</td> <td>   -0.019</td>\n",
       "</tr>\n",
       "<tr>\n",
       "  <th>quant_schools</th>     <td>   -0.0690</td> <td>    0.021</td> <td>   -3.229</td> <td> 0.001</td> <td>   -0.111</td> <td>   -0.027</td>\n",
       "</tr>\n",
       "<tr>\n",
       "  <th>quant_scientology</th> <td>   -0.1564</td> <td>    0.014</td> <td>  -11.045</td> <td> 0.000</td> <td>   -0.184</td> <td>   -0.129</td>\n",
       "</tr>\n",
       "<tr>\n",
       "  <th>quant_interaction</th> <td>   -0.2133</td> <td>    0.031</td> <td>   -6.882</td> <td> 0.000</td> <td>   -0.274</td> <td>   -0.153</td>\n",
       "</tr>\n",
       "<tr>\n",
       "  <th>grade_5</th>           <td>    0.1622</td> <td>    0.128</td> <td>    1.271</td> <td> 0.204</td> <td>   -0.088</td> <td>    0.412</td>\n",
       "</tr>\n",
       "<tr>\n",
       "  <th>grade_6</th>           <td>    0.3062</td> <td>    0.123</td> <td>    2.486</td> <td> 0.013</td> <td>    0.065</td> <td>    0.548</td>\n",
       "</tr>\n",
       "<tr>\n",
       "  <th>grade_7</th>           <td>    0.5827</td> <td>    0.123</td> <td>    4.730</td> <td> 0.000</td> <td>    0.341</td> <td>    0.824</td>\n",
       "</tr>\n",
       "<tr>\n",
       "  <th>grade_8</th>           <td>    0.8813</td> <td>    0.124</td> <td>    7.125</td> <td> 0.000</td> <td>    0.639</td> <td>    1.124</td>\n",
       "</tr>\n",
       "<tr>\n",
       "  <th>grade_9</th>           <td>    1.1946</td> <td>    0.125</td> <td>    9.592</td> <td> 0.000</td> <td>    0.951</td> <td>    1.439</td>\n",
       "</tr>\n",
       "<tr>\n",
       "  <th>grade_10</th>          <td>    1.4313</td> <td>    0.126</td> <td>   11.385</td> <td> 0.000</td> <td>    1.185</td> <td>    1.678</td>\n",
       "</tr>\n",
       "<tr>\n",
       "  <th>grade_11</th>          <td>    1.7186</td> <td>    0.129</td> <td>   13.371</td> <td> 0.000</td> <td>    1.467</td> <td>    1.971</td>\n",
       "</tr>\n",
       "<tr>\n",
       "  <th>grade_12</th>          <td>    2.0842</td> <td>    0.144</td> <td>   14.458</td> <td> 0.000</td> <td>    1.802</td> <td>    2.367</td>\n",
       "</tr>\n",
       "<tr>\n",
       "  <th>grade_13</th>          <td>    2.3268</td> <td>    0.236</td> <td>    9.839</td> <td> 0.000</td> <td>    1.863</td> <td>    2.790</td>\n",
       "</tr>\n",
       "</table>\n",
       "<table class=\"simpletable\">\n",
       "<tr>\n",
       "  <th>Omnibus:</th>       <td>391.327</td> <th>  Durbin-Watson:     </th> <td>   1.997</td> \n",
       "</tr>\n",
       "<tr>\n",
       "  <th>Prob(Omnibus):</th> <td> 0.000</td>  <th>  Jarque-Bera (JB):  </th> <td> 510.627</td> \n",
       "</tr>\n",
       "<tr>\n",
       "  <th>Skew:</th>          <td>-0.283</td>  <th>  Prob(JB):          </th> <td>1.31e-111</td>\n",
       "</tr>\n",
       "<tr>\n",
       "  <th>Kurtosis:</th>      <td> 3.616</td>  <th>  Cond. No.          </th> <td>    175.</td> \n",
       "</tr>\n",
       "</table><br/><br/>Warnings:<br/>[1] Standard Errors assume that the covariance matrix of the errors is correctly specified."
      ],
      "text/plain": [
       "<class 'statsmodels.iolib.summary.Summary'>\n",
       "\"\"\"\n",
       "                            OLS Regression Results                            \n",
       "==============================================================================\n",
       "Dep. Variable:            quant_price   R-squared:                       0.761\n",
       "Model:                            OLS   Adj. R-squared:                  0.761\n",
       "Method:                 Least Squares   F-statistic:                     3975.\n",
       "Date:                Mon, 14 Dec 2020   Prob (F-statistic):               0.00\n",
       "Time:                        16:23:30   Log-Likelihood:                -12316.\n",
       "No. Observations:               17495   AIC:                         2.466e+04\n",
       "Df Residuals:                   17480   BIC:                         2.478e+04\n",
       "Df Model:                          14                                         \n",
       "Covariance Type:            nonrobust                                         \n",
       "=====================================================================================\n",
       "                        coef    std err          t      P>|t|      [0.025      0.975]\n",
       "-------------------------------------------------------------------------------------\n",
       "Intercept            -0.7595      0.123     -6.162      0.000      -1.001      -0.518\n",
       "quant_sqft_living     0.4986      0.006     89.550      0.000       0.488       0.510\n",
       "quant_coffee         -0.0268      0.004     -6.779      0.000      -0.035      -0.019\n",
       "quant_schools        -0.0690      0.021     -3.229      0.001      -0.111      -0.027\n",
       "quant_scientology    -0.1564      0.014    -11.045      0.000      -0.184      -0.129\n",
       "quant_interaction    -0.2133      0.031     -6.882      0.000      -0.274      -0.153\n",
       "grade_5               0.1622      0.128      1.271      0.204      -0.088       0.412\n",
       "grade_6               0.3062      0.123      2.486      0.013       0.065       0.548\n",
       "grade_7               0.5827      0.123      4.730      0.000       0.341       0.824\n",
       "grade_8               0.8813      0.124      7.125      0.000       0.639       1.124\n",
       "grade_9               1.1946      0.125      9.592      0.000       0.951       1.439\n",
       "grade_10              1.4313      0.126     11.385      0.000       1.185       1.678\n",
       "grade_11              1.7186      0.129     13.371      0.000       1.467       1.971\n",
       "grade_12              2.0842      0.144     14.458      0.000       1.802       2.367\n",
       "grade_13              2.3268      0.236      9.839      0.000       1.863       2.790\n",
       "==============================================================================\n",
       "Omnibus:                      391.327   Durbin-Watson:                   1.997\n",
       "Prob(Omnibus):                  0.000   Jarque-Bera (JB):              510.627\n",
       "Skew:                          -0.283   Prob(JB):                    1.31e-111\n",
       "Kurtosis:                       3.616   Cond. No.                         175.\n",
       "==============================================================================\n",
       "\n",
       "Warnings:\n",
       "[1] Standard Errors assume that the covariance matrix of the errors is correctly specified.\n",
       "\"\"\""
      ]
     },
     "execution_count": 65,
     "metadata": {},
     "output_type": "execute_result"
    }
   ],
   "source": [
    "formula = \"quant_price ~ quant_sqft_living+quant_coffee+quant_schools+quant_scientology+quant_interaction+grade_5+grade_6+grade_7+grade_8+grade_9+grade_10+grade_11+grade_12+grade_13\"\n",
    "model = ols(formula= formula, data=df).fit()\n",
    "model.summary()"
   ]
  },
  {
   "cell_type": "code",
   "execution_count": 67,
   "metadata": {
    "scrolled": true
   },
   "outputs": [
    {
     "name": "stderr",
     "output_type": "stream",
     "text": [
      "/Users/dtunnicliffe/anaconda3/envs/learn-env/lib/python3.6/site-packages/numpy/core/fromnumeric.py:2580: FutureWarning: Method .ptp is deprecated and will be removed in a future version. Use numpy.ptp instead.\n",
      "  return ptp(axis=axis, out=out, **kwargs)\n"
     ]
    }
   ],
   "source": [
    "y_predict = lm10.predict(X_test)\n",
    "\n",
    "X2 = sm.add_constant(X)\n",
    "\n",
    "# create an OLS model\n",
    "model = sm.OLS(y, X2)\n",
    "\n",
    "# fit the data\n",
    "est = model.fit()"
   ]
  },
  {
   "cell_type": "code",
   "execution_count": 68,
   "metadata": {
    "scrolled": false
   },
   "outputs": [
    {
     "data": {
      "image/png": "[encoded data removed]",
      "text/plain": [
       "<Figure size 432x288 with 1 Axes>"
      ]
     },
     "metadata": {
      "needs_background": "light"
     },
     "output_type": "display_data"
    }
   ],
   "source": [
    "f = 'price ~ quant_sqft_living+quant_coffee+quant_schools+quant_scientology+quant_interaction+grade_6+grade_7+grade_8+grade_9+grade_10+grade_11+grade_12+grade_13'\n",
    "model = ols(formula = f, data = df).fit()\n",
    "\n",
    "predictors_quant = ['quant_sqft_living','quant_coffee', 'quant_schools', 'quant_scientology', 'grade_5', 'grade_6', 'grade_7', 'grade_8', 'grade_9', 'grade_10', 'grade_11', 'grade_12', 'grade_13', 'quant_interaction']\n",
    "\n",
    "plt.scatter(model.predict(df[predictors_quant]), model.resid, alpha = .5);\n",
    "plt.plot(model.predict(df[predictors_quant]), [0 for i in range(len(df))]);\n",
    "plt.title('Homoscedasticity | Quant Model, Final Model');"
   ]
  },
  {
   "cell_type": "code",
   "execution_count": 69,
   "metadata": {
    "scrolled": false
   },
   "outputs": [
    {
     "data": {
      "image/png": "[encoded data removed]",
      "text/plain": [
       "<Figure size 432x288 with 1 Axes>"
      ]
     },
     "metadata": {
      "needs_background": "light"
     },
     "output_type": "display_data"
    },
    {
     "name": "stdout",
     "output_type": "stream",
     "text": [
      "The mean of the residuals is -7.203e-16\n"
     ]
    }
   ],
   "source": [
    "# check for the normality of the residuals\n",
    "sm.qqplot(est.resid, line='s')\n",
    "pylab.show()\n",
    "\n",
    "# also check that the mean of the residuals is approx. 0.\n",
    "mean_residuals = sum(est.resid)/ len(est.resid)\n",
    "print(\"The mean of the residuals is {:.4}\".format(mean_residuals))"
   ]
  },
  {
   "cell_type": "markdown",
   "metadata": {},
   "source": [
    "Our residuals are relatively normal."
   ]
  },
  {
   "cell_type": "markdown",
   "metadata": {},
   "source": [
    "Our homoscedasticity declines with this final iteration; however, our R-squared, p-values, Durbin-Watson, and prob(F-statistic) are better than they were previously."
   ]
  },
  {
   "cell_type": "markdown",
   "metadata": {},
   "source": [
    "### Results\n",
    "\n",
    "The results of our complete analysis were as follows:\n",
    "* The feature with the highest impact on our R-squared value was square-footage of living space, which was positively correlated with house prices.\n",
    "* The feature with the next-highest impact was distance to a top school, which was negatively correlated with house prices. \n",
    "* The feature with the next-highest impact was building grade, which was positively correlated with house prices.  \n",
    "* The feature with the next-highest impact was distance to a scientology church, which was negatively correlated with house prices.\n",
    "* The feature with the next-highest impact was distance to a great coffee shop, which was negatively correlated with house prices.\n",
    "* The interaction between distance to a top school and distance to a scientology church was significant, as there was multicolinearity between the two. Accounting for this interaction showed improvement to our model.\n",
    "* And finally, the feature with the least impact was distance to a park, which had no significant impact on our model.\n",
    "\n",
    "We are confident that the results we extrapolated from this analysis would generalize beyond the data that we have. By looking at the available data, the trends and correlations we found were true for houses built from 1900 to 2015, so we are confident that they would hold true for houses built today. Despite the global pandemic, people are still buying and selling their homes. We have seen that children are still largely attending schools, and we speculate that people continue to desire a well-built homes with a large amount of living space, now more than ever. And the data has shown that people tend to pay more for a home that's near a good coffee shop and a scientology church!\n",
    "\n",
    "If the recommendations that we made are put to use, we are confident that King County Developers will have a successful career in the housing market. From the data, it is clear that all the attributes we have discussed are correlated with high home sale prices, which is exactly what King County Developers will want for their projects.\n"
   ]
  },
  {
   "cell_type": "markdown",
   "metadata": {},
   "source": [
    "### Final Evaluation and Conclusion"
   ]
  },
  {
   "cell_type": "markdown",
   "metadata": {},
   "source": [
    "Our best model had an R-squared value of 0.761, telling us that the model fit the data with an accuracy of 76%. After reviewing this final iteration, we felt confident in our recommendations that all of our available features except parks be considered by home developers in order to increase selling price. Sqare-feet of living space, building grade, distance to great schools, coffee shops, and churches of scientology, as well as the interaction between schools and scientology churches, all play a valuable role in predicting the price of a house in King County.\n",
    "\n",
    "The prob(F-statistic) of 0.00 tells us that there is an extremely low probability of achieving these results with the null hypothesis being true, and tells us that our regression is meaningful. Our p-values for our features are well below our alpha or significance level, showing that they are each contributing to the model significantly. With an alpha of 0.05, at a confidence level of 95%, we reject the null hypothesis that there is no relationship between our features and our target variable, price.\n",
    "\n",
    "Our recommendations are as follows:\n",
    "* increase square-footage of living space\n",
    "* attain the highest possible building grade\n",
    "* build and develop homes in close proximity to a top school district\n",
    "* build and develop homes in close proximity to a highly-rated coffee shop\n",
    "* build and develop homes in close proximity to a scientology church\n",
    "\n",
    "By following the above recommendations, a housing development company in King County can increase their chances of selling higher-priced homes.\n",
    "\n",
    "In the future, our next steps would be reducing noise in the data to improve the accuracy of our model. Additionally, we would like to investigate certain features, such as constructional/architectural values of the house, to see what trends we could discern from that. Some ideas would be whether basements are correlated with higher house prices, or whether the amount of bathrooms has an impact. "
   ]
  }
 ],
 "metadata": {
  "kernelspec": {
   "display_name": "learn-env",
   "language": "python",
   "name": "learn-env"
  },
  "language_info": {
   "codemirror_mode": {
    "name": "ipython",
    "version": 3
   },
   "file_extension": ".py",
   "mimetype": "text/x-python",
   "name": "python",
   "nbconvert_exporter": "python",
   "pygments_lexer": "ipython3",
   "version": "3.6.9"
  }
 },
 "nbformat": 4,
 "nbformat_minor": 4
}
