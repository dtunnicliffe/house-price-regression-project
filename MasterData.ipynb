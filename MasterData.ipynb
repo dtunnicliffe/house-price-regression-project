{
 "cells": [
  {
   "cell_type": "code",
   "execution_count": 1,
   "metadata": {},
   "outputs": [],
   "source": [
    "import numpy as np\n",
    "import pandas as pd \n",
    "import matplotlib.pyplot as plt\n",
    "%matplotlib inline\n",
    "import seaborn as sns\n",
    "import geopandas\n",
    "import geopy\n",
    "import sklearn\n",
    "import statsmodels.api as sm\n",
    "from statsmodels.formula.api import ols\n",
    "from scipy import stats\n",
    "import warnings\n",
    "warnings.filterwarnings('ignore')\n",
    "from sklearn.preprocessing import QuantileTransformer\n",
    "import sklearn\n",
    "from sklearn.neighbors import NearestNeighbors"
   ]
  },
  {
   "cell_type": "code",
   "execution_count": 2,
   "metadata": {},
   "outputs": [],
   "source": [
    "data = pd.read_csv('data/kc_house_data.csv')"
   ]
  },
  {
   "cell_type": "code",
   "execution_count": 3,
   "metadata": {},
   "outputs": [],
   "source": [
    "data['price_sqft'] = data['price'] / data['sqft_living']\n",
    "data['price_sqft_transformed'] = data['price'] / data['sqft_living']\n",
    "\n",
    "data['price']\n",
    "std = data.price.std()\n",
    "mean = data.price.mean()\n",
    "std_15 = mean + (1.5*std)\n",
    "std_15m = mean - (1.5*std)\n",
    "# removing outliers\n",
    "# focusing on data within 1.5 standard deviations from the mean\n",
    "data = data.loc[(data['price']<std_15) & (data['price']>std_15m)]"
   ]
  },
  {
   "cell_type": "code",
   "execution_count": 4,
   "metadata": {},
   "outputs": [],
   "source": [
    "drop = ['id','date', 'yr_built', 'bedrooms', 'bathrooms','sqft_lot', 'floors', 'waterfront', 'view', 'condition', 'sqft_above', 'sqft_basement', 'yr_built', 'yr_renovated', 'zipcode', 'sqft_living15', 'sqft_lot15']\n",
    "data = data.drop(columns = drop, axis=1)"
   ]
  },
  {
   "cell_type": "code",
   "execution_count": 5,
   "metadata": {
    "scrolled": false
   },
   "outputs": [
    {
     "data": {
      "text/plain": [
       "price                     0\n",
       "sqft_living               0\n",
       "grade                     0\n",
       "lat                       0\n",
       "long                      0\n",
       "price_sqft                0\n",
       "price_sqft_transformed    0\n",
       "dtype: int64"
      ]
     },
     "execution_count": 5,
     "metadata": {},
     "output_type": "execute_result"
    }
   ],
   "source": [
    "data.isnull().sum()"
   ]
  },
  {
   "cell_type": "markdown",
   "metadata": {},
   "source": [
    "#### Adding park locations"
   ]
  },
  {
   "cell_type": "code",
   "execution_count": 6,
   "metadata": {},
   "outputs": [],
   "source": [
    "# for entire data scraping process, please see other notebook\n",
    "\n",
    "# reading the csv file\n",
    "king_parks = pd.read_csv('data/ParkAddresses_Revised_wLatLong.csv', index_col='ID')"
   ]
  },
  {
   "cell_type": "code",
   "execution_count": 7,
   "metadata": {},
   "outputs": [],
   "source": [
    "#create function to find distances between all points in DF and return matrix\n",
    "def find_distance(dataframe):\n",
    "    dist = sklearn.neighbors.DistanceMetric.get_metric('haversine')\n",
    "    \n",
    "    #convert lat and long to radians\n",
    "    dataframe[['lat_radians','long_radians']] = (np.radians(dataframe.loc[:,['Lat','Long']]))\n",
    "    \n",
    "    #create list matrix (results in km)          \n",
    "    dist_matrix = (dist.pairwise\n",
    "    (data[['lat_radians_A','long_radians_A']],\n",
    "     dataframe[['lat_radians','long_radians']])*6371)\n",
    "                                                 \n",
    "    #return a matrix DataFrame\n",
    "    return pd.DataFrame(dist_matrix)"
   ]
  },
  {
   "cell_type": "code",
   "execution_count": 8,
   "metadata": {},
   "outputs": [],
   "source": [
    "#convert lat and long to radians in housing data\n",
    "data[['lat_radians_A','long_radians_A']] = (np.radians(data.loc[:,['lat','long']]))"
   ]
  },
  {
   "cell_type": "code",
   "execution_count": 9,
   "metadata": {},
   "outputs": [],
   "source": [
    "park_matrix = find_distance(king_parks)"
   ]
  },
  {
   "cell_type": "code",
   "execution_count": 10,
   "metadata": {},
   "outputs": [],
   "source": [
    "#find min distance in each row\n",
    "park_min_matrix = park_matrix.where(park_matrix.values == park_matrix.min(\n",
    "    axis=1)[:,None]).drop_duplicates()"
   ]
  },
  {
   "cell_type": "code",
   "execution_count": 11,
   "metadata": {},
   "outputs": [],
   "source": [
    "#create a new column with only min distance and remove the rest \n",
    "park_min_matrix['min_dist_park'] = park_min_matrix[park_min_matrix.columns[0:]].apply(\n",
    "    lambda x: ','.join(x.dropna().astype(str)),\n",
    "    axis=1)\n",
    "nearest_park = park_min_matrix['min_dist_park']"
   ]
  },
  {
   "cell_type": "code",
   "execution_count": 12,
   "metadata": {},
   "outputs": [
    {
     "data": {
      "text/plain": [
       "0          2.038307293948517\n",
       "1         5.6653668000626025\n",
       "2          1.337990461344532\n",
       "3          2.448557143643891\n",
       "4          3.723027946782503\n",
       "                ...         \n",
       "20361    0.22072098764999543\n",
       "20362     5.3240353166635686\n",
       "20365    0.16836104215013137\n",
       "20366      5.811244676660208\n",
       "20368      5.779031635163857\n",
       "Name: min_dist_park, Length: 19612, dtype: object"
      ]
     },
     "execution_count": 12,
     "metadata": {},
     "output_type": "execute_result"
    }
   ],
   "source": [
    "nearest_park"
   ]
  },
  {
   "cell_type": "code",
   "execution_count": 13,
   "metadata": {},
   "outputs": [
    {
     "data": {
      "text/html": [
       "<div>\n",
       "<style scoped>\n",
       "    .dataframe tbody tr th:only-of-type {\n",
       "        vertical-align: middle;\n",
       "    }\n",
       "\n",
       "    .dataframe tbody tr th {\n",
       "        vertical-align: top;\n",
       "    }\n",
       "\n",
       "    .dataframe thead th {\n",
       "        text-align: right;\n",
       "    }\n",
       "</style>\n",
       "<table border=\"1\" class=\"dataframe\">\n",
       "  <thead>\n",
       "    <tr style=\"text-align: right;\">\n",
       "      <th></th>\n",
       "      <th>price</th>\n",
       "      <th>sqft_living</th>\n",
       "      <th>grade</th>\n",
       "      <th>lat</th>\n",
       "      <th>long</th>\n",
       "      <th>price_sqft</th>\n",
       "      <th>price_sqft_transformed</th>\n",
       "      <th>lat_radians_A</th>\n",
       "      <th>long_radians_A</th>\n",
       "      <th>min_dist_park</th>\n",
       "    </tr>\n",
       "  </thead>\n",
       "  <tbody>\n",
       "    <tr>\n",
       "      <th>0</th>\n",
       "      <td>221900.0</td>\n",
       "      <td>1180</td>\n",
       "      <td>7</td>\n",
       "      <td>47.5112</td>\n",
       "      <td>-122.257</td>\n",
       "      <td>188.050847</td>\n",
       "      <td>188.050847</td>\n",
       "      <td>0.829227</td>\n",
       "      <td>-2.133787</td>\n",
       "      <td>2.038307</td>\n",
       "    </tr>\n",
       "    <tr>\n",
       "      <th>1</th>\n",
       "      <td>538000.0</td>\n",
       "      <td>2570</td>\n",
       "      <td>7</td>\n",
       "      <td>47.7210</td>\n",
       "      <td>-122.319</td>\n",
       "      <td>209.338521</td>\n",
       "      <td>209.338521</td>\n",
       "      <td>0.832889</td>\n",
       "      <td>-2.134869</td>\n",
       "      <td>5.665367</td>\n",
       "    </tr>\n",
       "    <tr>\n",
       "      <th>2</th>\n",
       "      <td>180000.0</td>\n",
       "      <td>770</td>\n",
       "      <td>6</td>\n",
       "      <td>47.7379</td>\n",
       "      <td>-122.233</td>\n",
       "      <td>233.766234</td>\n",
       "      <td>233.766234</td>\n",
       "      <td>0.833184</td>\n",
       "      <td>-2.133368</td>\n",
       "      <td>1.337990</td>\n",
       "    </tr>\n",
       "    <tr>\n",
       "      <th>3</th>\n",
       "      <td>604000.0</td>\n",
       "      <td>1960</td>\n",
       "      <td>7</td>\n",
       "      <td>47.5208</td>\n",
       "      <td>-122.393</td>\n",
       "      <td>308.163265</td>\n",
       "      <td>308.163265</td>\n",
       "      <td>0.829394</td>\n",
       "      <td>-2.136161</td>\n",
       "      <td>2.448557</td>\n",
       "    </tr>\n",
       "    <tr>\n",
       "      <th>4</th>\n",
       "      <td>510000.0</td>\n",
       "      <td>1680</td>\n",
       "      <td>8</td>\n",
       "      <td>47.6168</td>\n",
       "      <td>-122.045</td>\n",
       "      <td>303.571429</td>\n",
       "      <td>303.571429</td>\n",
       "      <td>0.831070</td>\n",
       "      <td>-2.130087</td>\n",
       "      <td>3.723028</td>\n",
       "    </tr>\n",
       "  </tbody>\n",
       "</table>\n",
       "</div>"
      ],
      "text/plain": [
       "      price  sqft_living  grade      lat     long  price_sqft  \\\n",
       "0  221900.0         1180      7  47.5112 -122.257  188.050847   \n",
       "1  538000.0         2570      7  47.7210 -122.319  209.338521   \n",
       "2  180000.0          770      6  47.7379 -122.233  233.766234   \n",
       "3  604000.0         1960      7  47.5208 -122.393  308.163265   \n",
       "4  510000.0         1680      8  47.6168 -122.045  303.571429   \n",
       "\n",
       "   price_sqft_transformed  lat_radians_A  long_radians_A  min_dist_park  \n",
       "0              188.050847       0.829227       -2.133787       2.038307  \n",
       "1              209.338521       0.832889       -2.134869       5.665367  \n",
       "2              233.766234       0.833184       -2.133368       1.337990  \n",
       "3              308.163265       0.829394       -2.136161       2.448557  \n",
       "4              303.571429       0.831070       -2.130087       3.723028  "
      ]
     },
     "execution_count": 13,
     "metadata": {},
     "output_type": "execute_result"
    }
   ],
   "source": [
    "data = data.join(nearest_park, how='left')\n",
    "data['min_dist_park']= data['min_dist_park'].astype('float64')\n",
    "data.head()"
   ]
  },
  {
   "cell_type": "markdown",
   "metadata": {},
   "source": [
    "#### Adding top school locations"
   ]
  },
  {
   "cell_type": "code",
   "execution_count": 14,
   "metadata": {},
   "outputs": [
    {
     "data": {
      "text/html": [
       "<div>\n",
       "<style scoped>\n",
       "    .dataframe tbody tr th:only-of-type {\n",
       "        vertical-align: middle;\n",
       "    }\n",
       "\n",
       "    .dataframe tbody tr th {\n",
       "        vertical-align: top;\n",
       "    }\n",
       "\n",
       "    .dataframe thead th {\n",
       "        text-align: right;\n",
       "    }\n",
       "</style>\n",
       "<table border=\"1\" class=\"dataframe\">\n",
       "  <thead>\n",
       "    <tr style=\"text-align: right;\">\n",
       "      <th></th>\n",
       "      <th>Column1</th>\n",
       "      <th>year</th>\n",
       "      <th>ncessch</th>\n",
       "      <th>school_name</th>\n",
       "      <th>state_name</th>\n",
       "      <th>lea_name</th>\n",
       "      <th>zip_location</th>\n",
       "      <th>latitude</th>\n",
       "      <th>longitude</th>\n",
       "      <th>county_code</th>\n",
       "      <th>school_level</th>\n",
       "      <th>school_type</th>\n",
       "    </tr>\n",
       "  </thead>\n",
       "  <tbody>\n",
       "    <tr>\n",
       "      <th>0</th>\n",
       "      <td>43</td>\n",
       "      <td>2015</td>\n",
       "      <td>5.300390e+11</td>\n",
       "      <td>Ardmore Elementary School</td>\n",
       "      <td>Washington</td>\n",
       "      <td>Bellevue School District</td>\n",
       "      <td>98008</td>\n",
       "      <td>47.639591</td>\n",
       "      <td>-122.117467</td>\n",
       "      <td>53033</td>\n",
       "      <td>Primary</td>\n",
       "      <td>Regular school</td>\n",
       "    </tr>\n",
       "    <tr>\n",
       "      <th>1</th>\n",
       "      <td>44</td>\n",
       "      <td>2015</td>\n",
       "      <td>5.300390e+11</td>\n",
       "      <td>Bellevue High School</td>\n",
       "      <td>Washington</td>\n",
       "      <td>Bellevue School District</td>\n",
       "      <td>98004</td>\n",
       "      <td>47.604668</td>\n",
       "      <td>-122.197234</td>\n",
       "      <td>53033</td>\n",
       "      <td>High</td>\n",
       "      <td>Regular school</td>\n",
       "    </tr>\n",
       "    <tr>\n",
       "      <th>2</th>\n",
       "      <td>45</td>\n",
       "      <td>2015</td>\n",
       "      <td>5.300390e+11</td>\n",
       "      <td>Bennett Elementary School</td>\n",
       "      <td>Washington</td>\n",
       "      <td>Bellevue School District</td>\n",
       "      <td>98008</td>\n",
       "      <td>47.624703</td>\n",
       "      <td>-122.101974</td>\n",
       "      <td>53033</td>\n",
       "      <td>Primary</td>\n",
       "      <td>Regular school</td>\n",
       "    </tr>\n",
       "    <tr>\n",
       "      <th>3</th>\n",
       "      <td>46</td>\n",
       "      <td>2015</td>\n",
       "      <td>5.300390e+11</td>\n",
       "      <td>Cherry Crest Elementary School</td>\n",
       "      <td>Washington</td>\n",
       "      <td>Bellevue School District</td>\n",
       "      <td>98005</td>\n",
       "      <td>47.639440</td>\n",
       "      <td>-122.173711</td>\n",
       "      <td>53033</td>\n",
       "      <td>Primary</td>\n",
       "      <td>Regular school</td>\n",
       "    </tr>\n",
       "    <tr>\n",
       "      <th>4</th>\n",
       "      <td>47</td>\n",
       "      <td>2015</td>\n",
       "      <td>5.300390e+11</td>\n",
       "      <td>Chinook Middle School</td>\n",
       "      <td>Washington</td>\n",
       "      <td>Bellevue School District</td>\n",
       "      <td>98004</td>\n",
       "      <td>47.627850</td>\n",
       "      <td>-122.210751</td>\n",
       "      <td>53033</td>\n",
       "      <td>Middle</td>\n",
       "      <td>Regular school</td>\n",
       "    </tr>\n",
       "  </tbody>\n",
       "</table>\n",
       "</div>"
      ],
      "text/plain": [
       "   Column1  year       ncessch                     school_name  state_name  \\\n",
       "0       43  2015  5.300390e+11       Ardmore Elementary School  Washington   \n",
       "1       44  2015  5.300390e+11            Bellevue High School  Washington   \n",
       "2       45  2015  5.300390e+11       Bennett Elementary School  Washington   \n",
       "3       46  2015  5.300390e+11  Cherry Crest Elementary School  Washington   \n",
       "4       47  2015  5.300390e+11           Chinook Middle School  Washington   \n",
       "\n",
       "                   lea_name  zip_location   latitude   longitude  county_code  \\\n",
       "0  Bellevue School District         98008  47.639591 -122.117467        53033   \n",
       "1  Bellevue School District         98004  47.604668 -122.197234        53033   \n",
       "2  Bellevue School District         98008  47.624703 -122.101974        53033   \n",
       "3  Bellevue School District         98005  47.639440 -122.173711        53033   \n",
       "4  Bellevue School District         98004  47.627850 -122.210751        53033   \n",
       "\n",
       "  school_level     school_type  \n",
       "0      Primary  Regular school  \n",
       "1         High  Regular school  \n",
       "2      Primary  Regular school  \n",
       "3      Primary  Regular school  \n",
       "4       Middle  Regular school  "
      ]
     },
     "execution_count": 14,
     "metadata": {},
     "output_type": "execute_result"
    }
   ],
   "source": [
    "# importing school data\n",
    "# for entire data obtaining process, please see other notebook\n",
    "\n",
    "# reading the csv file\n",
    "top_schools_df = pd.read_csv('data/top_schools.csv')\n",
    "# previewing the DataFrame\n",
    "top_schools_df.head()"
   ]
  },
  {
   "cell_type": "code",
   "execution_count": 15,
   "metadata": {},
   "outputs": [],
   "source": [
    "top_schools_df.drop(columns = 'Column1', axis=1, inplace=True)"
   ]
  },
  {
   "cell_type": "code",
   "execution_count": 16,
   "metadata": {},
   "outputs": [],
   "source": [
    "import haversine as hs \n",
    "#geographic distance calculator\n",
    "#function that identifies the distance between a point of interest and house \n",
    "def distance_to(point_of_interest):\n",
    "    distance = data[['lat','long']].apply(lambda x: hs.haversine(x.tolist(), point_of_interest), axis=1)\n",
    "    return distance"
   ]
  },
  {
   "cell_type": "code",
   "execution_count": 17,
   "metadata": {},
   "outputs": [],
   "source": [
    "top_school_coordinates = []\n",
    "x = round(top_schools_df.latitude, 2)\n",
    "y = round(top_schools_df.longitude, 2)\n",
    "top_school_coordinates = list(zip(x,y))"
   ]
  },
  {
   "cell_type": "code",
   "execution_count": 18,
   "metadata": {},
   "outputs": [],
   "source": [
    "for i in range(len(top_school_coordinates)):\n",
    "    data[f'top_school_{i}'] = distance_to(top_school_coordinates[i])\n",
    "\n",
    "top_school_cols = []\n",
    "for i in range(len(top_school_coordinates)):\n",
    "    top_school_cols.append(f'top_school_{i}')\n",
    "    data['closest_distance_to_top_school'] = data[top_school_cols].min(axis=1)"
   ]
  },
  {
   "cell_type": "code",
   "execution_count": 19,
   "metadata": {
    "scrolled": true
   },
   "outputs": [
    {
     "data": {
      "text/html": [
       "<div>\n",
       "<style scoped>\n",
       "    .dataframe tbody tr th:only-of-type {\n",
       "        vertical-align: middle;\n",
       "    }\n",
       "\n",
       "    .dataframe tbody tr th {\n",
       "        vertical-align: top;\n",
       "    }\n",
       "\n",
       "    .dataframe thead th {\n",
       "        text-align: right;\n",
       "    }\n",
       "</style>\n",
       "<table border=\"1\" class=\"dataframe\">\n",
       "  <thead>\n",
       "    <tr style=\"text-align: right;\">\n",
       "      <th></th>\n",
       "      <th>price</th>\n",
       "      <th>sqft_living</th>\n",
       "      <th>grade</th>\n",
       "      <th>lat</th>\n",
       "      <th>long</th>\n",
       "      <th>price_sqft</th>\n",
       "      <th>price_sqft_transformed</th>\n",
       "      <th>min_dist_park</th>\n",
       "      <th>closest_distance_to_top_school</th>\n",
       "    </tr>\n",
       "  </thead>\n",
       "  <tbody>\n",
       "    <tr>\n",
       "      <th>0</th>\n",
       "      <td>221900.0</td>\n",
       "      <td>1180</td>\n",
       "      <td>7</td>\n",
       "      <td>47.5112</td>\n",
       "      <td>-122.257</td>\n",
       "      <td>188.050847</td>\n",
       "      <td>188.050847</td>\n",
       "      <td>2.038307</td>\n",
       "      <td>0.261867</td>\n",
       "    </tr>\n",
       "    <tr>\n",
       "      <th>1</th>\n",
       "      <td>538000.0</td>\n",
       "      <td>2570</td>\n",
       "      <td>7</td>\n",
       "      <td>47.7210</td>\n",
       "      <td>-122.319</td>\n",
       "      <td>209.338521</td>\n",
       "      <td>209.338521</td>\n",
       "      <td>5.665367</td>\n",
       "      <td>0.682377</td>\n",
       "    </tr>\n",
       "    <tr>\n",
       "      <th>2</th>\n",
       "      <td>180000.0</td>\n",
       "      <td>770</td>\n",
       "      <td>6</td>\n",
       "      <td>47.7379</td>\n",
       "      <td>-122.233</td>\n",
       "      <td>233.766234</td>\n",
       "      <td>233.766234</td>\n",
       "      <td>1.337990</td>\n",
       "      <td>2.003000</td>\n",
       "    </tr>\n",
       "    <tr>\n",
       "      <th>3</th>\n",
       "      <td>604000.0</td>\n",
       "      <td>1960</td>\n",
       "      <td>7</td>\n",
       "      <td>47.5208</td>\n",
       "      <td>-122.393</td>\n",
       "      <td>308.163265</td>\n",
       "      <td>308.163265</td>\n",
       "      <td>2.448557</td>\n",
       "      <td>1.729431</td>\n",
       "    </tr>\n",
       "    <tr>\n",
       "      <th>4</th>\n",
       "      <td>510000.0</td>\n",
       "      <td>1680</td>\n",
       "      <td>8</td>\n",
       "      <td>47.6168</td>\n",
       "      <td>-122.045</td>\n",
       "      <td>303.571429</td>\n",
       "      <td>303.571429</td>\n",
       "      <td>3.723028</td>\n",
       "      <td>1.179255</td>\n",
       "    </tr>\n",
       "  </tbody>\n",
       "</table>\n",
       "</div>"
      ],
      "text/plain": [
       "      price  sqft_living  grade      lat     long  price_sqft  \\\n",
       "0  221900.0         1180      7  47.5112 -122.257  188.050847   \n",
       "1  538000.0         2570      7  47.7210 -122.319  209.338521   \n",
       "2  180000.0          770      6  47.7379 -122.233  233.766234   \n",
       "3  604000.0         1960      7  47.5208 -122.393  308.163265   \n",
       "4  510000.0         1680      8  47.6168 -122.045  303.571429   \n",
       "\n",
       "   price_sqft_transformed  min_dist_park  closest_distance_to_top_school  \n",
       "0              188.050847       2.038307                        0.261867  \n",
       "1              209.338521       5.665367                        0.682377  \n",
       "2              233.766234       1.337990                        2.003000  \n",
       "3              308.163265       2.448557                        1.729431  \n",
       "4              303.571429       3.723028                        1.179255  "
      ]
     },
     "execution_count": 19,
     "metadata": {},
     "output_type": "execute_result"
    }
   ],
   "source": [
    "data.drop(columns = top_school_cols, axis=1, inplace=True)\n",
    "rad_cols = ['lat_radians_A', 'long_radians_A']\n",
    "data.drop(columns=rad_cols, axis=1, inplace=True)\n",
    "data.head()"
   ]
  },
  {
   "cell_type": "markdown",
   "metadata": {},
   "source": [
    "#### Adding Scientolgy locations"
   ]
  },
  {
   "cell_type": "code",
   "execution_count": 20,
   "metadata": {},
   "outputs": [],
   "source": [
    "#locations pulled from scientology-seattle.org\n",
    "church_of_scientology_mission = (47.818100, -122.315430)\n",
    "church_of_scientology_washington = (47.622380, -122.361020)\n",
    "church_of_scientology_life_improvement_center = (47.615060, -122.327580)"
   ]
  },
  {
   "cell_type": "code",
   "execution_count": 21,
   "metadata": {},
   "outputs": [],
   "source": [
    "#function that identifies the distance between a point of interest and house \n",
    "def distance_to(point_of_interest):\n",
    "    distance = data[['lat','long']].apply(lambda x: hs.haversine(x.tolist(), point_of_interest), axis=1)\n",
    "    return distance"
   ]
  },
  {
   "cell_type": "code",
   "execution_count": 22,
   "metadata": {},
   "outputs": [],
   "source": [
    "#creating new columns of distances from houses to point of interest\n",
    "data['distance_to_scientology_m'] = distance_to(church_of_scientology_mission)\n",
    "data['distance_to_scientology_w'] = distance_to(church_of_scientology_washington)\n",
    "data['distance_to_scientology_l'] = distance_to(church_of_scientology_life_improvement_center)\n",
    "data['closest_distance_to_scientology'] = data[['distance_to_scientology_m',\n",
    "                                                        'distance_to_scientology_w',\n",
    "                                                        'distance_to_scientology_l']].min(axis=1)"
   ]
  },
  {
   "cell_type": "code",
   "execution_count": 23,
   "metadata": {},
   "outputs": [],
   "source": [
    "sci_cols = ['distance_to_scientology_m', 'distance_to_scientology_w',\n",
    "           'distance_to_scientology_l']\n",
    "data.drop(columns = sci_cols, axis=1, inplace=True)"
   ]
  },
  {
   "cell_type": "markdown",
   "metadata": {},
   "source": [
    "#### Add great coffee shop locations"
   ]
  },
  {
   "cell_type": "markdown",
   "metadata": {},
   "source": [
    "def get_keys(path):\n",
    "    with open(path) as f:\n",
    "        return json.load(f)\n",
    "\n",
    "keys = get_keys(\"/Users/dtunnicliffe/.secret/yelp_api.json\")\n",
    "api_key = keys['api_key']\n",
    "\n",
    "term = 'coffee'\n",
    "location = 'King County, WA'\n",
    "SEARCH_LIMIT = 10\n",
    "espresso = pd.DataFrame([])\n",
    "def yelp(term, location, SEARCH_LIMIT):\n",
    "    global espresso\n",
    "    url = 'https://api.yelp.com/v3/businesses/search'\n",
    "    headers = {\n",
    "    'Authorization': f'Bearer {api_key}',\n",
    "    }\n",
    "    url_params = {\n",
    "    'term': term.replace(' ', '+'),\n",
    "    'location': location.replace(' ', '+'),\n",
    "    'limit': SEARCH_LIMIT,\n",
    "    'sort_by': 'rating'\n",
    "    }\n",
    "    response = requests.get(url, headers=headers, params=url_params)\n",
    "    df_temp = pd.DataFrame.from_dict(response.json()['businesses'])\n",
    "    espresso = espresso.append(df_temp)\n",
    "    return espresso"
   ]
  },
  {
   "cell_type": "markdown",
   "metadata": {},
   "source": [
    "espresso = yelp(term, location, SEARCH_LIMIT)"
   ]
  },
  {
   "cell_type": "markdown",
   "metadata": {},
   "source": [
    "great_coffee_coordinates = []\n",
    "x = [round(coordinate['latitude'], 2) for coordinate in espresso['coordinates']]\n",
    "y = [round(coordinate['longitude'], 2) for coordinate in espresso['coordinates']]\n",
    "great_coffee_coordinates = list(zip(x,y))"
   ]
  },
  {
   "cell_type": "markdown",
   "metadata": {},
   "source": [
    "for i in range(len(great_coffee_coordinates)):\n",
    "    data[f'great_coffee_{i}'] = distance_to(great_coffee_coordinates[i])\n",
    "\n",
    "great_coffee_cols = []\n",
    "for i in range(len(great_coffee_coordinates)):\n",
    "    great_coffee_cols.append(f'great_coffee_{i}')\n",
    "    data['closest_distance_to_great_coffee'] = data[great_coffee_cols].min(axis=1)"
   ]
  },
  {
   "cell_type": "markdown",
   "metadata": {},
   "source": [
    "#dropping unnecessary columns\n",
    "data = data.drop(columns = great_coffee_cols, axis=1)\n",
    "data.head()"
   ]
  },
  {
   "cell_type": "markdown",
   "metadata": {},
   "source": [
    "#### Use quantile transformation for all features "
   ]
  },
  {
   "cell_type": "code",
   "execution_count": 26,
   "metadata": {},
   "outputs": [],
   "source": [
    "qt = QuantileTransformer(output_distribution='normal')\n",
    "to_transform= ['sqft_living', 'min_dist_park', 'closest_distance_to_top_school', 'closest_distance_to_scientology', 'price_sqft_transformed']\n",
    "data[to_transform] = qt.fit_transform(data[to_transform])"
   ]
  },
  {
   "cell_type": "code",
   "execution_count": 27,
   "metadata": {
    "scrolled": false
   },
   "outputs": [],
   "source": [
    "data.to_csv('data/ master_data_wo_coffee.csv')"
   ]
  },
  {
   "cell_type": "code",
   "execution_count": null,
   "metadata": {},
   "outputs": [],
   "source": [
    "data.shape"
   ]
  },
  {
   "cell_type": "code",
   "execution_count": null,
   "metadata": {},
   "outputs": [],
   "source": [
    "sns.distplot(data['price_sqft']);\n",
    "print('Kurtosis: ' + str(data['price_sqft'].kurt()))\n",
    "print('Skewness: ' + str(data['price_sqft'].skew()))"
   ]
  },
  {
   "cell_type": "code",
   "execution_count": null,
   "metadata": {},
   "outputs": [],
   "source": [
    "sns.distplot(data['closest_distance_to_top_school'], color = 'blue');\n",
    "sns.distplot(data['closest_distance_to_great_coffee'], color = 'yellow');\n",
    "sns.distplot(data['closest_distance_to_scientology'], color = 'green');\n",
    "sns.distplot(data['closest_distance_to_great_coffee'], color = 'orange');\n",
    "sns.distplot(data['min_dist_park_rv'], color = 'red');"
   ]
  },
  {
   "cell_type": "code",
   "execution_count": null,
   "metadata": {},
   "outputs": [],
   "source": [
    "data['min_dist_park_rv']\n",
    "std = data.min_dist_park_rv.std()\n",
    "mean = data.min_dist_park_rv.mean()\n",
    "std_15 = mean + (1.5*std)\n",
    "std_15m = mean - (1.5*std)\n",
    "# removing outliers\n",
    "# focusing on data within 1.5 standard deviations from the mean\n",
    "data = data.loc[(data['min_dist_park_rv']<std_15) & (data['min_dist_park_rv']>std_15m)]"
   ]
  },
  {
   "cell_type": "code",
   "execution_count": null,
   "metadata": {},
   "outputs": [],
   "source": [
    "sns.distplot(data['min_dist_park_rv'], color = 'red');"
   ]
  },
  {
   "cell_type": "code",
   "execution_count": null,
   "metadata": {},
   "outputs": [],
   "source": []
  }
 ],
 "metadata": {
  "kernelspec": {
   "display_name": "Python 3",
   "language": "python",
   "name": "python3"
  },
  "language_info": {
   "codemirror_mode": {
    "name": "ipython",
    "version": 3
   },
   "file_extension": ".py",
   "mimetype": "text/x-python",
   "name": "python",
   "nbconvert_exporter": "python",
   "pygments_lexer": "ipython3",
   "version": "3.9.0"
  }
 },
 "nbformat": 4,
 "nbformat_minor": 4
}
