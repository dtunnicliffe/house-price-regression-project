{
 "cells": [
  {
   "cell_type": "code",
   "execution_count": 1,
   "metadata": {},
   "outputs": [],
   "source": [
    "import numpy as np\n",
    "import pandas as pd \n",
    "\n",
    "import matplotlib.pyplot as plt\n",
    "%matplotlib inline\n",
    "import seaborn as sns\n",
    "\n",
    "import sklearn\n",
    "import statsmodels.api as sm\n",
    "from statsmodels.formula.api import ols\n",
    "import statsmodels.stats.api as sms\n",
    "import statsmodels.formula.api as smf\n",
    "from sklearn.model_selection import train_test_split\n",
    "from sklearn.metrics import mean_squared_error, r2_score, mean_absolute_error\n",
    "from scipy import stats\n",
    "from sklearn.metrics import r2_score\n",
    "from sklearn.linear_model import LinearRegression\n",
    "from sklearn.svm import SVR\n",
    "from sklearn.feature_selection import RFE\n",
    "\n",
    "import warnings\n",
    "warnings.filterwarnings('ignore')"
   ]
  },
  {
   "cell_type": "code",
   "execution_count": 2,
   "metadata": {},
   "outputs": [],
   "source": [
    "data = pd.read_csv('data/all_features_with_logs.csv', index_col = 'Unnamed: 0')"
   ]
  },
  {
   "cell_type": "markdown",
   "metadata": {},
   "source": [
    "### Relooking at data with revised park data\n",
    "removing natural areas, trail heads, aquatic centers and open spaces from the dataset"
   ]
  },
  {
   "cell_type": "code",
   "execution_count": 3,
   "metadata": {},
   "outputs": [],
   "source": [
    "data['log_park_rv'] = np.log(data['min_dist_park_rv'])"
   ]
  },
  {
   "cell_type": "code",
   "execution_count": 4,
   "metadata": {},
   "outputs": [],
   "source": [
    "#some park distances are infinite floats - remove\n",
    "data = data.replace([np.inf, -np.inf, -0], 0)"
   ]
  },
  {
   "cell_type": "code",
   "execution_count": 5,
   "metadata": {},
   "outputs": [],
   "source": [
    "x_cols = ['sqft_living','grade','log_park_rv',\n",
    "       'log_school', 'log_coffee', 'log_scientology']\n",
    "y = ['price']\n",
    "columns = data.columns"
   ]
  },
  {
   "cell_type": "code",
   "execution_count": 6,
   "metadata": {
    "scrolled": true
   },
   "outputs": [
    {
     "data": {
      "image/png": "[encoded data removed]",
      "text/plain": [
       "<Figure size 432x288 with 1 Axes>"
      ]
     },
     "metadata": {
      "needs_background": "light"
     },
     "output_type": "display_data"
    }
   ],
   "source": [
    "#Look at the difference between log transformed feature and original\n",
    "\n",
    "sns.distplot(data['min_dist_park_rv'],color='blue');\n",
    "sns.distplot(data['log_park_rv'],color='red');"
   ]
  },
  {
   "cell_type": "code",
   "execution_count": 7,
   "metadata": {},
   "outputs": [
    {
     "data": {
      "text/plain": [
       "0.2232573961274352"
      ]
     },
     "execution_count": 7,
     "metadata": {},
     "output_type": "execute_result"
    }
   ],
   "source": [
    "#is the updated park list more correllative? \n",
    "\n",
    "data['price'].corr(data['log_park_rv'])"
   ]
  },
  {
   "cell_type": "code",
   "execution_count": 8,
   "metadata": {},
   "outputs": [],
   "source": [
    "#filter sqft_living \n",
    "sqft_living_filtered = data['sqft_living'] < data['sqft_living'].quantile(.95)\n",
    "data = data[sqft_living_filtered]"
   ]
  },
  {
   "cell_type": "code",
   "execution_count": 9,
   "metadata": {},
   "outputs": [
    {
     "data": {
      "image/png": "[encoded data removed]",
      "text/plain": [
       "<Figure size 432x288 with 1 Axes>"
      ]
     },
     "metadata": {
      "needs_background": "light"
     },
     "output_type": "display_data"
    }
   ],
   "source": [
    "sns.distplot(data['sqft_living']);"
   ]
  },
  {
   "cell_type": "markdown",
   "metadata": {},
   "source": [
    "### Start modeling!"
   ]
  },
  {
   "cell_type": "code",
   "execution_count": 10,
   "metadata": {},
   "outputs": [
    {
     "data": {
      "text/html": [
       "<table class=\"simpletable\">\n",
       "<caption>OLS Regression Results</caption>\n",
       "<tr>\n",
       "  <th>Dep. Variable:</th>          <td>price</td>      <th>  R-squared:         </th>  <td>   0.254</td>  \n",
       "</tr>\n",
       "<tr>\n",
       "  <th>Model:</th>                   <td>OLS</td>       <th>  Adj. R-squared:    </th>  <td>   0.254</td>  \n",
       "</tr>\n",
       "<tr>\n",
       "  <th>Method:</th>             <td>Least Squares</td>  <th>  F-statistic:       </th>  <td>   5320.</td>  \n",
       "</tr>\n",
       "<tr>\n",
       "  <th>Date:</th>             <td>Mon, 30 Nov 2020</td> <th>  Prob (F-statistic):</th>   <td>  0.00</td>   \n",
       "</tr>\n",
       "<tr>\n",
       "  <th>Time:</th>                 <td>22:35:35</td>     <th>  Log-Likelihood:    </th> <td>-2.0847e+05</td>\n",
       "</tr>\n",
       "<tr>\n",
       "  <th>No. Observations:</th>      <td> 15650</td>      <th>  AIC:               </th>  <td>4.169e+05</td> \n",
       "</tr>\n",
       "<tr>\n",
       "  <th>Df Residuals:</th>          <td> 15648</td>      <th>  BIC:               </th>  <td>4.170e+05</td> \n",
       "</tr>\n",
       "<tr>\n",
       "  <th>Df Model:</th>              <td>     1</td>      <th>                     </th>      <td> </td>     \n",
       "</tr>\n",
       "<tr>\n",
       "  <th>Covariance Type:</th>      <td>nonrobust</td>    <th>                     </th>      <td> </td>     \n",
       "</tr>\n",
       "</table>\n",
       "<table class=\"simpletable\">\n",
       "<tr>\n",
       "       <td></td>          <th>coef</th>     <th>std err</th>      <th>t</th>      <th>P>|t|</th>  <th>[0.025</th>    <th>0.975]</th>  \n",
       "</tr>\n",
       "<tr>\n",
       "  <th>Intercept</th>   <td> 1.804e+05</td> <td> 3817.100</td> <td>   47.248</td> <td> 0.000</td> <td> 1.73e+05</td> <td> 1.88e+05</td>\n",
       "</tr>\n",
       "<tr>\n",
       "  <th>sqft_living</th> <td>  144.7376</td> <td>    1.984</td> <td>   72.940</td> <td> 0.000</td> <td>  140.848</td> <td>  148.627</td>\n",
       "</tr>\n",
       "</table>\n",
       "<table class=\"simpletable\">\n",
       "<tr>\n",
       "  <th>Omnibus:</th>       <td>564.410</td> <th>  Durbin-Watson:     </th> <td>   1.990</td> \n",
       "</tr>\n",
       "<tr>\n",
       "  <th>Prob(Omnibus):</th> <td> 0.000</td>  <th>  Jarque-Bera (JB):  </th> <td> 599.431</td> \n",
       "</tr>\n",
       "<tr>\n",
       "  <th>Skew:</th>          <td> 0.461</td>  <th>  Prob(JB):          </th> <td>6.84e-131</td>\n",
       "</tr>\n",
       "<tr>\n",
       "  <th>Kurtosis:</th>      <td> 2.736</td>  <th>  Cond. No.          </th> <td>6.23e+03</td> \n",
       "</tr>\n",
       "</table><br/><br/>Warnings:<br/>[1] Standard Errors assume that the covariance matrix of the errors is correctly specified.<br/>[2] The condition number is large, 6.23e+03. This might indicate that there are<br/>strong multicollinearity or other numerical problems."
      ],
      "text/plain": [
       "<class 'statsmodels.iolib.summary.Summary'>\n",
       "\"\"\"\n",
       "                            OLS Regression Results                            \n",
       "==============================================================================\n",
       "Dep. Variable:                  price   R-squared:                       0.254\n",
       "Model:                            OLS   Adj. R-squared:                  0.254\n",
       "Method:                 Least Squares   F-statistic:                     5320.\n",
       "Date:                Mon, 30 Nov 2020   Prob (F-statistic):               0.00\n",
       "Time:                        22:35:35   Log-Likelihood:            -2.0847e+05\n",
       "No. Observations:               15650   AIC:                         4.169e+05\n",
       "Df Residuals:                   15648   BIC:                         4.170e+05\n",
       "Df Model:                           1                                         \n",
       "Covariance Type:            nonrobust                                         \n",
       "===============================================================================\n",
       "                  coef    std err          t      P>|t|      [0.025      0.975]\n",
       "-------------------------------------------------------------------------------\n",
       "Intercept    1.804e+05   3817.100     47.248      0.000    1.73e+05    1.88e+05\n",
       "sqft_living   144.7376      1.984     72.940      0.000     140.848     148.627\n",
       "==============================================================================\n",
       "Omnibus:                      564.410   Durbin-Watson:                   1.990\n",
       "Prob(Omnibus):                  0.000   Jarque-Bera (JB):              599.431\n",
       "Skew:                           0.461   Prob(JB):                    6.84e-131\n",
       "Kurtosis:                       2.736   Cond. No.                     6.23e+03\n",
       "==============================================================================\n",
       "\n",
       "Warnings:\n",
       "[1] Standard Errors assume that the covariance matrix of the errors is correctly specified.\n",
       "[2] The condition number is large, 6.23e+03. This might indicate that there are\n",
       "strong multicollinearity or other numerical problems.\n",
       "\"\"\""
      ]
     },
     "execution_count": 10,
     "metadata": {},
     "output_type": "execute_result"
    }
   ],
   "source": [
    "f = 'price ~ sqft_living'\n",
    "model = ols(formula = f, data = data).fit()\n",
    "model.summary()"
   ]
  },
  {
   "cell_type": "code",
   "execution_count": 11,
   "metadata": {},
   "outputs": [
    {
     "data": {
      "text/html": [
       "<table class=\"simpletable\">\n",
       "<caption>OLS Regression Results</caption>\n",
       "<tr>\n",
       "  <th>Dep. Variable:</th>          <td>price</td>      <th>  R-squared:         </th>  <td>   0.538</td>  \n",
       "</tr>\n",
       "<tr>\n",
       "  <th>Model:</th>                   <td>OLS</td>       <th>  Adj. R-squared:    </th>  <td>   0.538</td>  \n",
       "</tr>\n",
       "<tr>\n",
       "  <th>Method:</th>             <td>Least Squares</td>  <th>  F-statistic:       </th>  <td>   6068.</td>  \n",
       "</tr>\n",
       "<tr>\n",
       "  <th>Date:</th>             <td>Mon, 30 Nov 2020</td> <th>  Prob (F-statistic):</th>   <td>  0.00</td>   \n",
       "</tr>\n",
       "<tr>\n",
       "  <th>Time:</th>                 <td>22:35:35</td>     <th>  Log-Likelihood:    </th> <td>-2.0472e+05</td>\n",
       "</tr>\n",
       "<tr>\n",
       "  <th>No. Observations:</th>      <td> 15650</td>      <th>  AIC:               </th>  <td>4.095e+05</td> \n",
       "</tr>\n",
       "<tr>\n",
       "  <th>Df Residuals:</th>          <td> 15646</td>      <th>  BIC:               </th>  <td>4.095e+05</td> \n",
       "</tr>\n",
       "<tr>\n",
       "  <th>Df Model:</th>              <td>     3</td>      <th>                     </th>      <td> </td>     \n",
       "</tr>\n",
       "<tr>\n",
       "  <th>Covariance Type:</th>      <td>nonrobust</td>    <th>                     </th>      <td> </td>     \n",
       "</tr>\n",
       "</table>\n",
       "<table class=\"simpletable\">\n",
       "<tr>\n",
       "       <td></td>          <th>coef</th>     <th>std err</th>      <th>t</th>      <th>P>|t|</th>  <th>[0.025</th>    <th>0.975]</th>  \n",
       "</tr>\n",
       "<tr>\n",
       "  <th>Intercept</th>   <td>-1.438e+05</td> <td> 8223.215</td> <td>  -17.488</td> <td> 0.000</td> <td> -1.6e+05</td> <td>-1.28e+05</td>\n",
       "</tr>\n",
       "<tr>\n",
       "  <th>sqft_living</th> <td>   98.4727</td> <td>    2.037</td> <td>   48.335</td> <td> 0.000</td> <td>   94.479</td> <td>  102.466</td>\n",
       "</tr>\n",
       "<tr>\n",
       "  <th>log_school</th>  <td>-6.251e+04</td> <td>  736.243</td> <td>  -84.901</td> <td> 0.000</td> <td> -6.4e+04</td> <td>-6.11e+04</td>\n",
       "</tr>\n",
       "<tr>\n",
       "  <th>grade</th>       <td> 5.875e+04</td> <td> 1362.958</td> <td>   43.103</td> <td> 0.000</td> <td> 5.61e+04</td> <td> 6.14e+04</td>\n",
       "</tr>\n",
       "</table>\n",
       "<table class=\"simpletable\">\n",
       "<tr>\n",
       "  <th>Omnibus:</th>       <td>1014.613</td> <th>  Durbin-Watson:     </th> <td>   2.007</td> \n",
       "</tr>\n",
       "<tr>\n",
       "  <th>Prob(Omnibus):</th>  <td> 0.000</td>  <th>  Jarque-Bera (JB):  </th> <td>1372.632</td> \n",
       "</tr>\n",
       "<tr>\n",
       "  <th>Skew:</th>           <td> 0.583</td>  <th>  Prob(JB):          </th> <td>8.64e-299</td>\n",
       "</tr>\n",
       "<tr>\n",
       "  <th>Kurtosis:</th>       <td> 3.863</td>  <th>  Cond. No.          </th> <td>1.72e+04</td> \n",
       "</tr>\n",
       "</table><br/><br/>Warnings:<br/>[1] Standard Errors assume that the covariance matrix of the errors is correctly specified.<br/>[2] The condition number is large, 1.72e+04. This might indicate that there are<br/>strong multicollinearity or other numerical problems."
      ],
      "text/plain": [
       "<class 'statsmodels.iolib.summary.Summary'>\n",
       "\"\"\"\n",
       "                            OLS Regression Results                            \n",
       "==============================================================================\n",
       "Dep. Variable:                  price   R-squared:                       0.538\n",
       "Model:                            OLS   Adj. R-squared:                  0.538\n",
       "Method:                 Least Squares   F-statistic:                     6068.\n",
       "Date:                Mon, 30 Nov 2020   Prob (F-statistic):               0.00\n",
       "Time:                        22:35:35   Log-Likelihood:            -2.0472e+05\n",
       "No. Observations:               15650   AIC:                         4.095e+05\n",
       "Df Residuals:                   15646   BIC:                         4.095e+05\n",
       "Df Model:                           3                                         \n",
       "Covariance Type:            nonrobust                                         \n",
       "===============================================================================\n",
       "                  coef    std err          t      P>|t|      [0.025      0.975]\n",
       "-------------------------------------------------------------------------------\n",
       "Intercept   -1.438e+05   8223.215    -17.488      0.000    -1.6e+05   -1.28e+05\n",
       "sqft_living    98.4727      2.037     48.335      0.000      94.479     102.466\n",
       "log_school  -6.251e+04    736.243    -84.901      0.000    -6.4e+04   -6.11e+04\n",
       "grade        5.875e+04   1362.958     43.103      0.000    5.61e+04    6.14e+04\n",
       "==============================================================================\n",
       "Omnibus:                     1014.613   Durbin-Watson:                   2.007\n",
       "Prob(Omnibus):                  0.000   Jarque-Bera (JB):             1372.632\n",
       "Skew:                           0.583   Prob(JB):                    8.64e-299\n",
       "Kurtosis:                       3.863   Cond. No.                     1.72e+04\n",
       "==============================================================================\n",
       "\n",
       "Warnings:\n",
       "[1] Standard Errors assume that the covariance matrix of the errors is correctly specified.\n",
       "[2] The condition number is large, 1.72e+04. This might indicate that there are\n",
       "strong multicollinearity or other numerical problems.\n",
       "\"\"\""
      ]
     },
     "execution_count": 11,
     "metadata": {},
     "output_type": "execute_result"
    }
   ],
   "source": [
    "f = 'price ~ sqft_living + log_school + grade'\n",
    "model = ols(formula = f, data = data).fit()\n",
    "model.summary()"
   ]
  },
  {
   "cell_type": "code",
   "execution_count": 12,
   "metadata": {
    "scrolled": false
   },
   "outputs": [
    {
     "data": {
      "text/html": [
       "<table class=\"simpletable\">\n",
       "<caption>OLS Regression Results</caption>\n",
       "<tr>\n",
       "  <th>Dep. Variable:</th>          <td>price</td>      <th>  R-squared:         </th>  <td>   0.606</td>  \n",
       "</tr>\n",
       "<tr>\n",
       "  <th>Model:</th>                   <td>OLS</td>       <th>  Adj. R-squared:    </th>  <td>   0.606</td>  \n",
       "</tr>\n",
       "<tr>\n",
       "  <th>Method:</th>             <td>Least Squares</td>  <th>  F-statistic:       </th>  <td>   4807.</td>  \n",
       "</tr>\n",
       "<tr>\n",
       "  <th>Date:</th>             <td>Mon, 30 Nov 2020</td> <th>  Prob (F-statistic):</th>   <td>  0.00</td>   \n",
       "</tr>\n",
       "<tr>\n",
       "  <th>Time:</th>                 <td>22:35:35</td>     <th>  Log-Likelihood:    </th> <td>-2.0348e+05</td>\n",
       "</tr>\n",
       "<tr>\n",
       "  <th>No. Observations:</th>      <td> 15650</td>      <th>  AIC:               </th>  <td>4.070e+05</td> \n",
       "</tr>\n",
       "<tr>\n",
       "  <th>Df Residuals:</th>          <td> 15644</td>      <th>  BIC:               </th>  <td>4.070e+05</td> \n",
       "</tr>\n",
       "<tr>\n",
       "  <th>Df Model:</th>              <td>     5</td>      <th>                     </th>      <td> </td>     \n",
       "</tr>\n",
       "<tr>\n",
       "  <th>Covariance Type:</th>      <td>nonrobust</td>    <th>                     </th>      <td> </td>     \n",
       "</tr>\n",
       "</table>\n",
       "<table class=\"simpletable\">\n",
       "<tr>\n",
       "         <td></td>            <th>coef</th>     <th>std err</th>      <th>t</th>      <th>P>|t|</th>  <th>[0.025</th>    <th>0.975]</th>  \n",
       "</tr>\n",
       "<tr>\n",
       "  <th>Intercept</th>       <td>-3.924e+04</td> <td> 8565.526</td> <td>   -4.581</td> <td> 0.000</td> <td> -5.6e+04</td> <td>-2.25e+04</td>\n",
       "</tr>\n",
       "<tr>\n",
       "  <th>sqft_living</th>     <td>  110.4234</td> <td>    1.896</td> <td>   58.245</td> <td> 0.000</td> <td>  106.707</td> <td>  114.139</td>\n",
       "</tr>\n",
       "<tr>\n",
       "  <th>log_school</th>      <td>-3.866e+04</td> <td>  878.799</td> <td>  -43.989</td> <td> 0.000</td> <td>-4.04e+04</td> <td>-3.69e+04</td>\n",
       "</tr>\n",
       "<tr>\n",
       "  <th>grade</th>           <td> 5.823e+04</td> <td> 1261.702</td> <td>   46.155</td> <td> 0.000</td> <td> 5.58e+04</td> <td> 6.07e+04</td>\n",
       "</tr>\n",
       "<tr>\n",
       "  <th>log_park_rv</th>     <td> 2.641e+04</td> <td> 1180.169</td> <td>   22.374</td> <td> 0.000</td> <td> 2.41e+04</td> <td> 2.87e+04</td>\n",
       "</tr>\n",
       "<tr>\n",
       "  <th>log_scientology</th> <td>-5.665e+04</td> <td> 1690.960</td> <td>  -33.499</td> <td> 0.000</td> <td>   -6e+04</td> <td>-5.33e+04</td>\n",
       "</tr>\n",
       "</table>\n",
       "<table class=\"simpletable\">\n",
       "<tr>\n",
       "  <th>Omnibus:</th>       <td>815.253</td> <th>  Durbin-Watson:     </th> <td>   2.008</td> \n",
       "</tr>\n",
       "<tr>\n",
       "  <th>Prob(Omnibus):</th> <td> 0.000</td>  <th>  Jarque-Bera (JB):  </th> <td>1188.541</td> \n",
       "</tr>\n",
       "<tr>\n",
       "  <th>Skew:</th>          <td> 0.472</td>  <th>  Prob(JB):          </th> <td>8.16e-259</td>\n",
       "</tr>\n",
       "<tr>\n",
       "  <th>Kurtosis:</th>      <td> 3.966</td>  <th>  Cond. No.          </th> <td>1.94e+04</td> \n",
       "</tr>\n",
       "</table><br/><br/>Warnings:<br/>[1] Standard Errors assume that the covariance matrix of the errors is correctly specified.<br/>[2] The condition number is large, 1.94e+04. This might indicate that there are<br/>strong multicollinearity or other numerical problems."
      ],
      "text/plain": [
       "<class 'statsmodels.iolib.summary.Summary'>\n",
       "\"\"\"\n",
       "                            OLS Regression Results                            \n",
       "==============================================================================\n",
       "Dep. Variable:                  price   R-squared:                       0.606\n",
       "Model:                            OLS   Adj. R-squared:                  0.606\n",
       "Method:                 Least Squares   F-statistic:                     4807.\n",
       "Date:                Mon, 30 Nov 2020   Prob (F-statistic):               0.00\n",
       "Time:                        22:35:35   Log-Likelihood:            -2.0348e+05\n",
       "No. Observations:               15650   AIC:                         4.070e+05\n",
       "Df Residuals:                   15644   BIC:                         4.070e+05\n",
       "Df Model:                           5                                         \n",
       "Covariance Type:            nonrobust                                         \n",
       "===================================================================================\n",
       "                      coef    std err          t      P>|t|      [0.025      0.975]\n",
       "-----------------------------------------------------------------------------------\n",
       "Intercept       -3.924e+04   8565.526     -4.581      0.000    -5.6e+04   -2.25e+04\n",
       "sqft_living       110.4234      1.896     58.245      0.000     106.707     114.139\n",
       "log_school      -3.866e+04    878.799    -43.989      0.000   -4.04e+04   -3.69e+04\n",
       "grade            5.823e+04   1261.702     46.155      0.000    5.58e+04    6.07e+04\n",
       "log_park_rv      2.641e+04   1180.169     22.374      0.000    2.41e+04    2.87e+04\n",
       "log_scientology -5.665e+04   1690.960    -33.499      0.000      -6e+04   -5.33e+04\n",
       "==============================================================================\n",
       "Omnibus:                      815.253   Durbin-Watson:                   2.008\n",
       "Prob(Omnibus):                  0.000   Jarque-Bera (JB):             1188.541\n",
       "Skew:                           0.472   Prob(JB):                    8.16e-259\n",
       "Kurtosis:                       3.966   Cond. No.                     1.94e+04\n",
       "==============================================================================\n",
       "\n",
       "Warnings:\n",
       "[1] Standard Errors assume that the covariance matrix of the errors is correctly specified.\n",
       "[2] The condition number is large, 1.94e+04. This might indicate that there are\n",
       "strong multicollinearity or other numerical problems.\n",
       "\"\"\""
      ]
     },
     "execution_count": 12,
     "metadata": {},
     "output_type": "execute_result"
    }
   ],
   "source": [
    "f = 'price ~ sqft_living + log_school + grade + log_park_rv + log_scientology'\n",
    "model = ols(formula = f, data = data).fit()\n",
    "model.summary()"
   ]
  },
  {
   "cell_type": "markdown",
   "metadata": {},
   "source": [
    "### Log transformation didn't work with our data - trying using quant instead"
   ]
  },
  {
   "cell_type": "code",
   "execution_count": 13,
   "metadata": {},
   "outputs": [],
   "source": [
    "#copy df \n",
    "data_quant = data.copy()"
   ]
  },
  {
   "cell_type": "code",
   "execution_count": 14,
   "metadata": {},
   "outputs": [],
   "source": [
    "from sklearn.preprocessing import QuantileTransformer\n",
    "qt = QuantileTransformer(output_distribution='normal')\n",
    "to_transform= ['sqft_living', 'closest_distance_to_great_coffee', \n",
    "               'min_dist_park_rv', 'closest_distance_to_top_school', 'closest_distance_to_scientology', 'price']\n",
    "data_quant[to_transform] = qt.fit_transform(data_quant[to_transform])"
   ]
  },
  {
   "cell_type": "code",
   "execution_count": 15,
   "metadata": {},
   "outputs": [
    {
     "data": {
      "image/png": "[encoded data removed]",
      "text/plain": [
       "<Figure size 432x288 with 1 Axes>"
      ]
     },
     "metadata": {
      "needs_background": "light"
     },
     "output_type": "display_data"
    }
   ],
   "source": [
    "#look at the new distributions\n",
    "sns.distplot(data_quant['price']);"
   ]
  },
  {
   "cell_type": "markdown",
   "metadata": {},
   "source": [
    "### Modeling with quant transformed features"
   ]
  },
  {
   "cell_type": "code",
   "execution_count": 16,
   "metadata": {
    "scrolled": true
   },
   "outputs": [
    {
     "data": {
      "text/html": [
       "<table class=\"simpletable\">\n",
       "<caption>OLS Regression Results</caption>\n",
       "<tr>\n",
       "  <th>Dep. Variable:</th>          <td>price</td>      <th>  R-squared:         </th> <td>   0.618</td> \n",
       "</tr>\n",
       "<tr>\n",
       "  <th>Model:</th>                   <td>OLS</td>       <th>  Adj. R-squared:    </th> <td>   0.618</td> \n",
       "</tr>\n",
       "<tr>\n",
       "  <th>Method:</th>             <td>Least Squares</td>  <th>  F-statistic:       </th> <td>   5062.</td> \n",
       "</tr>\n",
       "<tr>\n",
       "  <th>Date:</th>             <td>Mon, 30 Nov 2020</td> <th>  Prob (F-statistic):</th>  <td>  0.00</td>  \n",
       "</tr>\n",
       "<tr>\n",
       "  <th>Time:</th>                 <td>22:35:36</td>     <th>  Log-Likelihood:    </th> <td> -14704.</td> \n",
       "</tr>\n",
       "<tr>\n",
       "  <th>No. Observations:</th>      <td> 15650</td>      <th>  AIC:               </th> <td>2.942e+04</td>\n",
       "</tr>\n",
       "<tr>\n",
       "  <th>Df Residuals:</th>          <td> 15644</td>      <th>  BIC:               </th> <td>2.947e+04</td>\n",
       "</tr>\n",
       "<tr>\n",
       "  <th>Df Model:</th>              <td>     5</td>      <th>                     </th>     <td> </td>    \n",
       "</tr>\n",
       "<tr>\n",
       "  <th>Covariance Type:</th>      <td>nonrobust</td>    <th>                     </th>     <td> </td>    \n",
       "</tr>\n",
       "</table>\n",
       "<table class=\"simpletable\">\n",
       "<tr>\n",
       "         <td></td>            <th>coef</th>     <th>std err</th>      <th>t</th>      <th>P>|t|</th>  <th>[0.025</th>    <th>0.975]</th>  \n",
       "</tr>\n",
       "<tr>\n",
       "  <th>Intercept</th>       <td>   -1.5918</td> <td>    0.059</td> <td>  -26.920</td> <td> 0.000</td> <td>   -1.708</td> <td>   -1.476</td>\n",
       "</tr>\n",
       "<tr>\n",
       "  <th>sqft_living</th>     <td>    0.3832</td> <td>    0.006</td> <td>   59.122</td> <td> 0.000</td> <td>    0.371</td> <td>    0.396</td>\n",
       "</tr>\n",
       "<tr>\n",
       "  <th>grade</th>           <td>    0.3370</td> <td>    0.007</td> <td>   46.204</td> <td> 0.000</td> <td>    0.323</td> <td>    0.351</td>\n",
       "</tr>\n",
       "<tr>\n",
       "  <th>log_school</th>      <td>   -0.2499</td> <td>    0.005</td> <td>  -49.245</td> <td> 0.000</td> <td>   -0.260</td> <td>   -0.240</td>\n",
       "</tr>\n",
       "<tr>\n",
       "  <th>log_park_rv</th>     <td>    0.1309</td> <td>    0.007</td> <td>   19.219</td> <td> 0.000</td> <td>    0.118</td> <td>    0.144</td>\n",
       "</tr>\n",
       "<tr>\n",
       "  <th>log_scientology</th> <td>   -0.3344</td> <td>    0.010</td> <td>  -34.253</td> <td> 0.000</td> <td>   -0.354</td> <td>   -0.315</td>\n",
       "</tr>\n",
       "</table>\n",
       "<table class=\"simpletable\">\n",
       "<tr>\n",
       "  <th>Omnibus:</th>       <td>715.270</td> <th>  Durbin-Watson:     </th> <td>   2.013</td>\n",
       "</tr>\n",
       "<tr>\n",
       "  <th>Prob(Omnibus):</th> <td> 0.000</td>  <th>  Jarque-Bera (JB):  </th> <td>2381.655</td>\n",
       "</tr>\n",
       "<tr>\n",
       "  <th>Skew:</th>          <td> 0.108</td>  <th>  Prob(JB):          </th> <td>    0.00</td>\n",
       "</tr>\n",
       "<tr>\n",
       "  <th>Kurtosis:</th>      <td> 4.899</td>  <th>  Cond. No.          </th> <td>    96.2</td>\n",
       "</tr>\n",
       "</table><br/><br/>Warnings:<br/>[1] Standard Errors assume that the covariance matrix of the errors is correctly specified."
      ],
      "text/plain": [
       "<class 'statsmodels.iolib.summary.Summary'>\n",
       "\"\"\"\n",
       "                            OLS Regression Results                            \n",
       "==============================================================================\n",
       "Dep. Variable:                  price   R-squared:                       0.618\n",
       "Model:                            OLS   Adj. R-squared:                  0.618\n",
       "Method:                 Least Squares   F-statistic:                     5062.\n",
       "Date:                Mon, 30 Nov 2020   Prob (F-statistic):               0.00\n",
       "Time:                        22:35:36   Log-Likelihood:                -14704.\n",
       "No. Observations:               15650   AIC:                         2.942e+04\n",
       "Df Residuals:                   15644   BIC:                         2.947e+04\n",
       "Df Model:                           5                                         \n",
       "Covariance Type:            nonrobust                                         \n",
       "===================================================================================\n",
       "                      coef    std err          t      P>|t|      [0.025      0.975]\n",
       "-----------------------------------------------------------------------------------\n",
       "Intercept          -1.5918      0.059    -26.920      0.000      -1.708      -1.476\n",
       "sqft_living         0.3832      0.006     59.122      0.000       0.371       0.396\n",
       "grade               0.3370      0.007     46.204      0.000       0.323       0.351\n",
       "log_school         -0.2499      0.005    -49.245      0.000      -0.260      -0.240\n",
       "log_park_rv         0.1309      0.007     19.219      0.000       0.118       0.144\n",
       "log_scientology    -0.3344      0.010    -34.253      0.000      -0.354      -0.315\n",
       "==============================================================================\n",
       "Omnibus:                      715.270   Durbin-Watson:                   2.013\n",
       "Prob(Omnibus):                  0.000   Jarque-Bera (JB):             2381.655\n",
       "Skew:                           0.108   Prob(JB):                         0.00\n",
       "Kurtosis:                       4.899   Cond. No.                         96.2\n",
       "==============================================================================\n",
       "\n",
       "Warnings:\n",
       "[1] Standard Errors assume that the covariance matrix of the errors is correctly specified.\n",
       "\"\"\""
      ]
     },
     "execution_count": 16,
     "metadata": {},
     "output_type": "execute_result"
    }
   ],
   "source": [
    "f = 'price ~ sqft_living + grade + log_school + log_park_rv + log_scientology'\n",
    "model = ols(formula = f, data = data_quant).fit()\n",
    "model.summary()"
   ]
  },
  {
   "cell_type": "markdown",
   "metadata": {},
   "source": [
    "### Filter down price and see how it impacts our models"
   ]
  },
  {
   "cell_type": "code",
   "execution_count": 17,
   "metadata": {},
   "outputs": [
    {
     "data": {
      "text/html": [
       "<div>\n",
       "<style scoped>\n",
       "    .dataframe tbody tr th:only-of-type {\n",
       "        vertical-align: middle;\n",
       "    }\n",
       "\n",
       "    .dataframe tbody tr th {\n",
       "        vertical-align: top;\n",
       "    }\n",
       "\n",
       "    .dataframe thead th {\n",
       "        text-align: right;\n",
       "    }\n",
       "</style>\n",
       "<table border=\"1\" class=\"dataframe\">\n",
       "  <thead>\n",
       "    <tr style=\"text-align: right;\">\n",
       "      <th></th>\n",
       "      <th>price</th>\n",
       "      <th>sqft_living</th>\n",
       "      <th>grade</th>\n",
       "      <th>lat</th>\n",
       "      <th>long</th>\n",
       "      <th>min_dist_park</th>\n",
       "      <th>closest_distance_to_top_school</th>\n",
       "      <th>closest_distance_to_great_coffee</th>\n",
       "      <th>closest_distance_to_scientology</th>\n",
       "      <th>log_school</th>\n",
       "      <th>log_coffee</th>\n",
       "      <th>log_scientology</th>\n",
       "      <th>log_park</th>\n",
       "      <th>min_dist_park_rv</th>\n",
       "      <th>log_park_rv</th>\n",
       "    </tr>\n",
       "  </thead>\n",
       "  <tbody>\n",
       "    <tr>\n",
       "      <th>1</th>\n",
       "      <td>538000</td>\n",
       "      <td>2570</td>\n",
       "      <td>7</td>\n",
       "      <td>47.7210</td>\n",
       "      <td>-122.319</td>\n",
       "      <td>5.052058</td>\n",
       "      <td>0.682377</td>\n",
       "      <td>14.813168</td>\n",
       "      <td>10.800338</td>\n",
       "      <td>-0.382173</td>\n",
       "      <td>2.695517</td>\n",
       "      <td>2.379577</td>\n",
       "      <td>1.619796</td>\n",
       "      <td>3.52051</td>\n",
       "      <td>1.258606</td>\n",
       "    </tr>\n",
       "    <tr>\n",
       "      <th>3</th>\n",
       "      <td>604000</td>\n",
       "      <td>1960</td>\n",
       "      <td>7</td>\n",
       "      <td>47.5208</td>\n",
       "      <td>-122.393</td>\n",
       "      <td>2.448557</td>\n",
       "      <td>1.729431</td>\n",
       "      <td>14.476522</td>\n",
       "      <td>11.547177</td>\n",
       "      <td>0.547792</td>\n",
       "      <td>2.672528</td>\n",
       "      <td>2.446441</td>\n",
       "      <td>0.895499</td>\n",
       "      <td>1.52156</td>\n",
       "      <td>0.419736</td>\n",
       "    </tr>\n",
       "    <tr>\n",
       "      <th>4</th>\n",
       "      <td>510000</td>\n",
       "      <td>1680</td>\n",
       "      <td>8</td>\n",
       "      <td>47.6168</td>\n",
       "      <td>-122.045</td>\n",
       "      <td>2.672832</td>\n",
       "      <td>1.179255</td>\n",
       "      <td>8.214909</td>\n",
       "      <td>21.182016</td>\n",
       "      <td>0.164882</td>\n",
       "      <td>2.105951</td>\n",
       "      <td>3.053153</td>\n",
       "      <td>0.983138</td>\n",
       "      <td>2.31352</td>\n",
       "      <td>0.838770</td>\n",
       "    </tr>\n",
       "    <tr>\n",
       "      <th>9</th>\n",
       "      <td>323000</td>\n",
       "      <td>1890</td>\n",
       "      <td>7</td>\n",
       "      <td>47.3684</td>\n",
       "      <td>-122.031</td>\n",
       "      <td>5.146491</td>\n",
       "      <td>0.847291</td>\n",
       "      <td>16.300571</td>\n",
       "      <td>35.338388</td>\n",
       "      <td>-0.165711</td>\n",
       "      <td>2.791200</td>\n",
       "      <td>3.564970</td>\n",
       "      <td>1.638315</td>\n",
       "      <td>2.00144</td>\n",
       "      <td>0.693867</td>\n",
       "    </tr>\n",
       "    <tr>\n",
       "      <th>11</th>\n",
       "      <td>468000</td>\n",
       "      <td>1160</td>\n",
       "      <td>7</td>\n",
       "      <td>47.6900</td>\n",
       "      <td>-122.292</td>\n",
       "      <td>3.230678</td>\n",
       "      <td>0.598800</td>\n",
       "      <td>10.906520</td>\n",
       "      <td>8.748762</td>\n",
       "      <td>-0.512827</td>\n",
       "      <td>2.389361</td>\n",
       "      <td>2.168912</td>\n",
       "      <td>1.172692</td>\n",
       "      <td>3.43172</td>\n",
       "      <td>1.233062</td>\n",
       "    </tr>\n",
       "  </tbody>\n",
       "</table>\n",
       "</div>"
      ],
      "text/plain": [
       "     price  sqft_living  grade      lat     long  min_dist_park  \\\n",
       "1   538000         2570      7  47.7210 -122.319       5.052058   \n",
       "3   604000         1960      7  47.5208 -122.393       2.448557   \n",
       "4   510000         1680      8  47.6168 -122.045       2.672832   \n",
       "9   323000         1890      7  47.3684 -122.031       5.146491   \n",
       "11  468000         1160      7  47.6900 -122.292       3.230678   \n",
       "\n",
       "    closest_distance_to_top_school  closest_distance_to_great_coffee  \\\n",
       "1                         0.682377                         14.813168   \n",
       "3                         1.729431                         14.476522   \n",
       "4                         1.179255                          8.214909   \n",
       "9                         0.847291                         16.300571   \n",
       "11                        0.598800                         10.906520   \n",
       "\n",
       "    closest_distance_to_scientology  log_school  log_coffee  log_scientology  \\\n",
       "1                         10.800338   -0.382173    2.695517         2.379577   \n",
       "3                         11.547177    0.547792    2.672528         2.446441   \n",
       "4                         21.182016    0.164882    2.105951         3.053153   \n",
       "9                         35.338388   -0.165711    2.791200         3.564970   \n",
       "11                         8.748762   -0.512827    2.389361         2.168912   \n",
       "\n",
       "    log_park  min_dist_park_rv  log_park_rv  \n",
       "1   1.619796           3.52051     1.258606  \n",
       "3   0.895499           1.52156     0.419736  \n",
       "4   0.983138           2.31352     0.838770  \n",
       "9   1.638315           2.00144     0.693867  \n",
       "11  1.172692           3.43172     1.233062  "
      ]
     },
     "execution_count": 17,
     "metadata": {},
     "output_type": "execute_result"
    }
   ],
   "source": [
    "filtered_price = data['price'].between(300000,800000)\n",
    "filtered_data = data[filtered_price]\n",
    "filtered_data.head()"
   ]
  },
  {
   "cell_type": "code",
   "execution_count": 18,
   "metadata": {},
   "outputs": [
    {
     "data": {
      "text/html": [
       "<table class=\"simpletable\">\n",
       "<caption>OLS Regression Results</caption>\n",
       "<tr>\n",
       "  <th>Dep. Variable:</th>          <td>price</td>      <th>  R-squared:         </th>  <td>   0.418</td>  \n",
       "</tr>\n",
       "<tr>\n",
       "  <th>Model:</th>                   <td>OLS</td>       <th>  Adj. R-squared:    </th>  <td>   0.417</td>  \n",
       "</tr>\n",
       "<tr>\n",
       "  <th>Method:</th>             <td>Least Squares</td>  <th>  F-statistic:       </th>  <td>   1642.</td>  \n",
       "</tr>\n",
       "<tr>\n",
       "  <th>Date:</th>             <td>Mon, 30 Nov 2020</td> <th>  Prob (F-statistic):</th>   <td>  0.00</td>   \n",
       "</tr>\n",
       "<tr>\n",
       "  <th>Time:</th>                 <td>22:35:36</td>     <th>  Log-Likelihood:    </th> <td>-1.4822e+05</td>\n",
       "</tr>\n",
       "<tr>\n",
       "  <th>No. Observations:</th>      <td> 11458</td>      <th>  AIC:               </th>  <td>2.964e+05</td> \n",
       "</tr>\n",
       "<tr>\n",
       "  <th>Df Residuals:</th>          <td> 11452</td>      <th>  BIC:               </th>  <td>2.965e+05</td> \n",
       "</tr>\n",
       "<tr>\n",
       "  <th>Df Model:</th>              <td>     5</td>      <th>                     </th>      <td> </td>     \n",
       "</tr>\n",
       "<tr>\n",
       "  <th>Covariance Type:</th>      <td>nonrobust</td>    <th>                     </th>      <td> </td>     \n",
       "</tr>\n",
       "</table>\n",
       "<table class=\"simpletable\">\n",
       "<tr>\n",
       "         <td></td>            <th>coef</th>     <th>std err</th>      <th>t</th>      <th>P>|t|</th>  <th>[0.025</th>    <th>0.975]</th>  \n",
       "</tr>\n",
       "<tr>\n",
       "  <th>Intercept</th>       <td> 5.357e+04</td> <td> 9573.856</td> <td>    5.596</td> <td> 0.000</td> <td> 3.48e+04</td> <td> 7.23e+04</td>\n",
       "</tr>\n",
       "<tr>\n",
       "  <th>sqft_living</th>     <td>   86.0662</td> <td>    2.069</td> <td>   41.604</td> <td> 0.000</td> <td>   82.011</td> <td>   90.121</td>\n",
       "</tr>\n",
       "<tr>\n",
       "  <th>grade</th>           <td> 4.745e+04</td> <td> 1374.384</td> <td>   34.528</td> <td> 0.000</td> <td> 4.48e+04</td> <td> 5.01e+04</td>\n",
       "</tr>\n",
       "<tr>\n",
       "  <th>log_school</th>      <td> -3.12e+04</td> <td> 1016.848</td> <td>  -30.678</td> <td> 0.000</td> <td>-3.32e+04</td> <td>-2.92e+04</td>\n",
       "</tr>\n",
       "<tr>\n",
       "  <th>log_park_rv</th>     <td> 2.488e+04</td> <td> 1357.327</td> <td>   18.331</td> <td> 0.000</td> <td> 2.22e+04</td> <td> 2.75e+04</td>\n",
       "</tr>\n",
       "<tr>\n",
       "  <th>log_scientology</th> <td>-4.003e+04</td> <td> 1830.926</td> <td>  -21.863</td> <td> 0.000</td> <td>-4.36e+04</td> <td>-3.64e+04</td>\n",
       "</tr>\n",
       "</table>\n",
       "<table class=\"simpletable\">\n",
       "<tr>\n",
       "  <th>Omnibus:</th>       <td>237.765</td> <th>  Durbin-Watson:     </th> <td>   1.998</td>\n",
       "</tr>\n",
       "<tr>\n",
       "  <th>Prob(Omnibus):</th> <td> 0.000</td>  <th>  Jarque-Bera (JB):  </th> <td> 254.829</td>\n",
       "</tr>\n",
       "<tr>\n",
       "  <th>Skew:</th>          <td> 0.346</td>  <th>  Prob(JB):          </th> <td>4.62e-56</td>\n",
       "</tr>\n",
       "<tr>\n",
       "  <th>Kurtosis:</th>      <td> 3.237</td>  <th>  Cond. No.          </th> <td>2.07e+04</td>\n",
       "</tr>\n",
       "</table><br/><br/>Warnings:<br/>[1] Standard Errors assume that the covariance matrix of the errors is correctly specified.<br/>[2] The condition number is large, 2.07e+04. This might indicate that there are<br/>strong multicollinearity or other numerical problems."
      ],
      "text/plain": [
       "<class 'statsmodels.iolib.summary.Summary'>\n",
       "\"\"\"\n",
       "                            OLS Regression Results                            \n",
       "==============================================================================\n",
       "Dep. Variable:                  price   R-squared:                       0.418\n",
       "Model:                            OLS   Adj. R-squared:                  0.417\n",
       "Method:                 Least Squares   F-statistic:                     1642.\n",
       "Date:                Mon, 30 Nov 2020   Prob (F-statistic):               0.00\n",
       "Time:                        22:35:36   Log-Likelihood:            -1.4822e+05\n",
       "No. Observations:               11458   AIC:                         2.964e+05\n",
       "Df Residuals:                   11452   BIC:                         2.965e+05\n",
       "Df Model:                           5                                         \n",
       "Covariance Type:            nonrobust                                         \n",
       "===================================================================================\n",
       "                      coef    std err          t      P>|t|      [0.025      0.975]\n",
       "-----------------------------------------------------------------------------------\n",
       "Intercept        5.357e+04   9573.856      5.596      0.000    3.48e+04    7.23e+04\n",
       "sqft_living        86.0662      2.069     41.604      0.000      82.011      90.121\n",
       "grade            4.745e+04   1374.384     34.528      0.000    4.48e+04    5.01e+04\n",
       "log_school       -3.12e+04   1016.848    -30.678      0.000   -3.32e+04   -2.92e+04\n",
       "log_park_rv      2.488e+04   1357.327     18.331      0.000    2.22e+04    2.75e+04\n",
       "log_scientology -4.003e+04   1830.926    -21.863      0.000   -4.36e+04   -3.64e+04\n",
       "==============================================================================\n",
       "Omnibus:                      237.765   Durbin-Watson:                   1.998\n",
       "Prob(Omnibus):                  0.000   Jarque-Bera (JB):              254.829\n",
       "Skew:                           0.346   Prob(JB):                     4.62e-56\n",
       "Kurtosis:                       3.237   Cond. No.                     2.07e+04\n",
       "==============================================================================\n",
       "\n",
       "Warnings:\n",
       "[1] Standard Errors assume that the covariance matrix of the errors is correctly specified.\n",
       "[2] The condition number is large, 2.07e+04. This might indicate that there are\n",
       "strong multicollinearity or other numerical problems.\n",
       "\"\"\""
      ]
     },
     "execution_count": 18,
     "metadata": {},
     "output_type": "execute_result"
    }
   ],
   "source": [
    "f = 'price ~ sqft_living + grade + log_school + log_park_rv + log_scientology'\n",
    "model = ols(formula = f, data = filtered_data).fit()\n",
    "model.summary()"
   ]
  },
  {
   "cell_type": "code",
   "execution_count": 19,
   "metadata": {},
   "outputs": [
    {
     "data": {
      "text/html": [
       "<table class=\"simpletable\">\n",
       "<caption>OLS Regression Results</caption>\n",
       "<tr>\n",
       "  <th>Dep. Variable:</th>          <td>price</td>      <th>  R-squared:         </th>  <td>   0.352</td>  \n",
       "</tr>\n",
       "<tr>\n",
       "  <th>Model:</th>                   <td>OLS</td>       <th>  Adj. R-squared:    </th>  <td>   0.352</td>  \n",
       "</tr>\n",
       "<tr>\n",
       "  <th>Method:</th>             <td>Least Squares</td>  <th>  F-statistic:       </th>  <td>   1142.</td>  \n",
       "</tr>\n",
       "<tr>\n",
       "  <th>Date:</th>             <td>Mon, 30 Nov 2020</td> <th>  Prob (F-statistic):</th>   <td>  0.00</td>   \n",
       "</tr>\n",
       "<tr>\n",
       "  <th>Time:</th>                 <td>22:35:36</td>     <th>  Log-Likelihood:    </th> <td>-1.3457e+05</td>\n",
       "</tr>\n",
       "<tr>\n",
       "  <th>No. Observations:</th>      <td> 10505</td>      <th>  AIC:               </th>  <td>2.692e+05</td> \n",
       "</tr>\n",
       "<tr>\n",
       "  <th>Df Residuals:</th>          <td> 10499</td>      <th>  BIC:               </th>  <td>2.692e+05</td> \n",
       "</tr>\n",
       "<tr>\n",
       "  <th>Df Model:</th>              <td>     5</td>      <th>                     </th>      <td> </td>     \n",
       "</tr>\n",
       "<tr>\n",
       "  <th>Covariance Type:</th>      <td>nonrobust</td>    <th>                     </th>      <td> </td>     \n",
       "</tr>\n",
       "</table>\n",
       "<table class=\"simpletable\">\n",
       "<tr>\n",
       "         <td></td>            <th>coef</th>     <th>std err</th>      <th>t</th>      <th>P>|t|</th>  <th>[0.025</th>    <th>0.975]</th>  \n",
       "</tr>\n",
       "<tr>\n",
       "  <th>Intercept</th>       <td>  1.16e+05</td> <td> 9136.774</td> <td>   12.692</td> <td> 0.000</td> <td> 9.81e+04</td> <td> 1.34e+05</td>\n",
       "</tr>\n",
       "<tr>\n",
       "  <th>sqft_living</th>     <td>   67.4988</td> <td>    1.930</td> <td>   34.970</td> <td> 0.000</td> <td>   63.715</td> <td>   71.282</td>\n",
       "</tr>\n",
       "<tr>\n",
       "  <th>grade</th>           <td> 3.893e+04</td> <td> 1305.225</td> <td>   29.824</td> <td> 0.000</td> <td> 3.64e+04</td> <td> 4.15e+04</td>\n",
       "</tr>\n",
       "<tr>\n",
       "  <th>log_school</th>      <td>-2.772e+04</td> <td>  932.097</td> <td>  -29.743</td> <td> 0.000</td> <td>-2.96e+04</td> <td>-2.59e+04</td>\n",
       "</tr>\n",
       "<tr>\n",
       "  <th>log_park_rv</th>     <td>  2.05e+04</td> <td> 1232.024</td> <td>   16.643</td> <td> 0.000</td> <td> 1.81e+04</td> <td> 2.29e+04</td>\n",
       "</tr>\n",
       "<tr>\n",
       "  <th>log_scientology</th> <td>-3.054e+04</td> <td> 1694.590</td> <td>  -18.020</td> <td> 0.000</td> <td>-3.39e+04</td> <td>-2.72e+04</td>\n",
       "</tr>\n",
       "</table>\n",
       "<table class=\"simpletable\">\n",
       "<tr>\n",
       "  <th>Omnibus:</th>       <td>116.895</td> <th>  Durbin-Watson:     </th> <td>   1.991</td>\n",
       "</tr>\n",
       "<tr>\n",
       "  <th>Prob(Omnibus):</th> <td> 0.000</td>  <th>  Jarque-Bera (JB):  </th> <td> 119.745</td>\n",
       "</tr>\n",
       "<tr>\n",
       "  <th>Skew:</th>          <td> 0.255</td>  <th>  Prob(JB):          </th> <td>9.95e-27</td>\n",
       "</tr>\n",
       "<tr>\n",
       "  <th>Kurtosis:</th>      <td> 2.887</td>  <th>  Cond. No.          </th> <td>2.09e+04</td>\n",
       "</tr>\n",
       "</table><br/><br/>Warnings:<br/>[1] Standard Errors assume that the covariance matrix of the errors is correctly specified.<br/>[2] The condition number is large, 2.09e+04. This might indicate that there are<br/>strong multicollinearity or other numerical problems."
      ],
      "text/plain": [
       "<class 'statsmodels.iolib.summary.Summary'>\n",
       "\"\"\"\n",
       "                            OLS Regression Results                            \n",
       "==============================================================================\n",
       "Dep. Variable:                  price   R-squared:                       0.352\n",
       "Model:                            OLS   Adj. R-squared:                  0.352\n",
       "Method:                 Least Squares   F-statistic:                     1142.\n",
       "Date:                Mon, 30 Nov 2020   Prob (F-statistic):               0.00\n",
       "Time:                        22:35:36   Log-Likelihood:            -1.3457e+05\n",
       "No. Observations:               10505   AIC:                         2.692e+05\n",
       "Df Residuals:                   10499   BIC:                         2.692e+05\n",
       "Df Model:                           5                                         \n",
       "Covariance Type:            nonrobust                                         \n",
       "===================================================================================\n",
       "                      coef    std err          t      P>|t|      [0.025      0.975]\n",
       "-----------------------------------------------------------------------------------\n",
       "Intercept         1.16e+05   9136.774     12.692      0.000    9.81e+04    1.34e+05\n",
       "sqft_living        67.4988      1.930     34.970      0.000      63.715      71.282\n",
       "grade            3.893e+04   1305.225     29.824      0.000    3.64e+04    4.15e+04\n",
       "log_school      -2.772e+04    932.097    -29.743      0.000   -2.96e+04   -2.59e+04\n",
       "log_park_rv       2.05e+04   1232.024     16.643      0.000    1.81e+04    2.29e+04\n",
       "log_scientology -3.054e+04   1694.590    -18.020      0.000   -3.39e+04   -2.72e+04\n",
       "==============================================================================\n",
       "Omnibus:                      116.895   Durbin-Watson:                   1.991\n",
       "Prob(Omnibus):                  0.000   Jarque-Bera (JB):              119.745\n",
       "Skew:                           0.255   Prob(JB):                     9.95e-27\n",
       "Kurtosis:                       2.887   Cond. No.                     2.09e+04\n",
       "==============================================================================\n",
       "\n",
       "Warnings:\n",
       "[1] Standard Errors assume that the covariance matrix of the errors is correctly specified.\n",
       "[2] The condition number is large, 2.09e+04. This might indicate that there are\n",
       "strong multicollinearity or other numerical problems.\n",
       "\"\"\""
      ]
     },
     "execution_count": 19,
     "metadata": {},
     "output_type": "execute_result"
    }
   ],
   "source": [
    "filtered_price = data['price'].between(300000,700000)\n",
    "filtered_data1 = data[filtered_price]\n",
    "\n",
    "f = 'price ~ sqft_living + grade + log_school + log_park_rv + log_scientology'\n",
    "model = ols(formula = f, data = filtered_data1).fit()\n",
    "model.summary()"
   ]
  },
  {
   "cell_type": "code",
   "execution_count": 20,
   "metadata": {
    "scrolled": true
   },
   "outputs": [
    {
     "name": "stdout",
     "output_type": "stream",
     "text": [
      "sqft_living\n",
      "Skew:  0.11343818301036654\n",
      "Kurtosis:  -0.7044944718537267\n",
      "Correlation with price:  0.3711638589482517\n",
      " \n",
      "grade\n",
      "Skew:  0.39712256592914214\n",
      "Kurtosis:  0.5992980578544511\n",
      "Correlation with price:  0.4044322744845937\n",
      " \n",
      "log_park_rv\n",
      "Skew:  -0.5439328165685128\n",
      "Kurtosis:  0.12759454828893313\n",
      "Correlation with price:  0.2252178518120249\n",
      " \n",
      "log_school\n",
      "Skew:  0.44180589457925706\n",
      "Kurtosis:  0.2759869349359212\n",
      "Correlation with price:  -0.26664207881001445\n",
      " \n",
      "log_coffee\n",
      "Skew:  -1.1911995785045566\n",
      "Kurtosis:  1.616608964810193\n",
      "Correlation with price:  -0.14126611717144474\n",
      " \n",
      "log_scientology\n",
      "Skew:  -0.47179350385556135\n",
      "Kurtosis:  0.1073792549874466\n",
      "Correlation with price:  -0.22705896198244707\n",
      " \n"
     ]
    }
   ],
   "source": [
    "for col in x_cols: \n",
    "    print(col)\n",
    "    print('Skew: ', filtered_data[col].skew())\n",
    "    print('Kurtosis: ', filtered_data[col].kurt())\n",
    "    print('Correlation with price: ', filtered_data['price'].corr(filtered_data[col]))\n",
    "    print(\" \")"
   ]
  },
  {
   "cell_type": "markdown",
   "metadata": {},
   "source": [
    "### Importing final dataset to rerun some models and use RFE to double check for insignificant features"
   ]
  },
  {
   "cell_type": "code",
   "execution_count": 21,
   "metadata": {},
   "outputs": [],
   "source": [
    "final_data = pd.read_csv('data/all_features_ppsqft_quant.csv', index_col = 'Unnamed: 0')"
   ]
  },
  {
   "cell_type": "code",
   "execution_count": 22,
   "metadata": {
    "scrolled": true
   },
   "outputs": [
    {
     "name": "stdout",
     "output_type": "stream",
     "text": [
      "R2:  0.7559870492262424\n"
     ]
    }
   ],
   "source": [
    "#modeling with statsmodels \n",
    "\n",
    "features = ['quant_sqft_living','quant_coffee', 'quant_parks', 'quant_schools', 'quant_scientology', 'grade_5', 'grade_6', 'grade_7', 'grade_8', 'grade_9', 'grade_10', 'grade_11', 'grade_12', 'grade_13', 'quant_interaction']\n",
    "target = ['quant_price']\n",
    "X = final_data[features]\n",
    "y = final_data[target]\n",
    "\n",
    "# use train test split\n",
    "X_train, X_test, y_train, y_test = train_test_split(X,y, random_state=1)\n",
    "\n",
    "lm10 = LinearRegression().fit(X_train, y_train)\n",
    "lm10_preds = lm10.predict(X_test)\n",
    "print('R2: ', r2_score(y_test, lm10_preds))"
   ]
  },
  {
   "cell_type": "code",
   "execution_count": 23,
   "metadata": {
    "scrolled": true
   },
   "outputs": [
    {
     "data": {
      "text/html": [
       "<table class=\"simpletable\">\n",
       "<caption>OLS Regression Results</caption>\n",
       "<tr>\n",
       "  <th>Dep. Variable:</th>          <td>price</td>      <th>  R-squared:         </th>  <td>   0.744</td>  \n",
       "</tr>\n",
       "<tr>\n",
       "  <th>Model:</th>                   <td>OLS</td>       <th>  Adj. R-squared:    </th>  <td>   0.744</td>  \n",
       "</tr>\n",
       "<tr>\n",
       "  <th>Method:</th>             <td>Least Squares</td>  <th>  F-statistic:       </th>  <td>   3391.</td>  \n",
       "</tr>\n",
       "<tr>\n",
       "  <th>Date:</th>             <td>Mon, 30 Nov 2020</td> <th>  Prob (F-statistic):</th>   <td>  0.00</td>   \n",
       "</tr>\n",
       "<tr>\n",
       "  <th>Time:</th>                 <td>22:35:36</td>     <th>  Log-Likelihood:    </th> <td>-2.3130e+05</td>\n",
       "</tr>\n",
       "<tr>\n",
       "  <th>No. Observations:</th>      <td> 17495</td>      <th>  AIC:               </th>  <td>4.626e+05</td> \n",
       "</tr>\n",
       "<tr>\n",
       "  <th>Df Residuals:</th>          <td> 17479</td>      <th>  BIC:               </th>  <td>4.628e+05</td> \n",
       "</tr>\n",
       "<tr>\n",
       "  <th>Df Model:</th>              <td>    15</td>      <th>                     </th>      <td> </td>     \n",
       "</tr>\n",
       "<tr>\n",
       "  <th>Covariance Type:</th>      <td>nonrobust</td>    <th>                     </th>      <td> </td>     \n",
       "</tr>\n",
       "</table>\n",
       "<table class=\"simpletable\">\n",
       "<tr>\n",
       "          <td></td>             <th>coef</th>     <th>std err</th>      <th>t</th>      <th>P>|t|</th>  <th>[0.025</th>    <th>0.975]</th>  \n",
       "</tr>\n",
       "<tr>\n",
       "  <th>Intercept</th>         <td> 5.136e+05</td> <td> 3.36e+04</td> <td>   15.269</td> <td> 0.000</td> <td> 4.48e+05</td> <td>  5.8e+05</td>\n",
       "</tr>\n",
       "<tr>\n",
       "  <th>quant_sqft_living</th> <td> 1.169e+05</td> <td> 1519.687</td> <td>   76.953</td> <td> 0.000</td> <td> 1.14e+05</td> <td>  1.2e+05</td>\n",
       "</tr>\n",
       "<tr>\n",
       "  <th>quant_coffee</th>      <td>-9276.2282</td> <td> 1080.794</td> <td>   -8.583</td> <td> 0.000</td> <td>-1.14e+04</td> <td>-7157.765</td>\n",
       "</tr>\n",
       "<tr>\n",
       "  <th>quant_parks</th>       <td>-1349.8124</td> <td> 1008.289</td> <td>   -1.339</td> <td> 0.181</td> <td>-3326.160</td> <td>  626.535</td>\n",
       "</tr>\n",
       "<tr>\n",
       "  <th>quant_schools</th>     <td> 2.095e+04</td> <td> 5830.000</td> <td>    3.593</td> <td> 0.000</td> <td> 9522.064</td> <td> 3.24e+04</td>\n",
       "</tr>\n",
       "<tr>\n",
       "  <th>quant_scientology</th> <td>-3.319e+04</td> <td> 3863.765</td> <td>   -8.589</td> <td> 0.000</td> <td>-4.08e+04</td> <td>-2.56e+04</td>\n",
       "</tr>\n",
       "<tr>\n",
       "  <th>quant_interaction</th> <td>-8.045e+04</td> <td> 8458.513</td> <td>   -9.511</td> <td> 0.000</td> <td> -9.7e+04</td> <td>-6.39e+04</td>\n",
       "</tr>\n",
       "<tr>\n",
       "  <th>grade_5</th>           <td> -5.38e+04</td> <td> 3.48e+04</td> <td>   -1.545</td> <td> 0.122</td> <td>-1.22e+05</td> <td> 1.45e+04</td>\n",
       "</tr>\n",
       "<tr>\n",
       "  <th>grade_6</th>           <td>-9.118e+04</td> <td> 3.36e+04</td> <td>   -2.712</td> <td> 0.007</td> <td>-1.57e+05</td> <td>-2.53e+04</td>\n",
       "</tr>\n",
       "<tr>\n",
       "  <th>grade_7</th>           <td>-8.103e+04</td> <td> 3.36e+04</td> <td>   -2.411</td> <td> 0.016</td> <td>-1.47e+05</td> <td>-1.51e+04</td>\n",
       "</tr>\n",
       "<tr>\n",
       "  <th>grade_8</th>           <td>-2.109e+04</td> <td> 3.38e+04</td> <td>   -0.625</td> <td> 0.532</td> <td>-8.73e+04</td> <td> 4.51e+04</td>\n",
       "</tr>\n",
       "<tr>\n",
       "  <th>grade_9</th>           <td> 9.706e+04</td> <td>  3.4e+04</td> <td>    2.856</td> <td> 0.004</td> <td> 3.04e+04</td> <td> 1.64e+05</td>\n",
       "</tr>\n",
       "<tr>\n",
       "  <th>grade_10</th>          <td> 2.339e+05</td> <td> 3.43e+04</td> <td>    6.818</td> <td> 0.000</td> <td> 1.67e+05</td> <td> 3.01e+05</td>\n",
       "</tr>\n",
       "<tr>\n",
       "  <th>grade_11</th>          <td> 4.691e+05</td> <td> 3.51e+04</td> <td>   13.374</td> <td> 0.000</td> <td>    4e+05</td> <td> 5.38e+05</td>\n",
       "</tr>\n",
       "<tr>\n",
       "  <th>grade_12</th>          <td> 8.308e+05</td> <td> 3.93e+04</td> <td>   21.118</td> <td> 0.000</td> <td> 7.54e+05</td> <td> 9.08e+05</td>\n",
       "</tr>\n",
       "<tr>\n",
       "  <th>grade_13</th>          <td> 1.585e+06</td> <td> 6.45e+04</td> <td>   24.559</td> <td> 0.000</td> <td> 1.46e+06</td> <td> 1.71e+06</td>\n",
       "</tr>\n",
       "</table>\n",
       "<table class=\"simpletable\">\n",
       "<tr>\n",
       "  <th>Omnibus:</th>       <td>5325.799</td> <th>  Durbin-Watson:     </th> <td>   2.001</td> \n",
       "</tr>\n",
       "<tr>\n",
       "  <th>Prob(Omnibus):</th>  <td> 0.000</td>  <th>  Jarque-Bera (JB):  </th> <td>48210.631</td>\n",
       "</tr>\n",
       "<tr>\n",
       "  <th>Skew:</th>           <td> 1.202</td>  <th>  Prob(JB):          </th> <td>    0.00</td> \n",
       "</tr>\n",
       "<tr>\n",
       "  <th>Kurtosis:</th>       <td>10.769</td>  <th>  Cond. No.          </th> <td>    175.</td> \n",
       "</tr>\n",
       "</table><br/><br/>Warnings:<br/>[1] Standard Errors assume that the covariance matrix of the errors is correctly specified."
      ],
      "text/plain": [
       "<class 'statsmodels.iolib.summary.Summary'>\n",
       "\"\"\"\n",
       "                            OLS Regression Results                            \n",
       "==============================================================================\n",
       "Dep. Variable:                  price   R-squared:                       0.744\n",
       "Model:                            OLS   Adj. R-squared:                  0.744\n",
       "Method:                 Least Squares   F-statistic:                     3391.\n",
       "Date:                Mon, 30 Nov 2020   Prob (F-statistic):               0.00\n",
       "Time:                        22:35:36   Log-Likelihood:            -2.3130e+05\n",
       "No. Observations:               17495   AIC:                         4.626e+05\n",
       "Df Residuals:                   17479   BIC:                         4.628e+05\n",
       "Df Model:                          15                                         \n",
       "Covariance Type:            nonrobust                                         \n",
       "=====================================================================================\n",
       "                        coef    std err          t      P>|t|      [0.025      0.975]\n",
       "-------------------------------------------------------------------------------------\n",
       "Intercept          5.136e+05   3.36e+04     15.269      0.000    4.48e+05     5.8e+05\n",
       "quant_sqft_living  1.169e+05   1519.687     76.953      0.000    1.14e+05     1.2e+05\n",
       "quant_coffee      -9276.2282   1080.794     -8.583      0.000   -1.14e+04   -7157.765\n",
       "quant_parks       -1349.8124   1008.289     -1.339      0.181   -3326.160     626.535\n",
       "quant_schools      2.095e+04   5830.000      3.593      0.000    9522.064    3.24e+04\n",
       "quant_scientology -3.319e+04   3863.765     -8.589      0.000   -4.08e+04   -2.56e+04\n",
       "quant_interaction -8.045e+04   8458.513     -9.511      0.000    -9.7e+04   -6.39e+04\n",
       "grade_5            -5.38e+04   3.48e+04     -1.545      0.122   -1.22e+05    1.45e+04\n",
       "grade_6           -9.118e+04   3.36e+04     -2.712      0.007   -1.57e+05   -2.53e+04\n",
       "grade_7           -8.103e+04   3.36e+04     -2.411      0.016   -1.47e+05   -1.51e+04\n",
       "grade_8           -2.109e+04   3.38e+04     -0.625      0.532   -8.73e+04    4.51e+04\n",
       "grade_9            9.706e+04    3.4e+04      2.856      0.004    3.04e+04    1.64e+05\n",
       "grade_10           2.339e+05   3.43e+04      6.818      0.000    1.67e+05    3.01e+05\n",
       "grade_11           4.691e+05   3.51e+04     13.374      0.000       4e+05    5.38e+05\n",
       "grade_12           8.308e+05   3.93e+04     21.118      0.000    7.54e+05    9.08e+05\n",
       "grade_13           1.585e+06   6.45e+04     24.559      0.000    1.46e+06    1.71e+06\n",
       "==============================================================================\n",
       "Omnibus:                     5325.799   Durbin-Watson:                   2.001\n",
       "Prob(Omnibus):                  0.000   Jarque-Bera (JB):            48210.631\n",
       "Skew:                           1.202   Prob(JB):                         0.00\n",
       "Kurtosis:                      10.769   Cond. No.                         175.\n",
       "==============================================================================\n",
       "\n",
       "Warnings:\n",
       "[1] Standard Errors assume that the covariance matrix of the errors is correctly specified.\n",
       "\"\"\""
      ]
     },
     "execution_count": 23,
     "metadata": {},
     "output_type": "execute_result"
    }
   ],
   "source": [
    "#modeling with sk learn\n",
    "\n",
    "f = 'price ~ quant_sqft_living + quant_coffee + quant_parks + quant_schools + quant_scientology + quant_interaction + grade_5 + grade_6 + grade_7 + grade_8 + grade_9 + grade_10 + grade_11 + grade_12 + grade_13'\n",
    "model = ols(formula = f, data = final_data).fit()\n",
    "model.summary()"
   ]
  },
  {
   "cell_type": "code",
   "execution_count": 24,
   "metadata": {},
   "outputs": [],
   "source": [
    "y_predict = lm10.predict(X_test)\n",
    "\n",
    "X2 = sm.add_constant(X)\n",
    "\n",
    "# create an OLS model\n",
    "model = sm.OLS(y, X2)\n",
    "\n",
    "# fit the data\n",
    "est = model.fit()"
   ]
  },
  {
   "cell_type": "code",
   "execution_count": 25,
   "metadata": {
    "scrolled": true
   },
   "outputs": [
    {
     "data": {
      "image/png": "[encoded data removed]",
      "text/plain": [
       "<Figure size 432x288 with 1 Axes>"
      ]
     },
     "execution_count": 25,
     "metadata": {},
     "output_type": "execute_result"
    },
    {
     "data": {
      "image/png": "[encoded data removed]",
      "text/plain": [
       "<Figure size 432x288 with 1 Axes>"
      ]
     },
     "metadata": {
      "needs_background": "light"
     },
     "output_type": "display_data"
    }
   ],
   "source": [
    "# quick qq plot to make sure everything looks normal\n",
    "sm.qqplot(est.resid, line='s')"
   ]
  },
  {
   "cell_type": "code",
   "execution_count": 26,
   "metadata": {},
   "outputs": [],
   "source": [
    "def lin_reg(X, y):  \n",
    "    X_train, X_test, y_train, y_test = train_test_split(X, y, test_size=0.25)\n",
    "    linreg = LinearRegression()\n",
    "    linreg.fit(X_train,y_train)\n",
    "    y_hat = linreg.predict(X_test)\n",
    "    y_hat_train = linreg.predict(X_train)\n",
    "    print('R_squared:', linreg.score(X, y))\n",
    "    #Display errors\n",
    "    print('Mean Absolute Error:', mean_absolute_error(y_test, y_hat))\n",
    "    print('Root Mean Squared Error test:', np.sqrt(mean_squared_error(y_test, y_hat)))\n",
    "    print('Root Mean Squared Error train:', np.sqrt(mean_squared_error(y_train, y_hat_train)))\n",
    "    #Compare predicted and actual values\n",
    "    print('Mean Predicted Selling Price:', y_hat.mean())\n",
    "    print('Mean Selling Price:', y_test.mean())\n",
    "    return linreg"
   ]
  },
  {
   "cell_type": "code",
   "execution_count": 27,
   "metadata": {},
   "outputs": [
    {
     "name": "stdout",
     "output_type": "stream",
     "text": [
      "R_squared: 0.7609456014909718\n",
      "Mean Absolute Error: 0.38236556647284514\n",
      "Root Mean Squared Error test: 0.4867341806489756\n",
      "Root Mean Squared Error train: 0.49008366309937224\n",
      "Mean Predicted Selling Price: 0.02752708480405239\n",
      "Mean Selling Price: quant_price    0.034008\n",
      "dtype: float64\n"
     ]
    },
    {
     "data": {
      "text/plain": [
       "LinearRegression()"
      ]
     },
     "execution_count": 27,
     "metadata": {},
     "output_type": "execute_result"
    }
   ],
   "source": [
    "lin_reg(X,y)"
   ]
  },
  {
   "cell_type": "code",
   "execution_count": 28,
   "metadata": {
    "scrolled": false
   },
   "outputs": [
    {
     "name": "stdout",
     "output_type": "stream",
     "text": [
      "R_squared: 0.7079481353050576\n",
      "Mean Absolute Error: 0.4415246068650537\n",
      "Root Mean Squared Error test: 0.5481772426969908\n",
      "Root Mean Squared Error train: 0.538275477486579\n",
      "Mean Predicted Selling Price: -0.011421870511364876\n",
      "Mean Selling Price: quant_price   -0.008616\n",
      "dtype: float64\n"
     ]
    },
    {
     "data": {
      "text/plain": [
       "LinearRegression()"
      ]
     },
     "execution_count": 28,
     "metadata": {},
     "output_type": "execute_result"
    }
   ],
   "source": [
    "#RFE to check for insignificant features \n",
    "\n",
    "estimator = SVR(kernel=\"linear\")\n",
    "\n",
    "selector = RFE(estimator, step=1)\n",
    "selector = selector.fit(X, y)\n",
    "\n",
    "#Take a look at the R2 with only the most valuable features\n",
    "X_RFE = X[X.columns[selector.support_]]\n",
    "lin_reg(X_RFE, y)"
   ]
  },
  {
   "cell_type": "code",
   "execution_count": 29,
   "metadata": {
    "scrolled": false
   },
   "outputs": [
    {
     "data": {
      "text/html": [
       "<table class=\"simpletable\">\n",
       "<caption>OLS Regression Results</caption>\n",
       "<tr>\n",
       "  <th>Dep. Variable:</th>       <td>quant_price</td>   <th>  R-squared:         </th> <td>   0.761</td> \n",
       "</tr>\n",
       "<tr>\n",
       "  <th>Model:</th>                   <td>OLS</td>       <th>  Adj. R-squared:    </th> <td>   0.761</td> \n",
       "</tr>\n",
       "<tr>\n",
       "  <th>Method:</th>             <td>Least Squares</td>  <th>  F-statistic:       </th> <td>   3975.</td> \n",
       "</tr>\n",
       "<tr>\n",
       "  <th>Date:</th>             <td>Mon, 30 Nov 2020</td> <th>  Prob (F-statistic):</th>  <td>  0.00</td>  \n",
       "</tr>\n",
       "<tr>\n",
       "  <th>Time:</th>                 <td>22:40:51</td>     <th>  Log-Likelihood:    </th> <td> -12316.</td> \n",
       "</tr>\n",
       "<tr>\n",
       "  <th>No. Observations:</th>      <td> 17495</td>      <th>  AIC:               </th> <td>2.466e+04</td>\n",
       "</tr>\n",
       "<tr>\n",
       "  <th>Df Residuals:</th>          <td> 17480</td>      <th>  BIC:               </th> <td>2.478e+04</td>\n",
       "</tr>\n",
       "<tr>\n",
       "  <th>Df Model:</th>              <td>    14</td>      <th>                     </th>     <td> </td>    \n",
       "</tr>\n",
       "<tr>\n",
       "  <th>Covariance Type:</th>      <td>nonrobust</td>    <th>                     </th>     <td> </td>    \n",
       "</tr>\n",
       "</table>\n",
       "<table class=\"simpletable\">\n",
       "<tr>\n",
       "          <td></td>             <th>coef</th>     <th>std err</th>      <th>t</th>      <th>P>|t|</th>  <th>[0.025</th>    <th>0.975]</th>  \n",
       "</tr>\n",
       "<tr>\n",
       "  <th>Intercept</th>         <td>   -0.7595</td> <td>    0.123</td> <td>   -6.162</td> <td> 0.000</td> <td>   -1.001</td> <td>   -0.518</td>\n",
       "</tr>\n",
       "<tr>\n",
       "  <th>quant_sqft_living</th> <td>    0.4986</td> <td>    0.006</td> <td>   89.550</td> <td> 0.000</td> <td>    0.488</td> <td>    0.510</td>\n",
       "</tr>\n",
       "<tr>\n",
       "  <th>quant_coffee</th>      <td>   -0.0268</td> <td>    0.004</td> <td>   -6.779</td> <td> 0.000</td> <td>   -0.035</td> <td>   -0.019</td>\n",
       "</tr>\n",
       "<tr>\n",
       "  <th>quant_schools</th>     <td>   -0.0690</td> <td>    0.021</td> <td>   -3.229</td> <td> 0.001</td> <td>   -0.111</td> <td>   -0.027</td>\n",
       "</tr>\n",
       "<tr>\n",
       "  <th>quant_scientology</th> <td>   -0.1564</td> <td>    0.014</td> <td>  -11.045</td> <td> 0.000</td> <td>   -0.184</td> <td>   -0.129</td>\n",
       "</tr>\n",
       "<tr>\n",
       "  <th>quant_interaction</th> <td>   -0.2133</td> <td>    0.031</td> <td>   -6.882</td> <td> 0.000</td> <td>   -0.274</td> <td>   -0.153</td>\n",
       "</tr>\n",
       "<tr>\n",
       "  <th>grade_5</th>           <td>    0.1622</td> <td>    0.128</td> <td>    1.271</td> <td> 0.204</td> <td>   -0.088</td> <td>    0.412</td>\n",
       "</tr>\n",
       "<tr>\n",
       "  <th>grade_6</th>           <td>    0.3062</td> <td>    0.123</td> <td>    2.486</td> <td> 0.013</td> <td>    0.065</td> <td>    0.548</td>\n",
       "</tr>\n",
       "<tr>\n",
       "  <th>grade_7</th>           <td>    0.5827</td> <td>    0.123</td> <td>    4.730</td> <td> 0.000</td> <td>    0.341</td> <td>    0.824</td>\n",
       "</tr>\n",
       "<tr>\n",
       "  <th>grade_8</th>           <td>    0.8813</td> <td>    0.124</td> <td>    7.125</td> <td> 0.000</td> <td>    0.639</td> <td>    1.124</td>\n",
       "</tr>\n",
       "<tr>\n",
       "  <th>grade_9</th>           <td>    1.1946</td> <td>    0.125</td> <td>    9.592</td> <td> 0.000</td> <td>    0.951</td> <td>    1.439</td>\n",
       "</tr>\n",
       "<tr>\n",
       "  <th>grade_10</th>          <td>    1.4313</td> <td>    0.126</td> <td>   11.385</td> <td> 0.000</td> <td>    1.185</td> <td>    1.678</td>\n",
       "</tr>\n",
       "<tr>\n",
       "  <th>grade_11</th>          <td>    1.7186</td> <td>    0.129</td> <td>   13.371</td> <td> 0.000</td> <td>    1.467</td> <td>    1.971</td>\n",
       "</tr>\n",
       "<tr>\n",
       "  <th>grade_12</th>          <td>    2.0842</td> <td>    0.144</td> <td>   14.458</td> <td> 0.000</td> <td>    1.802</td> <td>    2.367</td>\n",
       "</tr>\n",
       "<tr>\n",
       "  <th>grade_13</th>          <td>    2.3268</td> <td>    0.236</td> <td>    9.839</td> <td> 0.000</td> <td>    1.863</td> <td>    2.790</td>\n",
       "</tr>\n",
       "</table>\n",
       "<table class=\"simpletable\">\n",
       "<tr>\n",
       "  <th>Omnibus:</th>       <td>391.327</td> <th>  Durbin-Watson:     </th> <td>   1.997</td> \n",
       "</tr>\n",
       "<tr>\n",
       "  <th>Prob(Omnibus):</th> <td> 0.000</td>  <th>  Jarque-Bera (JB):  </th> <td> 510.627</td> \n",
       "</tr>\n",
       "<tr>\n",
       "  <th>Skew:</th>          <td>-0.283</td>  <th>  Prob(JB):          </th> <td>1.31e-111</td>\n",
       "</tr>\n",
       "<tr>\n",
       "  <th>Kurtosis:</th>      <td> 3.616</td>  <th>  Cond. No.          </th> <td>    175.</td> \n",
       "</tr>\n",
       "</table><br/><br/>Warnings:<br/>[1] Standard Errors assume that the covariance matrix of the errors is correctly specified."
      ],
      "text/plain": [
       "<class 'statsmodels.iolib.summary.Summary'>\n",
       "\"\"\"\n",
       "                            OLS Regression Results                            \n",
       "==============================================================================\n",
       "Dep. Variable:            quant_price   R-squared:                       0.761\n",
       "Model:                            OLS   Adj. R-squared:                  0.761\n",
       "Method:                 Least Squares   F-statistic:                     3975.\n",
       "Date:                Mon, 30 Nov 2020   Prob (F-statistic):               0.00\n",
       "Time:                        22:40:51   Log-Likelihood:                -12316.\n",
       "No. Observations:               17495   AIC:                         2.466e+04\n",
       "Df Residuals:                   17480   BIC:                         2.478e+04\n",
       "Df Model:                          14                                         \n",
       "Covariance Type:            nonrobust                                         \n",
       "=====================================================================================\n",
       "                        coef    std err          t      P>|t|      [0.025      0.975]\n",
       "-------------------------------------------------------------------------------------\n",
       "Intercept            -0.7595      0.123     -6.162      0.000      -1.001      -0.518\n",
       "quant_sqft_living     0.4986      0.006     89.550      0.000       0.488       0.510\n",
       "quant_coffee         -0.0268      0.004     -6.779      0.000      -0.035      -0.019\n",
       "quant_schools        -0.0690      0.021     -3.229      0.001      -0.111      -0.027\n",
       "quant_scientology    -0.1564      0.014    -11.045      0.000      -0.184      -0.129\n",
       "quant_interaction    -0.2133      0.031     -6.882      0.000      -0.274      -0.153\n",
       "grade_5               0.1622      0.128      1.271      0.204      -0.088       0.412\n",
       "grade_6               0.3062      0.123      2.486      0.013       0.065       0.548\n",
       "grade_7               0.5827      0.123      4.730      0.000       0.341       0.824\n",
       "grade_8               0.8813      0.124      7.125      0.000       0.639       1.124\n",
       "grade_9               1.1946      0.125      9.592      0.000       0.951       1.439\n",
       "grade_10              1.4313      0.126     11.385      0.000       1.185       1.678\n",
       "grade_11              1.7186      0.129     13.371      0.000       1.467       1.971\n",
       "grade_12              2.0842      0.144     14.458      0.000       1.802       2.367\n",
       "grade_13              2.3268      0.236      9.839      0.000       1.863       2.790\n",
       "==============================================================================\n",
       "Omnibus:                      391.327   Durbin-Watson:                   1.997\n",
       "Prob(Omnibus):                  0.000   Jarque-Bera (JB):              510.627\n",
       "Skew:                          -0.283   Prob(JB):                    1.31e-111\n",
       "Kurtosis:                       3.616   Cond. No.                         175.\n",
       "==============================================================================\n",
       "\n",
       "Warnings:\n",
       "[1] Standard Errors assume that the covariance matrix of the errors is correctly specified.\n",
       "\"\"\""
      ]
     },
     "execution_count": 29,
     "metadata": {},
     "output_type": "execute_result"
    }
   ],
   "source": [
    "final_formula = \"quant_price ~ quant_sqft_living+quant_coffee+quant_schools+quant_scientology+quant_interaction+grade_5+grade_6+grade_7+grade_8+grade_9+grade_10+grade_11+grade_12+grade_13\"\n",
    "model = ols(formula= final_formula, data=final_data).fit()\n",
    "model.summary()"
   ]
  },
  {
   "cell_type": "markdown",
   "metadata": {},
   "source": [
    "### Checking for homoscedasticity "
   ]
  },
  {
   "cell_type": "markdown",
   "metadata": {},
   "source": [
    "#### Model #2 - log transformed data"
   ]
  },
  {
   "cell_type": "code",
   "execution_count": 32,
   "metadata": {},
   "outputs": [],
   "source": [
    "formula = \"price ~ sqft_living+log_school+log_scientology+log_coffee+log_park_rv\"\n",
    "model = ols(formula= formula, data=data).fit()\n",
    "#model.summary()"
   ]
  },
  {
   "cell_type": "code",
   "execution_count": 33,
   "metadata": {},
   "outputs": [
    {
     "data": {
      "image/png": "[encoded data removed]",
      "text/plain": [
       "<Figure size 432x288 with 1 Axes>"
      ]
     },
     "metadata": {
      "needs_background": "light"
     },
     "output_type": "display_data"
    }
   ],
   "source": [
    "predictors_log = ['sqft_living', 'log_school', 'log_scientology', 'log_coffee', 'log_park_rv']\n",
    "\n",
    "plt.scatter(model.predict(data[predictors_log]), model.resid, alpha = .5);\n",
    "#plt.scatter(model.predict(df[predictors_log]), model.resid, alpha = .5);\n",
    "plt.plot(model.predict(data[predictors_log]), [0 for i in range(len(data))]);\n",
    "#plt.plot(model.predict(df[predictors_log]), [0 for i in range(len(df))]);\n",
    "plt.title('Homoscedasticity | Log Transformed Model, All Features');"
   ]
  },
  {
   "cell_type": "markdown",
   "metadata": {},
   "source": [
    "The variability of price is not equal at all, this model is heteroscedastic"
   ]
  },
  {
   "cell_type": "code",
   "execution_count": 34,
   "metadata": {},
   "outputs": [
    {
     "name": "stdout",
     "output_type": "stream",
     "text": [
      "{'Lagrange multiplier statistic': 636.6001639319977, 'p-value': 1.8545128325720806e-136, 'f-value': 165.8453393879056, 'f p-value': 2.648479849111612e-139}\n"
     ]
    }
   ],
   "source": [
    "log_formula =  'price ~ sqft_living + log_school + log_coffee + log_park_rv'\n",
    "log_model_results = smf.ols(formula = log_formula, data=data).fit()\n",
    "\n",
    "name = ['Lagrange multiplier statistic', 'p-value',\n",
    "        'f-value', 'f p-value']\n",
    "test = sms.het_breuschpagan(log_model_results.resid, log_model_results.model.exog)\n",
    "bp_test = dict(zip(name, test))\n",
    "print(bp_test)"
   ]
  },
  {
   "cell_type": "markdown",
   "metadata": {},
   "source": [
    "#### Model #3 - removing features after log transformation"
   ]
  },
  {
   "cell_type": "code",
   "execution_count": 35,
   "metadata": {},
   "outputs": [
    {
     "data": {
      "text/html": [
       "<table class=\"simpletable\">\n",
       "<caption>OLS Regression Results</caption>\n",
       "<tr>\n",
       "  <th>Dep. Variable:</th>          <td>price</td>      <th>  R-squared:         </th>  <td>   0.545</td>  \n",
       "</tr>\n",
       "<tr>\n",
       "  <th>Model:</th>                   <td>OLS</td>       <th>  Adj. R-squared:    </th>  <td>   0.545</td>  \n",
       "</tr>\n",
       "<tr>\n",
       "  <th>Method:</th>             <td>Least Squares</td>  <th>  F-statistic:       </th>  <td>   4682.</td>  \n",
       "</tr>\n",
       "<tr>\n",
       "  <th>Date:</th>             <td>Mon, 30 Nov 2020</td> <th>  Prob (F-statistic):</th>   <td>  0.00</td>   \n",
       "</tr>\n",
       "<tr>\n",
       "  <th>Time:</th>                 <td>22:40:52</td>     <th>  Log-Likelihood:    </th> <td>-2.0460e+05</td>\n",
       "</tr>\n",
       "<tr>\n",
       "  <th>No. Observations:</th>      <td> 15650</td>      <th>  AIC:               </th>  <td>4.092e+05</td> \n",
       "</tr>\n",
       "<tr>\n",
       "  <th>Df Residuals:</th>          <td> 15645</td>      <th>  BIC:               </th>  <td>4.093e+05</td> \n",
       "</tr>\n",
       "<tr>\n",
       "  <th>Df Model:</th>              <td>     4</td>      <th>                     </th>      <td> </td>     \n",
       "</tr>\n",
       "<tr>\n",
       "  <th>Covariance Type:</th>      <td>nonrobust</td>    <th>                     </th>      <td> </td>     \n",
       "</tr>\n",
       "</table>\n",
       "<table class=\"simpletable\">\n",
       "<tr>\n",
       "         <td></td>            <th>coef</th>     <th>std err</th>      <th>t</th>      <th>P>|t|</th>  <th>[0.025</th>    <th>0.975]</th>  \n",
       "</tr>\n",
       "<tr>\n",
       "  <th>Intercept</th>       <td> 4.201e+05</td> <td> 6438.813</td> <td>   65.250</td> <td> 0.000</td> <td> 4.08e+05</td> <td> 4.33e+05</td>\n",
       "</tr>\n",
       "<tr>\n",
       "  <th>sqft_living</th>     <td>  162.9478</td> <td>    1.583</td> <td>  102.911</td> <td> 0.000</td> <td>  159.844</td> <td>  166.051</td>\n",
       "</tr>\n",
       "<tr>\n",
       "  <th>log_school</th>      <td>-3.522e+04</td> <td>  969.272</td> <td>  -36.335</td> <td> 0.000</td> <td>-3.71e+04</td> <td>-3.33e+04</td>\n",
       "</tr>\n",
       "<tr>\n",
       "  <th>log_coffee</th>      <td>-2.461e+04</td> <td> 1401.211</td> <td>  -17.566</td> <td> 0.000</td> <td>-2.74e+04</td> <td>-2.19e+04</td>\n",
       "</tr>\n",
       "<tr>\n",
       "  <th>log_scientology</th> <td>-7.804e+04</td> <td> 1708.434</td> <td>  -45.679</td> <td> 0.000</td> <td>-8.14e+04</td> <td>-7.47e+04</td>\n",
       "</tr>\n",
       "</table>\n",
       "<table class=\"simpletable\">\n",
       "<tr>\n",
       "  <th>Omnibus:</th>       <td>434.290</td> <th>  Durbin-Watson:     </th> <td>   1.995</td> \n",
       "</tr>\n",
       "<tr>\n",
       "  <th>Prob(Omnibus):</th> <td> 0.000</td>  <th>  Jarque-Bera (JB):  </th> <td> 540.896</td> \n",
       "</tr>\n",
       "<tr>\n",
       "  <th>Skew:</th>          <td> 0.345</td>  <th>  Prob(JB):          </th> <td>3.51e-118</td>\n",
       "</tr>\n",
       "<tr>\n",
       "  <th>Kurtosis:</th>      <td> 3.595</td>  <th>  Cond. No.          </th> <td>1.39e+04</td> \n",
       "</tr>\n",
       "</table><br/><br/>Warnings:<br/>[1] Standard Errors assume that the covariance matrix of the errors is correctly specified.<br/>[2] The condition number is large, 1.39e+04. This might indicate that there are<br/>strong multicollinearity or other numerical problems."
      ],
      "text/plain": [
       "<class 'statsmodels.iolib.summary.Summary'>\n",
       "\"\"\"\n",
       "                            OLS Regression Results                            \n",
       "==============================================================================\n",
       "Dep. Variable:                  price   R-squared:                       0.545\n",
       "Model:                            OLS   Adj. R-squared:                  0.545\n",
       "Method:                 Least Squares   F-statistic:                     4682.\n",
       "Date:                Mon, 30 Nov 2020   Prob (F-statistic):               0.00\n",
       "Time:                        22:40:52   Log-Likelihood:            -2.0460e+05\n",
       "No. Observations:               15650   AIC:                         4.092e+05\n",
       "Df Residuals:                   15645   BIC:                         4.093e+05\n",
       "Df Model:                           4                                         \n",
       "Covariance Type:            nonrobust                                         \n",
       "===================================================================================\n",
       "                      coef    std err          t      P>|t|      [0.025      0.975]\n",
       "-----------------------------------------------------------------------------------\n",
       "Intercept        4.201e+05   6438.813     65.250      0.000    4.08e+05    4.33e+05\n",
       "sqft_living       162.9478      1.583    102.911      0.000     159.844     166.051\n",
       "log_school      -3.522e+04    969.272    -36.335      0.000   -3.71e+04   -3.33e+04\n",
       "log_coffee      -2.461e+04   1401.211    -17.566      0.000   -2.74e+04   -2.19e+04\n",
       "log_scientology -7.804e+04   1708.434    -45.679      0.000   -8.14e+04   -7.47e+04\n",
       "==============================================================================\n",
       "Omnibus:                      434.290   Durbin-Watson:                   1.995\n",
       "Prob(Omnibus):                  0.000   Jarque-Bera (JB):              540.896\n",
       "Skew:                           0.345   Prob(JB):                    3.51e-118\n",
       "Kurtosis:                       3.595   Cond. No.                     1.39e+04\n",
       "==============================================================================\n",
       "\n",
       "Warnings:\n",
       "[1] Standard Errors assume that the covariance matrix of the errors is correctly specified.\n",
       "[2] The condition number is large, 1.39e+04. This might indicate that there are\n",
       "strong multicollinearity or other numerical problems.\n",
       "\"\"\""
      ]
     },
     "execution_count": 35,
     "metadata": {},
     "output_type": "execute_result"
    }
   ],
   "source": [
    "f = 'price ~ sqft_living + log_school + log_coffee + log_scientology'\n",
    "\n",
    "model = ols(formula = f, data = data).fit()\n",
    "model.summary()"
   ]
  },
  {
   "cell_type": "code",
   "execution_count": 36,
   "metadata": {
    "scrolled": true
   },
   "outputs": [
    {
     "data": {
      "image/png": "[encoded data removed]",
      "text/plain": [
       "<Figure size 432x288 with 1 Axes>"
      ]
     },
     "metadata": {
      "needs_background": "light"
     },
     "output_type": "display_data"
    }
   ],
   "source": [
    "predictors_3 = ['sqft_living', 'log_school', 'log_coffee', 'log_scientology']\n",
    "\n",
    "plt.scatter(model.predict(data[predictors_3]), model.resid, alpha = .5);\n",
    "#plt.scatter(model.predict(df[predictors_3]), model.resid, alpha = .5);\n",
    "plt.plot(model.predict(data[predictors_3]), [0 for i in range(len(data))]);\n",
    "#plt.plot(model.predict(df[predictors_3]), [0 for i in range(len(df))]);\n",
    "plt.title('Homoscedasticity | Log Transformed Model, Removed Features');"
   ]
  },
  {
   "cell_type": "markdown",
   "metadata": {},
   "source": [
    "The variability of price is not equal at all, this model is heteroscedastic"
   ]
  },
  {
   "cell_type": "markdown",
   "metadata": {},
   "source": [
    "#### Model #8 - quant transformed data w/ revised park data "
   ]
  },
  {
   "cell_type": "code",
   "execution_count": 37,
   "metadata": {},
   "outputs": [
    {
     "data": {
      "text/html": [
       "<table class=\"simpletable\">\n",
       "<caption>OLS Regression Results</caption>\n",
       "<tr>\n",
       "  <th>Dep. Variable:</th>          <td>price</td>      <th>  R-squared:         </th>  <td>   0.758</td>  \n",
       "</tr>\n",
       "<tr>\n",
       "  <th>Model:</th>                   <td>OLS</td>       <th>  Adj. R-squared:    </th>  <td>   0.758</td>  \n",
       "</tr>\n",
       "<tr>\n",
       "  <th>Method:</th>             <td>Least Squares</td>  <th>  F-statistic:       </th>  <td>   4217.</td>  \n",
       "</tr>\n",
       "<tr>\n",
       "  <th>Date:</th>             <td>Mon, 30 Nov 2020</td> <th>  Prob (F-statistic):</th>   <td>  0.00</td>   \n",
       "</tr>\n",
       "<tr>\n",
       "  <th>Time:</th>                 <td>22:40:52</td>     <th>  Log-Likelihood:    </th> <td>-2.3081e+05</td>\n",
       "</tr>\n",
       "<tr>\n",
       "  <th>No. Observations:</th>      <td> 17495</td>      <th>  AIC:               </th>  <td>4.616e+05</td> \n",
       "</tr>\n",
       "<tr>\n",
       "  <th>Df Residuals:</th>          <td> 17481</td>      <th>  BIC:               </th>  <td>4.617e+05</td> \n",
       "</tr>\n",
       "<tr>\n",
       "  <th>Df Model:</th>              <td>    13</td>      <th>                     </th>      <td> </td>     \n",
       "</tr>\n",
       "<tr>\n",
       "  <th>Covariance Type:</th>      <td>nonrobust</td>    <th>                     </th>      <td> </td>     \n",
       "</tr>\n",
       "</table>\n",
       "<table class=\"simpletable\">\n",
       "<tr>\n",
       "                  <td></td>                    <th>coef</th>     <th>std err</th>      <th>t</th>      <th>P>|t|</th>  <th>[0.025</th>    <th>0.975]</th>  \n",
       "</tr>\n",
       "<tr>\n",
       "  <th>Intercept</th>                        <td> 8.373e+05</td> <td> 1.75e+04</td> <td>   47.755</td> <td> 0.000</td> <td> 8.03e+05</td> <td> 8.72e+05</td>\n",
       "</tr>\n",
       "<tr>\n",
       "  <th>sqft_living</th>                      <td>  162.7245</td> <td>    1.740</td> <td>   93.542</td> <td> 0.000</td> <td>  159.315</td> <td>  166.134</td>\n",
       "</tr>\n",
       "<tr>\n",
       "  <th>closest_distance_to_great_coffee</th> <td>-1194.3696</td> <td>  204.545</td> <td>   -5.839</td> <td> 0.000</td> <td>-1595.298</td> <td> -793.441</td>\n",
       "</tr>\n",
       "<tr>\n",
       "  <th>min_dist_park</th>                    <td> -173.2676</td> <td>  309.651</td> <td>   -0.560</td> <td> 0.576</td> <td> -780.213</td> <td>  433.678</td>\n",
       "</tr>\n",
       "<tr>\n",
       "  <th>closest_distance_to_top_school</th>   <td> -2.67e+04</td> <td>  667.525</td> <td>  -39.991</td> <td> 0.000</td> <td> -2.8e+04</td> <td>-2.54e+04</td>\n",
       "</tr>\n",
       "<tr>\n",
       "  <th>closest_distance_to_scientology</th>  <td>-7236.0040</td> <td>  124.461</td> <td>  -58.139</td> <td> 0.000</td> <td>-7479.961</td> <td>-6992.047</td>\n",
       "</tr>\n",
       "<tr>\n",
       "  <th>interaction</th>                      <td>  597.6395</td> <td>   17.840</td> <td>   33.500</td> <td> 0.000</td> <td>  562.672</td> <td>  632.607</td>\n",
       "</tr>\n",
       "<tr>\n",
       "  <th>grade_5</th>                          <td>-5.845e+05</td> <td> 1.91e+04</td> <td>  -30.598</td> <td> 0.000</td> <td>-6.22e+05</td> <td>-5.47e+05</td>\n",
       "</tr>\n",
       "<tr>\n",
       "  <th>grade_6</th>                          <td>-5.829e+05</td> <td> 1.67e+04</td> <td>  -34.804</td> <td> 0.000</td> <td>-6.16e+05</td> <td> -5.5e+05</td>\n",
       "</tr>\n",
       "<tr>\n",
       "  <th>grade_7</th>                          <td>-5.475e+05</td> <td> 1.63e+04</td> <td>  -33.677</td> <td> 0.000</td> <td>-5.79e+05</td> <td>-5.16e+05</td>\n",
       "</tr>\n",
       "<tr>\n",
       "  <th>grade_8</th>                          <td>-4.937e+05</td> <td> 1.61e+04</td> <td>  -30.729</td> <td> 0.000</td> <td>-5.25e+05</td> <td>-4.62e+05</td>\n",
       "</tr>\n",
       "<tr>\n",
       "  <th>grade_9</th>                          <td>-4.057e+05</td> <td>  1.6e+04</td> <td>  -25.336</td> <td> 0.000</td> <td>-4.37e+05</td> <td>-3.74e+05</td>\n",
       "</tr>\n",
       "<tr>\n",
       "  <th>grade_10</th>                         <td>-3.146e+05</td> <td> 1.63e+04</td> <td>  -19.344</td> <td> 0.000</td> <td>-3.46e+05</td> <td>-2.83e+05</td>\n",
       "</tr>\n",
       "<tr>\n",
       "  <th>grade_11</th>                         <td>-1.596e+05</td> <td> 1.74e+04</td> <td>   -9.186</td> <td> 0.000</td> <td>-1.94e+05</td> <td>-1.26e+05</td>\n",
       "</tr>\n",
       "</table>\n",
       "<table class=\"simpletable\">\n",
       "<tr>\n",
       "  <th>Omnibus:</th>       <td>3241.463</td> <th>  Durbin-Watson:     </th> <td>   1.991</td> \n",
       "</tr>\n",
       "<tr>\n",
       "  <th>Prob(Omnibus):</th>  <td> 0.000</td>  <th>  Jarque-Bera (JB):  </th> <td>21318.872</td>\n",
       "</tr>\n",
       "<tr>\n",
       "  <th>Skew:</th>           <td> 0.730</td>  <th>  Prob(JB):          </th> <td>    0.00</td> \n",
       "</tr>\n",
       "<tr>\n",
       "  <th>Kurtosis:</th>       <td> 8.207</td>  <th>  Cond. No.          </th> <td>1.04e+05</td> \n",
       "</tr>\n",
       "</table><br/><br/>Warnings:<br/>[1] Standard Errors assume that the covariance matrix of the errors is correctly specified.<br/>[2] The condition number is large, 1.04e+05. This might indicate that there are<br/>strong multicollinearity or other numerical problems."
      ],
      "text/plain": [
       "<class 'statsmodels.iolib.summary.Summary'>\n",
       "\"\"\"\n",
       "                            OLS Regression Results                            \n",
       "==============================================================================\n",
       "Dep. Variable:                  price   R-squared:                       0.758\n",
       "Model:                            OLS   Adj. R-squared:                  0.758\n",
       "Method:                 Least Squares   F-statistic:                     4217.\n",
       "Date:                Mon, 30 Nov 2020   Prob (F-statistic):               0.00\n",
       "Time:                        22:40:52   Log-Likelihood:            -2.3081e+05\n",
       "No. Observations:               17495   AIC:                         4.616e+05\n",
       "Df Residuals:                   17481   BIC:                         4.617e+05\n",
       "Df Model:                          13                                         \n",
       "Covariance Type:            nonrobust                                         \n",
       "====================================================================================================\n",
       "                                       coef    std err          t      P>|t|      [0.025      0.975]\n",
       "----------------------------------------------------------------------------------------------------\n",
       "Intercept                         8.373e+05   1.75e+04     47.755      0.000    8.03e+05    8.72e+05\n",
       "sqft_living                        162.7245      1.740     93.542      0.000     159.315     166.134\n",
       "closest_distance_to_great_coffee -1194.3696    204.545     -5.839      0.000   -1595.298    -793.441\n",
       "min_dist_park                     -173.2676    309.651     -0.560      0.576    -780.213     433.678\n",
       "closest_distance_to_top_school    -2.67e+04    667.525    -39.991      0.000    -2.8e+04   -2.54e+04\n",
       "closest_distance_to_scientology  -7236.0040    124.461    -58.139      0.000   -7479.961   -6992.047\n",
       "interaction                        597.6395     17.840     33.500      0.000     562.672     632.607\n",
       "grade_5                          -5.845e+05   1.91e+04    -30.598      0.000   -6.22e+05   -5.47e+05\n",
       "grade_6                          -5.829e+05   1.67e+04    -34.804      0.000   -6.16e+05    -5.5e+05\n",
       "grade_7                          -5.475e+05   1.63e+04    -33.677      0.000   -5.79e+05   -5.16e+05\n",
       "grade_8                          -4.937e+05   1.61e+04    -30.729      0.000   -5.25e+05   -4.62e+05\n",
       "grade_9                          -4.057e+05    1.6e+04    -25.336      0.000   -4.37e+05   -3.74e+05\n",
       "grade_10                         -3.146e+05   1.63e+04    -19.344      0.000   -3.46e+05   -2.83e+05\n",
       "grade_11                         -1.596e+05   1.74e+04     -9.186      0.000   -1.94e+05   -1.26e+05\n",
       "==============================================================================\n",
       "Omnibus:                     3241.463   Durbin-Watson:                   1.991\n",
       "Prob(Omnibus):                  0.000   Jarque-Bera (JB):            21318.872\n",
       "Skew:                           0.730   Prob(JB):                         0.00\n",
       "Kurtosis:                       8.207   Cond. No.                     1.04e+05\n",
       "==============================================================================\n",
       "\n",
       "Warnings:\n",
       "[1] Standard Errors assume that the covariance matrix of the errors is correctly specified.\n",
       "[2] The condition number is large, 1.04e+05. This might indicate that there are\n",
       "strong multicollinearity or other numerical problems.\n",
       "\"\"\""
      ]
     },
     "execution_count": 37,
     "metadata": {},
     "output_type": "execute_result"
    }
   ],
   "source": [
    "f = 'price ~ sqft_living+closest_distance_to_great_coffee+min_dist_park+closest_distance_to_top_school+closest_distance_to_scientology+interaction+grade_5+grade_6+grade_7+grade_8+grade_9+grade_10+grade_11'\n",
    "\n",
    "model = ols(formula = f, data = final_data).fit()\n",
    "model.summary()"
   ]
  },
  {
   "cell_type": "code",
   "execution_count": 38,
   "metadata": {},
   "outputs": [
    {
     "data": {
      "image/png": "[encoded data removed]",
      "text/plain": [
       "<Figure size 432x288 with 1 Axes>"
      ]
     },
     "metadata": {
      "needs_background": "light"
     },
     "output_type": "display_data"
    }
   ],
   "source": [
    "predictors_quant = ['sqft_living', 'closest_distance_to_great_coffee', 'min_dist_park', 'closest_distance_to_top_school', 'closest_distance_to_scientology', 'interaction', \n",
    "'grade_5', 'grade_6', 'grade_7', 'grade_8', 'grade_9', 'grade_10', 'grade_11']\n",
    "\n",
    "plt.scatter(model.predict(final_data[predictors_quant]), model.resid, alpha = .5);\n",
    "#plt.scatter(model.predict(df[predictors_quant]), model.resid, alpha = .5);\n",
    "plt.plot(model.predict(final_data[predictors_quant]), [0 for i in range(len(final_data))]);\n",
    "#plt.plot(model.predict(df[predictors_quant]), [0 for i in range(len(df))]);\n",
    "plt.title('Homoscedasticity | Quant Model, All Features');"
   ]
  },
  {
   "cell_type": "markdown",
   "metadata": {},
   "source": [
    "This iteration of the model is very heteroscedastic! This isn't great - we need to check on these outliers"
   ]
  },
  {
   "cell_type": "markdown",
   "metadata": {},
   "source": [
    "#### Model #10 - final model"
   ]
  },
  {
   "cell_type": "code",
   "execution_count": 30,
   "metadata": {},
   "outputs": [
    {
     "data": {
      "image/png": "[encoded data removed]",
      "text/plain": [
       "<Figure size 432x288 with 1 Axes>"
      ]
     },
     "metadata": {
      "needs_background": "light"
     },
     "output_type": "display_data"
    }
   ],
   "source": [
    "predictors = ['quant_sqft_living', 'quant_coffee', 'quant_schools', 'quant_scientology', 'quant_interaction', \n",
    "              'grade_5', 'grade_6', 'grade_7', 'grade_8', 'grade_9', 'grade_10', 'grade_11', 'grade_12', 'grade_13']\n",
    "\n",
    "plt.scatter(model.predict(final_data[predictors]), model.resid, alpha = .5);\n",
    "#plt.scatter(model.predict(df[predictors]), model.resid, alpha = .5);\n",
    "plt.plot(model.predict(final_data[predictors]), [0 for i in range(len(final_data))]);\n",
    "#plt.plot(model.predict(df[predictors]), [0 for i in range(len(df))]);\n",
    "plt.title('Homoscedasticity | Final Model');"
   ]
  },
  {
   "cell_type": "markdown",
   "metadata": {},
   "source": [
    "This looks great! Overall, price variability is equal, which satisfies the third assumption for linear regression"
   ]
  },
  {
   "cell_type": "code",
   "execution_count": 31,
   "metadata": {
    "scrolled": true
   },
   "outputs": [
    {
     "name": "stdout",
     "output_type": "stream",
     "text": [
      "{'Lagrange multiplier statistic': 391.8247739482898, 'p-value': 6.680476085315377e-75, 'f-value': 28.604116562701602, 'f p-value': 8.508398760409285e-76}\n"
     ]
    }
   ],
   "source": [
    "model_results = smf.ols(formula = final_formula, data=final_data).fit()\n",
    "\n",
    "name = ['Lagrange multiplier statistic', 'p-value',\n",
    "        'f-value', 'f p-value']\n",
    "test = sms.het_breuschpagan(model_results.resid, model_results.model.exog)\n",
    "bp_test = dict(zip(name, test))\n",
    "print(bp_test)"
   ]
  },
  {
   "cell_type": "code",
   "execution_count": null,
   "metadata": {},
   "outputs": [],
   "source": []
  }
 ],
 "metadata": {
  "kernelspec": {
   "display_name": "Python 3",
   "language": "python",
   "name": "python3"
  },
  "language_info": {
   "codemirror_mode": {
    "name": "ipython",
    "version": 3
   },
   "file_extension": ".py",
   "mimetype": "text/x-python",
   "name": "python",
   "nbconvert_exporter": "python",
   "pygments_lexer": "ipython3",
   "version": "3.8.3"
  }
 },
 "nbformat": 4,
 "nbformat_minor": 4
}
