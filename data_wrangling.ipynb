{
 "cells": [
  {
   "cell_type": "code",
   "execution_count": 172,
   "metadata": {},
   "outputs": [],
   "source": [
    "# importing the packages we will be using for this project\n",
    "import pandas as pd\n",
    "# setting pandas display to avoid scientific notation in my dataframes\n",
    "pd.options.display.float_format = '{:.2f}'.format\n",
    "import numpy as np\n",
    "import matplotlib.pyplot as plt\n",
    "import seaborn as sns\n",
    "import sklearn\n",
    "\n",
    "from bs4 import BeautifulSoup\n",
    "import json\n",
    "import requests\n",
    "\n",
    "import folium\n",
    "\n",
    "import haversine as hs \n",
    "\n",
    "import statsmodels.api as sm\n",
    "from statsmodels.formula.api import ols\n",
    "from statsmodels.stats import diagnostic as diag\n",
    "from statsmodels.stats.outliers_influence import variance_inflation_factor\n",
    "\n",
    "from sklearn.metrics import r2_score\n",
    "from sklearn.linear_model import LinearRegression\n",
    "from sklearn.neighbors import NearestNeighbors\n",
    "from sklearn.model_selection import train_test_split\n",
    "from sklearn.metrics import mean_squared_error, r2_score, mean_absolute_error\n",
    "\n",
    "import scipy.stats as stats\n",
    "\n",
    "import pylab\n",
    "\n",
    "%matplotlib inline"
   ]
  },
  {
   "cell_type": "markdown",
   "metadata": {},
   "source": [
    "## King County Houses"
   ]
  },
  {
   "cell_type": "code",
   "execution_count": 173,
   "metadata": {},
   "outputs": [
    {
     "data": {
      "text/html": [
       "<div>\n",
       "<style scoped>\n",
       "    .dataframe tbody tr th:only-of-type {\n",
       "        vertical-align: middle;\n",
       "    }\n",
       "\n",
       "    .dataframe tbody tr th {\n",
       "        vertical-align: top;\n",
       "    }\n",
       "\n",
       "    .dataframe thead th {\n",
       "        text-align: right;\n",
       "    }\n",
       "</style>\n",
       "<table border=\"1\" class=\"dataframe\">\n",
       "  <thead>\n",
       "    <tr style=\"text-align: right;\">\n",
       "      <th></th>\n",
       "      <th>id</th>\n",
       "      <th>date</th>\n",
       "      <th>price</th>\n",
       "      <th>bedrooms</th>\n",
       "      <th>bathrooms</th>\n",
       "      <th>sqft_living</th>\n",
       "      <th>sqft_lot</th>\n",
       "      <th>floors</th>\n",
       "      <th>waterfront</th>\n",
       "      <th>view</th>\n",
       "      <th>...</th>\n",
       "      <th>grade</th>\n",
       "      <th>sqft_above</th>\n",
       "      <th>sqft_basement</th>\n",
       "      <th>yr_built</th>\n",
       "      <th>yr_renovated</th>\n",
       "      <th>zipcode</th>\n",
       "      <th>lat</th>\n",
       "      <th>long</th>\n",
       "      <th>sqft_living15</th>\n",
       "      <th>sqft_lot15</th>\n",
       "    </tr>\n",
       "  </thead>\n",
       "  <tbody>\n",
       "    <tr>\n",
       "      <th>0</th>\n",
       "      <td>7129300520</td>\n",
       "      <td>10/13/2014</td>\n",
       "      <td>221900.00</td>\n",
       "      <td>3</td>\n",
       "      <td>1.00</td>\n",
       "      <td>1180</td>\n",
       "      <td>5650</td>\n",
       "      <td>1.00</td>\n",
       "      <td>nan</td>\n",
       "      <td>0.00</td>\n",
       "      <td>...</td>\n",
       "      <td>7</td>\n",
       "      <td>1180</td>\n",
       "      <td>0.0</td>\n",
       "      <td>1955</td>\n",
       "      <td>0.00</td>\n",
       "      <td>98178</td>\n",
       "      <td>47.51</td>\n",
       "      <td>-122.26</td>\n",
       "      <td>1340</td>\n",
       "      <td>5650</td>\n",
       "    </tr>\n",
       "    <tr>\n",
       "      <th>1</th>\n",
       "      <td>6414100192</td>\n",
       "      <td>12/9/2014</td>\n",
       "      <td>538000.00</td>\n",
       "      <td>3</td>\n",
       "      <td>2.25</td>\n",
       "      <td>2570</td>\n",
       "      <td>7242</td>\n",
       "      <td>2.00</td>\n",
       "      <td>0.00</td>\n",
       "      <td>0.00</td>\n",
       "      <td>...</td>\n",
       "      <td>7</td>\n",
       "      <td>2170</td>\n",
       "      <td>400.0</td>\n",
       "      <td>1951</td>\n",
       "      <td>1991.00</td>\n",
       "      <td>98125</td>\n",
       "      <td>47.72</td>\n",
       "      <td>-122.32</td>\n",
       "      <td>1690</td>\n",
       "      <td>7639</td>\n",
       "    </tr>\n",
       "    <tr>\n",
       "      <th>2</th>\n",
       "      <td>5631500400</td>\n",
       "      <td>2/25/2015</td>\n",
       "      <td>180000.00</td>\n",
       "      <td>2</td>\n",
       "      <td>1.00</td>\n",
       "      <td>770</td>\n",
       "      <td>10000</td>\n",
       "      <td>1.00</td>\n",
       "      <td>0.00</td>\n",
       "      <td>0.00</td>\n",
       "      <td>...</td>\n",
       "      <td>6</td>\n",
       "      <td>770</td>\n",
       "      <td>0.0</td>\n",
       "      <td>1933</td>\n",
       "      <td>nan</td>\n",
       "      <td>98028</td>\n",
       "      <td>47.74</td>\n",
       "      <td>-122.23</td>\n",
       "      <td>2720</td>\n",
       "      <td>8062</td>\n",
       "    </tr>\n",
       "    <tr>\n",
       "      <th>3</th>\n",
       "      <td>2487200875</td>\n",
       "      <td>12/9/2014</td>\n",
       "      <td>604000.00</td>\n",
       "      <td>4</td>\n",
       "      <td>3.00</td>\n",
       "      <td>1960</td>\n",
       "      <td>5000</td>\n",
       "      <td>1.00</td>\n",
       "      <td>0.00</td>\n",
       "      <td>0.00</td>\n",
       "      <td>...</td>\n",
       "      <td>7</td>\n",
       "      <td>1050</td>\n",
       "      <td>910.0</td>\n",
       "      <td>1965</td>\n",
       "      <td>0.00</td>\n",
       "      <td>98136</td>\n",
       "      <td>47.52</td>\n",
       "      <td>-122.39</td>\n",
       "      <td>1360</td>\n",
       "      <td>5000</td>\n",
       "    </tr>\n",
       "    <tr>\n",
       "      <th>4</th>\n",
       "      <td>1954400510</td>\n",
       "      <td>2/18/2015</td>\n",
       "      <td>510000.00</td>\n",
       "      <td>3</td>\n",
       "      <td>2.00</td>\n",
       "      <td>1680</td>\n",
       "      <td>8080</td>\n",
       "      <td>1.00</td>\n",
       "      <td>0.00</td>\n",
       "      <td>0.00</td>\n",
       "      <td>...</td>\n",
       "      <td>8</td>\n",
       "      <td>1680</td>\n",
       "      <td>0.0</td>\n",
       "      <td>1987</td>\n",
       "      <td>0.00</td>\n",
       "      <td>98074</td>\n",
       "      <td>47.62</td>\n",
       "      <td>-122.05</td>\n",
       "      <td>1800</td>\n",
       "      <td>7503</td>\n",
       "    </tr>\n",
       "  </tbody>\n",
       "</table>\n",
       "<p>5 rows × 21 columns</p>\n",
       "</div>"
      ],
      "text/plain": [
       "           id        date     price  bedrooms  bathrooms  sqft_living  \\\n",
       "0  7129300520  10/13/2014 221900.00         3       1.00         1180   \n",
       "1  6414100192   12/9/2014 538000.00         3       2.25         2570   \n",
       "2  5631500400   2/25/2015 180000.00         2       1.00          770   \n",
       "3  2487200875   12/9/2014 604000.00         4       3.00         1960   \n",
       "4  1954400510   2/18/2015 510000.00         3       2.00         1680   \n",
       "\n",
       "   sqft_lot  floors  waterfront  view  ...  grade  sqft_above  sqft_basement  \\\n",
       "0      5650    1.00         nan  0.00  ...      7        1180            0.0   \n",
       "1      7242    2.00        0.00  0.00  ...      7        2170          400.0   \n",
       "2     10000    1.00        0.00  0.00  ...      6         770            0.0   \n",
       "3      5000    1.00        0.00  0.00  ...      7        1050          910.0   \n",
       "4      8080    1.00        0.00  0.00  ...      8        1680            0.0   \n",
       "\n",
       "  yr_built  yr_renovated  zipcode   lat    long  sqft_living15  sqft_lot15  \n",
       "0     1955          0.00    98178 47.51 -122.26           1340        5650  \n",
       "1     1951       1991.00    98125 47.72 -122.32           1690        7639  \n",
       "2     1933           nan    98028 47.74 -122.23           2720        8062  \n",
       "3     1965          0.00    98136 47.52 -122.39           1360        5000  \n",
       "4     1987          0.00    98074 47.62 -122.05           1800        7503  \n",
       "\n",
       "[5 rows x 21 columns]"
      ]
     },
     "execution_count": 173,
     "metadata": {},
     "output_type": "execute_result"
    }
   ],
   "source": [
    "# reading the csv file\n",
    "df = pd.read_csv('data/kc_house_data.csv')\n",
    "# previewing the DataFrame\n",
    "df.head() "
   ]
  },
  {
   "cell_type": "code",
   "execution_count": 174,
   "metadata": {
    "scrolled": true
   },
   "outputs": [
    {
     "data": {
      "text/html": [
       "<div>\n",
       "<style scoped>\n",
       "    .dataframe tbody tr th:only-of-type {\n",
       "        vertical-align: middle;\n",
       "    }\n",
       "\n",
       "    .dataframe tbody tr th {\n",
       "        vertical-align: top;\n",
       "    }\n",
       "\n",
       "    .dataframe thead th {\n",
       "        text-align: right;\n",
       "    }\n",
       "</style>\n",
       "<table border=\"1\" class=\"dataframe\">\n",
       "  <thead>\n",
       "    <tr style=\"text-align: right;\">\n",
       "      <th></th>\n",
       "      <th>id</th>\n",
       "      <th>price</th>\n",
       "      <th>bedrooms</th>\n",
       "      <th>bathrooms</th>\n",
       "      <th>sqft_living</th>\n",
       "      <th>sqft_lot</th>\n",
       "      <th>floors</th>\n",
       "      <th>waterfront</th>\n",
       "      <th>view</th>\n",
       "      <th>condition</th>\n",
       "      <th>grade</th>\n",
       "      <th>sqft_above</th>\n",
       "      <th>yr_built</th>\n",
       "      <th>yr_renovated</th>\n",
       "      <th>zipcode</th>\n",
       "      <th>lat</th>\n",
       "      <th>long</th>\n",
       "      <th>sqft_living15</th>\n",
       "      <th>sqft_lot15</th>\n",
       "    </tr>\n",
       "  </thead>\n",
       "  <tbody>\n",
       "    <tr>\n",
       "      <th>count</th>\n",
       "      <td>21597.00</td>\n",
       "      <td>21597.00</td>\n",
       "      <td>21597.00</td>\n",
       "      <td>21597.00</td>\n",
       "      <td>21597.00</td>\n",
       "      <td>21597.00</td>\n",
       "      <td>21597.00</td>\n",
       "      <td>19221.00</td>\n",
       "      <td>21534.00</td>\n",
       "      <td>21597.00</td>\n",
       "      <td>21597.00</td>\n",
       "      <td>21597.00</td>\n",
       "      <td>21597.00</td>\n",
       "      <td>17755.00</td>\n",
       "      <td>21597.00</td>\n",
       "      <td>21597.00</td>\n",
       "      <td>21597.00</td>\n",
       "      <td>21597.00</td>\n",
       "      <td>21597.00</td>\n",
       "    </tr>\n",
       "    <tr>\n",
       "      <th>mean</th>\n",
       "      <td>4580474287.77</td>\n",
       "      <td>540296.57</td>\n",
       "      <td>3.37</td>\n",
       "      <td>2.12</td>\n",
       "      <td>2080.32</td>\n",
       "      <td>15099.41</td>\n",
       "      <td>1.49</td>\n",
       "      <td>0.01</td>\n",
       "      <td>0.23</td>\n",
       "      <td>3.41</td>\n",
       "      <td>7.66</td>\n",
       "      <td>1788.60</td>\n",
       "      <td>1971.00</td>\n",
       "      <td>83.64</td>\n",
       "      <td>98077.95</td>\n",
       "      <td>47.56</td>\n",
       "      <td>-122.21</td>\n",
       "      <td>1986.62</td>\n",
       "      <td>12758.28</td>\n",
       "    </tr>\n",
       "    <tr>\n",
       "      <th>std</th>\n",
       "      <td>2876735715.75</td>\n",
       "      <td>367368.14</td>\n",
       "      <td>0.93</td>\n",
       "      <td>0.77</td>\n",
       "      <td>918.11</td>\n",
       "      <td>41412.64</td>\n",
       "      <td>0.54</td>\n",
       "      <td>0.09</td>\n",
       "      <td>0.77</td>\n",
       "      <td>0.65</td>\n",
       "      <td>1.17</td>\n",
       "      <td>827.76</td>\n",
       "      <td>29.38</td>\n",
       "      <td>399.95</td>\n",
       "      <td>53.51</td>\n",
       "      <td>0.14</td>\n",
       "      <td>0.14</td>\n",
       "      <td>685.23</td>\n",
       "      <td>27274.44</td>\n",
       "    </tr>\n",
       "    <tr>\n",
       "      <th>min</th>\n",
       "      <td>1000102.00</td>\n",
       "      <td>78000.00</td>\n",
       "      <td>1.00</td>\n",
       "      <td>0.50</td>\n",
       "      <td>370.00</td>\n",
       "      <td>520.00</td>\n",
       "      <td>1.00</td>\n",
       "      <td>0.00</td>\n",
       "      <td>0.00</td>\n",
       "      <td>1.00</td>\n",
       "      <td>3.00</td>\n",
       "      <td>370.00</td>\n",
       "      <td>1900.00</td>\n",
       "      <td>0.00</td>\n",
       "      <td>98001.00</td>\n",
       "      <td>47.16</td>\n",
       "      <td>-122.52</td>\n",
       "      <td>399.00</td>\n",
       "      <td>651.00</td>\n",
       "    </tr>\n",
       "    <tr>\n",
       "      <th>25%</th>\n",
       "      <td>2123049175.00</td>\n",
       "      <td>322000.00</td>\n",
       "      <td>3.00</td>\n",
       "      <td>1.75</td>\n",
       "      <td>1430.00</td>\n",
       "      <td>5040.00</td>\n",
       "      <td>1.00</td>\n",
       "      <td>0.00</td>\n",
       "      <td>0.00</td>\n",
       "      <td>3.00</td>\n",
       "      <td>7.00</td>\n",
       "      <td>1190.00</td>\n",
       "      <td>1951.00</td>\n",
       "      <td>0.00</td>\n",
       "      <td>98033.00</td>\n",
       "      <td>47.47</td>\n",
       "      <td>-122.33</td>\n",
       "      <td>1490.00</td>\n",
       "      <td>5100.00</td>\n",
       "    </tr>\n",
       "    <tr>\n",
       "      <th>50%</th>\n",
       "      <td>3904930410.00</td>\n",
       "      <td>450000.00</td>\n",
       "      <td>3.00</td>\n",
       "      <td>2.25</td>\n",
       "      <td>1910.00</td>\n",
       "      <td>7618.00</td>\n",
       "      <td>1.50</td>\n",
       "      <td>0.00</td>\n",
       "      <td>0.00</td>\n",
       "      <td>3.00</td>\n",
       "      <td>7.00</td>\n",
       "      <td>1560.00</td>\n",
       "      <td>1975.00</td>\n",
       "      <td>0.00</td>\n",
       "      <td>98065.00</td>\n",
       "      <td>47.57</td>\n",
       "      <td>-122.23</td>\n",
       "      <td>1840.00</td>\n",
       "      <td>7620.00</td>\n",
       "    </tr>\n",
       "    <tr>\n",
       "      <th>75%</th>\n",
       "      <td>7308900490.00</td>\n",
       "      <td>645000.00</td>\n",
       "      <td>4.00</td>\n",
       "      <td>2.50</td>\n",
       "      <td>2550.00</td>\n",
       "      <td>10685.00</td>\n",
       "      <td>2.00</td>\n",
       "      <td>0.00</td>\n",
       "      <td>0.00</td>\n",
       "      <td>4.00</td>\n",
       "      <td>8.00</td>\n",
       "      <td>2210.00</td>\n",
       "      <td>1997.00</td>\n",
       "      <td>0.00</td>\n",
       "      <td>98118.00</td>\n",
       "      <td>47.68</td>\n",
       "      <td>-122.12</td>\n",
       "      <td>2360.00</td>\n",
       "      <td>10083.00</td>\n",
       "    </tr>\n",
       "    <tr>\n",
       "      <th>max</th>\n",
       "      <td>9900000190.00</td>\n",
       "      <td>7700000.00</td>\n",
       "      <td>33.00</td>\n",
       "      <td>8.00</td>\n",
       "      <td>13540.00</td>\n",
       "      <td>1651359.00</td>\n",
       "      <td>3.50</td>\n",
       "      <td>1.00</td>\n",
       "      <td>4.00</td>\n",
       "      <td>5.00</td>\n",
       "      <td>13.00</td>\n",
       "      <td>9410.00</td>\n",
       "      <td>2015.00</td>\n",
       "      <td>2015.00</td>\n",
       "      <td>98199.00</td>\n",
       "      <td>47.78</td>\n",
       "      <td>-121.31</td>\n",
       "      <td>6210.00</td>\n",
       "      <td>871200.00</td>\n",
       "    </tr>\n",
       "  </tbody>\n",
       "</table>\n",
       "</div>"
      ],
      "text/plain": [
       "                 id      price  bedrooms  bathrooms  sqft_living   sqft_lot  \\\n",
       "count      21597.00   21597.00  21597.00   21597.00     21597.00   21597.00   \n",
       "mean  4580474287.77  540296.57      3.37       2.12      2080.32   15099.41   \n",
       "std   2876735715.75  367368.14      0.93       0.77       918.11   41412.64   \n",
       "min      1000102.00   78000.00      1.00       0.50       370.00     520.00   \n",
       "25%   2123049175.00  322000.00      3.00       1.75      1430.00    5040.00   \n",
       "50%   3904930410.00  450000.00      3.00       2.25      1910.00    7618.00   \n",
       "75%   7308900490.00  645000.00      4.00       2.50      2550.00   10685.00   \n",
       "max   9900000190.00 7700000.00     33.00       8.00     13540.00 1651359.00   \n",
       "\n",
       "        floors  waterfront     view  condition    grade  sqft_above  yr_built  \\\n",
       "count 21597.00    19221.00 21534.00   21597.00 21597.00    21597.00  21597.00   \n",
       "mean      1.49        0.01     0.23       3.41     7.66     1788.60   1971.00   \n",
       "std       0.54        0.09     0.77       0.65     1.17      827.76     29.38   \n",
       "min       1.00        0.00     0.00       1.00     3.00      370.00   1900.00   \n",
       "25%       1.00        0.00     0.00       3.00     7.00     1190.00   1951.00   \n",
       "50%       1.50        0.00     0.00       3.00     7.00     1560.00   1975.00   \n",
       "75%       2.00        0.00     0.00       4.00     8.00     2210.00   1997.00   \n",
       "max       3.50        1.00     4.00       5.00    13.00     9410.00   2015.00   \n",
       "\n",
       "       yr_renovated  zipcode      lat     long  sqft_living15  sqft_lot15  \n",
       "count      17755.00 21597.00 21597.00 21597.00       21597.00    21597.00  \n",
       "mean          83.64 98077.95    47.56  -122.21        1986.62    12758.28  \n",
       "std          399.95    53.51     0.14     0.14         685.23    27274.44  \n",
       "min            0.00 98001.00    47.16  -122.52         399.00      651.00  \n",
       "25%            0.00 98033.00    47.47  -122.33        1490.00     5100.00  \n",
       "50%            0.00 98065.00    47.57  -122.23        1840.00     7620.00  \n",
       "75%            0.00 98118.00    47.68  -122.12        2360.00    10083.00  \n",
       "max         2015.00 98199.00    47.78  -121.31        6210.00   871200.00  "
      ]
     },
     "execution_count": 174,
     "metadata": {},
     "output_type": "execute_result"
    }
   ],
   "source": [
    "# generating descriptive statistics\n",
    "df.describe()"
   ]
  },
  {
   "cell_type": "code",
   "execution_count": 175,
   "metadata": {},
   "outputs": [
    {
     "name": "stdout",
     "output_type": "stream",
     "text": [
      "<class 'pandas.core.frame.DataFrame'>\n",
      "RangeIndex: 21597 entries, 0 to 21596\n",
      "Data columns (total 21 columns):\n",
      "id               21597 non-null int64\n",
      "date             21597 non-null object\n",
      "price            21597 non-null float64\n",
      "bedrooms         21597 non-null int64\n",
      "bathrooms        21597 non-null float64\n",
      "sqft_living      21597 non-null int64\n",
      "sqft_lot         21597 non-null int64\n",
      "floors           21597 non-null float64\n",
      "waterfront       19221 non-null float64\n",
      "view             21534 non-null float64\n",
      "condition        21597 non-null int64\n",
      "grade            21597 non-null int64\n",
      "sqft_above       21597 non-null int64\n",
      "sqft_basement    21597 non-null object\n",
      "yr_built         21597 non-null int64\n",
      "yr_renovated     17755 non-null float64\n",
      "zipcode          21597 non-null int64\n",
      "lat              21597 non-null float64\n",
      "long             21597 non-null float64\n",
      "sqft_living15    21597 non-null int64\n",
      "sqft_lot15       21597 non-null int64\n",
      "dtypes: float64(8), int64(11), object(2)\n",
      "memory usage: 3.5+ MB\n"
     ]
    }
   ],
   "source": [
    "df.info()"
   ]
  },
  {
   "cell_type": "markdown",
   "metadata": {},
   "source": [
    "### Narrowing down our price range"
   ]
  },
  {
   "cell_type": "code",
   "execution_count": 176,
   "metadata": {},
   "outputs": [
    {
     "name": "stdout",
     "output_type": "stream",
     "text": [
      "std:  367368.1401013945\n",
      "mean:  540296.5735055795\n",
      "mean +1 std:  907664.713606974\n",
      "mean -1 std:  172928.433404185\n"
     ]
    }
   ],
   "source": [
    "std = df.price.std()\n",
    "print('std: ',std)\n",
    "mean = df.price.mean()\n",
    "print('mean: ', mean)\n",
    "std_1 = mean + std\n",
    "std_1m = mean - std\n",
    "print('mean +1 std: ',std_1)\n",
    "print('mean -1 std: ',std_1m)"
   ]
  },
  {
   "cell_type": "code",
   "execution_count": 177,
   "metadata": {},
   "outputs": [
    {
     "name": "stdout",
     "output_type": "stream",
     "text": [
      "<class 'pandas.core.frame.DataFrame'>\n",
      "Int64Index: 19205 entries, 0 to 21596\n",
      "Data columns (total 21 columns):\n",
      "id               19205 non-null int64\n",
      "date             19205 non-null object\n",
      "price            19205 non-null float64\n",
      "bedrooms         19205 non-null int64\n",
      "bathrooms        19205 non-null float64\n",
      "sqft_living      19205 non-null int64\n",
      "sqft_lot         19205 non-null int64\n",
      "floors           19205 non-null float64\n",
      "waterfront       17082 non-null float64\n",
      "view             19149 non-null float64\n",
      "condition        19205 non-null int64\n",
      "grade            19205 non-null int64\n",
      "sqft_above       19205 non-null int64\n",
      "sqft_basement    19205 non-null object\n",
      "yr_built         19205 non-null int64\n",
      "yr_renovated     15798 non-null float64\n",
      "zipcode          19205 non-null int64\n",
      "lat              19205 non-null float64\n",
      "long             19205 non-null float64\n",
      "sqft_living15    19205 non-null int64\n",
      "sqft_lot15       19205 non-null int64\n",
      "dtypes: float64(8), int64(11), object(2)\n",
      "memory usage: 3.2+ MB\n"
     ]
    }
   ],
   "source": [
    "df = df.loc[(df['price']<std_1) & (df['price']>std_1m)]\n",
    "df.info()"
   ]
  },
  {
   "cell_type": "code",
   "execution_count": 178,
   "metadata": {},
   "outputs": [],
   "source": [
    "#dropping unnecessary columns\n",
    "drop = ['id','date', 'yr_built', 'bedrooms', 'bathrooms','sqft_lot', 'floors', 'waterfront', 'view', 'condition', 'sqft_above', 'sqft_basement', 'yr_built', 'yr_renovated', 'zipcode', 'sqft_living15', 'sqft_lot15']\n",
    "df = df.drop(columns = drop, axis=1)"
   ]
  },
  {
   "cell_type": "code",
   "execution_count": 179,
   "metadata": {},
   "outputs": [
    {
     "data": {
      "text/plain": [
       "Index(['price', 'sqft_living', 'grade', 'lat', 'long'], dtype='object')"
      ]
     },
     "execution_count": 179,
     "metadata": {},
     "output_type": "execute_result"
    }
   ],
   "source": [
    "df.columns"
   ]
  },
  {
   "cell_type": "code",
   "execution_count": 180,
   "metadata": {},
   "outputs": [
    {
     "data": {
      "text/plain": [
       "price          0\n",
       "sqft_living    0\n",
       "grade          0\n",
       "lat            0\n",
       "long           0\n",
       "dtype: int64"
      ]
     },
     "execution_count": 180,
     "metadata": {},
     "output_type": "execute_result"
    }
   ],
   "source": [
    "df.isnull().sum()"
   ]
  },
  {
   "cell_type": "markdown",
   "metadata": {},
   "source": [
    "## King County Parks"
   ]
  },
  {
   "cell_type": "code",
   "execution_count": 181,
   "metadata": {
    "scrolled": true
   },
   "outputs": [
    {
     "data": {
      "text/html": [
       "<div>\n",
       "<style scoped>\n",
       "    .dataframe tbody tr th:only-of-type {\n",
       "        vertical-align: middle;\n",
       "    }\n",
       "\n",
       "    .dataframe tbody tr th {\n",
       "        vertical-align: top;\n",
       "    }\n",
       "\n",
       "    .dataframe thead th {\n",
       "        text-align: right;\n",
       "    }\n",
       "</style>\n",
       "<table border=\"1\" class=\"dataframe\">\n",
       "  <thead>\n",
       "    <tr style=\"text-align: right;\">\n",
       "      <th></th>\n",
       "      <th>Address</th>\n",
       "      <th>Combined</th>\n",
       "      <th>Lat</th>\n",
       "      <th>Long</th>\n",
       "    </tr>\n",
       "    <tr>\n",
       "      <th>ID</th>\n",
       "      <th></th>\n",
       "      <th></th>\n",
       "      <th></th>\n",
       "      <th></th>\n",
       "    </tr>\n",
       "  </thead>\n",
       "  <tbody>\n",
       "    <tr>\n",
       "      <th>0.00</th>\n",
       "      <td>Auburn Black Diamond Rd and SE Green Valley Rd...</td>\n",
       "      <td>47.301182311345315, -122.17491469179195</td>\n",
       "      <td>47.30</td>\n",
       "      <td>-122.17</td>\n",
       "    </tr>\n",
       "    <tr>\n",
       "      <th>1.00</th>\n",
       "      <td>NE 165th St and 179th Pl NE Redmond WA 98072</td>\n",
       "      <td>47.74702351303733, -122.09810603412113</td>\n",
       "      <td>47.75</td>\n",
       "      <td>-122.10</td>\n",
       "    </tr>\n",
       "    <tr>\n",
       "      <th>2.00</th>\n",
       "      <td>NaN</td>\n",
       "      <td>NaN</td>\n",
       "      <td>nan</td>\n",
       "      <td>nan</td>\n",
       "    </tr>\n",
       "    <tr>\n",
       "      <th>3.00</th>\n",
       "      <td>NE 138th and Juanita Drive NE Kirkland WA 98028</td>\n",
       "      <td>47.72417796430824, -122.2384511052857</td>\n",
       "      <td>47.72</td>\n",
       "      <td>-122.24</td>\n",
       "    </tr>\n",
       "    <tr>\n",
       "      <th>4.00</th>\n",
       "      <td>S 284th Pl and 37th Ave S Federal Way WA 98003</td>\n",
       "      <td>47.34814028865613, -122.2811067550002</td>\n",
       "      <td>47.35</td>\n",
       "      <td>-122.28</td>\n",
       "    </tr>\n",
       "  </tbody>\n",
       "</table>\n",
       "</div>"
      ],
      "text/plain": [
       "                                                Address  \\\n",
       "ID                                                        \n",
       "0.00  Auburn Black Diamond Rd and SE Green Valley Rd...   \n",
       "1.00       NE 165th St and 179th Pl NE Redmond WA 98072   \n",
       "2.00                                                NaN   \n",
       "3.00    NE 138th and Juanita Drive NE Kirkland WA 98028   \n",
       "4.00     S 284th Pl and 37th Ave S Federal Way WA 98003   \n",
       "\n",
       "                                    Combined    Lat    Long  \n",
       "ID                                                           \n",
       "0.00  47.301182311345315, -122.17491469179195 47.30 -122.17  \n",
       "1.00   47.74702351303733, -122.09810603412113 47.75 -122.10  \n",
       "2.00                                      NaN   nan     nan  \n",
       "3.00    47.72417796430824, -122.2384511052857 47.72 -122.24  \n",
       "4.00    47.34814028865613, -122.2811067550002 47.35 -122.28  "
      ]
     },
     "execution_count": 181,
     "metadata": {},
     "output_type": "execute_result"
    }
   ],
   "source": [
    "# importing park data\n",
    "# for entire data scraping process, please see other notebook\n",
    "\n",
    "# reading the csv file\n",
    "king_parks = pd.read_csv('data/ParkAddresses_wLatLong.csv', index_col='ID')\n",
    "# previewing the DataFrame\n",
    "king_parks.head()"
   ]
  },
  {
   "cell_type": "code",
   "execution_count": 182,
   "metadata": {},
   "outputs": [],
   "source": [
    "#create function to find distances between all points in DF and return matrix\n",
    "def find_distance(dataframe):\n",
    "    dist = sklearn.neighbors.DistanceMetric.get_metric('haversine')\n",
    "    \n",
    "    #convert lat and long to radians\n",
    "    dataframe[['lat_radians','long_radians']] = (np.radians(dataframe.loc[:,['Lat','Long']]))\n",
    "    \n",
    "    #create list matrix (results in km)          \n",
    "    dist_matrix = (dist.pairwise\n",
    "    (df[['lat_radians_A','long_radians_A']],\n",
    "     dataframe[['lat_radians','long_radians']])*6371)\n",
    "                                                 \n",
    "    #return a matrix DataFrame\n",
    "    return pd.DataFrame(dist_matrix)  "
   ]
  },
  {
   "cell_type": "code",
   "execution_count": 183,
   "metadata": {},
   "outputs": [],
   "source": [
    "#convert lat and long to radians in housing data\n",
    "df[['lat_radians_A','long_radians_A']] = (np.radians(df.loc[:,['lat','long']]))"
   ]
  },
  {
   "cell_type": "code",
   "execution_count": 184,
   "metadata": {},
   "outputs": [],
   "source": [
    "park_matrix = find_distance(king_parks)"
   ]
  },
  {
   "cell_type": "code",
   "execution_count": 185,
   "metadata": {},
   "outputs": [],
   "source": [
    "#find min distance in each row\n",
    "park_min_matrix = park_matrix.where(park_matrix.values == park_matrix.min(\n",
    "    axis=1)[:,None]).drop_duplicates()"
   ]
  },
  {
   "cell_type": "code",
   "execution_count": 186,
   "metadata": {},
   "outputs": [],
   "source": [
    "#create a new column with only min distance and remove the rest \n",
    "park_min_matrix['min_dist_park'] = park_min_matrix[park_min_matrix.columns[0:]].apply(\n",
    "    lambda x: ','.join(x.dropna().astype(str)),\n",
    "    axis=1)\n",
    "nearest_park = park_min_matrix['min_dist_park']"
   ]
  },
  {
   "cell_type": "code",
   "execution_count": 187,
   "metadata": {},
   "outputs": [],
   "source": [
    "df = df.join(nearest_park)"
   ]
  },
  {
   "cell_type": "code",
   "execution_count": 188,
   "metadata": {
    "scrolled": false
   },
   "outputs": [
    {
     "data": {
      "text/html": [
       "<div>\n",
       "<style scoped>\n",
       "    .dataframe tbody tr th:only-of-type {\n",
       "        vertical-align: middle;\n",
       "    }\n",
       "\n",
       "    .dataframe tbody tr th {\n",
       "        vertical-align: top;\n",
       "    }\n",
       "\n",
       "    .dataframe thead th {\n",
       "        text-align: right;\n",
       "    }\n",
       "</style>\n",
       "<table border=\"1\" class=\"dataframe\">\n",
       "  <thead>\n",
       "    <tr style=\"text-align: right;\">\n",
       "      <th></th>\n",
       "      <th>price</th>\n",
       "      <th>sqft_living</th>\n",
       "      <th>grade</th>\n",
       "      <th>lat</th>\n",
       "      <th>long</th>\n",
       "      <th>lat_radians_A</th>\n",
       "      <th>long_radians_A</th>\n",
       "      <th>min_dist_park</th>\n",
       "    </tr>\n",
       "  </thead>\n",
       "  <tbody>\n",
       "    <tr>\n",
       "      <th>0</th>\n",
       "      <td>221900.00</td>\n",
       "      <td>1180</td>\n",
       "      <td>7</td>\n",
       "      <td>47.51</td>\n",
       "      <td>-122.26</td>\n",
       "      <td>0.83</td>\n",
       "      <td>-2.13</td>\n",
       "      <td>2.038307293948517</td>\n",
       "    </tr>\n",
       "    <tr>\n",
       "      <th>1</th>\n",
       "      <td>538000.00</td>\n",
       "      <td>2570</td>\n",
       "      <td>7</td>\n",
       "      <td>47.72</td>\n",
       "      <td>-122.32</td>\n",
       "      <td>0.83</td>\n",
       "      <td>-2.13</td>\n",
       "      <td>5.052057710119824</td>\n",
       "    </tr>\n",
       "    <tr>\n",
       "      <th>2</th>\n",
       "      <td>180000.00</td>\n",
       "      <td>770</td>\n",
       "      <td>6</td>\n",
       "      <td>47.74</td>\n",
       "      <td>-122.23</td>\n",
       "      <td>0.83</td>\n",
       "      <td>-2.13</td>\n",
       "      <td>1.337990461344532</td>\n",
       "    </tr>\n",
       "    <tr>\n",
       "      <th>3</th>\n",
       "      <td>604000.00</td>\n",
       "      <td>1960</td>\n",
       "      <td>7</td>\n",
       "      <td>47.52</td>\n",
       "      <td>-122.39</td>\n",
       "      <td>0.83</td>\n",
       "      <td>-2.14</td>\n",
       "      <td>2.448557143643891</td>\n",
       "    </tr>\n",
       "    <tr>\n",
       "      <th>4</th>\n",
       "      <td>510000.00</td>\n",
       "      <td>1680</td>\n",
       "      <td>8</td>\n",
       "      <td>47.62</td>\n",
       "      <td>-122.05</td>\n",
       "      <td>0.83</td>\n",
       "      <td>-2.13</td>\n",
       "      <td>2.6728316989804743</td>\n",
       "    </tr>\n",
       "  </tbody>\n",
       "</table>\n",
       "</div>"
      ],
      "text/plain": [
       "      price  sqft_living  grade   lat    long  lat_radians_A  long_radians_A  \\\n",
       "0 221900.00         1180      7 47.51 -122.26           0.83           -2.13   \n",
       "1 538000.00         2570      7 47.72 -122.32           0.83           -2.13   \n",
       "2 180000.00          770      6 47.74 -122.23           0.83           -2.13   \n",
       "3 604000.00         1960      7 47.52 -122.39           0.83           -2.14   \n",
       "4 510000.00         1680      8 47.62 -122.05           0.83           -2.13   \n",
       "\n",
       "        min_dist_park  \n",
       "0   2.038307293948517  \n",
       "1   5.052057710119824  \n",
       "2   1.337990461344532  \n",
       "3   2.448557143643891  \n",
       "4  2.6728316989804743  "
      ]
     },
     "execution_count": 188,
     "metadata": {},
     "output_type": "execute_result"
    }
   ],
   "source": [
    "df.head()"
   ]
  },
  {
   "cell_type": "code",
   "execution_count": 189,
   "metadata": {},
   "outputs": [],
   "source": [
    "df['min_dist_park']= df['min_dist_park'].astype('float64')"
   ]
  },
  {
   "cell_type": "markdown",
   "metadata": {},
   "source": [
    "## King County Top Schools"
   ]
  },
  {
   "cell_type": "code",
   "execution_count": 190,
   "metadata": {},
   "outputs": [
    {
     "data": {
      "text/html": [
       "<div>\n",
       "<style scoped>\n",
       "    .dataframe tbody tr th:only-of-type {\n",
       "        vertical-align: middle;\n",
       "    }\n",
       "\n",
       "    .dataframe tbody tr th {\n",
       "        vertical-align: top;\n",
       "    }\n",
       "\n",
       "    .dataframe thead th {\n",
       "        text-align: right;\n",
       "    }\n",
       "</style>\n",
       "<table border=\"1\" class=\"dataframe\">\n",
       "  <thead>\n",
       "    <tr style=\"text-align: right;\">\n",
       "      <th></th>\n",
       "      <th>Unnamed: 0</th>\n",
       "      <th>year</th>\n",
       "      <th>ncessch</th>\n",
       "      <th>school_name</th>\n",
       "      <th>state_name</th>\n",
       "      <th>lea_name</th>\n",
       "      <th>zip_location</th>\n",
       "      <th>latitude</th>\n",
       "      <th>longitude</th>\n",
       "      <th>county_code</th>\n",
       "      <th>school_level</th>\n",
       "      <th>school_type</th>\n",
       "    </tr>\n",
       "  </thead>\n",
       "  <tbody>\n",
       "    <tr>\n",
       "      <th>0</th>\n",
       "      <td>43</td>\n",
       "      <td>2015</td>\n",
       "      <td>530039000058</td>\n",
       "      <td>Ardmore Elementary School</td>\n",
       "      <td>Washington</td>\n",
       "      <td>Bellevue School District</td>\n",
       "      <td>98008</td>\n",
       "      <td>47.64</td>\n",
       "      <td>-122.12</td>\n",
       "      <td>53033.00</td>\n",
       "      <td>Primary</td>\n",
       "      <td>Regular school</td>\n",
       "    </tr>\n",
       "    <tr>\n",
       "      <th>1</th>\n",
       "      <td>44</td>\n",
       "      <td>2015</td>\n",
       "      <td>530039000060</td>\n",
       "      <td>Bellevue High School</td>\n",
       "      <td>Washington</td>\n",
       "      <td>Bellevue School District</td>\n",
       "      <td>98004</td>\n",
       "      <td>47.60</td>\n",
       "      <td>-122.20</td>\n",
       "      <td>53033.00</td>\n",
       "      <td>High</td>\n",
       "      <td>Regular school</td>\n",
       "    </tr>\n",
       "    <tr>\n",
       "      <th>2</th>\n",
       "      <td>45</td>\n",
       "      <td>2015</td>\n",
       "      <td>530039000062</td>\n",
       "      <td>Bennett Elementary School</td>\n",
       "      <td>Washington</td>\n",
       "      <td>Bellevue School District</td>\n",
       "      <td>98008</td>\n",
       "      <td>47.62</td>\n",
       "      <td>-122.10</td>\n",
       "      <td>53033.00</td>\n",
       "      <td>Primary</td>\n",
       "      <td>Regular school</td>\n",
       "    </tr>\n",
       "    <tr>\n",
       "      <th>3</th>\n",
       "      <td>46</td>\n",
       "      <td>2015</td>\n",
       "      <td>530039000063</td>\n",
       "      <td>Cherry Crest Elementary School</td>\n",
       "      <td>Washington</td>\n",
       "      <td>Bellevue School District</td>\n",
       "      <td>98005</td>\n",
       "      <td>47.64</td>\n",
       "      <td>-122.17</td>\n",
       "      <td>53033.00</td>\n",
       "      <td>Primary</td>\n",
       "      <td>Regular school</td>\n",
       "    </tr>\n",
       "    <tr>\n",
       "      <th>4</th>\n",
       "      <td>47</td>\n",
       "      <td>2015</td>\n",
       "      <td>530039000064</td>\n",
       "      <td>Chinook Middle School</td>\n",
       "      <td>Washington</td>\n",
       "      <td>Bellevue School District</td>\n",
       "      <td>98004</td>\n",
       "      <td>47.63</td>\n",
       "      <td>-122.21</td>\n",
       "      <td>53033.00</td>\n",
       "      <td>Middle</td>\n",
       "      <td>Regular school</td>\n",
       "    </tr>\n",
       "  </tbody>\n",
       "</table>\n",
       "</div>"
      ],
      "text/plain": [
       "   Unnamed: 0  year       ncessch                     school_name  state_name  \\\n",
       "0          43  2015  530039000058       Ardmore Elementary School  Washington   \n",
       "1          44  2015  530039000060            Bellevue High School  Washington   \n",
       "2          45  2015  530039000062       Bennett Elementary School  Washington   \n",
       "3          46  2015  530039000063  Cherry Crest Elementary School  Washington   \n",
       "4          47  2015  530039000064           Chinook Middle School  Washington   \n",
       "\n",
       "                   lea_name  zip_location  latitude  longitude  county_code  \\\n",
       "0  Bellevue School District         98008     47.64    -122.12     53033.00   \n",
       "1  Bellevue School District         98004     47.60    -122.20     53033.00   \n",
       "2  Bellevue School District         98008     47.62    -122.10     53033.00   \n",
       "3  Bellevue School District         98005     47.64    -122.17     53033.00   \n",
       "4  Bellevue School District         98004     47.63    -122.21     53033.00   \n",
       "\n",
       "  school_level     school_type  \n",
       "0      Primary  Regular school  \n",
       "1         High  Regular school  \n",
       "2      Primary  Regular school  \n",
       "3      Primary  Regular school  \n",
       "4       Middle  Regular school  "
      ]
     },
     "execution_count": 190,
     "metadata": {},
     "output_type": "execute_result"
    }
   ],
   "source": [
    "# importing school data\n",
    "# for entire data obtaining process, please see other notebook\n",
    "\n",
    "# reading the csv file\n",
    "top_schools_df = pd.read_csv('data/top_schools.csv')\n",
    "# previewing the DataFrame\n",
    "top_schools_df.head()"
   ]
  },
  {
   "cell_type": "code",
   "execution_count": 191,
   "metadata": {},
   "outputs": [],
   "source": [
    "top_schools_df.drop(columns = 'Unnamed: 0', axis=1, inplace=True)"
   ]
  },
  {
   "cell_type": "code",
   "execution_count": 192,
   "metadata": {},
   "outputs": [
    {
     "data": {
      "text/html": [
       "<div>\n",
       "<style scoped>\n",
       "    .dataframe tbody tr th:only-of-type {\n",
       "        vertical-align: middle;\n",
       "    }\n",
       "\n",
       "    .dataframe tbody tr th {\n",
       "        vertical-align: top;\n",
       "    }\n",
       "\n",
       "    .dataframe thead th {\n",
       "        text-align: right;\n",
       "    }\n",
       "</style>\n",
       "<table border=\"1\" class=\"dataframe\">\n",
       "  <thead>\n",
       "    <tr style=\"text-align: right;\">\n",
       "      <th></th>\n",
       "      <th>year</th>\n",
       "      <th>ncessch</th>\n",
       "      <th>school_name</th>\n",
       "      <th>state_name</th>\n",
       "      <th>lea_name</th>\n",
       "      <th>zip_location</th>\n",
       "      <th>latitude</th>\n",
       "      <th>longitude</th>\n",
       "      <th>county_code</th>\n",
       "      <th>school_level</th>\n",
       "      <th>school_type</th>\n",
       "    </tr>\n",
       "  </thead>\n",
       "  <tbody>\n",
       "    <tr>\n",
       "      <th>0</th>\n",
       "      <td>2015</td>\n",
       "      <td>530039000058</td>\n",
       "      <td>Ardmore Elementary School</td>\n",
       "      <td>Washington</td>\n",
       "      <td>Bellevue School District</td>\n",
       "      <td>98008</td>\n",
       "      <td>47.64</td>\n",
       "      <td>-122.12</td>\n",
       "      <td>53033.00</td>\n",
       "      <td>Primary</td>\n",
       "      <td>Regular school</td>\n",
       "    </tr>\n",
       "    <tr>\n",
       "      <th>1</th>\n",
       "      <td>2015</td>\n",
       "      <td>530039000060</td>\n",
       "      <td>Bellevue High School</td>\n",
       "      <td>Washington</td>\n",
       "      <td>Bellevue School District</td>\n",
       "      <td>98004</td>\n",
       "      <td>47.60</td>\n",
       "      <td>-122.20</td>\n",
       "      <td>53033.00</td>\n",
       "      <td>High</td>\n",
       "      <td>Regular school</td>\n",
       "    </tr>\n",
       "    <tr>\n",
       "      <th>2</th>\n",
       "      <td>2015</td>\n",
       "      <td>530039000062</td>\n",
       "      <td>Bennett Elementary School</td>\n",
       "      <td>Washington</td>\n",
       "      <td>Bellevue School District</td>\n",
       "      <td>98008</td>\n",
       "      <td>47.62</td>\n",
       "      <td>-122.10</td>\n",
       "      <td>53033.00</td>\n",
       "      <td>Primary</td>\n",
       "      <td>Regular school</td>\n",
       "    </tr>\n",
       "    <tr>\n",
       "      <th>3</th>\n",
       "      <td>2015</td>\n",
       "      <td>530039000063</td>\n",
       "      <td>Cherry Crest Elementary School</td>\n",
       "      <td>Washington</td>\n",
       "      <td>Bellevue School District</td>\n",
       "      <td>98005</td>\n",
       "      <td>47.64</td>\n",
       "      <td>-122.17</td>\n",
       "      <td>53033.00</td>\n",
       "      <td>Primary</td>\n",
       "      <td>Regular school</td>\n",
       "    </tr>\n",
       "    <tr>\n",
       "      <th>4</th>\n",
       "      <td>2015</td>\n",
       "      <td>530039000064</td>\n",
       "      <td>Chinook Middle School</td>\n",
       "      <td>Washington</td>\n",
       "      <td>Bellevue School District</td>\n",
       "      <td>98004</td>\n",
       "      <td>47.63</td>\n",
       "      <td>-122.21</td>\n",
       "      <td>53033.00</td>\n",
       "      <td>Middle</td>\n",
       "      <td>Regular school</td>\n",
       "    </tr>\n",
       "  </tbody>\n",
       "</table>\n",
       "</div>"
      ],
      "text/plain": [
       "   year       ncessch                     school_name  state_name  \\\n",
       "0  2015  530039000058       Ardmore Elementary School  Washington   \n",
       "1  2015  530039000060            Bellevue High School  Washington   \n",
       "2  2015  530039000062       Bennett Elementary School  Washington   \n",
       "3  2015  530039000063  Cherry Crest Elementary School  Washington   \n",
       "4  2015  530039000064           Chinook Middle School  Washington   \n",
       "\n",
       "                   lea_name  zip_location  latitude  longitude  county_code  \\\n",
       "0  Bellevue School District         98008     47.64    -122.12     53033.00   \n",
       "1  Bellevue School District         98004     47.60    -122.20     53033.00   \n",
       "2  Bellevue School District         98008     47.62    -122.10     53033.00   \n",
       "3  Bellevue School District         98005     47.64    -122.17     53033.00   \n",
       "4  Bellevue School District         98004     47.63    -122.21     53033.00   \n",
       "\n",
       "  school_level     school_type  \n",
       "0      Primary  Regular school  \n",
       "1         High  Regular school  \n",
       "2      Primary  Regular school  \n",
       "3      Primary  Regular school  \n",
       "4       Middle  Regular school  "
      ]
     },
     "execution_count": 192,
     "metadata": {},
     "output_type": "execute_result"
    }
   ],
   "source": [
    "top_schools_df.head()"
   ]
  },
  {
   "cell_type": "code",
   "execution_count": 193,
   "metadata": {},
   "outputs": [],
   "source": [
    "#geographic distance calculator\n",
    "#function that identifies the distance between a point of interest and house \n",
    "def distance_to(point_of_interest):\n",
    "    distance = df[['lat','long']].apply(lambda x: hs.haversine(x.tolist(), point_of_interest), axis=1)\n",
    "    return distance"
   ]
  },
  {
   "cell_type": "code",
   "execution_count": 194,
   "metadata": {},
   "outputs": [],
   "source": [
    "top_school_coordinates = []\n",
    "x = round(top_schools_df.latitude, 2)\n",
    "y = round(top_schools_df.longitude, 2)\n",
    "top_school_coordinates = list(zip(x,y))"
   ]
  },
  {
   "cell_type": "code",
   "execution_count": 195,
   "metadata": {},
   "outputs": [],
   "source": [
    "for i in range(len(top_school_coordinates)):\n",
    "    df[f'top_school_{i}'] = distance_to(top_school_coordinates[i])\n",
    "\n",
    "top_school_cols = []\n",
    "for i in range(len(top_school_coordinates)):\n",
    "    top_school_cols.append(f'top_school_{i}')\n",
    "    df['closest_distance_to_top_school'] = df[top_school_cols].min(axis=1)"
   ]
  },
  {
   "cell_type": "code",
   "execution_count": 196,
   "metadata": {},
   "outputs": [
    {
     "data": {
      "text/html": [
       "<div>\n",
       "<style scoped>\n",
       "    .dataframe tbody tr th:only-of-type {\n",
       "        vertical-align: middle;\n",
       "    }\n",
       "\n",
       "    .dataframe tbody tr th {\n",
       "        vertical-align: top;\n",
       "    }\n",
       "\n",
       "    .dataframe thead th {\n",
       "        text-align: right;\n",
       "    }\n",
       "</style>\n",
       "<table border=\"1\" class=\"dataframe\">\n",
       "  <thead>\n",
       "    <tr style=\"text-align: right;\">\n",
       "      <th></th>\n",
       "      <th>price</th>\n",
       "      <th>sqft_living</th>\n",
       "      <th>grade</th>\n",
       "      <th>lat</th>\n",
       "      <th>long</th>\n",
       "      <th>min_dist_park</th>\n",
       "      <th>closest_distance_to_top_school</th>\n",
       "    </tr>\n",
       "  </thead>\n",
       "  <tbody>\n",
       "    <tr>\n",
       "      <th>0</th>\n",
       "      <td>221900.00</td>\n",
       "      <td>1180</td>\n",
       "      <td>7</td>\n",
       "      <td>47.51</td>\n",
       "      <td>-122.26</td>\n",
       "      <td>2.04</td>\n",
       "      <td>0.26</td>\n",
       "    </tr>\n",
       "    <tr>\n",
       "      <th>1</th>\n",
       "      <td>538000.00</td>\n",
       "      <td>2570</td>\n",
       "      <td>7</td>\n",
       "      <td>47.72</td>\n",
       "      <td>-122.32</td>\n",
       "      <td>5.05</td>\n",
       "      <td>0.68</td>\n",
       "    </tr>\n",
       "    <tr>\n",
       "      <th>2</th>\n",
       "      <td>180000.00</td>\n",
       "      <td>770</td>\n",
       "      <td>6</td>\n",
       "      <td>47.74</td>\n",
       "      <td>-122.23</td>\n",
       "      <td>1.34</td>\n",
       "      <td>2.00</td>\n",
       "    </tr>\n",
       "    <tr>\n",
       "      <th>3</th>\n",
       "      <td>604000.00</td>\n",
       "      <td>1960</td>\n",
       "      <td>7</td>\n",
       "      <td>47.52</td>\n",
       "      <td>-122.39</td>\n",
       "      <td>2.45</td>\n",
       "      <td>1.73</td>\n",
       "    </tr>\n",
       "    <tr>\n",
       "      <th>4</th>\n",
       "      <td>510000.00</td>\n",
       "      <td>1680</td>\n",
       "      <td>8</td>\n",
       "      <td>47.62</td>\n",
       "      <td>-122.05</td>\n",
       "      <td>2.67</td>\n",
       "      <td>1.18</td>\n",
       "    </tr>\n",
       "  </tbody>\n",
       "</table>\n",
       "</div>"
      ],
      "text/plain": [
       "      price  sqft_living  grade   lat    long  min_dist_park  \\\n",
       "0 221900.00         1180      7 47.51 -122.26           2.04   \n",
       "1 538000.00         2570      7 47.72 -122.32           5.05   \n",
       "2 180000.00          770      6 47.74 -122.23           1.34   \n",
       "3 604000.00         1960      7 47.52 -122.39           2.45   \n",
       "4 510000.00         1680      8 47.62 -122.05           2.67   \n",
       "\n",
       "   closest_distance_to_top_school  \n",
       "0                            0.26  \n",
       "1                            0.68  \n",
       "2                            2.00  \n",
       "3                            1.73  \n",
       "4                            1.18  "
      ]
     },
     "execution_count": 196,
     "metadata": {},
     "output_type": "execute_result"
    }
   ],
   "source": [
    "df.drop(columns = top_school_cols, axis=1, inplace=True)\n",
    "rad_cols = ['lat_radians_A', 'long_radians_A']\n",
    "df.drop(columns=rad_cols, axis=1, inplace=True)\n",
    "df.head()"
   ]
  },
  {
   "cell_type": "markdown",
   "metadata": {},
   "source": [
    "## King County Top 10 Coffee Shops"
   ]
  },
  {
   "cell_type": "code",
   "execution_count": 197,
   "metadata": {
    "scrolled": true
   },
   "outputs": [],
   "source": [
    "def get_keys(path):\n",
    "    with open(path) as f:\n",
    "        return json.load(f)\n",
    "\n",
    "keys = get_keys(\"/Users/dtunnicliffe/.secret/yelp_api.json\")\n",
    "api_key = keys['api_key']\n",
    "\n",
    "term = 'coffee'\n",
    "location = 'King County, WA'\n",
    "SEARCH_LIMIT = 10\n",
    "espresso = pd.DataFrame([])\n",
    "def yelp(term, location, SEARCH_LIMIT):\n",
    "    global espresso\n",
    "    url = 'https://api.yelp.com/v3/businesses/search'\n",
    "    headers = {\n",
    "    'Authorization': f'Bearer {api_key}',\n",
    "    }\n",
    "    url_params = {\n",
    "    'term': term.replace(' ', '+'),\n",
    "    'location': location.replace(' ', '+'),\n",
    "    'limit': SEARCH_LIMIT,\n",
    "    'sort_by': 'rating'\n",
    "    }\n",
    "    response = requests.get(url, headers=headers, params=url_params)\n",
    "    df_temp = pd.DataFrame.from_dict(response.json()['businesses'])\n",
    "    espresso = espresso.append(df_temp)\n",
    "    return espresso"
   ]
  },
  {
   "cell_type": "code",
   "execution_count": 198,
   "metadata": {},
   "outputs": [],
   "source": [
    "espresso = yelp(term, location, SEARCH_LIMIT)"
   ]
  },
  {
   "cell_type": "code",
   "execution_count": 199,
   "metadata": {},
   "outputs": [
    {
     "data": {
      "text/html": [
       "<div>\n",
       "<style scoped>\n",
       "    .dataframe tbody tr th:only-of-type {\n",
       "        vertical-align: middle;\n",
       "    }\n",
       "\n",
       "    .dataframe tbody tr th {\n",
       "        vertical-align: top;\n",
       "    }\n",
       "\n",
       "    .dataframe thead th {\n",
       "        text-align: right;\n",
       "    }\n",
       "</style>\n",
       "<table border=\"1\" class=\"dataframe\">\n",
       "  <thead>\n",
       "    <tr style=\"text-align: right;\">\n",
       "      <th></th>\n",
       "      <th>id</th>\n",
       "      <th>alias</th>\n",
       "      <th>name</th>\n",
       "      <th>image_url</th>\n",
       "      <th>is_closed</th>\n",
       "      <th>url</th>\n",
       "      <th>review_count</th>\n",
       "      <th>categories</th>\n",
       "      <th>rating</th>\n",
       "      <th>coordinates</th>\n",
       "      <th>transactions</th>\n",
       "      <th>price</th>\n",
       "      <th>location</th>\n",
       "      <th>phone</th>\n",
       "      <th>display_phone</th>\n",
       "      <th>distance</th>\n",
       "    </tr>\n",
       "  </thead>\n",
       "  <tbody>\n",
       "    <tr>\n",
       "      <th>0</th>\n",
       "      <td>S6CXIQ5KrMpTPZf1eNMa2w</td>\n",
       "      <td>five-stones-coffee-company-redmond</td>\n",
       "      <td>Five Stones Coffee Company</td>\n",
       "      <td>https://s3-media3.fl.yelpcdn.com/bphoto/OmzSO6...</td>\n",
       "      <td>False</td>\n",
       "      <td>https://www.yelp.com/biz/five-stones-coffee-co...</td>\n",
       "      <td>414</td>\n",
       "      <td>[{'alias': 'coffee', 'title': 'Coffee &amp; Tea'}]</td>\n",
       "      <td>4.50</td>\n",
       "      <td>{'latitude': 47.67583, 'longitude': -122.12471}</td>\n",
       "      <td>[delivery]</td>\n",
       "      <td>$$</td>\n",
       "      <td>{'address1': '8102 161st Ave NE', 'address2': ...</td>\n",
       "      <td>+14252420099</td>\n",
       "      <td>(425) 242-0099</td>\n",
       "      <td>37007.96</td>\n",
       "    </tr>\n",
       "    <tr>\n",
       "      <th>1</th>\n",
       "      <td>EWqgeiGor-aVJlMLc8iSKw</td>\n",
       "      <td>boon-boona-coffee-renton</td>\n",
       "      <td>Boon Boona Coffee</td>\n",
       "      <td>https://s3-media3.fl.yelpcdn.com/bphoto/tVH2Gx...</td>\n",
       "      <td>False</td>\n",
       "      <td>https://www.yelp.com/biz/boon-boona-coffee-ren...</td>\n",
       "      <td>207</td>\n",
       "      <td>[{'alias': 'coffeeroasteries', 'title': 'Coffe...</td>\n",
       "      <td>4.50</td>\n",
       "      <td>{'latitude': 47.4797895, 'longitude': -122.206...</td>\n",
       "      <td>[delivery, pickup]</td>\n",
       "      <td>$</td>\n",
       "      <td>{'address1': '724 S 3rd St', 'address2': 'Ste ...</td>\n",
       "      <td>+14254968618</td>\n",
       "      <td>(425) 496-8618</td>\n",
       "      <td>31528.44</td>\n",
       "    </tr>\n",
       "    <tr>\n",
       "      <th>2</th>\n",
       "      <td>v7xfqk9f7N8A98AQ2kddWg</td>\n",
       "      <td>anchorhead-coffee-bellevue-3</td>\n",
       "      <td>Anchorhead Coffee</td>\n",
       "      <td>https://s3-media3.fl.yelpcdn.com/bphoto/ErNP7S...</td>\n",
       "      <td>False</td>\n",
       "      <td>https://www.yelp.com/biz/anchorhead-coffee-bel...</td>\n",
       "      <td>70</td>\n",
       "      <td>[{'alias': 'coffeeroasteries', 'title': 'Coffe...</td>\n",
       "      <td>4.50</td>\n",
       "      <td>{'latitude': 47.61509, 'longitude': -122.194026}</td>\n",
       "      <td>[delivery]</td>\n",
       "      <td>NaN</td>\n",
       "      <td>{'address1': '555 110th Ave NE', 'address2': '...</td>\n",
       "      <td></td>\n",
       "      <td></td>\n",
       "      <td>36458.00</td>\n",
       "    </tr>\n",
       "    <tr>\n",
       "      <th>3</th>\n",
       "      <td>t2DOOFh-oJLddtpxbVlDrQ</td>\n",
       "      <td>huxdotter-coffee-north-bend</td>\n",
       "      <td>Huxdotter Coffee</td>\n",
       "      <td>https://s3-media3.fl.yelpcdn.com/bphoto/MdLMtc...</td>\n",
       "      <td>False</td>\n",
       "      <td>https://www.yelp.com/biz/huxdotter-coffee-nort...</td>\n",
       "      <td>83</td>\n",
       "      <td>[{'alias': 'coffee', 'title': 'Coffee &amp; Tea'},...</td>\n",
       "      <td>4.50</td>\n",
       "      <td>{'latitude': 47.493445, 'longitude': -121.787556}</td>\n",
       "      <td>[]</td>\n",
       "      <td>$</td>\n",
       "      <td>{'address1': '101 W Park St', 'address2': 'Ste...</td>\n",
       "      <td></td>\n",
       "      <td></td>\n",
       "      <td>7198.39</td>\n",
       "    </tr>\n",
       "    <tr>\n",
       "      <th>4</th>\n",
       "      <td>-MzbuOLr2kAoqlQY8w7ECA</td>\n",
       "      <td>pioneer-coffee-north-bend-north-bend</td>\n",
       "      <td>Pioneer Coffee - North Bend</td>\n",
       "      <td>https://s3-media3.fl.yelpcdn.com/bphoto/5SpY3i...</td>\n",
       "      <td>False</td>\n",
       "      <td>https://www.yelp.com/biz/pioneer-coffee-north-...</td>\n",
       "      <td>76</td>\n",
       "      <td>[{'alias': 'coffeeroasteries', 'title': 'Coffe...</td>\n",
       "      <td>4.50</td>\n",
       "      <td>{'latitude': 47.4956976441376, 'longitude': -1...</td>\n",
       "      <td>[]</td>\n",
       "      <td>$</td>\n",
       "      <td>{'address1': '202 W North Bend Way', 'address2...</td>\n",
       "      <td>+14252920957</td>\n",
       "      <td>(425) 292-0957</td>\n",
       "      <td>7452.31</td>\n",
       "    </tr>\n",
       "  </tbody>\n",
       "</table>\n",
       "</div>"
      ],
      "text/plain": [
       "                       id                                 alias  \\\n",
       "0  S6CXIQ5KrMpTPZf1eNMa2w    five-stones-coffee-company-redmond   \n",
       "1  EWqgeiGor-aVJlMLc8iSKw              boon-boona-coffee-renton   \n",
       "2  v7xfqk9f7N8A98AQ2kddWg          anchorhead-coffee-bellevue-3   \n",
       "3  t2DOOFh-oJLddtpxbVlDrQ           huxdotter-coffee-north-bend   \n",
       "4  -MzbuOLr2kAoqlQY8w7ECA  pioneer-coffee-north-bend-north-bend   \n",
       "\n",
       "                          name  \\\n",
       "0   Five Stones Coffee Company   \n",
       "1            Boon Boona Coffee   \n",
       "2            Anchorhead Coffee   \n",
       "3             Huxdotter Coffee   \n",
       "4  Pioneer Coffee - North Bend   \n",
       "\n",
       "                                           image_url  is_closed  \\\n",
       "0  https://s3-media3.fl.yelpcdn.com/bphoto/OmzSO6...      False   \n",
       "1  https://s3-media3.fl.yelpcdn.com/bphoto/tVH2Gx...      False   \n",
       "2  https://s3-media3.fl.yelpcdn.com/bphoto/ErNP7S...      False   \n",
       "3  https://s3-media3.fl.yelpcdn.com/bphoto/MdLMtc...      False   \n",
       "4  https://s3-media3.fl.yelpcdn.com/bphoto/5SpY3i...      False   \n",
       "\n",
       "                                                 url  review_count  \\\n",
       "0  https://www.yelp.com/biz/five-stones-coffee-co...           414   \n",
       "1  https://www.yelp.com/biz/boon-boona-coffee-ren...           207   \n",
       "2  https://www.yelp.com/biz/anchorhead-coffee-bel...            70   \n",
       "3  https://www.yelp.com/biz/huxdotter-coffee-nort...            83   \n",
       "4  https://www.yelp.com/biz/pioneer-coffee-north-...            76   \n",
       "\n",
       "                                          categories  rating  \\\n",
       "0     [{'alias': 'coffee', 'title': 'Coffee & Tea'}]    4.50   \n",
       "1  [{'alias': 'coffeeroasteries', 'title': 'Coffe...    4.50   \n",
       "2  [{'alias': 'coffeeroasteries', 'title': 'Coffe...    4.50   \n",
       "3  [{'alias': 'coffee', 'title': 'Coffee & Tea'},...    4.50   \n",
       "4  [{'alias': 'coffeeroasteries', 'title': 'Coffe...    4.50   \n",
       "\n",
       "                                         coordinates        transactions  \\\n",
       "0    {'latitude': 47.67583, 'longitude': -122.12471}          [delivery]   \n",
       "1  {'latitude': 47.4797895, 'longitude': -122.206...  [delivery, pickup]   \n",
       "2   {'latitude': 47.61509, 'longitude': -122.194026}          [delivery]   \n",
       "3  {'latitude': 47.493445, 'longitude': -121.787556}                  []   \n",
       "4  {'latitude': 47.4956976441376, 'longitude': -1...                  []   \n",
       "\n",
       "  price                                           location         phone  \\\n",
       "0    $$  {'address1': '8102 161st Ave NE', 'address2': ...  +14252420099   \n",
       "1     $  {'address1': '724 S 3rd St', 'address2': 'Ste ...  +14254968618   \n",
       "2   NaN  {'address1': '555 110th Ave NE', 'address2': '...                 \n",
       "3     $  {'address1': '101 W Park St', 'address2': 'Ste...                 \n",
       "4     $  {'address1': '202 W North Bend Way', 'address2...  +14252920957   \n",
       "\n",
       "    display_phone  distance  \n",
       "0  (425) 242-0099  37007.96  \n",
       "1  (425) 496-8618  31528.44  \n",
       "2                  36458.00  \n",
       "3                   7198.39  \n",
       "4  (425) 292-0957   7452.31  "
      ]
     },
     "execution_count": 199,
     "metadata": {},
     "output_type": "execute_result"
    }
   ],
   "source": [
    "espresso.head()"
   ]
  },
  {
   "cell_type": "code",
   "execution_count": 200,
   "metadata": {},
   "outputs": [],
   "source": [
    "great_coffee_coordinates = []\n",
    "x = [round(coordinate['latitude'], 2) for coordinate in espresso['coordinates']]\n",
    "y = [round(coordinate['longitude'], 2) for coordinate in espresso['coordinates']]\n",
    "great_coffee_coordinates = list(zip(x,y))"
   ]
  },
  {
   "cell_type": "code",
   "execution_count": 201,
   "metadata": {},
   "outputs": [],
   "source": [
    "for i in range(len(great_coffee_coordinates)):\n",
    "    df[f'great_coffee_{i}'] = distance_to(great_coffee_coordinates[i])\n",
    "\n",
    "great_coffee_cols = []\n",
    "for i in range(len(great_coffee_coordinates)):\n",
    "    great_coffee_cols.append(f'great_coffee_{i}')\n",
    "    df['closest_distance_to_great_coffee'] = df[great_coffee_cols].min(axis=1)"
   ]
  },
  {
   "cell_type": "code",
   "execution_count": 202,
   "metadata": {},
   "outputs": [
    {
     "data": {
      "text/html": [
       "<div>\n",
       "<style scoped>\n",
       "    .dataframe tbody tr th:only-of-type {\n",
       "        vertical-align: middle;\n",
       "    }\n",
       "\n",
       "    .dataframe tbody tr th {\n",
       "        vertical-align: top;\n",
       "    }\n",
       "\n",
       "    .dataframe thead th {\n",
       "        text-align: right;\n",
       "    }\n",
       "</style>\n",
       "<table border=\"1\" class=\"dataframe\">\n",
       "  <thead>\n",
       "    <tr style=\"text-align: right;\">\n",
       "      <th></th>\n",
       "      <th>price</th>\n",
       "      <th>sqft_living</th>\n",
       "      <th>grade</th>\n",
       "      <th>lat</th>\n",
       "      <th>long</th>\n",
       "      <th>min_dist_park</th>\n",
       "      <th>closest_distance_to_top_school</th>\n",
       "      <th>closest_distance_to_great_coffee</th>\n",
       "    </tr>\n",
       "  </thead>\n",
       "  <tbody>\n",
       "    <tr>\n",
       "      <th>0</th>\n",
       "      <td>221900.00</td>\n",
       "      <td>1180</td>\n",
       "      <td>7</td>\n",
       "      <td>47.51</td>\n",
       "      <td>-122.26</td>\n",
       "      <td>2.04</td>\n",
       "      <td>0.26</td>\n",
       "      <td>4.95</td>\n",
       "    </tr>\n",
       "    <tr>\n",
       "      <th>1</th>\n",
       "      <td>538000.00</td>\n",
       "      <td>2570</td>\n",
       "      <td>7</td>\n",
       "      <td>47.72</td>\n",
       "      <td>-122.32</td>\n",
       "      <td>5.05</td>\n",
       "      <td>0.68</td>\n",
       "      <td>14.81</td>\n",
       "    </tr>\n",
       "    <tr>\n",
       "      <th>2</th>\n",
       "      <td>180000.00</td>\n",
       "      <td>770</td>\n",
       "      <td>6</td>\n",
       "      <td>47.74</td>\n",
       "      <td>-122.23</td>\n",
       "      <td>1.34</td>\n",
       "      <td>2.00</td>\n",
       "      <td>10.63</td>\n",
       "    </tr>\n",
       "    <tr>\n",
       "      <th>3</th>\n",
       "      <td>604000.00</td>\n",
       "      <td>1960</td>\n",
       "      <td>7</td>\n",
       "      <td>47.52</td>\n",
       "      <td>-122.39</td>\n",
       "      <td>2.45</td>\n",
       "      <td>1.73</td>\n",
       "      <td>14.48</td>\n",
       "    </tr>\n",
       "    <tr>\n",
       "      <th>4</th>\n",
       "      <td>510000.00</td>\n",
       "      <td>1680</td>\n",
       "      <td>8</td>\n",
       "      <td>47.62</td>\n",
       "      <td>-122.05</td>\n",
       "      <td>2.67</td>\n",
       "      <td>1.18</td>\n",
       "      <td>8.55</td>\n",
       "    </tr>\n",
       "  </tbody>\n",
       "</table>\n",
       "</div>"
      ],
      "text/plain": [
       "      price  sqft_living  grade   lat    long  min_dist_park  \\\n",
       "0 221900.00         1180      7 47.51 -122.26           2.04   \n",
       "1 538000.00         2570      7 47.72 -122.32           5.05   \n",
       "2 180000.00          770      6 47.74 -122.23           1.34   \n",
       "3 604000.00         1960      7 47.52 -122.39           2.45   \n",
       "4 510000.00         1680      8 47.62 -122.05           2.67   \n",
       "\n",
       "   closest_distance_to_top_school  closest_distance_to_great_coffee  \n",
       "0                            0.26                              4.95  \n",
       "1                            0.68                             14.81  \n",
       "2                            2.00                             10.63  \n",
       "3                            1.73                             14.48  \n",
       "4                            1.18                              8.55  "
      ]
     },
     "execution_count": 202,
     "metadata": {},
     "output_type": "execute_result"
    }
   ],
   "source": [
    "#dropping unnecessary columns\n",
    "df = df.drop(columns = great_coffee_cols, axis=1)\n",
    "df.head()"
   ]
  },
  {
   "cell_type": "markdown",
   "metadata": {},
   "source": [
    "## King County Churches of Scientology"
   ]
  },
  {
   "cell_type": "code",
   "execution_count": 203,
   "metadata": {},
   "outputs": [],
   "source": [
    "#locations pulled from scientology-seattle.org\n",
    "church_of_scientology_mission = (47.818100, -122.315430)\n",
    "church_of_scientology_washington = (47.622380, -122.361020)\n",
    "church_of_scientology_life_improvement_center = (47.615060, -122.327580)"
   ]
  },
  {
   "cell_type": "code",
   "execution_count": 204,
   "metadata": {},
   "outputs": [],
   "source": [
    "#function that identifies the distance between a point of interest and house \n",
    "def distance_to(point_of_interest):\n",
    "    distance = df[['lat','long']].apply(lambda x: hs.haversine(x.tolist(), point_of_interest), axis=1)\n",
    "    return distance"
   ]
  },
  {
   "cell_type": "code",
   "execution_count": 205,
   "metadata": {},
   "outputs": [],
   "source": [
    "#creating new columns of distances from houses to point of interest\n",
    "df['distance_to_scientology_m'] = distance_to(church_of_scientology_mission)\n",
    "df['distance_to_scientology_w'] = distance_to(church_of_scientology_washington)\n",
    "df['distance_to_scientology_l'] = distance_to(church_of_scientology_life_improvement_center)\n",
    "df['closest_distance_to_scientology'] = df[['distance_to_scientology_m',\n",
    "                                                        'distance_to_scientology_w',\n",
    "                                                        'distance_to_scientology_l']].min(axis=1)"
   ]
  },
  {
   "cell_type": "code",
   "execution_count": 206,
   "metadata": {},
   "outputs": [],
   "source": [
    "sci_cols = ['distance_to_scientology_m', 'distance_to_scientology_w',\n",
    "           'distance_to_scientology_l']\n",
    "df.drop(columns = sci_cols, axis=1, inplace=True)"
   ]
  },
  {
   "cell_type": "code",
   "execution_count": 207,
   "metadata": {},
   "outputs": [
    {
     "data": {
      "text/html": [
       "<div>\n",
       "<style scoped>\n",
       "    .dataframe tbody tr th:only-of-type {\n",
       "        vertical-align: middle;\n",
       "    }\n",
       "\n",
       "    .dataframe tbody tr th {\n",
       "        vertical-align: top;\n",
       "    }\n",
       "\n",
       "    .dataframe thead th {\n",
       "        text-align: right;\n",
       "    }\n",
       "</style>\n",
       "<table border=\"1\" class=\"dataframe\">\n",
       "  <thead>\n",
       "    <tr style=\"text-align: right;\">\n",
       "      <th></th>\n",
       "      <th>price</th>\n",
       "      <th>sqft_living</th>\n",
       "      <th>grade</th>\n",
       "      <th>lat</th>\n",
       "      <th>long</th>\n",
       "      <th>min_dist_park</th>\n",
       "      <th>closest_distance_to_top_school</th>\n",
       "      <th>closest_distance_to_great_coffee</th>\n",
       "      <th>closest_distance_to_scientology</th>\n",
       "    </tr>\n",
       "  </thead>\n",
       "  <tbody>\n",
       "    <tr>\n",
       "      <th>0</th>\n",
       "      <td>221900.00</td>\n",
       "      <td>1180</td>\n",
       "      <td>7</td>\n",
       "      <td>47.51</td>\n",
       "      <td>-122.26</td>\n",
       "      <td>2.04</td>\n",
       "      <td>0.26</td>\n",
       "      <td>4.95</td>\n",
       "      <td>12.71</td>\n",
       "    </tr>\n",
       "    <tr>\n",
       "      <th>1</th>\n",
       "      <td>538000.00</td>\n",
       "      <td>2570</td>\n",
       "      <td>7</td>\n",
       "      <td>47.72</td>\n",
       "      <td>-122.32</td>\n",
       "      <td>5.05</td>\n",
       "      <td>0.68</td>\n",
       "      <td>14.81</td>\n",
       "      <td>10.80</td>\n",
       "    </tr>\n",
       "    <tr>\n",
       "      <th>2</th>\n",
       "      <td>180000.00</td>\n",
       "      <td>770</td>\n",
       "      <td>6</td>\n",
       "      <td>47.74</td>\n",
       "      <td>-122.23</td>\n",
       "      <td>1.34</td>\n",
       "      <td>2.00</td>\n",
       "      <td>10.63</td>\n",
       "      <td>10.84</td>\n",
       "    </tr>\n",
       "    <tr>\n",
       "      <th>3</th>\n",
       "      <td>604000.00</td>\n",
       "      <td>1960</td>\n",
       "      <td>7</td>\n",
       "      <td>47.52</td>\n",
       "      <td>-122.39</td>\n",
       "      <td>2.45</td>\n",
       "      <td>1.73</td>\n",
       "      <td>14.48</td>\n",
       "      <td>11.55</td>\n",
       "    </tr>\n",
       "    <tr>\n",
       "      <th>4</th>\n",
       "      <td>510000.00</td>\n",
       "      <td>1680</td>\n",
       "      <td>8</td>\n",
       "      <td>47.62</td>\n",
       "      <td>-122.05</td>\n",
       "      <td>2.67</td>\n",
       "      <td>1.18</td>\n",
       "      <td>8.55</td>\n",
       "      <td>21.18</td>\n",
       "    </tr>\n",
       "  </tbody>\n",
       "</table>\n",
       "</div>"
      ],
      "text/plain": [
       "      price  sqft_living  grade   lat    long  min_dist_park  \\\n",
       "0 221900.00         1180      7 47.51 -122.26           2.04   \n",
       "1 538000.00         2570      7 47.72 -122.32           5.05   \n",
       "2 180000.00          770      6 47.74 -122.23           1.34   \n",
       "3 604000.00         1960      7 47.52 -122.39           2.45   \n",
       "4 510000.00         1680      8 47.62 -122.05           2.67   \n",
       "\n",
       "   closest_distance_to_top_school  closest_distance_to_great_coffee  \\\n",
       "0                            0.26                              4.95   \n",
       "1                            0.68                             14.81   \n",
       "2                            2.00                             10.63   \n",
       "3                            1.73                             14.48   \n",
       "4                            1.18                              8.55   \n",
       "\n",
       "   closest_distance_to_scientology  \n",
       "0                            12.71  \n",
       "1                            10.80  \n",
       "2                            10.84  \n",
       "3                            11.55  \n",
       "4                            21.18  "
      ]
     },
     "execution_count": 207,
     "metadata": {},
     "output_type": "execute_result"
    }
   ],
   "source": [
    "df.head()"
   ]
  },
  {
   "cell_type": "markdown",
   "metadata": {},
   "source": [
    "## Log-Transforming Features"
   ]
  },
  {
   "cell_type": "code",
   "execution_count": 208,
   "metadata": {},
   "outputs": [
    {
     "name": "stdout",
     "output_type": "stream",
     "text": [
      "Skewness: 2.07081534646944\n",
      "Kurtosis: 4.115792045291801\n"
     ]
    },
    {
     "data": {
      "image/png": "[encoded data removed]",
      "text/plain": [
       "<Figure size 576x288 with 1 Axes>"
      ]
     },
     "metadata": {
      "needs_background": "light"
     },
     "output_type": "display_data"
    }
   ],
   "source": [
    "plt.figure(figsize=(8,4))\n",
    "sns.distplot(df['closest_distance_to_top_school'])\n",
    "plt.title(\"Distribution of Distances to Top Schools\", fontsize=20)\n",
    "plt.xlabel('Distance to Closest Top School (km)');\n",
    "print(\"Skewness:\", df['closest_distance_to_top_school'].skew())\n",
    "print(\"Kurtosis:\", df['closest_distance_to_top_school'].kurt())"
   ]
  },
  {
   "cell_type": "code",
   "execution_count": 209,
   "metadata": {},
   "outputs": [],
   "source": [
    "# removing zeroes for log transformation\n",
    "df.loc[df['closest_distance_to_top_school']==0.00, 'closest_distance_to_top_school']=0.01\n",
    "#natural log transformation for 'closest_distance_to_top_school'.\n",
    "df['log_school'] = df['closest_distance_to_top_school'].map(lambda x: np.log(x))"
   ]
  },
  {
   "cell_type": "code",
   "execution_count": 210,
   "metadata": {},
   "outputs": [
    {
     "name": "stdout",
     "output_type": "stream",
     "text": [
      "Skewness: 0.31498656015781384\n",
      "Kurtosis: -0.4837932278849535\n"
     ]
    },
    {
     "data": {
      "image/png": "[encoded data removed]",
      "text/plain": [
       "<Figure size 576x288 with 1 Axes>"
      ]
     },
     "metadata": {
      "needs_background": "light"
     },
     "output_type": "display_data"
    }
   ],
   "source": [
    "plt.figure(figsize=(8,4))\n",
    "sns.distplot(df['log_school'])\n",
    "plt.title(\"Distribution of Distances to Top Schools (Log)\", fontsize=20)\n",
    "plt.xlabel('Distance to Closest Top School');\n",
    "print(\"Skewness:\", df['log_school'].skew())\n",
    "print(\"Kurtosis:\", df['log_school'].kurt())"
   ]
  },
  {
   "cell_type": "code",
   "execution_count": 211,
   "metadata": {},
   "outputs": [
    {
     "name": "stdout",
     "output_type": "stream",
     "text": [
      "Skewness: 0.5617274905372351\n",
      "Kurtosis: 0.7125009157364359\n"
     ]
    },
    {
     "data": {
      "image/png": "[encoded data removed]",
      "text/plain": [
       "<Figure size 576x288 with 1 Axes>"
      ]
     },
     "metadata": {
      "needs_background": "light"
     },
     "output_type": "display_data"
    }
   ],
   "source": [
    "plt.figure(figsize=(8,4))\n",
    "sns.distplot(df['closest_distance_to_great_coffee'])\n",
    "plt.title(\"Distribution of Distances to Great Coffee\", fontsize=20)\n",
    "plt.xlabel('Distance to Closest Great Coffee');\n",
    "print(\"Skewness:\", df['closest_distance_to_great_coffee'].skew())\n",
    "print(\"Kurtosis:\", df['closest_distance_to_great_coffee'].kurt())"
   ]
  },
  {
   "cell_type": "code",
   "execution_count": 212,
   "metadata": {},
   "outputs": [],
   "source": [
    "# removing zeroes for log transformation\n",
    "df.loc[df['closest_distance_to_great_coffee']==0.00, 'closest_distance_to_top_school']=0.01\n",
    "#natural log transformation for 'closest_distance_to_great_coffee'.\n",
    "df['log_coffee'] = df['closest_distance_to_great_coffee'].map(lambda x: np.log(x))"
   ]
  },
  {
   "cell_type": "code",
   "execution_count": 213,
   "metadata": {},
   "outputs": [
    {
     "name": "stdout",
     "output_type": "stream",
     "text": [
      "Skewness: -1.1714703303238783\n",
      "Kurtosis: 1.9350322960834787\n"
     ]
    },
    {
     "data": {
      "image/png": "[encoded data removed]",
      "text/plain": [
       "<Figure size 576x288 with 1 Axes>"
      ]
     },
     "metadata": {
      "needs_background": "light"
     },
     "output_type": "display_data"
    }
   ],
   "source": [
    "plt.figure(figsize=(8,4))\n",
    "sns.distplot(df['log_coffee'])\n",
    "plt.title(\"Distribution of Distances to Great Coffee (Log)\", fontsize=20)\n",
    "plt.xlabel('Distance to Closest Great Coffee');\n",
    "print(\"Skewness:\", df['log_coffee'].skew())\n",
    "print(\"Kurtosis:\", df['log_coffee'].kurt())"
   ]
  },
  {
   "cell_type": "code",
   "execution_count": 214,
   "metadata": {},
   "outputs": [
    {
     "name": "stdout",
     "output_type": "stream",
     "text": [
      "Skewness: 0.729624297126709\n",
      "Kurtosis: -0.13070775209001573\n"
     ]
    },
    {
     "data": {
      "image/png": "[encoded data removed]",
      "text/plain": [
       "<Figure size 576x288 with 1 Axes>"
      ]
     },
     "metadata": {
      "needs_background": "light"
     },
     "output_type": "display_data"
    }
   ],
   "source": [
    "plt.figure(figsize=(8,4))\n",
    "sns.distplot(df['closest_distance_to_scientology'])\n",
    "plt.title(\"Distribution of Distances to Scientology Church\", fontsize=20)\n",
    "plt.xlabel('Distance to Closest Scientology Church (km)');\n",
    "print(\"Skewness:\", df['closest_distance_to_scientology'].skew())\n",
    "print(\"Kurtosis:\", df['closest_distance_to_scientology'].kurt())"
   ]
  },
  {
   "cell_type": "code",
   "execution_count": 215,
   "metadata": {},
   "outputs": [],
   "source": [
    "# removing zeroes for log transformation\n",
    "df.loc[df['closest_distance_to_scientology']==0.00, 'closest_distance_to_scientology']=0.01\n",
    "#natural log transformation for 'closest_distance_to_scientology'.\n",
    "df['log_scientology'] = df['closest_distance_to_scientology'].map(lambda x: np.log(x))"
   ]
  },
  {
   "cell_type": "code",
   "execution_count": 216,
   "metadata": {
    "scrolled": false
   },
   "outputs": [
    {
     "name": "stdout",
     "output_type": "stream",
     "text": [
      "Skewness: -0.6186336629179573\n",
      "Kurtosis: 0.16752897590293658\n"
     ]
    },
    {
     "data": {
      "image/png": "[encoded data removed]",
      "text/plain": [
       "<Figure size 576x288 with 1 Axes>"
      ]
     },
     "metadata": {
      "needs_background": "light"
     },
     "output_type": "display_data"
    }
   ],
   "source": [
    "plt.figure(figsize=(8,4))\n",
    "sns.distplot(df['log_scientology'])\n",
    "plt.title(\"Distribution of Distances to Scientology Churches (Log)\", fontsize=20)\n",
    "plt.xlabel('Distance to Closest Scientology Church');\n",
    "print(\"Skewness:\", df['log_scientology'].skew())\n",
    "print(\"Kurtosis:\", df['log_scientology'].kurt())"
   ]
  },
  {
   "cell_type": "code",
   "execution_count": 217,
   "metadata": {
    "scrolled": false
   },
   "outputs": [
    {
     "name": "stdout",
     "output_type": "stream",
     "text": [
      "Skewness: 1.205427367383708\n",
      "Kurtosis: 3.9928978255283716\n"
     ]
    },
    {
     "data": {
      "image/png": "[encoded data removed]",
      "text/plain": [
       "<Figure size 576x288 with 1 Axes>"
      ]
     },
     "metadata": {
      "needs_background": "light"
     },
     "output_type": "display_data"
    }
   ],
   "source": [
    "plt.figure(figsize=(8,4))\n",
    "sns.distplot(df['min_dist_park'])\n",
    "plt.title(\"Distribution of Distances to Parks\", fontsize=20)\n",
    "plt.xlabel('Distance to Closest Park (km)');\n",
    "print(\"Skewness:\", df['min_dist_park'].skew())\n",
    "print(\"Kurtosis:\", df['min_dist_park'].kurt())"
   ]
  },
  {
   "cell_type": "code",
   "execution_count": 218,
   "metadata": {},
   "outputs": [],
   "source": [
    "# removing zeroes for log transformation\n",
    "df.loc[df['min_dist_park']==0.00, 'min_dist_park']=0.01\n",
    "#natural log transformation for 'min_dist_park'.\n",
    "df['log_park'] = df['min_dist_park'].map(lambda x: np.log(x))"
   ]
  },
  {
   "cell_type": "code",
   "execution_count": 219,
   "metadata": {
    "scrolled": true
   },
   "outputs": [
    {
     "name": "stdout",
     "output_type": "stream",
     "text": [
      "Skewness: -0.697074959578087\n",
      "Kurtosis: 0.6535881306866189\n"
     ]
    },
    {
     "data": {
      "image/png": "[encoded data removed]",
      "text/plain": [
       "<Figure size 576x288 with 1 Axes>"
      ]
     },
     "metadata": {
      "needs_background": "light"
     },
     "output_type": "display_data"
    }
   ],
   "source": [
    "plt.figure(figsize=(8,4))\n",
    "sns.distplot(df['log_park'])\n",
    "plt.title(\"Distribution of Distances to Parks (Log)\", fontsize=20)\n",
    "plt.xlabel('Distance to Closest Park');\n",
    "print(\"Skewness:\", df['log_park'].skew())\n",
    "print(\"Kurtosis:\", df['log_park'].kurt())"
   ]
  },
  {
   "cell_type": "code",
   "execution_count": 220,
   "metadata": {},
   "outputs": [
    {
     "data": {
      "text/plain": [
       "price                                  0\n",
       "sqft_living                            0\n",
       "grade                                  0\n",
       "lat                                    0\n",
       "long                                   0\n",
       "min_dist_park                       2712\n",
       "closest_distance_to_top_school         0\n",
       "closest_distance_to_great_coffee       0\n",
       "closest_distance_to_scientology        0\n",
       "log_school                             0\n",
       "log_coffee                             0\n",
       "log_scientology                        0\n",
       "log_park                            2712\n",
       "dtype: int64"
      ]
     },
     "execution_count": 220,
     "metadata": {},
     "output_type": "execute_result"
    }
   ],
   "source": [
    "df.isnull().sum()"
   ]
  },
  {
   "cell_type": "code",
   "execution_count": 221,
   "metadata": {
    "scrolled": true
   },
   "outputs": [
    {
     "data": {
      "text/plain": [
       "price                               0\n",
       "sqft_living                         0\n",
       "grade                               0\n",
       "lat                                 0\n",
       "long                                0\n",
       "min_dist_park                       0\n",
       "closest_distance_to_top_school      0\n",
       "closest_distance_to_great_coffee    0\n",
       "closest_distance_to_scientology     0\n",
       "log_school                          0\n",
       "log_coffee                          0\n",
       "log_scientology                     0\n",
       "log_park                            0\n",
       "dtype: int64"
      ]
     },
     "execution_count": 221,
     "metadata": {},
     "output_type": "execute_result"
    }
   ],
   "source": [
    "df.dropna(inplace=True)\n",
    "df.isnull().sum()"
   ]
  },
  {
   "cell_type": "code",
   "execution_count": 222,
   "metadata": {},
   "outputs": [],
   "source": [
    "# saving copy of DataFrame as csv file\n",
    "df.to_csv('./data/all_features_with_logs.csv')"
   ]
  },
  {
   "cell_type": "markdown",
   "metadata": {},
   "source": [
    "## Modeling"
   ]
  },
  {
   "cell_type": "code",
   "execution_count": 223,
   "metadata": {},
   "outputs": [
    {
     "data": {
      "text/plain": [
       "count    16493.00\n",
       "mean    457743.09\n",
       "std     178369.79\n",
       "min     173000.00\n",
       "25%     312000.00\n",
       "50%     429900.00\n",
       "75%     579000.00\n",
       "max     907500.00\n",
       "Name: price, dtype: float64"
      ]
     },
     "execution_count": 223,
     "metadata": {},
     "output_type": "execute_result"
    }
   ],
   "source": [
    "df.price.describe()"
   ]
  },
  {
   "cell_type": "code",
   "execution_count": 224,
   "metadata": {},
   "outputs": [
    {
     "data": {
      "text/html": [
       "<div>\n",
       "<style scoped>\n",
       "    .dataframe tbody tr th:only-of-type {\n",
       "        vertical-align: middle;\n",
       "    }\n",
       "\n",
       "    .dataframe tbody tr th {\n",
       "        vertical-align: top;\n",
       "    }\n",
       "\n",
       "    .dataframe thead th {\n",
       "        text-align: right;\n",
       "    }\n",
       "</style>\n",
       "<table border=\"1\" class=\"dataframe\">\n",
       "  <thead>\n",
       "    <tr style=\"text-align: right;\">\n",
       "      <th></th>\n",
       "      <th>price</th>\n",
       "      <th>sqft_living</th>\n",
       "      <th>grade</th>\n",
       "      <th>lat</th>\n",
       "      <th>long</th>\n",
       "      <th>min_dist_park</th>\n",
       "      <th>closest_distance_to_top_school</th>\n",
       "      <th>closest_distance_to_great_coffee</th>\n",
       "      <th>closest_distance_to_scientology</th>\n",
       "      <th>log_school</th>\n",
       "      <th>log_coffee</th>\n",
       "      <th>log_scientology</th>\n",
       "      <th>log_park</th>\n",
       "    </tr>\n",
       "  </thead>\n",
       "  <tbody>\n",
       "    <tr>\n",
       "      <th>0</th>\n",
       "      <td>221900.00</td>\n",
       "      <td>1180</td>\n",
       "      <td>7</td>\n",
       "      <td>47.51</td>\n",
       "      <td>-122.26</td>\n",
       "      <td>2.04</td>\n",
       "      <td>0.26</td>\n",
       "      <td>4.95</td>\n",
       "      <td>12.71</td>\n",
       "      <td>-1.34</td>\n",
       "      <td>1.60</td>\n",
       "      <td>2.54</td>\n",
       "      <td>0.71</td>\n",
       "    </tr>\n",
       "    <tr>\n",
       "      <th>1</th>\n",
       "      <td>538000.00</td>\n",
       "      <td>2570</td>\n",
       "      <td>7</td>\n",
       "      <td>47.72</td>\n",
       "      <td>-122.32</td>\n",
       "      <td>5.05</td>\n",
       "      <td>0.68</td>\n",
       "      <td>14.81</td>\n",
       "      <td>10.80</td>\n",
       "      <td>-0.38</td>\n",
       "      <td>2.70</td>\n",
       "      <td>2.38</td>\n",
       "      <td>1.62</td>\n",
       "    </tr>\n",
       "    <tr>\n",
       "      <th>3</th>\n",
       "      <td>604000.00</td>\n",
       "      <td>1960</td>\n",
       "      <td>7</td>\n",
       "      <td>47.52</td>\n",
       "      <td>-122.39</td>\n",
       "      <td>2.45</td>\n",
       "      <td>1.73</td>\n",
       "      <td>14.48</td>\n",
       "      <td>11.55</td>\n",
       "      <td>0.55</td>\n",
       "      <td>2.67</td>\n",
       "      <td>2.45</td>\n",
       "      <td>0.90</td>\n",
       "    </tr>\n",
       "    <tr>\n",
       "      <th>4</th>\n",
       "      <td>510000.00</td>\n",
       "      <td>1680</td>\n",
       "      <td>8</td>\n",
       "      <td>47.62</td>\n",
       "      <td>-122.05</td>\n",
       "      <td>2.67</td>\n",
       "      <td>1.18</td>\n",
       "      <td>8.55</td>\n",
       "      <td>21.18</td>\n",
       "      <td>0.16</td>\n",
       "      <td>2.15</td>\n",
       "      <td>3.05</td>\n",
       "      <td>0.98</td>\n",
       "    </tr>\n",
       "    <tr>\n",
       "      <th>6</th>\n",
       "      <td>257500.00</td>\n",
       "      <td>1715</td>\n",
       "      <td>7</td>\n",
       "      <td>47.31</td>\n",
       "      <td>-122.33</td>\n",
       "      <td>5.40</td>\n",
       "      <td>15.84</td>\n",
       "      <td>16.58</td>\n",
       "      <td>33.95</td>\n",
       "      <td>2.76</td>\n",
       "      <td>2.81</td>\n",
       "      <td>3.53</td>\n",
       "      <td>1.69</td>\n",
       "    </tr>\n",
       "  </tbody>\n",
       "</table>\n",
       "</div>"
      ],
      "text/plain": [
       "      price  sqft_living  grade   lat    long  min_dist_park  \\\n",
       "0 221900.00         1180      7 47.51 -122.26           2.04   \n",
       "1 538000.00         2570      7 47.72 -122.32           5.05   \n",
       "3 604000.00         1960      7 47.52 -122.39           2.45   \n",
       "4 510000.00         1680      8 47.62 -122.05           2.67   \n",
       "6 257500.00         1715      7 47.31 -122.33           5.40   \n",
       "\n",
       "   closest_distance_to_top_school  closest_distance_to_great_coffee  \\\n",
       "0                            0.26                              4.95   \n",
       "1                            0.68                             14.81   \n",
       "3                            1.73                             14.48   \n",
       "4                            1.18                              8.55   \n",
       "6                           15.84                             16.58   \n",
       "\n",
       "   closest_distance_to_scientology  log_school  log_coffee  log_scientology  \\\n",
       "0                            12.71       -1.34        1.60             2.54   \n",
       "1                            10.80       -0.38        2.70             2.38   \n",
       "3                            11.55        0.55        2.67             2.45   \n",
       "4                            21.18        0.16        2.15             3.05   \n",
       "6                            33.95        2.76        2.81             3.53   \n",
       "\n",
       "   log_park  \n",
       "0      0.71  \n",
       "1      1.62  \n",
       "3      0.90  \n",
       "4      0.98  \n",
       "6      1.69  "
      ]
     },
     "execution_count": 224,
     "metadata": {},
     "output_type": "execute_result"
    }
   ],
   "source": [
    "optimal = df.loc[(df['price'] > 180000) & (df['price']<700000)]\n",
    "optimal.head()"
   ]
  },
  {
   "cell_type": "code",
   "execution_count": 225,
   "metadata": {},
   "outputs": [],
   "source": [
    "features = ['sqft_living', 'log_school', 'log_park', 'log_scientology', 'log_coffee']\n",
    "target = ['price']"
   ]
  },
  {
   "cell_type": "code",
   "execution_count": 226,
   "metadata": {},
   "outputs": [],
   "source": [
    "optimal = optimal.drop(columns=['min_dist_park', 'closest_distance_to_top_school', \n",
    "             'closest_distance_to_great_coffee', 'closest_distance_to_scientology',\n",
    "            'lat', 'long'], axis=1)"
   ]
  },
  {
   "cell_type": "code",
   "execution_count": 227,
   "metadata": {},
   "outputs": [
    {
     "data": {
      "image/png": "[encoded data removed]",
      "text/plain": [
       "<Figure size 432x288 with 2 Axes>"
      ]
     },
     "metadata": {
      "needs_background": "light"
     },
     "output_type": "display_data"
    }
   ],
   "source": [
    "sns.heatmap(optimal.corr(), annot=True);"
   ]
  },
  {
   "cell_type": "code",
   "execution_count": 228,
   "metadata": {
    "scrolled": true
   },
   "outputs": [
    {
     "data": {
      "text/html": [
       "<div>\n",
       "<style scoped>\n",
       "    .dataframe tbody tr th:only-of-type {\n",
       "        vertical-align: middle;\n",
       "    }\n",
       "\n",
       "    .dataframe tbody tr th {\n",
       "        vertical-align: top;\n",
       "    }\n",
       "\n",
       "    .dataframe thead th {\n",
       "        text-align: right;\n",
       "    }\n",
       "</style>\n",
       "<table border=\"1\" class=\"dataframe\">\n",
       "  <thead>\n",
       "    <tr style=\"text-align: right;\">\n",
       "      <th></th>\n",
       "      <th>price</th>\n",
       "      <th>sqft_living</th>\n",
       "      <th>grade</th>\n",
       "      <th>log_school</th>\n",
       "      <th>log_coffee</th>\n",
       "      <th>log_scientology</th>\n",
       "      <th>log_park</th>\n",
       "    </tr>\n",
       "  </thead>\n",
       "  <tbody>\n",
       "    <tr>\n",
       "      <th>price</th>\n",
       "      <td>1.00</td>\n",
       "      <td>0.44</td>\n",
       "      <td>0.47</td>\n",
       "      <td>-0.42</td>\n",
       "      <td>-0.09</td>\n",
       "      <td>-0.34</td>\n",
       "      <td>0.01</td>\n",
       "    </tr>\n",
       "    <tr>\n",
       "      <th>sqft_living</th>\n",
       "      <td>0.44</td>\n",
       "      <td>1.00</td>\n",
       "      <td>0.61</td>\n",
       "      <td>0.16</td>\n",
       "      <td>-0.08</td>\n",
       "      <td>0.25</td>\n",
       "      <td>0.03</td>\n",
       "    </tr>\n",
       "    <tr>\n",
       "      <th>grade</th>\n",
       "      <td>0.47</td>\n",
       "      <td>0.61</td>\n",
       "      <td>1.00</td>\n",
       "      <td>0.08</td>\n",
       "      <td>-0.05</td>\n",
       "      <td>0.15</td>\n",
       "      <td>0.03</td>\n",
       "    </tr>\n",
       "    <tr>\n",
       "      <th>log_school</th>\n",
       "      <td>-0.42</td>\n",
       "      <td>0.16</td>\n",
       "      <td>0.08</td>\n",
       "      <td>1.00</td>\n",
       "      <td>0.09</td>\n",
       "      <td>0.64</td>\n",
       "      <td>0.01</td>\n",
       "    </tr>\n",
       "    <tr>\n",
       "      <th>log_coffee</th>\n",
       "      <td>-0.09</td>\n",
       "      <td>-0.08</td>\n",
       "      <td>-0.05</td>\n",
       "      <td>0.09</td>\n",
       "      <td>1.00</td>\n",
       "      <td>-0.14</td>\n",
       "      <td>0.02</td>\n",
       "    </tr>\n",
       "    <tr>\n",
       "      <th>log_scientology</th>\n",
       "      <td>-0.34</td>\n",
       "      <td>0.25</td>\n",
       "      <td>0.15</td>\n",
       "      <td>0.64</td>\n",
       "      <td>-0.14</td>\n",
       "      <td>1.00</td>\n",
       "      <td>0.01</td>\n",
       "    </tr>\n",
       "    <tr>\n",
       "      <th>log_park</th>\n",
       "      <td>0.01</td>\n",
       "      <td>0.03</td>\n",
       "      <td>0.03</td>\n",
       "      <td>0.01</td>\n",
       "      <td>0.02</td>\n",
       "      <td>0.01</td>\n",
       "      <td>1.00</td>\n",
       "    </tr>\n",
       "  </tbody>\n",
       "</table>\n",
       "</div>"
      ],
      "text/plain": [
       "                 price  sqft_living  grade  log_school  log_coffee  \\\n",
       "price             1.00         0.44   0.47       -0.42       -0.09   \n",
       "sqft_living       0.44         1.00   0.61        0.16       -0.08   \n",
       "grade             0.47         0.61   1.00        0.08       -0.05   \n",
       "log_school       -0.42         0.16   0.08        1.00        0.09   \n",
       "log_coffee       -0.09        -0.08  -0.05        0.09        1.00   \n",
       "log_scientology  -0.34         0.25   0.15        0.64       -0.14   \n",
       "log_park          0.01         0.03   0.03        0.01        0.02   \n",
       "\n",
       "                 log_scientology  log_park  \n",
       "price                      -0.34      0.01  \n",
       "sqft_living                 0.25      0.03  \n",
       "grade                       0.15      0.03  \n",
       "log_school                  0.64      0.01  \n",
       "log_coffee                 -0.14      0.02  \n",
       "log_scientology             1.00      0.01  \n",
       "log_park                    0.01      1.00  "
      ]
     },
     "execution_count": 228,
     "metadata": {},
     "output_type": "execute_result"
    }
   ],
   "source": [
    "optimal.corr()"
   ]
  },
  {
   "cell_type": "code",
   "execution_count": 229,
   "metadata": {
    "scrolled": true
   },
   "outputs": [
    {
     "name": "stdout",
     "output_type": "stream",
     "text": [
      "[384963.86508885]\n",
      "[[   118.22464947 -34182.93183968    523.15530646 -53757.74177959\n",
      "  -12057.07337277]]\n",
      "R^2:  0.4875318574249097\n"
     ]
    }
   ],
   "source": [
    "from sklearn.linear_model import LinearRegression\n",
    "\n",
    "# separate dataframe into feature matrix x and target vector y\n",
    "X = optimal[features]\n",
    "y = optimal[target]\n",
    "\n",
    "# now we can instantiate our linear regression estimator and fit our data to it\n",
    "lm1 = LinearRegression()\n",
    "lm1.fit(X, y)\n",
    "\n",
    "#print out intercept and coefficients for each variable\n",
    "print(lm1.intercept_)\n",
    "print(lm1.coef_)\n",
    "\n",
    "#print R2 score\n",
    "lm1_preds = lm1.predict(X)\n",
    "\n",
    "print('R^2: ', r2_score(y, lm1_preds))"
   ]
  },
  {
   "cell_type": "code",
   "execution_count": 230,
   "metadata": {},
   "outputs": [
    {
     "name": "stdout",
     "output_type": "stream",
     "text": [
      "R^2:  0.4875233463395676\n"
     ]
    }
   ],
   "source": [
    "features = ['sqft_living', 'log_school', 'log_scientology', 'log_coffee']\n",
    "target = ['price']\n",
    "X = optimal[features]\n",
    "y = optimal[target]\n",
    "\n",
    "# second iteration of model: removing parks\n",
    "lm2 = LinearRegression().fit(X, y)\n",
    "\n",
    "lm2_preds = lm2.predict(X)\n",
    "\n",
    "print('R^2: ', r2_score(y, lm2_preds))"
   ]
  },
  {
   "cell_type": "markdown",
   "metadata": {},
   "source": [
    "Although it seemed wise to remove parks, our R2 score actually dropped a bit as a result."
   ]
  },
  {
   "cell_type": "code",
   "execution_count": 231,
   "metadata": {},
   "outputs": [
    {
     "name": "stdout",
     "output_type": "stream",
     "text": [
      "R^2:  0.48429669865209435\n"
     ]
    }
   ],
   "source": [
    "# trying without coffee but with parks \n",
    "\n",
    "features = ['sqft_living', 'log_school', 'log_scientology', 'log_park']\n",
    "target = ['price']\n",
    "X = optimal[features]\n",
    "y = optimal[target]\n",
    "\n",
    "lm3 = LinearRegression().fit(X, y)\n",
    "\n",
    "lm3_preds = lm3.predict(X)\n",
    "\n",
    "print('R^2: ', r2_score(y, lm3_preds))"
   ]
  },
  {
   "cell_type": "markdown",
   "metadata": {},
   "source": [
    "R2 also drops when we remove coffee."
   ]
  },
  {
   "cell_type": "code",
   "execution_count": 232,
   "metadata": {},
   "outputs": [
    {
     "name": "stdout",
     "output_type": "stream",
     "text": [
      "R^2:  0.44450885097627924\n"
     ]
    }
   ],
   "source": [
    "# trying with only sqft_living and school\n",
    "\n",
    "features = ['sqft_living', 'log_school']\n",
    "target = ['price']\n",
    "X = optimal[features]\n",
    "y = optimal[target]\n",
    "\n",
    "lm4 = LinearRegression().fit(X, y)\n",
    "\n",
    "lm4_preds = lm4.predict(X)\n",
    "\n",
    "print('R^2: ', r2_score(y, lm4_preds))"
   ]
  },
  {
   "cell_type": "code",
   "execution_count": 233,
   "metadata": {
    "scrolled": true
   },
   "outputs": [
    {
     "name": "stdout",
     "output_type": "stream",
     "text": [
      "R^2:  0.4445401981951761\n"
     ]
    }
   ],
   "source": [
    "# trying with all but scientology\n",
    "\n",
    "features = ['sqft_living', 'log_school', 'log_park', 'log_coffee']\n",
    "target = ['price']\n",
    "X = optimal[features]\n",
    "y = optimal[target]\n",
    "\n",
    "# fifth iteration of model: no scientology\n",
    "lm5 = LinearRegression().fit(X, y)\n",
    "\n",
    "lm5_preds = lm5.predict(X)\n",
    "\n",
    "print('R^2: ', r2_score(y, lm5_preds))"
   ]
  },
  {
   "cell_type": "markdown",
   "metadata": {},
   "source": [
    "Drops further. It seems our best bet is to have all the available features."
   ]
  },
  {
   "cell_type": "code",
   "execution_count": 234,
   "metadata": {},
   "outputs": [
    {
     "name": "stdout",
     "output_type": "stream",
     "text": [
      "R^2:  0.49785563228347385\n"
     ]
    }
   ],
   "source": [
    "features = ['sqft_living', 'log_school', 'log_scientology', 'log_coffee', 'log_park']\n",
    "target = ['price']\n",
    "X = optimal[features]\n",
    "y = optimal[target]\n",
    "\n",
    "# sixth iteration of model: with all and train_test_split\n",
    "X_train, X_test, y_train, y_test = train_test_split(X,y, random_state=1)\n",
    "\n",
    "lm6 = LinearRegression().fit(X_train, y_train)\n",
    "lm6_preds = lm6.predict(X_test)\n",
    "\n",
    "print('R^2: ', r2_score(y_test, lm6_preds))"
   ]
  },
  {
   "cell_type": "markdown",
   "metadata": {},
   "source": [
    "This is the best one so far; the R2 improves when we use all features and train_test_split."
   ]
  },
  {
   "cell_type": "code",
   "execution_count": 235,
   "metadata": {
    "scrolled": true
   },
   "outputs": [
    {
     "name": "stdout",
     "output_type": "stream",
     "text": [
      "R^2:  0.49939821300963616\n"
     ]
    }
   ],
   "source": [
    "# creating an interaction column for school and scientology\n",
    "# because there is multicolinearity\n",
    "optimal['interaction'] = optimal['log_school'] * optimal['log_scientology']\n",
    "\n",
    "features = ['sqft_living', 'log_school', 'log_scientology', 'log_coffee', 'log_park', 'interaction']\n",
    "target = ['price']\n",
    "X = optimal[features]\n",
    "y = optimal[target]\n",
    "\n",
    "# running an iteration of the model with interaction column and using train_test_split\n",
    "X_train, X_test, y_train, y_test = train_test_split(X,y, random_state=1)\n",
    "\n",
    "lm7 = LinearRegression().fit(X_train, y_train)\n",
    "lm7_preds = lm7.predict(X_test)\n",
    "\n",
    "print('R^2: ', r2_score(y_test, lm7_preds))"
   ]
  },
  {
   "cell_type": "markdown",
   "metadata": {},
   "source": [
    "This is the best one so far. "
   ]
  },
  {
   "cell_type": "code",
   "execution_count": 236,
   "metadata": {},
   "outputs": [
    {
     "data": {
      "text/plain": [
       "array([ 7,  8,  9,  6,  5, 10,  4,  3, 11])"
      ]
     },
     "execution_count": 236,
     "metadata": {},
     "output_type": "execute_result"
    }
   ],
   "source": [
    "optimal.grade.unique()"
   ]
  },
  {
   "cell_type": "code",
   "execution_count": 237,
   "metadata": {
    "scrolled": true
   },
   "outputs": [],
   "source": [
    "grade_dums = pd.get_dummies(optimal.grade, prefix='grade', drop_first=True)"
   ]
  },
  {
   "cell_type": "code",
   "execution_count": 238,
   "metadata": {
    "scrolled": true
   },
   "outputs": [
    {
     "data": {
      "text/html": [
       "<div>\n",
       "<style scoped>\n",
       "    .dataframe tbody tr th:only-of-type {\n",
       "        vertical-align: middle;\n",
       "    }\n",
       "\n",
       "    .dataframe tbody tr th {\n",
       "        vertical-align: top;\n",
       "    }\n",
       "\n",
       "    .dataframe thead th {\n",
       "        text-align: right;\n",
       "    }\n",
       "</style>\n",
       "<table border=\"1\" class=\"dataframe\">\n",
       "  <thead>\n",
       "    <tr style=\"text-align: right;\">\n",
       "      <th></th>\n",
       "      <th>grade_4</th>\n",
       "      <th>grade_5</th>\n",
       "      <th>grade_6</th>\n",
       "      <th>grade_7</th>\n",
       "      <th>grade_8</th>\n",
       "      <th>grade_9</th>\n",
       "      <th>grade_10</th>\n",
       "      <th>grade_11</th>\n",
       "    </tr>\n",
       "  </thead>\n",
       "  <tbody>\n",
       "    <tr>\n",
       "      <th>0</th>\n",
       "      <td>0</td>\n",
       "      <td>0</td>\n",
       "      <td>0</td>\n",
       "      <td>1</td>\n",
       "      <td>0</td>\n",
       "      <td>0</td>\n",
       "      <td>0</td>\n",
       "      <td>0</td>\n",
       "    </tr>\n",
       "    <tr>\n",
       "      <th>1</th>\n",
       "      <td>0</td>\n",
       "      <td>0</td>\n",
       "      <td>0</td>\n",
       "      <td>1</td>\n",
       "      <td>0</td>\n",
       "      <td>0</td>\n",
       "      <td>0</td>\n",
       "      <td>0</td>\n",
       "    </tr>\n",
       "    <tr>\n",
       "      <th>3</th>\n",
       "      <td>0</td>\n",
       "      <td>0</td>\n",
       "      <td>0</td>\n",
       "      <td>1</td>\n",
       "      <td>0</td>\n",
       "      <td>0</td>\n",
       "      <td>0</td>\n",
       "      <td>0</td>\n",
       "    </tr>\n",
       "    <tr>\n",
       "      <th>4</th>\n",
       "      <td>0</td>\n",
       "      <td>0</td>\n",
       "      <td>0</td>\n",
       "      <td>0</td>\n",
       "      <td>1</td>\n",
       "      <td>0</td>\n",
       "      <td>0</td>\n",
       "      <td>0</td>\n",
       "    </tr>\n",
       "    <tr>\n",
       "      <th>6</th>\n",
       "      <td>0</td>\n",
       "      <td>0</td>\n",
       "      <td>0</td>\n",
       "      <td>1</td>\n",
       "      <td>0</td>\n",
       "      <td>0</td>\n",
       "      <td>0</td>\n",
       "      <td>0</td>\n",
       "    </tr>\n",
       "  </tbody>\n",
       "</table>\n",
       "</div>"
      ],
      "text/plain": [
       "   grade_4  grade_5  grade_6  grade_7  grade_8  grade_9  grade_10  grade_11\n",
       "0        0        0        0        1        0        0         0         0\n",
       "1        0        0        0        1        0        0         0         0\n",
       "3        0        0        0        1        0        0         0         0\n",
       "4        0        0        0        0        1        0         0         0\n",
       "6        0        0        0        1        0        0         0         0"
      ]
     },
     "execution_count": 238,
     "metadata": {},
     "output_type": "execute_result"
    }
   ],
   "source": [
    "grade_dums.head()"
   ]
  },
  {
   "cell_type": "code",
   "execution_count": 239,
   "metadata": {
    "scrolled": true
   },
   "outputs": [
    {
     "data": {
      "text/html": [
       "<div>\n",
       "<style scoped>\n",
       "    .dataframe tbody tr th:only-of-type {\n",
       "        vertical-align: middle;\n",
       "    }\n",
       "\n",
       "    .dataframe tbody tr th {\n",
       "        vertical-align: top;\n",
       "    }\n",
       "\n",
       "    .dataframe thead th {\n",
       "        text-align: right;\n",
       "    }\n",
       "</style>\n",
       "<table border=\"1\" class=\"dataframe\">\n",
       "  <thead>\n",
       "    <tr style=\"text-align: right;\">\n",
       "      <th></th>\n",
       "      <th>price</th>\n",
       "      <th>sqft_living</th>\n",
       "      <th>log_school</th>\n",
       "      <th>log_coffee</th>\n",
       "      <th>log_scientology</th>\n",
       "      <th>log_park</th>\n",
       "      <th>interaction</th>\n",
       "      <th>grade_4</th>\n",
       "      <th>grade_5</th>\n",
       "      <th>grade_6</th>\n",
       "      <th>grade_7</th>\n",
       "      <th>grade_8</th>\n",
       "      <th>grade_9</th>\n",
       "      <th>grade_10</th>\n",
       "      <th>grade_11</th>\n",
       "    </tr>\n",
       "  </thead>\n",
       "  <tbody>\n",
       "    <tr>\n",
       "      <th>0</th>\n",
       "      <td>221900.00</td>\n",
       "      <td>1180</td>\n",
       "      <td>-1.34</td>\n",
       "      <td>1.60</td>\n",
       "      <td>2.54</td>\n",
       "      <td>0.71</td>\n",
       "      <td>-3.41</td>\n",
       "      <td>0</td>\n",
       "      <td>0</td>\n",
       "      <td>0</td>\n",
       "      <td>1</td>\n",
       "      <td>0</td>\n",
       "      <td>0</td>\n",
       "      <td>0</td>\n",
       "      <td>0</td>\n",
       "    </tr>\n",
       "    <tr>\n",
       "      <th>1</th>\n",
       "      <td>538000.00</td>\n",
       "      <td>2570</td>\n",
       "      <td>-0.38</td>\n",
       "      <td>2.70</td>\n",
       "      <td>2.38</td>\n",
       "      <td>1.62</td>\n",
       "      <td>-0.91</td>\n",
       "      <td>0</td>\n",
       "      <td>0</td>\n",
       "      <td>0</td>\n",
       "      <td>1</td>\n",
       "      <td>0</td>\n",
       "      <td>0</td>\n",
       "      <td>0</td>\n",
       "      <td>0</td>\n",
       "    </tr>\n",
       "    <tr>\n",
       "      <th>3</th>\n",
       "      <td>604000.00</td>\n",
       "      <td>1960</td>\n",
       "      <td>0.55</td>\n",
       "      <td>2.67</td>\n",
       "      <td>2.45</td>\n",
       "      <td>0.90</td>\n",
       "      <td>1.34</td>\n",
       "      <td>0</td>\n",
       "      <td>0</td>\n",
       "      <td>0</td>\n",
       "      <td>1</td>\n",
       "      <td>0</td>\n",
       "      <td>0</td>\n",
       "      <td>0</td>\n",
       "      <td>0</td>\n",
       "    </tr>\n",
       "    <tr>\n",
       "      <th>4</th>\n",
       "      <td>510000.00</td>\n",
       "      <td>1680</td>\n",
       "      <td>0.16</td>\n",
       "      <td>2.15</td>\n",
       "      <td>3.05</td>\n",
       "      <td>0.98</td>\n",
       "      <td>0.50</td>\n",
       "      <td>0</td>\n",
       "      <td>0</td>\n",
       "      <td>0</td>\n",
       "      <td>0</td>\n",
       "      <td>1</td>\n",
       "      <td>0</td>\n",
       "      <td>0</td>\n",
       "      <td>0</td>\n",
       "    </tr>\n",
       "    <tr>\n",
       "      <th>6</th>\n",
       "      <td>257500.00</td>\n",
       "      <td>1715</td>\n",
       "      <td>2.76</td>\n",
       "      <td>2.81</td>\n",
       "      <td>3.53</td>\n",
       "      <td>1.69</td>\n",
       "      <td>9.74</td>\n",
       "      <td>0</td>\n",
       "      <td>0</td>\n",
       "      <td>0</td>\n",
       "      <td>1</td>\n",
       "      <td>0</td>\n",
       "      <td>0</td>\n",
       "      <td>0</td>\n",
       "      <td>0</td>\n",
       "    </tr>\n",
       "  </tbody>\n",
       "</table>\n",
       "</div>"
      ],
      "text/plain": [
       "      price  sqft_living  log_school  log_coffee  log_scientology  log_park  \\\n",
       "0 221900.00         1180       -1.34        1.60             2.54      0.71   \n",
       "1 538000.00         2570       -0.38        2.70             2.38      1.62   \n",
       "3 604000.00         1960        0.55        2.67             2.45      0.90   \n",
       "4 510000.00         1680        0.16        2.15             3.05      0.98   \n",
       "6 257500.00         1715        2.76        2.81             3.53      1.69   \n",
       "\n",
       "   interaction  grade_4  grade_5  grade_6  grade_7  grade_8  grade_9  \\\n",
       "0        -3.41        0        0        0        1        0        0   \n",
       "1        -0.91        0        0        0        1        0        0   \n",
       "3         1.34        0        0        0        1        0        0   \n",
       "4         0.50        0        0        0        0        1        0   \n",
       "6         9.74        0        0        0        1        0        0   \n",
       "\n",
       "   grade_10  grade_11  \n",
       "0         0         0  \n",
       "1         0         0  \n",
       "3         0         0  \n",
       "4         0         0  \n",
       "6         0         0  "
      ]
     },
     "execution_count": 239,
     "metadata": {},
     "output_type": "execute_result"
    }
   ],
   "source": [
    "optimal = optimal.drop(['grade'], axis=1)\n",
    "optimal_with_grade = pd.concat([optimal, grade_dums], axis=1)\n",
    "optimal_with_grade.head()"
   ]
  },
  {
   "cell_type": "code",
   "execution_count": 240,
   "metadata": {
    "scrolled": true
   },
   "outputs": [
    {
     "name": "stdout",
     "output_type": "stream",
     "text": [
      "R^2:  0.5602065784329902\n"
     ]
    }
   ],
   "source": [
    "optimal_with_grade['interaction'] = optimal_with_grade['log_school'] * optimal_with_grade['log_scientology']\n",
    "features = ['sqft_living', 'log_coffee', 'log_park', 'interaction', 'log_school', 'log_scientology', 'grade_4', 'grade_5', 'grade_6', 'grade_7', 'grade_8', 'grade_9', 'grade_10', 'grade_11']\n",
    "target = ['price']\n",
    "X = optimal_with_grade[features]\n",
    "y = optimal_with_grade[target]\n",
    "\n",
    "# running an iteration of the model with interaction column and using train_test_split\n",
    "X_train, X_test, y_train, y_test = train_test_split(X,y, random_state=1)\n",
    "\n",
    "lm8 = LinearRegression().fit(X_train, y_train)\n",
    "lm8_preds = lm8.predict(X_test)\n",
    "\n",
    "print('R^2: ', r2_score(y_test, lm8_preds))"
   ]
  },
  {
   "cell_type": "markdown",
   "metadata": {},
   "source": [
    "This has once again improved with the addition of the grade column."
   ]
  },
  {
   "cell_type": "markdown",
   "metadata": {},
   "source": [
    "### Quantile Tranformation"
   ]
  },
  {
   "cell_type": "code",
   "execution_count": 241,
   "metadata": {
    "scrolled": true
   },
   "outputs": [
    {
     "name": "stdout",
     "output_type": "stream",
     "text": [
      "Skewness: 0.7651743646573521\n",
      "Kurtosis: 0.8677398638009155\n"
     ]
    },
    {
     "data": {
      "image/png": "[encoded data removed]",
      "text/plain": [
       "<Figure size 576x288 with 1 Axes>"
      ]
     },
     "metadata": {
      "needs_background": "light"
     },
     "output_type": "display_data"
    }
   ],
   "source": [
    "plt.figure(figsize=(8,4))\n",
    "sns.distplot(df['Closest_Distance_to_Scientology'])\n",
    "plt.title(\"Closest Distance to Scientology\", fontsize=20)\n",
    "plt.xlabel('Closest Distance to Scientology');\n",
    "print(\"Skewness:\", df['closest_distance_to_scientology'].skew())\n",
    "print(\"Kurtosis:\", df['closest_distance_to_scientology'].kurt())"
   ]
  },
  {
   "cell_type": "code",
   "execution_count": 242,
   "metadata": {},
   "outputs": [],
   "source": [
    "from sklearn.preprocessing import QuantileTransformer\n",
    "qt = QuantileTransformer(output_distribution='normal')\n",
    "to_transform= ['sqft_living', 'closest_distance_to_great_coffee', 'min_dist_park', 'closest_distance_to_top_school', 'closest_distance_to_scientology', 'price']\n",
    "df[to_transform] = qt.fit_transform(df[to_transform])"
   ]
  },
  {
   "cell_type": "code",
   "execution_count": 255,
   "metadata": {
    "scrolled": false
   },
   "outputs": [
    {
     "name": "stdout",
     "output_type": "stream",
     "text": [
      "Skewness: 0.003628284074277272\n",
      "Kurtosis: 0.04166152893410047\n"
     ]
    },
    {
     "data": {
      "image/png": "[encoded data removed]",
      "text/plain": [
       "<Figure size 576x288 with 1 Axes>"
      ]
     },
     "metadata": {
      "needs_background": "light"
     },
     "output_type": "display_data"
    }
   ],
   "source": [
    "plt.figure(figsize=(8,4))\n",
    "sns.distplot(df['closest_distance_to_scientology'])\n",
    "plt.title(\"Closest Distance to Scientology\", fontsize=20)\n",
    "plt.xlabel('Closest Distance to Scientology');\n",
    "print(\"Skewness:\", df['closest_distance_to_scientology'].skew())\n",
    "print(\"Kurtosis:\", df['closest_distance_to_scientology'].kurt())"
   ]
  },
  {
   "cell_type": "code",
   "execution_count": 244,
   "metadata": {},
   "outputs": [],
   "source": [
    "grade_dums = pd.get_dummies(df.grade, prefix='grade', drop_first=True)"
   ]
  },
  {
   "cell_type": "code",
   "execution_count": 245,
   "metadata": {},
   "outputs": [
    {
     "data": {
      "text/html": [
       "<div>\n",
       "<style scoped>\n",
       "    .dataframe tbody tr th:only-of-type {\n",
       "        vertical-align: middle;\n",
       "    }\n",
       "\n",
       "    .dataframe tbody tr th {\n",
       "        vertical-align: top;\n",
       "    }\n",
       "\n",
       "    .dataframe thead th {\n",
       "        text-align: right;\n",
       "    }\n",
       "</style>\n",
       "<table border=\"1\" class=\"dataframe\">\n",
       "  <thead>\n",
       "    <tr style=\"text-align: right;\">\n",
       "      <th></th>\n",
       "      <th>price</th>\n",
       "      <th>sqft_living</th>\n",
       "      <th>lat</th>\n",
       "      <th>long</th>\n",
       "      <th>min_dist_park</th>\n",
       "      <th>closest_distance_to_top_school</th>\n",
       "      <th>closest_distance_to_great_coffee</th>\n",
       "      <th>closest_distance_to_scientology</th>\n",
       "      <th>log_school</th>\n",
       "      <th>log_coffee</th>\n",
       "      <th>...</th>\n",
       "      <th>log_park</th>\n",
       "      <th>grade_4</th>\n",
       "      <th>grade_5</th>\n",
       "      <th>grade_6</th>\n",
       "      <th>grade_7</th>\n",
       "      <th>grade_8</th>\n",
       "      <th>grade_9</th>\n",
       "      <th>grade_10</th>\n",
       "      <th>grade_11</th>\n",
       "      <th>grade_12</th>\n",
       "    </tr>\n",
       "  </thead>\n",
       "  <tbody>\n",
       "    <tr>\n",
       "      <th>0</th>\n",
       "      <td>-1.60</td>\n",
       "      <td>-1.08</td>\n",
       "      <td>47.51</td>\n",
       "      <td>-122.26</td>\n",
       "      <td>-0.31</td>\n",
       "      <td>-1.61</td>\n",
       "      <td>-0.93</td>\n",
       "      <td>-0.24</td>\n",
       "      <td>-1.34</td>\n",
       "      <td>1.60</td>\n",
       "      <td>...</td>\n",
       "      <td>0.71</td>\n",
       "      <td>0</td>\n",
       "      <td>0</td>\n",
       "      <td>0</td>\n",
       "      <td>1</td>\n",
       "      <td>0</td>\n",
       "      <td>0</td>\n",
       "      <td>0</td>\n",
       "      <td>0</td>\n",
       "      <td>0</td>\n",
       "    </tr>\n",
       "    <tr>\n",
       "      <th>1</th>\n",
       "      <td>0.49</td>\n",
       "      <td>0.94</td>\n",
       "      <td>47.72</td>\n",
       "      <td>-122.32</td>\n",
       "      <td>0.92</td>\n",
       "      <td>-0.50</td>\n",
       "      <td>0.71</td>\n",
       "      <td>-0.40</td>\n",
       "      <td>-0.38</td>\n",
       "      <td>2.70</td>\n",
       "      <td>...</td>\n",
       "      <td>1.62</td>\n",
       "      <td>0</td>\n",
       "      <td>0</td>\n",
       "      <td>0</td>\n",
       "      <td>1</td>\n",
       "      <td>0</td>\n",
       "      <td>0</td>\n",
       "      <td>0</td>\n",
       "      <td>0</td>\n",
       "      <td>0</td>\n",
       "    </tr>\n",
       "    <tr>\n",
       "      <th>2</th>\n",
       "      <td>-2.54</td>\n",
       "      <td>-2.14</td>\n",
       "      <td>47.74</td>\n",
       "      <td>-122.23</td>\n",
       "      <td>-0.84</td>\n",
       "      <td>0.36</td>\n",
       "      <td>0.09</td>\n",
       "      <td>-0.39</td>\n",
       "      <td>0.69</td>\n",
       "      <td>2.36</td>\n",
       "      <td>...</td>\n",
       "      <td>0.29</td>\n",
       "      <td>0</td>\n",
       "      <td>0</td>\n",
       "      <td>1</td>\n",
       "      <td>0</td>\n",
       "      <td>0</td>\n",
       "      <td>0</td>\n",
       "      <td>0</td>\n",
       "      <td>0</td>\n",
       "      <td>0</td>\n",
       "    </tr>\n",
       "    <tr>\n",
       "      <th>3</th>\n",
       "      <td>0.78</td>\n",
       "      <td>0.17</td>\n",
       "      <td>47.52</td>\n",
       "      <td>-122.39</td>\n",
       "      <td>-0.08</td>\n",
       "      <td>0.30</td>\n",
       "      <td>0.65</td>\n",
       "      <td>-0.33</td>\n",
       "      <td>0.55</td>\n",
       "      <td>2.67</td>\n",
       "      <td>...</td>\n",
       "      <td>0.90</td>\n",
       "      <td>0</td>\n",
       "      <td>0</td>\n",
       "      <td>0</td>\n",
       "      <td>1</td>\n",
       "      <td>0</td>\n",
       "      <td>0</td>\n",
       "      <td>0</td>\n",
       "      <td>0</td>\n",
       "      <td>0</td>\n",
       "    </tr>\n",
       "    <tr>\n",
       "      <th>4</th>\n",
       "      <td>0.37</td>\n",
       "      <td>-0.22</td>\n",
       "      <td>47.62</td>\n",
       "      <td>-122.05</td>\n",
       "      <td>0.02</td>\n",
       "      <td>0.08</td>\n",
       "      <td>-0.25</td>\n",
       "      <td>0.37</td>\n",
       "      <td>0.16</td>\n",
       "      <td>2.15</td>\n",
       "      <td>...</td>\n",
       "      <td>0.98</td>\n",
       "      <td>0</td>\n",
       "      <td>0</td>\n",
       "      <td>0</td>\n",
       "      <td>0</td>\n",
       "      <td>1</td>\n",
       "      <td>0</td>\n",
       "      <td>0</td>\n",
       "      <td>0</td>\n",
       "      <td>0</td>\n",
       "    </tr>\n",
       "  </tbody>\n",
       "</table>\n",
       "<p>5 rows × 21 columns</p>\n",
       "</div>"
      ],
      "text/plain": [
       "   price  sqft_living   lat    long  min_dist_park  \\\n",
       "0  -1.60        -1.08 47.51 -122.26          -0.31   \n",
       "1   0.49         0.94 47.72 -122.32           0.92   \n",
       "2  -2.54        -2.14 47.74 -122.23          -0.84   \n",
       "3   0.78         0.17 47.52 -122.39          -0.08   \n",
       "4   0.37        -0.22 47.62 -122.05           0.02   \n",
       "\n",
       "   closest_distance_to_top_school  closest_distance_to_great_coffee  \\\n",
       "0                           -1.61                             -0.93   \n",
       "1                           -0.50                              0.71   \n",
       "2                            0.36                              0.09   \n",
       "3                            0.30                              0.65   \n",
       "4                            0.08                             -0.25   \n",
       "\n",
       "   closest_distance_to_scientology  log_school  log_coffee  ...  log_park  \\\n",
       "0                            -0.24       -1.34        1.60  ...      0.71   \n",
       "1                            -0.40       -0.38        2.70  ...      1.62   \n",
       "2                            -0.39        0.69        2.36  ...      0.29   \n",
       "3                            -0.33        0.55        2.67  ...      0.90   \n",
       "4                             0.37        0.16        2.15  ...      0.98   \n",
       "\n",
       "   grade_4  grade_5  grade_6  grade_7  grade_8  grade_9  grade_10  grade_11  \\\n",
       "0        0        0        0        1        0        0         0         0   \n",
       "1        0        0        0        1        0        0         0         0   \n",
       "2        0        0        1        0        0        0         0         0   \n",
       "3        0        0        0        1        0        0         0         0   \n",
       "4        0        0        0        0        1        0         0         0   \n",
       "\n",
       "   grade_12  \n",
       "0         0  \n",
       "1         0  \n",
       "2         0  \n",
       "3         0  \n",
       "4         0  \n",
       "\n",
       "[5 rows x 21 columns]"
      ]
     },
     "execution_count": 245,
     "metadata": {},
     "output_type": "execute_result"
    }
   ],
   "source": [
    "df = df.drop(['grade'], axis=1)\n",
    "df = pd.concat([df, grade_dums], axis=1)\n",
    "df.head()"
   ]
  },
  {
   "cell_type": "code",
   "execution_count": 246,
   "metadata": {},
   "outputs": [
    {
     "name": "stdout",
     "output_type": "stream",
     "text": [
      "R^2:  0.6308144610145117\n"
     ]
    }
   ],
   "source": [
    "df['interaction'] = df['closest_distance_to_top_school'] * df['closest_distance_to_scientology']\n",
    "features = ['sqft_living', 'closest_distance_to_great_coffee', 'min_dist_park', 'closest_distance_to_top_school', 'closest_distance_to_scientology', 'interaction', 'grade_4', 'grade_5', 'grade_6', 'grade_7', 'grade_8', 'grade_9', 'grade_10', 'grade_11']\n",
    "target = ['price']\n",
    "X = df[features]\n",
    "y = df[target]\n",
    "\n",
    "# running an iteration of the model with interaction column and using train_test_split\n",
    "X_train, X_test, y_train, y_test = train_test_split(X,y, random_state=1)\n",
    "\n",
    "lm8 = LinearRegression().fit(X_train, y_train)\n",
    "lm8_preds = lm8.predict(X_test)\n",
    "\n",
    "print('R^2: ', r2_score(y_test, lm8_preds))"
   ]
  },
  {
   "cell_type": "markdown",
   "metadata": {},
   "source": [
    "By quantile tranforming our data to achieve a more normal distribution, we are able to achieve a higher R2 score."
   ]
  },
  {
   "cell_type": "code",
   "execution_count": 254,
   "metadata": {},
   "outputs": [
    {
     "data": {
      "image/png": "[encoded data removed]",
      "text/plain": [
       "<Figure size 864x576 with 6 Axes>"
      ]
     },
     "metadata": {
      "needs_background": "light"
     },
     "output_type": "display_data"
    }
   ],
   "source": [
    "df[['sqft_living', 'closest_distance_to_great_coffee', 'min_dist_park', 'closest_distance_to_top_school', 'closest_distance_to_scientology', 'price']].hist(figsize=(12, 8))\n",
    "plt.tight_layout();"
   ]
  }
 ],
 "metadata": {
  "kernelspec": {
   "display_name": "learn-env",
   "language": "python",
   "name": "learn-env"
  },
  "language_info": {
   "codemirror_mode": {
    "name": "ipython",
    "version": 3
   },
   "file_extension": ".py",
   "mimetype": "text/x-python",
   "name": "python",
   "nbconvert_exporter": "python",
   "pygments_lexer": "ipython3",
   "version": "3.6.9"
  }
 },
 "nbformat": 4,
 "nbformat_minor": 4
}
